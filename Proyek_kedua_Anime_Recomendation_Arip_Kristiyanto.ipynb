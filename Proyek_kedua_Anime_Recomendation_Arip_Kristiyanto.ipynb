{
  "cells": [
    {
      "cell_type": "markdown",
      "metadata": {
        "id": "S938OezNE8so"
      },
      "source": [
        "# Proyek kedua Anime Recomendation-Arip Kristiyanto\n",
        "\n",
        "\n",
        "*   Nama : Arip Kristiyanto\n",
        "*   Jenis Kelamin : Laki-Laki\n",
        "*   Institusi : Universitas Pamulang\n",
        "\n"
      ]
    },
    {
      "cell_type": "markdown",
      "metadata": {
        "id": "FO-GERxJGK8L"
      },
      "source": [
        "# **Import Librabry**"
      ]
    },
    {
      "cell_type": "code",
      "execution_count": null,
      "metadata": {
        "id": "rJXUFl68F5HH"
      },
      "outputs": [],
      "source": [
        "import tensorflow\n",
        "from keras import Model\n",
        "from keras.callbacks import EarlyStopping, ModelCheckpoint\n",
        "import numpy as np\n",
        "import matplotlib.pyplot as plt\n",
        "import pandas as pd\n",
        "%matplotlib inline\n",
        "import seaborn as sns\n",
        "from zipfile import ZipFile\n",
        "from tensorflow import keras\n",
        "from keras import layers\n",
        "from pathlib import Path\n",
        "from sklearn.feature_extraction.text import TfidfVectorizer\n",
        "from sklearn.metrics.pairwise import cosine_similarity\n",
        "import ast\n",
        "import warnings\n",
        "from sklearn.model_selection import train_test_split"
      ]
    },
    {
      "cell_type": "markdown",
      "metadata": {
        "id": "q8AYHF0RGcIH"
      },
      "source": [
        "# Import Datasets"
      ]
    },
    {
      "cell_type": "code",
      "execution_count": null,
      "metadata": {
        "colab": {
          "base_uri": "https://localhost:8080/"
        },
        "id": "EUYKNntkGm6Y",
        "outputId": "f1ba98c7-1aa9-48e2-c3d8-a51ca0fb0694"
      },
      "outputs": [
        {
          "output_type": "stream",
          "name": "stdout",
          "text": [
            "Drive already mounted at /content/drive; to attempt to forcibly remount, call drive.mount(\"/content/drive\", force_remount=True).\n"
          ]
        }
      ],
      "source": [
        "from google.colab import drive\n",
        "drive.mount('/content/drive')"
      ]
    },
    {
      "cell_type": "code",
      "execution_count": null,
      "metadata": {
        "id": "-ssZAIDmHDXH"
      },
      "outputs": [],
      "source": [
        "rating_df = pd.read_csv('/content//drive/MyDrive/dataset/rating.csv')"
      ]
    },
    {
      "cell_type": "code",
      "source": [
        "anime_df = pd.read_csv('/content//drive/MyDrive/dataset/anime.csv')"
      ],
      "metadata": {
        "id": "X-O1Q0fG4G0J"
      },
      "execution_count": null,
      "outputs": []
    },
    {
      "cell_type": "markdown",
      "metadata": {
        "id": "dG6s4UqLIvGO"
      },
      "source": [
        "\n",
        "\n",
        "Kedua sudah berhasil di-import kedalam notebook.\n",
        "\n",
        "*   movies.csv menjadi dataframe dengan nama anime_df\n",
        "*   ratings.csv menjadi dataframe dengan nama rating_df\n",
        "\n",
        "\n",
        "\n",
        "\n",
        "\n",
        "  \n",
        "\n"
      ]
    },
    {
      "cell_type": "code",
      "source": [
        "anime_df.head()"
      ],
      "metadata": {
        "colab": {
          "base_uri": "https://localhost:8080/",
          "height": 296
        },
        "id": "HayRkBiRDfqP",
        "outputId": "bdd41d31-242d-4c42-ee29-e2e37dac8e99"
      },
      "execution_count": null,
      "outputs": [
        {
          "output_type": "execute_result",
          "data": {
            "text/plain": [
              "   anime_id                              name  \\\n",
              "0     32281                    Kimi no Na wa.   \n",
              "1      5114  Fullmetal Alchemist: Brotherhood   \n",
              "2     28977                          Gintama°   \n",
              "3      9253                       Steins;Gate   \n",
              "4      9969                     Gintama&#039;   \n",
              "\n",
              "                                               genre   type episodes  rating  \\\n",
              "0               Drama, Romance, School, Supernatural  Movie        1    9.37   \n",
              "1  Action, Adventure, Drama, Fantasy, Magic, Mili...     TV       64    9.26   \n",
              "2  Action, Comedy, Historical, Parody, Samurai, S...     TV       51    9.25   \n",
              "3                                   Sci-Fi, Thriller     TV       24    9.17   \n",
              "4  Action, Comedy, Historical, Parody, Samurai, S...     TV       51    9.16   \n",
              "\n",
              "   members  \n",
              "0   200630  \n",
              "1   793665  \n",
              "2   114262  \n",
              "3   673572  \n",
              "4   151266  "
            ],
            "text/html": [
              "\n",
              "  <div id=\"df-40623b3f-f17b-4a09-8190-a4c1c548ea71\" class=\"colab-df-container\">\n",
              "    <div>\n",
              "<style scoped>\n",
              "    .dataframe tbody tr th:only-of-type {\n",
              "        vertical-align: middle;\n",
              "    }\n",
              "\n",
              "    .dataframe tbody tr th {\n",
              "        vertical-align: top;\n",
              "    }\n",
              "\n",
              "    .dataframe thead th {\n",
              "        text-align: right;\n",
              "    }\n",
              "</style>\n",
              "<table border=\"1\" class=\"dataframe\">\n",
              "  <thead>\n",
              "    <tr style=\"text-align: right;\">\n",
              "      <th></th>\n",
              "      <th>anime_id</th>\n",
              "      <th>name</th>\n",
              "      <th>genre</th>\n",
              "      <th>type</th>\n",
              "      <th>episodes</th>\n",
              "      <th>rating</th>\n",
              "      <th>members</th>\n",
              "    </tr>\n",
              "  </thead>\n",
              "  <tbody>\n",
              "    <tr>\n",
              "      <th>0</th>\n",
              "      <td>32281</td>\n",
              "      <td>Kimi no Na wa.</td>\n",
              "      <td>Drama, Romance, School, Supernatural</td>\n",
              "      <td>Movie</td>\n",
              "      <td>1</td>\n",
              "      <td>9.37</td>\n",
              "      <td>200630</td>\n",
              "    </tr>\n",
              "    <tr>\n",
              "      <th>1</th>\n",
              "      <td>5114</td>\n",
              "      <td>Fullmetal Alchemist: Brotherhood</td>\n",
              "      <td>Action, Adventure, Drama, Fantasy, Magic, Mili...</td>\n",
              "      <td>TV</td>\n",
              "      <td>64</td>\n",
              "      <td>9.26</td>\n",
              "      <td>793665</td>\n",
              "    </tr>\n",
              "    <tr>\n",
              "      <th>2</th>\n",
              "      <td>28977</td>\n",
              "      <td>Gintama°</td>\n",
              "      <td>Action, Comedy, Historical, Parody, Samurai, S...</td>\n",
              "      <td>TV</td>\n",
              "      <td>51</td>\n",
              "      <td>9.25</td>\n",
              "      <td>114262</td>\n",
              "    </tr>\n",
              "    <tr>\n",
              "      <th>3</th>\n",
              "      <td>9253</td>\n",
              "      <td>Steins;Gate</td>\n",
              "      <td>Sci-Fi, Thriller</td>\n",
              "      <td>TV</td>\n",
              "      <td>24</td>\n",
              "      <td>9.17</td>\n",
              "      <td>673572</td>\n",
              "    </tr>\n",
              "    <tr>\n",
              "      <th>4</th>\n",
              "      <td>9969</td>\n",
              "      <td>Gintama&amp;#039;</td>\n",
              "      <td>Action, Comedy, Historical, Parody, Samurai, S...</td>\n",
              "      <td>TV</td>\n",
              "      <td>51</td>\n",
              "      <td>9.16</td>\n",
              "      <td>151266</td>\n",
              "    </tr>\n",
              "  </tbody>\n",
              "</table>\n",
              "</div>\n",
              "    <div class=\"colab-df-buttons\">\n",
              "\n",
              "  <div class=\"colab-df-container\">\n",
              "    <button class=\"colab-df-convert\" onclick=\"convertToInteractive('df-40623b3f-f17b-4a09-8190-a4c1c548ea71')\"\n",
              "            title=\"Convert this dataframe to an interactive table.\"\n",
              "            style=\"display:none;\">\n",
              "\n",
              "  <svg xmlns=\"http://www.w3.org/2000/svg\" height=\"24px\" viewBox=\"0 -960 960 960\">\n",
              "    <path d=\"M120-120v-720h720v720H120Zm60-500h600v-160H180v160Zm220 220h160v-160H400v160Zm0 220h160v-160H400v160ZM180-400h160v-160H180v160Zm440 0h160v-160H620v160ZM180-180h160v-160H180v160Zm440 0h160v-160H620v160Z\"/>\n",
              "  </svg>\n",
              "    </button>\n",
              "\n",
              "  <style>\n",
              "    .colab-df-container {\n",
              "      display:flex;\n",
              "      gap: 12px;\n",
              "    }\n",
              "\n",
              "    .colab-df-convert {\n",
              "      background-color: #E8F0FE;\n",
              "      border: none;\n",
              "      border-radius: 50%;\n",
              "      cursor: pointer;\n",
              "      display: none;\n",
              "      fill: #1967D2;\n",
              "      height: 32px;\n",
              "      padding: 0 0 0 0;\n",
              "      width: 32px;\n",
              "    }\n",
              "\n",
              "    .colab-df-convert:hover {\n",
              "      background-color: #E2EBFA;\n",
              "      box-shadow: 0px 1px 2px rgba(60, 64, 67, 0.3), 0px 1px 3px 1px rgba(60, 64, 67, 0.15);\n",
              "      fill: #174EA6;\n",
              "    }\n",
              "\n",
              "    .colab-df-buttons div {\n",
              "      margin-bottom: 4px;\n",
              "    }\n",
              "\n",
              "    [theme=dark] .colab-df-convert {\n",
              "      background-color: #3B4455;\n",
              "      fill: #D2E3FC;\n",
              "    }\n",
              "\n",
              "    [theme=dark] .colab-df-convert:hover {\n",
              "      background-color: #434B5C;\n",
              "      box-shadow: 0px 1px 3px 1px rgba(0, 0, 0, 0.15);\n",
              "      filter: drop-shadow(0px 1px 2px rgba(0, 0, 0, 0.3));\n",
              "      fill: #FFFFFF;\n",
              "    }\n",
              "  </style>\n",
              "\n",
              "    <script>\n",
              "      const buttonEl =\n",
              "        document.querySelector('#df-40623b3f-f17b-4a09-8190-a4c1c548ea71 button.colab-df-convert');\n",
              "      buttonEl.style.display =\n",
              "        google.colab.kernel.accessAllowed ? 'block' : 'none';\n",
              "\n",
              "      async function convertToInteractive(key) {\n",
              "        const element = document.querySelector('#df-40623b3f-f17b-4a09-8190-a4c1c548ea71');\n",
              "        const dataTable =\n",
              "          await google.colab.kernel.invokeFunction('convertToInteractive',\n",
              "                                                    [key], {});\n",
              "        if (!dataTable) return;\n",
              "\n",
              "        const docLinkHtml = 'Like what you see? Visit the ' +\n",
              "          '<a target=\"_blank\" href=https://colab.research.google.com/notebooks/data_table.ipynb>data table notebook</a>'\n",
              "          + ' to learn more about interactive tables.';\n",
              "        element.innerHTML = '';\n",
              "        dataTable['output_type'] = 'display_data';\n",
              "        await google.colab.output.renderOutput(dataTable, element);\n",
              "        const docLink = document.createElement('div');\n",
              "        docLink.innerHTML = docLinkHtml;\n",
              "        element.appendChild(docLink);\n",
              "      }\n",
              "    </script>\n",
              "  </div>\n",
              "\n",
              "\n",
              "<div id=\"df-4eefb2e2-c13a-493e-beab-3abb672bb82b\">\n",
              "  <button class=\"colab-df-quickchart\" onclick=\"quickchart('df-4eefb2e2-c13a-493e-beab-3abb672bb82b')\"\n",
              "            title=\"Suggest charts\"\n",
              "            style=\"display:none;\">\n",
              "\n",
              "<svg xmlns=\"http://www.w3.org/2000/svg\" height=\"24px\"viewBox=\"0 0 24 24\"\n",
              "     width=\"24px\">\n",
              "    <g>\n",
              "        <path d=\"M19 3H5c-1.1 0-2 .9-2 2v14c0 1.1.9 2 2 2h14c1.1 0 2-.9 2-2V5c0-1.1-.9-2-2-2zM9 17H7v-7h2v7zm4 0h-2V7h2v10zm4 0h-2v-4h2v4z\"/>\n",
              "    </g>\n",
              "</svg>\n",
              "  </button>\n",
              "\n",
              "<style>\n",
              "  .colab-df-quickchart {\n",
              "      --bg-color: #E8F0FE;\n",
              "      --fill-color: #1967D2;\n",
              "      --hover-bg-color: #E2EBFA;\n",
              "      --hover-fill-color: #174EA6;\n",
              "      --disabled-fill-color: #AAA;\n",
              "      --disabled-bg-color: #DDD;\n",
              "  }\n",
              "\n",
              "  [theme=dark] .colab-df-quickchart {\n",
              "      --bg-color: #3B4455;\n",
              "      --fill-color: #D2E3FC;\n",
              "      --hover-bg-color: #434B5C;\n",
              "      --hover-fill-color: #FFFFFF;\n",
              "      --disabled-bg-color: #3B4455;\n",
              "      --disabled-fill-color: #666;\n",
              "  }\n",
              "\n",
              "  .colab-df-quickchart {\n",
              "    background-color: var(--bg-color);\n",
              "    border: none;\n",
              "    border-radius: 50%;\n",
              "    cursor: pointer;\n",
              "    display: none;\n",
              "    fill: var(--fill-color);\n",
              "    height: 32px;\n",
              "    padding: 0;\n",
              "    width: 32px;\n",
              "  }\n",
              "\n",
              "  .colab-df-quickchart:hover {\n",
              "    background-color: var(--hover-bg-color);\n",
              "    box-shadow: 0 1px 2px rgba(60, 64, 67, 0.3), 0 1px 3px 1px rgba(60, 64, 67, 0.15);\n",
              "    fill: var(--button-hover-fill-color);\n",
              "  }\n",
              "\n",
              "  .colab-df-quickchart-complete:disabled,\n",
              "  .colab-df-quickchart-complete:disabled:hover {\n",
              "    background-color: var(--disabled-bg-color);\n",
              "    fill: var(--disabled-fill-color);\n",
              "    box-shadow: none;\n",
              "  }\n",
              "\n",
              "  .colab-df-spinner {\n",
              "    border: 2px solid var(--fill-color);\n",
              "    border-color: transparent;\n",
              "    border-bottom-color: var(--fill-color);\n",
              "    animation:\n",
              "      spin 1s steps(1) infinite;\n",
              "  }\n",
              "\n",
              "  @keyframes spin {\n",
              "    0% {\n",
              "      border-color: transparent;\n",
              "      border-bottom-color: var(--fill-color);\n",
              "      border-left-color: var(--fill-color);\n",
              "    }\n",
              "    20% {\n",
              "      border-color: transparent;\n",
              "      border-left-color: var(--fill-color);\n",
              "      border-top-color: var(--fill-color);\n",
              "    }\n",
              "    30% {\n",
              "      border-color: transparent;\n",
              "      border-left-color: var(--fill-color);\n",
              "      border-top-color: var(--fill-color);\n",
              "      border-right-color: var(--fill-color);\n",
              "    }\n",
              "    40% {\n",
              "      border-color: transparent;\n",
              "      border-right-color: var(--fill-color);\n",
              "      border-top-color: var(--fill-color);\n",
              "    }\n",
              "    60% {\n",
              "      border-color: transparent;\n",
              "      border-right-color: var(--fill-color);\n",
              "    }\n",
              "    80% {\n",
              "      border-color: transparent;\n",
              "      border-right-color: var(--fill-color);\n",
              "      border-bottom-color: var(--fill-color);\n",
              "    }\n",
              "    90% {\n",
              "      border-color: transparent;\n",
              "      border-bottom-color: var(--fill-color);\n",
              "    }\n",
              "  }\n",
              "</style>\n",
              "\n",
              "  <script>\n",
              "    async function quickchart(key) {\n",
              "      const quickchartButtonEl =\n",
              "        document.querySelector('#' + key + ' button');\n",
              "      quickchartButtonEl.disabled = true;  // To prevent multiple clicks.\n",
              "      quickchartButtonEl.classList.add('colab-df-spinner');\n",
              "      try {\n",
              "        const charts = await google.colab.kernel.invokeFunction(\n",
              "            'suggestCharts', [key], {});\n",
              "      } catch (error) {\n",
              "        console.error('Error during call to suggestCharts:', error);\n",
              "      }\n",
              "      quickchartButtonEl.classList.remove('colab-df-spinner');\n",
              "      quickchartButtonEl.classList.add('colab-df-quickchart-complete');\n",
              "    }\n",
              "    (() => {\n",
              "      let quickchartButtonEl =\n",
              "        document.querySelector('#df-4eefb2e2-c13a-493e-beab-3abb672bb82b button');\n",
              "      quickchartButtonEl.style.display =\n",
              "        google.colab.kernel.accessAllowed ? 'block' : 'none';\n",
              "    })();\n",
              "  </script>\n",
              "</div>\n",
              "\n",
              "    </div>\n",
              "  </div>\n"
            ],
            "application/vnd.google.colaboratory.intrinsic+json": {
              "type": "dataframe",
              "variable_name": "anime_df",
              "summary": "{\n  \"name\": \"anime_df\",\n  \"rows\": 12294,\n  \"fields\": [\n    {\n      \"column\": \"anime_id\",\n      \"properties\": {\n        \"dtype\": \"number\",\n        \"std\": 11455,\n        \"min\": 1,\n        \"max\": 34527,\n        \"num_unique_values\": 12294,\n        \"samples\": [\n          17209,\n          173,\n          3616\n        ],\n        \"semantic_type\": \"\",\n        \"description\": \"\"\n      }\n    },\n    {\n      \"column\": \"name\",\n      \"properties\": {\n        \"dtype\": \"string\",\n        \"num_unique_values\": 12292,\n        \"samples\": [\n          \"Nils no Fushigi na Tabi (Movie)\",\n          \"Tactics\",\n          \"Kamen no Maid Guy\"\n        ],\n        \"semantic_type\": \"\",\n        \"description\": \"\"\n      }\n    },\n    {\n      \"column\": \"genre\",\n      \"properties\": {\n        \"dtype\": \"category\",\n        \"num_unique_values\": 3264,\n        \"samples\": [\n          \"Horror, Supernatural\",\n          \"Action, Adventure, Comedy, Demons, Fantasy, Magic, Romance, Shounen, Supernatural\",\n          \"Action, Comedy, Harem, Parody, Romance\"\n        ],\n        \"semantic_type\": \"\",\n        \"description\": \"\"\n      }\n    },\n    {\n      \"column\": \"type\",\n      \"properties\": {\n        \"dtype\": \"category\",\n        \"num_unique_values\": 6,\n        \"samples\": [\n          \"Movie\",\n          \"TV\",\n          \"ONA\"\n        ],\n        \"semantic_type\": \"\",\n        \"description\": \"\"\n      }\n    },\n    {\n      \"column\": \"episodes\",\n      \"properties\": {\n        \"dtype\": \"category\",\n        \"num_unique_values\": 187,\n        \"samples\": [\n          \"141\",\n          \"54\",\n          \"52\"\n        ],\n        \"semantic_type\": \"\",\n        \"description\": \"\"\n      }\n    },\n    {\n      \"column\": \"rating\",\n      \"properties\": {\n        \"dtype\": \"number\",\n        \"std\": 1.0267463068980598,\n        \"min\": 1.67,\n        \"max\": 10.0,\n        \"num_unique_values\": 598,\n        \"samples\": [\n          7.87,\n          6.11,\n          4.1\n        ],\n        \"semantic_type\": \"\",\n        \"description\": \"\"\n      }\n    },\n    {\n      \"column\": \"members\",\n      \"properties\": {\n        \"dtype\": \"number\",\n        \"std\": 54820,\n        \"min\": 5,\n        \"max\": 1013917,\n        \"num_unique_values\": 6706,\n        \"samples\": [\n          170754,\n          1515,\n          66376\n        ],\n        \"semantic_type\": \"\",\n        \"description\": \"\"\n      }\n    }\n  ]\n}"
            }
          },
          "metadata": {},
          "execution_count": 111
        }
      ]
    },
    {
      "cell_type": "code",
      "source": [
        "rating_df.head()"
      ],
      "metadata": {
        "colab": {
          "base_uri": "https://localhost:8080/",
          "height": 226
        },
        "id": "I_Prh0S-DwkL",
        "outputId": "bdf965ce-4f13-491a-f09c-a3e24df12729"
      },
      "execution_count": null,
      "outputs": [
        {
          "output_type": "execute_result",
          "data": {
            "text/plain": [
              "   user_id  anime_id  rating\n",
              "0        1        20      -1\n",
              "1        1        24      -1\n",
              "2        1        79      -1\n",
              "3        1       226      -1\n",
              "4        1       241      -1"
            ],
            "text/html": [
              "\n",
              "  <div id=\"df-3677879c-ae9c-4ef0-9a72-1813928ceae2\" class=\"colab-df-container\">\n",
              "    <div>\n",
              "<style scoped>\n",
              "    .dataframe tbody tr th:only-of-type {\n",
              "        vertical-align: middle;\n",
              "    }\n",
              "\n",
              "    .dataframe tbody tr th {\n",
              "        vertical-align: top;\n",
              "    }\n",
              "\n",
              "    .dataframe thead th {\n",
              "        text-align: right;\n",
              "    }\n",
              "</style>\n",
              "<table border=\"1\" class=\"dataframe\">\n",
              "  <thead>\n",
              "    <tr style=\"text-align: right;\">\n",
              "      <th></th>\n",
              "      <th>user_id</th>\n",
              "      <th>anime_id</th>\n",
              "      <th>rating</th>\n",
              "    </tr>\n",
              "  </thead>\n",
              "  <tbody>\n",
              "    <tr>\n",
              "      <th>0</th>\n",
              "      <td>1</td>\n",
              "      <td>20</td>\n",
              "      <td>-1</td>\n",
              "    </tr>\n",
              "    <tr>\n",
              "      <th>1</th>\n",
              "      <td>1</td>\n",
              "      <td>24</td>\n",
              "      <td>-1</td>\n",
              "    </tr>\n",
              "    <tr>\n",
              "      <th>2</th>\n",
              "      <td>1</td>\n",
              "      <td>79</td>\n",
              "      <td>-1</td>\n",
              "    </tr>\n",
              "    <tr>\n",
              "      <th>3</th>\n",
              "      <td>1</td>\n",
              "      <td>226</td>\n",
              "      <td>-1</td>\n",
              "    </tr>\n",
              "    <tr>\n",
              "      <th>4</th>\n",
              "      <td>1</td>\n",
              "      <td>241</td>\n",
              "      <td>-1</td>\n",
              "    </tr>\n",
              "  </tbody>\n",
              "</table>\n",
              "</div>\n",
              "    <div class=\"colab-df-buttons\">\n",
              "\n",
              "  <div class=\"colab-df-container\">\n",
              "    <button class=\"colab-df-convert\" onclick=\"convertToInteractive('df-3677879c-ae9c-4ef0-9a72-1813928ceae2')\"\n",
              "            title=\"Convert this dataframe to an interactive table.\"\n",
              "            style=\"display:none;\">\n",
              "\n",
              "  <svg xmlns=\"http://www.w3.org/2000/svg\" height=\"24px\" viewBox=\"0 -960 960 960\">\n",
              "    <path d=\"M120-120v-720h720v720H120Zm60-500h600v-160H180v160Zm220 220h160v-160H400v160Zm0 220h160v-160H400v160ZM180-400h160v-160H180v160Zm440 0h160v-160H620v160ZM180-180h160v-160H180v160Zm440 0h160v-160H620v160Z\"/>\n",
              "  </svg>\n",
              "    </button>\n",
              "\n",
              "  <style>\n",
              "    .colab-df-container {\n",
              "      display:flex;\n",
              "      gap: 12px;\n",
              "    }\n",
              "\n",
              "    .colab-df-convert {\n",
              "      background-color: #E8F0FE;\n",
              "      border: none;\n",
              "      border-radius: 50%;\n",
              "      cursor: pointer;\n",
              "      display: none;\n",
              "      fill: #1967D2;\n",
              "      height: 32px;\n",
              "      padding: 0 0 0 0;\n",
              "      width: 32px;\n",
              "    }\n",
              "\n",
              "    .colab-df-convert:hover {\n",
              "      background-color: #E2EBFA;\n",
              "      box-shadow: 0px 1px 2px rgba(60, 64, 67, 0.3), 0px 1px 3px 1px rgba(60, 64, 67, 0.15);\n",
              "      fill: #174EA6;\n",
              "    }\n",
              "\n",
              "    .colab-df-buttons div {\n",
              "      margin-bottom: 4px;\n",
              "    }\n",
              "\n",
              "    [theme=dark] .colab-df-convert {\n",
              "      background-color: #3B4455;\n",
              "      fill: #D2E3FC;\n",
              "    }\n",
              "\n",
              "    [theme=dark] .colab-df-convert:hover {\n",
              "      background-color: #434B5C;\n",
              "      box-shadow: 0px 1px 3px 1px rgba(0, 0, 0, 0.15);\n",
              "      filter: drop-shadow(0px 1px 2px rgba(0, 0, 0, 0.3));\n",
              "      fill: #FFFFFF;\n",
              "    }\n",
              "  </style>\n",
              "\n",
              "    <script>\n",
              "      const buttonEl =\n",
              "        document.querySelector('#df-3677879c-ae9c-4ef0-9a72-1813928ceae2 button.colab-df-convert');\n",
              "      buttonEl.style.display =\n",
              "        google.colab.kernel.accessAllowed ? 'block' : 'none';\n",
              "\n",
              "      async function convertToInteractive(key) {\n",
              "        const element = document.querySelector('#df-3677879c-ae9c-4ef0-9a72-1813928ceae2');\n",
              "        const dataTable =\n",
              "          await google.colab.kernel.invokeFunction('convertToInteractive',\n",
              "                                                    [key], {});\n",
              "        if (!dataTable) return;\n",
              "\n",
              "        const docLinkHtml = 'Like what you see? Visit the ' +\n",
              "          '<a target=\"_blank\" href=https://colab.research.google.com/notebooks/data_table.ipynb>data table notebook</a>'\n",
              "          + ' to learn more about interactive tables.';\n",
              "        element.innerHTML = '';\n",
              "        dataTable['output_type'] = 'display_data';\n",
              "        await google.colab.output.renderOutput(dataTable, element);\n",
              "        const docLink = document.createElement('div');\n",
              "        docLink.innerHTML = docLinkHtml;\n",
              "        element.appendChild(docLink);\n",
              "      }\n",
              "    </script>\n",
              "  </div>\n",
              "\n",
              "\n",
              "<div id=\"df-0f07f3d4-e586-41c2-afe2-6da3292a5dd9\">\n",
              "  <button class=\"colab-df-quickchart\" onclick=\"quickchart('df-0f07f3d4-e586-41c2-afe2-6da3292a5dd9')\"\n",
              "            title=\"Suggest charts\"\n",
              "            style=\"display:none;\">\n",
              "\n",
              "<svg xmlns=\"http://www.w3.org/2000/svg\" height=\"24px\"viewBox=\"0 0 24 24\"\n",
              "     width=\"24px\">\n",
              "    <g>\n",
              "        <path d=\"M19 3H5c-1.1 0-2 .9-2 2v14c0 1.1.9 2 2 2h14c1.1 0 2-.9 2-2V5c0-1.1-.9-2-2-2zM9 17H7v-7h2v7zm4 0h-2V7h2v10zm4 0h-2v-4h2v4z\"/>\n",
              "    </g>\n",
              "</svg>\n",
              "  </button>\n",
              "\n",
              "<style>\n",
              "  .colab-df-quickchart {\n",
              "      --bg-color: #E8F0FE;\n",
              "      --fill-color: #1967D2;\n",
              "      --hover-bg-color: #E2EBFA;\n",
              "      --hover-fill-color: #174EA6;\n",
              "      --disabled-fill-color: #AAA;\n",
              "      --disabled-bg-color: #DDD;\n",
              "  }\n",
              "\n",
              "  [theme=dark] .colab-df-quickchart {\n",
              "      --bg-color: #3B4455;\n",
              "      --fill-color: #D2E3FC;\n",
              "      --hover-bg-color: #434B5C;\n",
              "      --hover-fill-color: #FFFFFF;\n",
              "      --disabled-bg-color: #3B4455;\n",
              "      --disabled-fill-color: #666;\n",
              "  }\n",
              "\n",
              "  .colab-df-quickchart {\n",
              "    background-color: var(--bg-color);\n",
              "    border: none;\n",
              "    border-radius: 50%;\n",
              "    cursor: pointer;\n",
              "    display: none;\n",
              "    fill: var(--fill-color);\n",
              "    height: 32px;\n",
              "    padding: 0;\n",
              "    width: 32px;\n",
              "  }\n",
              "\n",
              "  .colab-df-quickchart:hover {\n",
              "    background-color: var(--hover-bg-color);\n",
              "    box-shadow: 0 1px 2px rgba(60, 64, 67, 0.3), 0 1px 3px 1px rgba(60, 64, 67, 0.15);\n",
              "    fill: var(--button-hover-fill-color);\n",
              "  }\n",
              "\n",
              "  .colab-df-quickchart-complete:disabled,\n",
              "  .colab-df-quickchart-complete:disabled:hover {\n",
              "    background-color: var(--disabled-bg-color);\n",
              "    fill: var(--disabled-fill-color);\n",
              "    box-shadow: none;\n",
              "  }\n",
              "\n",
              "  .colab-df-spinner {\n",
              "    border: 2px solid var(--fill-color);\n",
              "    border-color: transparent;\n",
              "    border-bottom-color: var(--fill-color);\n",
              "    animation:\n",
              "      spin 1s steps(1) infinite;\n",
              "  }\n",
              "\n",
              "  @keyframes spin {\n",
              "    0% {\n",
              "      border-color: transparent;\n",
              "      border-bottom-color: var(--fill-color);\n",
              "      border-left-color: var(--fill-color);\n",
              "    }\n",
              "    20% {\n",
              "      border-color: transparent;\n",
              "      border-left-color: var(--fill-color);\n",
              "      border-top-color: var(--fill-color);\n",
              "    }\n",
              "    30% {\n",
              "      border-color: transparent;\n",
              "      border-left-color: var(--fill-color);\n",
              "      border-top-color: var(--fill-color);\n",
              "      border-right-color: var(--fill-color);\n",
              "    }\n",
              "    40% {\n",
              "      border-color: transparent;\n",
              "      border-right-color: var(--fill-color);\n",
              "      border-top-color: var(--fill-color);\n",
              "    }\n",
              "    60% {\n",
              "      border-color: transparent;\n",
              "      border-right-color: var(--fill-color);\n",
              "    }\n",
              "    80% {\n",
              "      border-color: transparent;\n",
              "      border-right-color: var(--fill-color);\n",
              "      border-bottom-color: var(--fill-color);\n",
              "    }\n",
              "    90% {\n",
              "      border-color: transparent;\n",
              "      border-bottom-color: var(--fill-color);\n",
              "    }\n",
              "  }\n",
              "</style>\n",
              "\n",
              "  <script>\n",
              "    async function quickchart(key) {\n",
              "      const quickchartButtonEl =\n",
              "        document.querySelector('#' + key + ' button');\n",
              "      quickchartButtonEl.disabled = true;  // To prevent multiple clicks.\n",
              "      quickchartButtonEl.classList.add('colab-df-spinner');\n",
              "      try {\n",
              "        const charts = await google.colab.kernel.invokeFunction(\n",
              "            'suggestCharts', [key], {});\n",
              "      } catch (error) {\n",
              "        console.error('Error during call to suggestCharts:', error);\n",
              "      }\n",
              "      quickchartButtonEl.classList.remove('colab-df-spinner');\n",
              "      quickchartButtonEl.classList.add('colab-df-quickchart-complete');\n",
              "    }\n",
              "    (() => {\n",
              "      let quickchartButtonEl =\n",
              "        document.querySelector('#df-0f07f3d4-e586-41c2-afe2-6da3292a5dd9 button');\n",
              "      quickchartButtonEl.style.display =\n",
              "        google.colab.kernel.accessAllowed ? 'block' : 'none';\n",
              "    })();\n",
              "  </script>\n",
              "</div>\n",
              "\n",
              "    </div>\n",
              "  </div>\n"
            ],
            "application/vnd.google.colaboratory.intrinsic+json": {
              "type": "dataframe",
              "variable_name": "rating_df",
              "summary": "{\n  \"name\": \"rating_df\",\n  \"rows\": 93045,\n  \"fields\": [\n    {\n      \"column\": \"user_id\",\n      \"properties\": {\n        \"dtype\": \"number\",\n        \"std\": 269,\n        \"min\": 1,\n        \"max\": 958,\n        \"num_unique_values\": 958,\n        \"samples\": [\n          837,\n          478,\n          351\n        ],\n        \"semantic_type\": \"\",\n        \"description\": \"\"\n      }\n    },\n    {\n      \"column\": \"anime_id\",\n      \"properties\": {\n        \"dtype\": \"number\",\n        \"std\": 9108,\n        \"min\": 1,\n        \"max\": 34240,\n        \"num_unique_values\": 5116,\n        \"samples\": [\n          18497,\n          1966,\n          1587\n        ],\n        \"semantic_type\": \"\",\n        \"description\": \"\"\n      }\n    },\n    {\n      \"column\": \"rating\",\n      \"properties\": {\n        \"dtype\": \"number\",\n        \"std\": 3,\n        \"min\": -1,\n        \"max\": 10,\n        \"num_unique_values\": 11,\n        \"samples\": [\n          7,\n          -1,\n          1\n        ],\n        \"semantic_type\": \"\",\n        \"description\": \"\"\n      }\n    }\n  ]\n}"
            }
          },
          "metadata": {},
          "execution_count": 112
        }
      ]
    },
    {
      "cell_type": "markdown",
      "metadata": {
        "id": "CE0unHZMJysC"
      },
      "source": [
        "# Data Understanding\n",
        "\n",
        "Dataset yang digunakan untuk pembuatan model system recommendation ini adalah dataset \"Movie Magic: Data-Driven Recommendations\" yang tersedia di situs[ kaggle](https://www.kaggle.com/code/dumanmesut/anime-recomendation-systems) yang berisi data-data mengenai movie beserta ratingd yang diberikan oleh para pembaca.\n",
        "\n",
        "Terdapat 2 file didalamnya,  dataset animes.csv dan rating.csv. animes terdiri dari , baris 12294 data dan 7 kolom data. rating.csv terdiri dari 93045 baris data dan 3 kolom data.\n",
        "\n",
        "Kedua dataset tersebut dapat digunakan untuk membuat system recommendation, baik Content-Based Filtering maupun Collaborative Filtering\n",
        "\n",
        "Berikut ini adalah infomasi lainnya mengenai atribut-atribut yang terdapat pada dua dataset tersebut:\n",
        "\n",
        "Atribut-atribut pada anime_df.csv:\n",
        "\n",
        "* anime_id - identifikasi unik anime\n",
        "* name - full name .\n",
        "* genre - genre dari anime\n",
        "* type - movie, TV, OVA, etc.\n",
        "* episodes - berapa banyak episode dalam acara ini. (1 jika film)\n",
        "* rating - peringkat rata-rata dari 10 untuk anime\n",
        "* members - umlah anggota komunitas yang ada di grup anime\n",
        "\n",
        "Atribut-atribut pada rating_df.csv:\n",
        "\n",
        "* user_id - ID pengguna yang dibuat secara acak.\n",
        "* anime_id - anime yang diberi peringkat oleh pengguna ini.\n",
        "* rating - Peringkat dari 10 yang diberikan pengguna ini (-1 jika pengguna menontonnya tetapi tidak memberikan peringkat).\n",
        "\n",
        "\n"
      ]
    },
    {
      "cell_type": "markdown",
      "metadata": {
        "id": "lGylIf0yOYe-"
      },
      "source": [
        "## Exploratory Data Analysis\n",
        "\n",
        "Exploratory Data Analysis (EDA) adalah pendekatan analisis data yang bertujuan untuk memahami karakteristik utama dari kumpulan data. EDA melibatkan penggunaan teknik statistik dan visualisasi grafis untuk menemukan pola, hubungan, atau anomali untuk membentuk hipotesis. Proses ini sering kali tidak terstruktur dan dianggap sebagai langkah awal penting dalam analisis data yang membantu menentukan arah analisis lebih lanjut."
      ]
    },
    {
      "cell_type": "markdown",
      "source": [
        "**anime_df**"
      ],
      "metadata": {
        "id": "nZTreSpquGd1"
      }
    },
    {
      "cell_type": "code",
      "source": [
        "# Menampilan jumlah baris dan kolom yang ada pada dataset\n",
        "\n",
        "anime_df.shape"
      ],
      "metadata": {
        "colab": {
          "base_uri": "https://localhost:8080/"
        },
        "id": "UMBiOey1uOKD",
        "outputId": "d059bc33-6a65-4a45-d698-10c82e1ddf8e"
      },
      "execution_count": null,
      "outputs": [
        {
          "output_type": "execute_result",
          "data": {
            "text/plain": [
              "(12294, 7)"
            ]
          },
          "metadata": {},
          "execution_count": 113
        }
      ]
    },
    {
      "cell_type": "markdown",
      "source": [
        "\n",
        "Berdasarkan output diatas, movies_df memiliki:\n",
        "\n",
        "  \n",
        "  * 12294 baris data\n",
        "  * 7 kolom data\n",
        "\n"
      ],
      "metadata": {
        "id": "ZA7FaeHE0UX2"
      }
    },
    {
      "cell_type": "code",
      "source": [
        "# Menampilkan kolom-kolom yang ada pada dataset\n",
        "\n",
        "anime_df.keys()"
      ],
      "metadata": {
        "colab": {
          "base_uri": "https://localhost:8080/"
        },
        "id": "vD3zqrJ50ndx",
        "outputId": "7042d87d-0b7a-4d46-aba3-59a4d8a41257"
      },
      "execution_count": null,
      "outputs": [
        {
          "output_type": "execute_result",
          "data": {
            "text/plain": [
              "Index(['anime_id', 'name', 'genre', 'type', 'episodes', 'rating', 'members'], dtype='object')"
            ]
          },
          "metadata": {},
          "execution_count": 114
        }
      ]
    },
    {
      "cell_type": "code",
      "source": [
        "# Menampilkan tipe data dari setiap kolom yang ada\n",
        "\n",
        "anime_df.info()"
      ],
      "metadata": {
        "colab": {
          "base_uri": "https://localhost:8080/"
        },
        "id": "SblwzbN21CUg",
        "outputId": "468af7d7-e4ae-4071-a8b7-70379b7ba886"
      },
      "execution_count": null,
      "outputs": [
        {
          "output_type": "stream",
          "name": "stdout",
          "text": [
            "<class 'pandas.core.frame.DataFrame'>\n",
            "RangeIndex: 12294 entries, 0 to 12293\n",
            "Data columns (total 7 columns):\n",
            " #   Column    Non-Null Count  Dtype  \n",
            "---  ------    --------------  -----  \n",
            " 0   anime_id  12294 non-null  int64  \n",
            " 1   name      12294 non-null  object \n",
            " 2   genre     12232 non-null  object \n",
            " 3   type      12269 non-null  object \n",
            " 4   episodes  12294 non-null  object \n",
            " 5   rating    12064 non-null  float64\n",
            " 6   members   12294 non-null  int64  \n",
            "dtypes: float64(1), int64(2), object(4)\n",
            "memory usage: 672.5+ KB\n"
          ]
        }
      ]
    },
    {
      "cell_type": "markdown",
      "source": [
        "Berdasarkan output diatas 1 kolom bertipe data `float64` 4 kolom bertipe data `object` 2 kolom bertipe data `int64`"
      ],
      "metadata": {
        "id": "Rm5FQuec1p3w"
      }
    },
    {
      "cell_type": "code",
      "source": [
        "print('Banyak genre: ', len(anime_df.genre.unique()))\n",
        "print('Tipe : ', anime_df.genre.unique())"
      ],
      "metadata": {
        "colab": {
          "base_uri": "https://localhost:8080/"
        },
        "id": "crg-ajcE3G2r",
        "outputId": "84c9d65d-929d-4b00-bf2b-21be4bbcf446"
      },
      "execution_count": null,
      "outputs": [
        {
          "output_type": "stream",
          "name": "stdout",
          "text": [
            "Banyak genre:  3265\n",
            "Tipe :  ['Drama, Romance, School, Supernatural'\n",
            " 'Action, Adventure, Drama, Fantasy, Magic, Military, Shounen'\n",
            " 'Action, Comedy, Historical, Parody, Samurai, Sci-Fi, Shounen' ...\n",
            " 'Hentai, Sports' 'Drama, Romance, School, Yuri' 'Hentai, Slice of Life']\n"
          ]
        }
      ]
    },
    {
      "cell_type": "markdown",
      "source": [
        "Berdasarkan output diatas, animw_df terdapat 3265 genres"
      ],
      "metadata": {
        "id": "LQnk4_ch4lh9"
      }
    },
    {
      "cell_type": "markdown",
      "source": [
        "**ratings_df**"
      ],
      "metadata": {
        "id": "LguM4Glr5POb"
      }
    },
    {
      "cell_type": "code",
      "source": [
        "# Menampilan jumlah baris dan kolom yang ada pada dataset\n",
        "\n",
        "rating_df.shape"
      ],
      "metadata": {
        "colab": {
          "base_uri": "https://localhost:8080/"
        },
        "id": "orHrV2tk5UE7",
        "outputId": "170f17bb-6b17-42f2-f4a5-f212b5f4901b"
      },
      "execution_count": null,
      "outputs": [
        {
          "output_type": "execute_result",
          "data": {
            "text/plain": [
              "(93045, 3)"
            ]
          },
          "metadata": {},
          "execution_count": 117
        }
      ]
    },
    {
      "cell_type": "markdown",
      "source": [
        "\n",
        "\n",
        "Berdasarkan output diatas, movies_df memiliki:\n",
        "\n",
        "  * 93045 baris data\n",
        "  * 3 kolom data\n",
        "\n"
      ],
      "metadata": {
        "id": "uQGwDzKt5xpi"
      }
    },
    {
      "cell_type": "code",
      "source": [
        "# Menampilkan kolom-kolom yang ada pada dataset\n",
        "\n",
        "rating_df.keys()"
      ],
      "metadata": {
        "colab": {
          "base_uri": "https://localhost:8080/"
        },
        "id": "RmIobGtw57-S",
        "outputId": "e2998096-0fc0-408c-bcb4-c26be1bcfa33"
      },
      "execution_count": null,
      "outputs": [
        {
          "output_type": "execute_result",
          "data": {
            "text/plain": [
              "Index(['user_id', 'anime_id', 'rating'], dtype='object')"
            ]
          },
          "metadata": {},
          "execution_count": 118
        }
      ]
    },
    {
      "cell_type": "markdown",
      "source": [
        "Berdasarkan output diatas terdapat 4 kolom"
      ],
      "metadata": {
        "id": "f1QrPz4n6IrU"
      }
    },
    {
      "cell_type": "code",
      "source": [
        "rating_df.info()"
      ],
      "metadata": {
        "colab": {
          "base_uri": "https://localhost:8080/"
        },
        "id": "7lQN5hzz6T2f",
        "outputId": "5e2be9a6-179b-4447-b272-2892a897c41e"
      },
      "execution_count": null,
      "outputs": [
        {
          "output_type": "stream",
          "name": "stdout",
          "text": [
            "<class 'pandas.core.frame.DataFrame'>\n",
            "RangeIndex: 93045 entries, 0 to 93044\n",
            "Data columns (total 3 columns):\n",
            " #   Column    Non-Null Count  Dtype\n",
            "---  ------    --------------  -----\n",
            " 0   user_id   93045 non-null  int64\n",
            " 1   anime_id  93045 non-null  int64\n",
            " 2   rating    93045 non-null  int64\n",
            "dtypes: int64(3)\n",
            "memory usage: 2.1 MB\n"
          ]
        }
      ]
    },
    {
      "cell_type": "markdown",
      "source": [
        "Berdasarkan output diatas, rating_df memiliki 3 kolom dengan tipe data `int64`\n",
        "   \n"
      ],
      "metadata": {
        "id": "PDIaklyP6b91"
      }
    },
    {
      "cell_type": "code",
      "source": [
        "rating_df['rating'].describe()"
      ],
      "metadata": {
        "colab": {
          "base_uri": "https://localhost:8080/",
          "height": 355
        },
        "id": "Wn-r2UA06yJy",
        "outputId": "57db7081-8d70-402c-dd78-8cb82c7a9034"
      },
      "execution_count": null,
      "outputs": [
        {
          "output_type": "execute_result",
          "data": {
            "text/plain": [
              "count    93045.000000\n",
              "mean         6.114826\n",
              "std          3.778899\n",
              "min         -1.000000\n",
              "25%          6.000000\n",
              "50%          8.000000\n",
              "75%          9.000000\n",
              "max         10.000000\n",
              "Name: rating, dtype: float64"
            ],
            "text/html": [
              "<div>\n",
              "<style scoped>\n",
              "    .dataframe tbody tr th:only-of-type {\n",
              "        vertical-align: middle;\n",
              "    }\n",
              "\n",
              "    .dataframe tbody tr th {\n",
              "        vertical-align: top;\n",
              "    }\n",
              "\n",
              "    .dataframe thead th {\n",
              "        text-align: right;\n",
              "    }\n",
              "</style>\n",
              "<table border=\"1\" class=\"dataframe\">\n",
              "  <thead>\n",
              "    <tr style=\"text-align: right;\">\n",
              "      <th></th>\n",
              "      <th>rating</th>\n",
              "    </tr>\n",
              "  </thead>\n",
              "  <tbody>\n",
              "    <tr>\n",
              "      <th>count</th>\n",
              "      <td>93045.000000</td>\n",
              "    </tr>\n",
              "    <tr>\n",
              "      <th>mean</th>\n",
              "      <td>6.114826</td>\n",
              "    </tr>\n",
              "    <tr>\n",
              "      <th>std</th>\n",
              "      <td>3.778899</td>\n",
              "    </tr>\n",
              "    <tr>\n",
              "      <th>min</th>\n",
              "      <td>-1.000000</td>\n",
              "    </tr>\n",
              "    <tr>\n",
              "      <th>25%</th>\n",
              "      <td>6.000000</td>\n",
              "    </tr>\n",
              "    <tr>\n",
              "      <th>50%</th>\n",
              "      <td>8.000000</td>\n",
              "    </tr>\n",
              "    <tr>\n",
              "      <th>75%</th>\n",
              "      <td>9.000000</td>\n",
              "    </tr>\n",
              "    <tr>\n",
              "      <th>max</th>\n",
              "      <td>10.000000</td>\n",
              "    </tr>\n",
              "  </tbody>\n",
              "</table>\n",
              "</div><br><label><b>dtype:</b> float64</label>"
            ]
          },
          "metadata": {},
          "execution_count": 120
        }
      ]
    },
    {
      "cell_type": "markdown",
      "source": [
        "\n",
        "\n",
        "Fungsi diatas memberikan informasi statistika deskriptif untuk kolom rating, yaitu:\n",
        "\n",
        "* count : Jumlah data dari sebuah kolom\n",
        "* mean : Rata-rata dari sebuah kolom\n",
        "* std : Standar deviasi dari sebuah kolom\n",
        "* min : Nilai terendah pada sebuah kolom\n",
        "* 25% : Nilai kuartil pertama (Q1) dari sebuah kolom\n",
        "* 50% : Nilai kuartil kedua (Q2) atau median atau nilai tengah dari sebuah kolom\n",
        "* 75% : Nilai kuartil ketiha (Q3) dari sebuah kolom\n",
        "* max : Nilai tertinggi pada sebuah kolom\n",
        "\n",
        "\n"
      ],
      "metadata": {
        "id": "_TrU7yZC9GVc"
      }
    },
    {
      "cell_type": "code",
      "source": [
        "anime_df.groupby('genre')['genre'].agg('count')"
      ],
      "metadata": {
        "colab": {
          "base_uri": "https://localhost:8080/",
          "height": 510
        },
        "id": "9PHPjxNQ9VcX",
        "outputId": "be7946bb-ad53-4082-ddc0-a20d46e86b55"
      },
      "execution_count": null,
      "outputs": [
        {
          "output_type": "execute_result",
          "data": {
            "text/plain": [
              "genre\n",
              "Action                                                     53\n",
              "Action, Adventure                                          15\n",
              "Action, Adventure, Cars, Comedy, Sci-Fi, Shounen            2\n",
              "Action, Adventure, Cars, Mecha, Sci-Fi, Shounen, Sports     1\n",
              "Action, Adventure, Cars, Sci-Fi                             1\n",
              "                                                           ..\n",
              "Super Power, Supernatural, Vampire                          1\n",
              "Supernatural                                               14\n",
              "Thriller                                                    1\n",
              "Vampire                                                     1\n",
              "Yaoi                                                        3\n",
              "Name: genre, Length: 3264, dtype: int64"
            ],
            "text/html": [
              "<div>\n",
              "<style scoped>\n",
              "    .dataframe tbody tr th:only-of-type {\n",
              "        vertical-align: middle;\n",
              "    }\n",
              "\n",
              "    .dataframe tbody tr th {\n",
              "        vertical-align: top;\n",
              "    }\n",
              "\n",
              "    .dataframe thead th {\n",
              "        text-align: right;\n",
              "    }\n",
              "</style>\n",
              "<table border=\"1\" class=\"dataframe\">\n",
              "  <thead>\n",
              "    <tr style=\"text-align: right;\">\n",
              "      <th></th>\n",
              "      <th>genre</th>\n",
              "    </tr>\n",
              "    <tr>\n",
              "      <th>genre</th>\n",
              "      <th></th>\n",
              "    </tr>\n",
              "  </thead>\n",
              "  <tbody>\n",
              "    <tr>\n",
              "      <th>Action</th>\n",
              "      <td>53</td>\n",
              "    </tr>\n",
              "    <tr>\n",
              "      <th>Action, Adventure</th>\n",
              "      <td>15</td>\n",
              "    </tr>\n",
              "    <tr>\n",
              "      <th>Action, Adventure, Cars, Comedy, Sci-Fi, Shounen</th>\n",
              "      <td>2</td>\n",
              "    </tr>\n",
              "    <tr>\n",
              "      <th>Action, Adventure, Cars, Mecha, Sci-Fi, Shounen, Sports</th>\n",
              "      <td>1</td>\n",
              "    </tr>\n",
              "    <tr>\n",
              "      <th>Action, Adventure, Cars, Sci-Fi</th>\n",
              "      <td>1</td>\n",
              "    </tr>\n",
              "    <tr>\n",
              "      <th>...</th>\n",
              "      <td>...</td>\n",
              "    </tr>\n",
              "    <tr>\n",
              "      <th>Super Power, Supernatural, Vampire</th>\n",
              "      <td>1</td>\n",
              "    </tr>\n",
              "    <tr>\n",
              "      <th>Supernatural</th>\n",
              "      <td>14</td>\n",
              "    </tr>\n",
              "    <tr>\n",
              "      <th>Thriller</th>\n",
              "      <td>1</td>\n",
              "    </tr>\n",
              "    <tr>\n",
              "      <th>Vampire</th>\n",
              "      <td>1</td>\n",
              "    </tr>\n",
              "    <tr>\n",
              "      <th>Yaoi</th>\n",
              "      <td>3</td>\n",
              "    </tr>\n",
              "  </tbody>\n",
              "</table>\n",
              "<p>3264 rows × 1 columns</p>\n",
              "</div><br><label><b>dtype:</b> int64</label>"
            ]
          },
          "metadata": {},
          "execution_count": 121
        }
      ]
    },
    {
      "cell_type": "code",
      "source": [
        "# Menampilakn total unique value di kolom user\n",
        "\n",
        "print(rating_df['user_id'].nunique())"
      ],
      "metadata": {
        "colab": {
          "base_uri": "https://localhost:8080/"
        },
        "id": "tR8jZEsm90ZH",
        "outputId": "414f2d1b-7924-433f-9b73-dbac608a6671"
      },
      "execution_count": null,
      "outputs": [
        {
          "output_type": "stream",
          "name": "stdout",
          "text": [
            "958\n"
          ]
        }
      ]
    },
    {
      "cell_type": "markdown",
      "source": [
        "Berdasarkan output diatas, rating_df memiliki 958 user_id secara unique dari keseluruhan dataset. Hal ini berarti ada 958 user yang memberikan review terhadap film-film yang mereka telah tonton."
      ],
      "metadata": {
        "id": "tSQDd87u-dIO"
      }
    },
    {
      "cell_type": "markdown",
      "metadata": {
        "id": "oK9mhZImWQT8"
      },
      "source": [
        "## Data Visualization\n",
        "\n",
        "\n",
        "\n",
        "Visualisasi data adalah proses representasi grafis dari informasi dan data. Dengan menggunakan elemen visual seperti grafik, diagram, dan peta, visualisasi data menyediakan cara yang intuitif dan mudah diakses untuk melihat dan memahami tren, anomali, dan pola dalam data. Tujuan utama dari visualisasi data adalah untuk mengkomunikasikan informasi secara jelas dan efisien kepada pengguna, sehingga memudahkan pemahaman, analisis, dan pengambilan keputusan berdasarkan data tersebut\n",
        "\n"
      ]
    },
    {
      "cell_type": "markdown",
      "source": [
        "**anime_df**"
      ],
      "metadata": {
        "id": "ZUykme87k09r"
      }
    },
    {
      "cell_type": "markdown",
      "source": [
        "**Univariate Analysis**\n",
        "\n",
        "\n",
        "Univariate Analysis adalah jenis analisis data yang memeriksa satu variabel (atau bidang data) pada satu waktu. Tujuannya adalah untuk menggambarkan data dan menemukan pola yang ada dalam distribusi variabel tersebut. Ini termasuk penggunaan statistik deskriptif, histogram, dan box plots untuk menganalisis distribusi dan memahami sifat dari variabel tersebut."
      ],
      "metadata": {
        "id": "PLrIUKi5j1KU"
      }
    },
    {
      "cell_type": "code",
      "source": [
        "# Anime Categories Distribution\n",
        "from pandas.core.tools.datetimes import overload\n",
        "ona = anime_df.loc[anime_df['type'] == 'ONA'].count()[0]\n",
        "tv = anime_df.loc[anime_df['type'] == 'TV'].count()[0]\n",
        "movie = anime_df.loc[anime_df['type'] == 'Movie'].count()[0]\n",
        "music = anime_df.loc[anime_df['type'] == 'Music'].count()[0]\n",
        "special = anime_df.loc[anime_df['type'] == 'Special'].count()[0]\n",
        "ova = anime_df.loc[anime_df['type'] == 'OVA'].count()[0]\n",
        "\n",
        "labels = ['ONA', 'TV', 'Movie', 'Music', 'Special', 'OVA']\n",
        "colors = ['#81F4E1', '#56CBF9', '#F5D491', '#BEB7A4', '#B4E1FF', '#F06C9B']\n",
        "\n",
        "plt.figure(figsize = (10,7))\n",
        "plt.title('Anime Categories Distribution')\n",
        "plt.pie([ona, tv, movie, music, special, ova],\n",
        "        labels = labels,\n",
        "        colors = colors,\n",
        "        autopct = '%.2f %%'\n",
        "        )\n",
        "\n",
        "plt.show()\n"
      ],
      "metadata": {
        "id": "ip8KkionB4oq",
        "colab": {
          "base_uri": "https://localhost:8080/",
          "height": 832
        },
        "outputId": "52a6dc70-16f4-4e8b-de02-c93f317867f1"
      },
      "execution_count": null,
      "outputs": [
        {
          "output_type": "stream",
          "name": "stderr",
          "text": [
            "<ipython-input-124-19c5c87c3dc6>:3: FutureWarning: Series.__getitem__ treating keys as positions is deprecated. In a future version, integer keys will always be treated as labels (consistent with DataFrame behavior). To access a value by position, use `ser.iloc[pos]`\n",
            "  ona = anime_df.loc[anime_df['type'] == 'ONA'].count()[0]\n",
            "<ipython-input-124-19c5c87c3dc6>:4: FutureWarning: Series.__getitem__ treating keys as positions is deprecated. In a future version, integer keys will always be treated as labels (consistent with DataFrame behavior). To access a value by position, use `ser.iloc[pos]`\n",
            "  tv = anime_df.loc[anime_df['type'] == 'TV'].count()[0]\n",
            "<ipython-input-124-19c5c87c3dc6>:5: FutureWarning: Series.__getitem__ treating keys as positions is deprecated. In a future version, integer keys will always be treated as labels (consistent with DataFrame behavior). To access a value by position, use `ser.iloc[pos]`\n",
            "  movie = anime_df.loc[anime_df['type'] == 'Movie'].count()[0]\n",
            "<ipython-input-124-19c5c87c3dc6>:6: FutureWarning: Series.__getitem__ treating keys as positions is deprecated. In a future version, integer keys will always be treated as labels (consistent with DataFrame behavior). To access a value by position, use `ser.iloc[pos]`\n",
            "  music = anime_df.loc[anime_df['type'] == 'Music'].count()[0]\n",
            "<ipython-input-124-19c5c87c3dc6>:7: FutureWarning: Series.__getitem__ treating keys as positions is deprecated. In a future version, integer keys will always be treated as labels (consistent with DataFrame behavior). To access a value by position, use `ser.iloc[pos]`\n",
            "  special = anime_df.loc[anime_df['type'] == 'Special'].count()[0]\n",
            "<ipython-input-124-19c5c87c3dc6>:8: FutureWarning: Series.__getitem__ treating keys as positions is deprecated. In a future version, integer keys will always be treated as labels (consistent with DataFrame behavior). To access a value by position, use `ser.iloc[pos]`\n",
            "  ova = anime_df.loc[anime_df['type'] == 'OVA'].count()[0]\n"
          ]
        },
        {
          "output_type": "display_data",
          "data": {
            "text/plain": [
              "<Figure size 1000x700 with 1 Axes>"
            ],
            "image/png": "[encoded data removed]"
          },
          "metadata": {}
        }
      ]
    },
    {
      "cell_type": "code",
      "source": [
        "# Anime's Average Ratings Distribution\n",
        "plt.hist(anime_df.rating, color='#B4E1FF', edgecolor='black')\n",
        "plt.ylabel('Total')\n",
        "plt.xlabel('Avg Rating')\n",
        "plt.title(\"Anime's Average Ratings Distribution\")\n",
        "plt.show()"
      ],
      "metadata": {
        "colab": {
          "base_uri": "https://localhost:8080/",
          "height": 492
        },
        "id": "I6Q2I5vrMav4",
        "outputId": "de650891-4c50-42af-d491-6a6a4235223f"
      },
      "execution_count": null,
      "outputs": [
        {
          "output_type": "display_data",
          "data": {
            "text/plain": [
              "<Figure size 640x480 with 1 Axes>"
            ],
            "image/png": "[encoded data removed]"
          },
          "metadata": {}
        }
      ]
    },
    {
      "cell_type": "markdown",
      "source": [
        "**rating_df**\n",
        "\n",
        "\n",
        "\n",
        "Univariate Analysis\n",
        "\n",
        "Univariate Analysis adalah jenis analisis data yang memeriksa satu variabel (atau bidang data) pada satu waktu. Tujuannya adalah untuk menggambarkan data dan menemukan pola yang ada dalam distribusi variabel tersebut. Ini termasuk penggunaan statistik deskriptif, histogram, dan box plots untuk menganalisis distribusi dan memahami sifat dari variabel tersebut.\n"
      ],
      "metadata": {
        "id": "MAi0jcGnk42y"
      }
    },
    {
      "cell_type": "code",
      "source": [
        "plt.figure(figsize=(10, 6))\n",
        "review_counts = rating_df['rating'].value_counts()\n",
        "review_counts_sorted = review_counts.sort_values(ascending=False)\n",
        "sns.countplot(x='rating', data=rating_df, color='#30D5C8', order=review_counts_sorted.index)\n",
        "sns.despine()\n",
        "plt.title('Count Plot dari Rating anime')\n",
        "plt.xlabel('Rating')\n",
        "plt.ylabel('Count')\n",
        "plt.xticks(rotation=90)\n",
        "plt.show()"
      ],
      "metadata": {
        "colab": {
          "base_uri": "https://localhost:8080/",
          "height": 560
        },
        "id": "MDjOXBoNlHyz",
        "outputId": "4de5e957-070b-4289-cc28-61b5d5f99570"
      },
      "execution_count": null,
      "outputs": [
        {
          "output_type": "display_data",
          "data": {
            "text/plain": [
              "<Figure size 1000x600 with 1 Axes>"
            ],
            "image/png": "[encoded data removed]"
          },
          "metadata": {}
        }
      ]
    },
    {
      "cell_type": "code",
      "source": [
        "rating_percentages = rating_df['rating'].value_counts(normalize=True) * 100\n",
        "plt.figure(figsize=(8, 6))\n",
        "rating_percentages.plot.pie(autopct='%1.1f%%')\n",
        "plt.title('Percentage of Each Rating Value')\n",
        "plt.ylabel('')\n",
        "plt.show()"
      ],
      "metadata": {
        "colab": {
          "base_uri": "https://localhost:8080/",
          "height": 541
        },
        "id": "DlRNEzHAlgiJ",
        "outputId": "0cacb471-812a-40f2-d899-193ff27f3a62"
      },
      "execution_count": null,
      "outputs": [
        {
          "output_type": "display_data",
          "data": {
            "text/plain": [
              "<Figure size 800x600 with 1 Axes>"
            ],
            "image/png": "[encoded data removed]"
          },
          "metadata": {}
        }
      ]
    },
    {
      "cell_type": "markdown",
      "source": [
        "**Multivariate Analysis**\n",
        "\n",
        "Multivariate Analysis adalah prosedur statistik yang digunakan untuk memeriksa hubungan antara beberapa variabel secara bersamaan. Teknik ini mencakup berbagai metode seperti regresi berganda, analisis faktor, dan analisis kluster, yang membantu dalam memahami struktur dan pola yang kompleks dalam data dengan lebih dari satu variabel."
      ],
      "metadata": {
        "id": "uQHzSPTQrPU3"
      }
    },
    {
      "cell_type": "code",
      "source": [
        "# Top 10 Anime Community\n",
        "anime_df.sort_values(by='members', ascending=False).head(10)"
      ],
      "metadata": {
        "colab": {
          "base_uri": "https://localhost:8080/",
          "height": 539
        },
        "id": "Vqn0nWJmrBMc",
        "outputId": "de1249f1-2953-441a-dfb0-862a46b1d064"
      },
      "execution_count": null,
      "outputs": [
        {
          "output_type": "execute_result",
          "data": {
            "text/plain": [
              "     anime_id                              name  \\\n",
              "40       1535                        Death Note   \n",
              "86      16498                Shingeki no Kyojin   \n",
              "804     11757                  Sword Art Online   \n",
              "1        5114  Fullmetal Alchemist: Brotherhood   \n",
              "159      6547                      Angel Beats!   \n",
              "19       1575   Code Geass: Hangyaku no Lelouch   \n",
              "841        20                            Naruto   \n",
              "3        9253                       Steins;Gate   \n",
              "445     10620                  Mirai Nikki (TV)   \n",
              "131      4224                         Toradora!   \n",
              "\n",
              "                                                 genre type episodes  rating  \\\n",
              "40   Mystery, Police, Psychological, Supernatural, ...   TV       37    8.71   \n",
              "86        Action, Drama, Fantasy, Shounen, Super Power   TV       25    8.54   \n",
              "804          Action, Adventure, Fantasy, Game, Romance   TV       25    7.83   \n",
              "1    Action, Adventure, Drama, Fantasy, Magic, Mili...   TV       64    9.26   \n",
              "159        Action, Comedy, Drama, School, Supernatural   TV       13    8.39   \n",
              "19   Action, Mecha, Military, School, Sci-Fi, Super...   TV       25    8.83   \n",
              "841  Action, Comedy, Martial Arts, Shounen, Super P...   TV      220    7.81   \n",
              "3                                     Sci-Fi, Thriller   TV       24    9.17   \n",
              "445  Action, Mystery, Psychological, Shounen, Super...   TV       26    8.07   \n",
              "131             Comedy, Romance, School, Slice of Life   TV       25    8.45   \n",
              "\n",
              "     members  \n",
              "40   1013917  \n",
              "86    896229  \n",
              "804   893100  \n",
              "1     793665  \n",
              "159   717796  \n",
              "19    715151  \n",
              "841   683297  \n",
              "3     673572  \n",
              "445   657190  \n",
              "131   633817  "
            ],
            "text/html": [
              "\n",
              "  <div id=\"df-5a301486-982c-4583-b0b1-c7f54e3e2254\" class=\"colab-df-container\">\n",
              "    <div>\n",
              "<style scoped>\n",
              "    .dataframe tbody tr th:only-of-type {\n",
              "        vertical-align: middle;\n",
              "    }\n",
              "\n",
              "    .dataframe tbody tr th {\n",
              "        vertical-align: top;\n",
              "    }\n",
              "\n",
              "    .dataframe thead th {\n",
              "        text-align: right;\n",
              "    }\n",
              "</style>\n",
              "<table border=\"1\" class=\"dataframe\">\n",
              "  <thead>\n",
              "    <tr style=\"text-align: right;\">\n",
              "      <th></th>\n",
              "      <th>anime_id</th>\n",
              "      <th>name</th>\n",
              "      <th>genre</th>\n",
              "      <th>type</th>\n",
              "      <th>episodes</th>\n",
              "      <th>rating</th>\n",
              "      <th>members</th>\n",
              "    </tr>\n",
              "  </thead>\n",
              "  <tbody>\n",
              "    <tr>\n",
              "      <th>40</th>\n",
              "      <td>1535</td>\n",
              "      <td>Death Note</td>\n",
              "      <td>Mystery, Police, Psychological, Supernatural, ...</td>\n",
              "      <td>TV</td>\n",
              "      <td>37</td>\n",
              "      <td>8.71</td>\n",
              "      <td>1013917</td>\n",
              "    </tr>\n",
              "    <tr>\n",
              "      <th>86</th>\n",
              "      <td>16498</td>\n",
              "      <td>Shingeki no Kyojin</td>\n",
              "      <td>Action, Drama, Fantasy, Shounen, Super Power</td>\n",
              "      <td>TV</td>\n",
              "      <td>25</td>\n",
              "      <td>8.54</td>\n",
              "      <td>896229</td>\n",
              "    </tr>\n",
              "    <tr>\n",
              "      <th>804</th>\n",
              "      <td>11757</td>\n",
              "      <td>Sword Art Online</td>\n",
              "      <td>Action, Adventure, Fantasy, Game, Romance</td>\n",
              "      <td>TV</td>\n",
              "      <td>25</td>\n",
              "      <td>7.83</td>\n",
              "      <td>893100</td>\n",
              "    </tr>\n",
              "    <tr>\n",
              "      <th>1</th>\n",
              "      <td>5114</td>\n",
              "      <td>Fullmetal Alchemist: Brotherhood</td>\n",
              "      <td>Action, Adventure, Drama, Fantasy, Magic, Mili...</td>\n",
              "      <td>TV</td>\n",
              "      <td>64</td>\n",
              "      <td>9.26</td>\n",
              "      <td>793665</td>\n",
              "    </tr>\n",
              "    <tr>\n",
              "      <th>159</th>\n",
              "      <td>6547</td>\n",
              "      <td>Angel Beats!</td>\n",
              "      <td>Action, Comedy, Drama, School, Supernatural</td>\n",
              "      <td>TV</td>\n",
              "      <td>13</td>\n",
              "      <td>8.39</td>\n",
              "      <td>717796</td>\n",
              "    </tr>\n",
              "    <tr>\n",
              "      <th>19</th>\n",
              "      <td>1575</td>\n",
              "      <td>Code Geass: Hangyaku no Lelouch</td>\n",
              "      <td>Action, Mecha, Military, School, Sci-Fi, Super...</td>\n",
              "      <td>TV</td>\n",
              "      <td>25</td>\n",
              "      <td>8.83</td>\n",
              "      <td>715151</td>\n",
              "    </tr>\n",
              "    <tr>\n",
              "      <th>841</th>\n",
              "      <td>20</td>\n",
              "      <td>Naruto</td>\n",
              "      <td>Action, Comedy, Martial Arts, Shounen, Super P...</td>\n",
              "      <td>TV</td>\n",
              "      <td>220</td>\n",
              "      <td>7.81</td>\n",
              "      <td>683297</td>\n",
              "    </tr>\n",
              "    <tr>\n",
              "      <th>3</th>\n",
              "      <td>9253</td>\n",
              "      <td>Steins;Gate</td>\n",
              "      <td>Sci-Fi, Thriller</td>\n",
              "      <td>TV</td>\n",
              "      <td>24</td>\n",
              "      <td>9.17</td>\n",
              "      <td>673572</td>\n",
              "    </tr>\n",
              "    <tr>\n",
              "      <th>445</th>\n",
              "      <td>10620</td>\n",
              "      <td>Mirai Nikki (TV)</td>\n",
              "      <td>Action, Mystery, Psychological, Shounen, Super...</td>\n",
              "      <td>TV</td>\n",
              "      <td>26</td>\n",
              "      <td>8.07</td>\n",
              "      <td>657190</td>\n",
              "    </tr>\n",
              "    <tr>\n",
              "      <th>131</th>\n",
              "      <td>4224</td>\n",
              "      <td>Toradora!</td>\n",
              "      <td>Comedy, Romance, School, Slice of Life</td>\n",
              "      <td>TV</td>\n",
              "      <td>25</td>\n",
              "      <td>8.45</td>\n",
              "      <td>633817</td>\n",
              "    </tr>\n",
              "  </tbody>\n",
              "</table>\n",
              "</div>\n",
              "    <div class=\"colab-df-buttons\">\n",
              "\n",
              "  <div class=\"colab-df-container\">\n",
              "    <button class=\"colab-df-convert\" onclick=\"convertToInteractive('df-5a301486-982c-4583-b0b1-c7f54e3e2254')\"\n",
              "            title=\"Convert this dataframe to an interactive table.\"\n",
              "            style=\"display:none;\">\n",
              "\n",
              "  <svg xmlns=\"http://www.w3.org/2000/svg\" height=\"24px\" viewBox=\"0 -960 960 960\">\n",
              "    <path d=\"M120-120v-720h720v720H120Zm60-500h600v-160H180v160Zm220 220h160v-160H400v160Zm0 220h160v-160H400v160ZM180-400h160v-160H180v160Zm440 0h160v-160H620v160ZM180-180h160v-160H180v160Zm440 0h160v-160H620v160Z\"/>\n",
              "  </svg>\n",
              "    </button>\n",
              "\n",
              "  <style>\n",
              "    .colab-df-container {\n",
              "      display:flex;\n",
              "      gap: 12px;\n",
              "    }\n",
              "\n",
              "    .colab-df-convert {\n",
              "      background-color: #E8F0FE;\n",
              "      border: none;\n",
              "      border-radius: 50%;\n",
              "      cursor: pointer;\n",
              "      display: none;\n",
              "      fill: #1967D2;\n",
              "      height: 32px;\n",
              "      padding: 0 0 0 0;\n",
              "      width: 32px;\n",
              "    }\n",
              "\n",
              "    .colab-df-convert:hover {\n",
              "      background-color: #E2EBFA;\n",
              "      box-shadow: 0px 1px 2px rgba(60, 64, 67, 0.3), 0px 1px 3px 1px rgba(60, 64, 67, 0.15);\n",
              "      fill: #174EA6;\n",
              "    }\n",
              "\n",
              "    .colab-df-buttons div {\n",
              "      margin-bottom: 4px;\n",
              "    }\n",
              "\n",
              "    [theme=dark] .colab-df-convert {\n",
              "      background-color: #3B4455;\n",
              "      fill: #D2E3FC;\n",
              "    }\n",
              "\n",
              "    [theme=dark] .colab-df-convert:hover {\n",
              "      background-color: #434B5C;\n",
              "      box-shadow: 0px 1px 3px 1px rgba(0, 0, 0, 0.15);\n",
              "      filter: drop-shadow(0px 1px 2px rgba(0, 0, 0, 0.3));\n",
              "      fill: #FFFFFF;\n",
              "    }\n",
              "  </style>\n",
              "\n",
              "    <script>\n",
              "      const buttonEl =\n",
              "        document.querySelector('#df-5a301486-982c-4583-b0b1-c7f54e3e2254 button.colab-df-convert');\n",
              "      buttonEl.style.display =\n",
              "        google.colab.kernel.accessAllowed ? 'block' : 'none';\n",
              "\n",
              "      async function convertToInteractive(key) {\n",
              "        const element = document.querySelector('#df-5a301486-982c-4583-b0b1-c7f54e3e2254');\n",
              "        const dataTable =\n",
              "          await google.colab.kernel.invokeFunction('convertToInteractive',\n",
              "                                                    [key], {});\n",
              "        if (!dataTable) return;\n",
              "\n",
              "        const docLinkHtml = 'Like what you see? Visit the ' +\n",
              "          '<a target=\"_blank\" href=https://colab.research.google.com/notebooks/data_table.ipynb>data table notebook</a>'\n",
              "          + ' to learn more about interactive tables.';\n",
              "        element.innerHTML = '';\n",
              "        dataTable['output_type'] = 'display_data';\n",
              "        await google.colab.output.renderOutput(dataTable, element);\n",
              "        const docLink = document.createElement('div');\n",
              "        docLink.innerHTML = docLinkHtml;\n",
              "        element.appendChild(docLink);\n",
              "      }\n",
              "    </script>\n",
              "  </div>\n",
              "\n",
              "\n",
              "<div id=\"df-a3d93991-751a-4681-ba43-1c52d792608a\">\n",
              "  <button class=\"colab-df-quickchart\" onclick=\"quickchart('df-a3d93991-751a-4681-ba43-1c52d792608a')\"\n",
              "            title=\"Suggest charts\"\n",
              "            style=\"display:none;\">\n",
              "\n",
              "<svg xmlns=\"http://www.w3.org/2000/svg\" height=\"24px\"viewBox=\"0 0 24 24\"\n",
              "     width=\"24px\">\n",
              "    <g>\n",
              "        <path d=\"M19 3H5c-1.1 0-2 .9-2 2v14c0 1.1.9 2 2 2h14c1.1 0 2-.9 2-2V5c0-1.1-.9-2-2-2zM9 17H7v-7h2v7zm4 0h-2V7h2v10zm4 0h-2v-4h2v4z\"/>\n",
              "    </g>\n",
              "</svg>\n",
              "  </button>\n",
              "\n",
              "<style>\n",
              "  .colab-df-quickchart {\n",
              "      --bg-color: #E8F0FE;\n",
              "      --fill-color: #1967D2;\n",
              "      --hover-bg-color: #E2EBFA;\n",
              "      --hover-fill-color: #174EA6;\n",
              "      --disabled-fill-color: #AAA;\n",
              "      --disabled-bg-color: #DDD;\n",
              "  }\n",
              "\n",
              "  [theme=dark] .colab-df-quickchart {\n",
              "      --bg-color: #3B4455;\n",
              "      --fill-color: #D2E3FC;\n",
              "      --hover-bg-color: #434B5C;\n",
              "      --hover-fill-color: #FFFFFF;\n",
              "      --disabled-bg-color: #3B4455;\n",
              "      --disabled-fill-color: #666;\n",
              "  }\n",
              "\n",
              "  .colab-df-quickchart {\n",
              "    background-color: var(--bg-color);\n",
              "    border: none;\n",
              "    border-radius: 50%;\n",
              "    cursor: pointer;\n",
              "    display: none;\n",
              "    fill: var(--fill-color);\n",
              "    height: 32px;\n",
              "    padding: 0;\n",
              "    width: 32px;\n",
              "  }\n",
              "\n",
              "  .colab-df-quickchart:hover {\n",
              "    background-color: var(--hover-bg-color);\n",
              "    box-shadow: 0 1px 2px rgba(60, 64, 67, 0.3), 0 1px 3px 1px rgba(60, 64, 67, 0.15);\n",
              "    fill: var(--button-hover-fill-color);\n",
              "  }\n",
              "\n",
              "  .colab-df-quickchart-complete:disabled,\n",
              "  .colab-df-quickchart-complete:disabled:hover {\n",
              "    background-color: var(--disabled-bg-color);\n",
              "    fill: var(--disabled-fill-color);\n",
              "    box-shadow: none;\n",
              "  }\n",
              "\n",
              "  .colab-df-spinner {\n",
              "    border: 2px solid var(--fill-color);\n",
              "    border-color: transparent;\n",
              "    border-bottom-color: var(--fill-color);\n",
              "    animation:\n",
              "      spin 1s steps(1) infinite;\n",
              "  }\n",
              "\n",
              "  @keyframes spin {\n",
              "    0% {\n",
              "      border-color: transparent;\n",
              "      border-bottom-color: var(--fill-color);\n",
              "      border-left-color: var(--fill-color);\n",
              "    }\n",
              "    20% {\n",
              "      border-color: transparent;\n",
              "      border-left-color: var(--fill-color);\n",
              "      border-top-color: var(--fill-color);\n",
              "    }\n",
              "    30% {\n",
              "      border-color: transparent;\n",
              "      border-left-color: var(--fill-color);\n",
              "      border-top-color: var(--fill-color);\n",
              "      border-right-color: var(--fill-color);\n",
              "    }\n",
              "    40% {\n",
              "      border-color: transparent;\n",
              "      border-right-color: var(--fill-color);\n",
              "      border-top-color: var(--fill-color);\n",
              "    }\n",
              "    60% {\n",
              "      border-color: transparent;\n",
              "      border-right-color: var(--fill-color);\n",
              "    }\n",
              "    80% {\n",
              "      border-color: transparent;\n",
              "      border-right-color: var(--fill-color);\n",
              "      border-bottom-color: var(--fill-color);\n",
              "    }\n",
              "    90% {\n",
              "      border-color: transparent;\n",
              "      border-bottom-color: var(--fill-color);\n",
              "    }\n",
              "  }\n",
              "</style>\n",
              "\n",
              "  <script>\n",
              "    async function quickchart(key) {\n",
              "      const quickchartButtonEl =\n",
              "        document.querySelector('#' + key + ' button');\n",
              "      quickchartButtonEl.disabled = true;  // To prevent multiple clicks.\n",
              "      quickchartButtonEl.classList.add('colab-df-spinner');\n",
              "      try {\n",
              "        const charts = await google.colab.kernel.invokeFunction(\n",
              "            'suggestCharts', [key], {});\n",
              "      } catch (error) {\n",
              "        console.error('Error during call to suggestCharts:', error);\n",
              "      }\n",
              "      quickchartButtonEl.classList.remove('colab-df-spinner');\n",
              "      quickchartButtonEl.classList.add('colab-df-quickchart-complete');\n",
              "    }\n",
              "    (() => {\n",
              "      let quickchartButtonEl =\n",
              "        document.querySelector('#df-a3d93991-751a-4681-ba43-1c52d792608a button');\n",
              "      quickchartButtonEl.style.display =\n",
              "        google.colab.kernel.accessAllowed ? 'block' : 'none';\n",
              "    })();\n",
              "  </script>\n",
              "</div>\n",
              "\n",
              "    </div>\n",
              "  </div>\n"
            ],
            "application/vnd.google.colaboratory.intrinsic+json": {
              "type": "dataframe",
              "summary": "{\n  \"name\": \"anime_df\",\n  \"rows\": 10,\n  \"fields\": [\n    {\n      \"column\": \"anime_id\",\n      \"properties\": {\n        \"dtype\": \"number\",\n        \"std\": 5267,\n        \"min\": 20,\n        \"max\": 16498,\n        \"num_unique_values\": 10,\n        \"samples\": [\n          10620,\n          16498,\n          1575\n        ],\n        \"semantic_type\": \"\",\n        \"description\": \"\"\n      }\n    },\n    {\n      \"column\": \"name\",\n      \"properties\": {\n        \"dtype\": \"string\",\n        \"num_unique_values\": 10,\n        \"samples\": [\n          \"Mirai Nikki (TV)\",\n          \"Shingeki no Kyojin\",\n          \"Code Geass: Hangyaku no Lelouch\"\n        ],\n        \"semantic_type\": \"\",\n        \"description\": \"\"\n      }\n    },\n    {\n      \"column\": \"genre\",\n      \"properties\": {\n        \"dtype\": \"string\",\n        \"num_unique_values\": 10,\n        \"samples\": [\n          \"Action, Mystery, Psychological, Shounen, Supernatural, Thriller\",\n          \"Action, Drama, Fantasy, Shounen, Super Power\",\n          \"Action, Mecha, Military, School, Sci-Fi, Super Power\"\n        ],\n        \"semantic_type\": \"\",\n        \"description\": \"\"\n      }\n    },\n    {\n      \"column\": \"type\",\n      \"properties\": {\n        \"dtype\": \"category\",\n        \"num_unique_values\": 1,\n        \"samples\": [\n          \"TV\"\n        ],\n        \"semantic_type\": \"\",\n        \"description\": \"\"\n      }\n    },\n    {\n      \"column\": \"episodes\",\n      \"properties\": {\n        \"dtype\": \"string\",\n        \"num_unique_values\": 7,\n        \"samples\": [\n          \"37\"\n        ],\n        \"semantic_type\": \"\",\n        \"description\": \"\"\n      }\n    },\n    {\n      \"column\": \"rating\",\n      \"properties\": {\n        \"dtype\": \"number\",\n        \"std\": 0.5061005609340675,\n        \"min\": 7.81,\n        \"max\": 9.26,\n        \"num_unique_values\": 10,\n        \"samples\": [\n          8.07\n        ],\n        \"semantic_type\": \"\",\n        \"description\": \"\"\n      }\n    },\n    {\n      \"column\": \"members\",\n      \"properties\": {\n        \"dtype\": \"number\",\n        \"std\": 126892,\n        \"min\": 633817,\n        \"max\": 1013917,\n        \"num_unique_values\": 10,\n        \"samples\": [\n          657190\n        ],\n        \"semantic_type\": \"\",\n        \"description\": \"\"\n      }\n    }\n  ]\n}"
            }
          },
          "metadata": {},
          "execution_count": 128
        }
      ]
    },
    {
      "cell_type": "markdown",
      "source": [
        "Menampilkan daftar anime dengan jumlah anggota community terbanyak. Misalnya, anime Death Note memiliki jumlah anggota community terbanyak, yaitu sebesar 1013917."
      ],
      "metadata": {
        "id": "O6Puj8VLrM9L"
      }
    },
    {
      "cell_type": "code",
      "source": [
        "# Top 10 Anime Community Plot\n",
        "plt.figure(figsize = (20,15))\n",
        "top10_anime = anime_df[['name', 'members']].sort_values(by = 'members',ascending = False).head(10)\n",
        "\n",
        "colors = ['#87255B', '#56CBF9', '#F5D491', '#BEB7A4', '#B4E1FF', '#F06C9B', '#D3C4D1', '#81F4E1', '#C2AFF0', '#C57B57']\n",
        "\n",
        "\n",
        "labels = top10_anime[['name']].values.flatten()\n",
        "values = top10_anime[['members']].values.flatten()\n",
        "\n",
        "plt.barh(labels, values, color = colors, edgecolor='black')\n",
        "plt.grid(color='#95a5a6', linestyle='--', linewidth=2, axis='x', alpha=0.7)\n",
        "plt.xticks(fontsize = 15)\n",
        "plt.yticks(fontsize = 15)\n",
        "plt.title(\"Top 10 Anime Community\", fontdict = {'fontsize' : 20})\n",
        "plt.show()\n",
        "\n",
        "plt.show()\n",
        "\n"
      ],
      "metadata": {
        "colab": {
          "base_uri": "https://localhost:8080/",
          "height": 569
        },
        "id": "-ylRMxncrgkt",
        "outputId": "95abd2dd-a11b-4144-9c75-f3a24abfa7c8"
      },
      "execution_count": null,
      "outputs": [
        {
          "output_type": "display_data",
          "data": {
            "text/plain": [
              "<Figure size 2000x1500 with 1 Axes>"
            ],
            "image/png": "[encoded data removed]"
          },
          "metadata": {}
        }
      ]
    },
    {
      "cell_type": "markdown",
      "source": [
        "## Missing value\n",
        "\n",
        "\n",
        "Missing Values adalah data yang hilang atau tidak tercatat dalam dataset. Hal ini bisa terjadi karena berbagai alasan, seperti kesalahan entri data, kerusakan data, atau tidak tersedianya informasi saat pengumpulan data. Missing values dapat mempengaruhi kualitas model machine learning dan hasil analisis statistik. Oleh karena itu, penting untuk mengidentifikasi, menganalisis, dan mengatasi missing values dengan metode seperti imputasi, di mana nilai yang hilang diganti dengan estimasi, atau dengan menghapus baris atau kolom yang terdampak.\n",
        "\n",
        "**anime_df**"
      ],
      "metadata": {
        "id": "SCWUa3vbmLGi"
      }
    },
    {
      "cell_type": "code",
      "source": [
        "anime_df.isnull().sum()"
      ],
      "metadata": {
        "colab": {
          "base_uri": "https://localhost:8080/",
          "height": 324
        },
        "id": "DrsD2jvgmdxV",
        "outputId": "173efaea-85f4-41f5-e74b-a29ab1324ab1"
      },
      "execution_count": null,
      "outputs": [
        {
          "output_type": "execute_result",
          "data": {
            "text/plain": [
              "anime_id      0\n",
              "name          0\n",
              "genre        62\n",
              "type         25\n",
              "episodes      0\n",
              "rating      230\n",
              "members       0\n",
              "dtype: int64"
            ],
            "text/html": [
              "<div>\n",
              "<style scoped>\n",
              "    .dataframe tbody tr th:only-of-type {\n",
              "        vertical-align: middle;\n",
              "    }\n",
              "\n",
              "    .dataframe tbody tr th {\n",
              "        vertical-align: top;\n",
              "    }\n",
              "\n",
              "    .dataframe thead th {\n",
              "        text-align: right;\n",
              "    }\n",
              "</style>\n",
              "<table border=\"1\" class=\"dataframe\">\n",
              "  <thead>\n",
              "    <tr style=\"text-align: right;\">\n",
              "      <th></th>\n",
              "      <th>0</th>\n",
              "    </tr>\n",
              "  </thead>\n",
              "  <tbody>\n",
              "    <tr>\n",
              "      <th>anime_id</th>\n",
              "      <td>0</td>\n",
              "    </tr>\n",
              "    <tr>\n",
              "      <th>name</th>\n",
              "      <td>0</td>\n",
              "    </tr>\n",
              "    <tr>\n",
              "      <th>genre</th>\n",
              "      <td>62</td>\n",
              "    </tr>\n",
              "    <tr>\n",
              "      <th>type</th>\n",
              "      <td>25</td>\n",
              "    </tr>\n",
              "    <tr>\n",
              "      <th>episodes</th>\n",
              "      <td>0</td>\n",
              "    </tr>\n",
              "    <tr>\n",
              "      <th>rating</th>\n",
              "      <td>230</td>\n",
              "    </tr>\n",
              "    <tr>\n",
              "      <th>members</th>\n",
              "      <td>0</td>\n",
              "    </tr>\n",
              "  </tbody>\n",
              "</table>\n",
              "</div><br><label><b>dtype:</b> int64</label>"
            ]
          },
          "metadata": {},
          "execution_count": 130
        }
      ]
    },
    {
      "cell_type": "markdown",
      "source": [
        "Berdasarkan hasil diatas, terdapat  3 missing values yaitu `genre ` `type` `rating`"
      ],
      "metadata": {
        "id": "Uq7z_Z7-mhMc"
      }
    },
    {
      "cell_type": "markdown",
      "source": [
        "**rating_df**"
      ],
      "metadata": {
        "id": "ealYpJijnFba"
      }
    },
    {
      "cell_type": "code",
      "source": [
        "rating_df.isnull().sum()"
      ],
      "metadata": {
        "colab": {
          "base_uri": "https://localhost:8080/",
          "height": 198
        },
        "id": "6M9bAR-XnJhb",
        "outputId": "3d7333e7-8ffb-4d78-b9e3-1abd941e151e"
      },
      "execution_count": null,
      "outputs": [
        {
          "output_type": "execute_result",
          "data": {
            "text/plain": [
              "user_id     0\n",
              "anime_id    0\n",
              "rating      0\n",
              "dtype: int64"
            ],
            "text/html": [
              "<div>\n",
              "<style scoped>\n",
              "    .dataframe tbody tr th:only-of-type {\n",
              "        vertical-align: middle;\n",
              "    }\n",
              "\n",
              "    .dataframe tbody tr th {\n",
              "        vertical-align: top;\n",
              "    }\n",
              "\n",
              "    .dataframe thead th {\n",
              "        text-align: right;\n",
              "    }\n",
              "</style>\n",
              "<table border=\"1\" class=\"dataframe\">\n",
              "  <thead>\n",
              "    <tr style=\"text-align: right;\">\n",
              "      <th></th>\n",
              "      <th>0</th>\n",
              "    </tr>\n",
              "  </thead>\n",
              "  <tbody>\n",
              "    <tr>\n",
              "      <th>user_id</th>\n",
              "      <td>0</td>\n",
              "    </tr>\n",
              "    <tr>\n",
              "      <th>anime_id</th>\n",
              "      <td>0</td>\n",
              "    </tr>\n",
              "    <tr>\n",
              "      <th>rating</th>\n",
              "      <td>0</td>\n",
              "    </tr>\n",
              "  </tbody>\n",
              "</table>\n",
              "</div><br><label><b>dtype:</b> int64</label>"
            ]
          },
          "metadata": {},
          "execution_count": 131
        }
      ]
    },
    {
      "cell_type": "markdown",
      "source": [
        "Berdasarkan data diatas tidak ditemukan missing values"
      ],
      "metadata": {
        "id": "02c1kcVtnenO"
      }
    },
    {
      "cell_type": "markdown",
      "source": [
        "## Duplikat data\n",
        "\n",
        "\n",
        "\n",
        "Data duplikat adalah baris data yang sama persis untuk setiap variabel yang ada. Dataset yang digunakan perlu diperiksa juga apakah dataset memiliki data yang sama atau data duplikat. Jika ada, maka data tersebut harus ditangani dengan menghapus data duplikat tersebut.\n",
        "\n",
        "Alasan: Data duplikat perlu didektesi dan dihapus karena jika dibiarkan pada dataset dapat membuat model Anda memiliki bias, sehingga menyebabkan overfitting. Dengan kata lain, model memiliki performa akurasi yang baik pada data pelatihan, tetapi buruk pada data baru. Menghapus data duplikat dapat membantu memastikan bahwa model Anda dapat menemukan pola yang ada lebih baik lagi.\n"
      ],
      "metadata": {
        "id": "llvyvq6gnmEG"
      }
    },
    {
      "cell_type": "code",
      "source": [
        "# Cek baris duplikat dalam dataset\n",
        "duplicates_anime = anime_df.duplicated()\n",
        "\n",
        "# Hitung jumlah baris duplikat\n",
        "duplicate_anime = duplicates_anime.sum()\n",
        "\n",
        "# Cetak jumlah baris duplikat\n",
        "print(f\"Number of duplicate rows: {duplicate_anime}\")"
      ],
      "metadata": {
        "colab": {
          "base_uri": "https://localhost:8080/"
        },
        "id": "C1M4r2Dwn0nE",
        "outputId": "ad834454-2034-46ec-8d34-115f1577818c"
      },
      "execution_count": null,
      "outputs": [
        {
          "output_type": "stream",
          "name": "stdout",
          "text": [
            "Number of duplicate rows: 0\n"
          ]
        }
      ]
    },
    {
      "cell_type": "markdown",
      "source": [
        "Berdasarkan hasil tersebut, tidak ditemukan adanya data duplikat, maka tidak ada juga proses penghapusannya."
      ],
      "metadata": {
        "id": "Qujmw_6foCrr"
      }
    },
    {
      "cell_type": "markdown",
      "source": [
        "**rating_df**\n"
      ],
      "metadata": {
        "id": "4efQ4vwAoMPi"
      }
    },
    {
      "cell_type": "code",
      "source": [
        "# Cek baris duplikat dalam dataset\n",
        "duplicates_rating =rating_df.duplicated()\n",
        "\n",
        "# Hitung jumlah baris duplikat\n",
        "duplicate_rating = duplicates_rating.sum()\n",
        "\n",
        "# Cetak jumlah baris duplikat\n",
        "print(f\"Number of duplicate rows: {duplicate_rating}\")"
      ],
      "metadata": {
        "colab": {
          "base_uri": "https://localhost:8080/"
        },
        "id": "azsVUKlloP4Y",
        "outputId": "233e8494-d52e-4099-96f7-ef18e41fca5f"
      },
      "execution_count": null,
      "outputs": [
        {
          "output_type": "stream",
          "name": "stdout",
          "text": [
            "Number of duplicate rows: 0\n"
          ]
        }
      ]
    },
    {
      "cell_type": "markdown",
      "source": [
        "Berdasarkan hasil tersebut, ditemukan 1 data duplicate"
      ],
      "metadata": {
        "id": "GXYAHv5qofby"
      }
    },
    {
      "cell_type": "markdown",
      "source": [
        "## Outliers\n",
        "\n",
        "Outliers adalah titik data yang secara signifikan berbeda dari sebagian besar data dalam kumpulan data. Outliers dapat muncul karena variasi dalam pengukuran atau mungkin menunjukkan kesalahan eksperimental; dalam beberapa kasus, outliers bisa juga menunjukkan variabilitas yang sebenarnya dalam data. Penting untuk menganalisis outliers karena mereka dapat memiliki pengaruh besar pada hasil analisis statistik.\n",
        "\n",
        "Outliers adalah titik data yang secara signifikan berbeda dari sebagian besar data dalam kumpulan data. Outliers dapat muncul karena variasi dalam pengukuran atau mungkin menunjukkan kesalahan eksperimental; dalam beberapa kasus, outliers bisa juga menunjukkan variabilitas yang sebenarnya dalam data. Penting untuk menganalisis outliers karena mereka dapat memiliki pengaruh besar pada hasil analisis statistik.\n",
        "\n",
        "Proses pembersihan outliers menggunakan metode IQR (Interquartile Range) melibatkan beberapa langkah:\n",
        "\n",
        "  * Menghitung Kuartil: Tentukan kuartil pertama (Q1) dan kuartil ketiga (Q3) dari data. Kuartil ini membagi data menjadi empat bagian yang sama.\n",
        "\n",
        "  * Menghitung IQR: Hitung IQR dengan mengurangi Q1 dari Q3:\n",
        "    * IQR=Q3-Q1\n",
        "\n",
        "  * Menentukan Batas Outliers:\n",
        "\n",
        "    * Batas bawah untuk outliers:\n",
        "      * Q1-1,5*IQR\n",
        "    * Batas atas untuk outliers:\n",
        "      * Q3+1,5*IQR\n",
        "\n",
        "  * Identifikasi Outliers: Data yang berada di luar batas bawah dan atas ini dianggap sebagai outliers.\n",
        "\n",
        "Pembersihan Outliers yang teridentifikasi kemudian dapat dibersihkan dari dataset, baik dengan menghapusnya atau melakukan transformasi tertentu.\n",
        "\n",
        "Alasan:Outliers perlu dideteksi dan dihapus karena jika dibiarkan dapat merusak hasil analisis statistik pada kumpulan data sehingga menghasilkan performa model yang kurang baik. Selain itu, Mendeteksi dan menghapus outlier dapat membantu meningkatkan performa model Machine Learning menjadi lebih baik."
      ],
      "metadata": {
        "id": "dPlHqWEfpLqF"
      }
    },
    {
      "cell_type": "code",
      "source": [
        "rating_df['rating'].describe()"
      ],
      "metadata": {
        "colab": {
          "base_uri": "https://localhost:8080/",
          "height": 355
        },
        "id": "1vq0o5MUpUrM",
        "outputId": "32725673-0aac-4bbc-f8c7-b5524cb8dca3"
      },
      "execution_count": null,
      "outputs": [
        {
          "output_type": "execute_result",
          "data": {
            "text/plain": [
              "count    93045.000000\n",
              "mean         6.114826\n",
              "std          3.778899\n",
              "min         -1.000000\n",
              "25%          6.000000\n",
              "50%          8.000000\n",
              "75%          9.000000\n",
              "max         10.000000\n",
              "Name: rating, dtype: float64"
            ],
            "text/html": [
              "<div>\n",
              "<style scoped>\n",
              "    .dataframe tbody tr th:only-of-type {\n",
              "        vertical-align: middle;\n",
              "    }\n",
              "\n",
              "    .dataframe tbody tr th {\n",
              "        vertical-align: top;\n",
              "    }\n",
              "\n",
              "    .dataframe thead th {\n",
              "        text-align: right;\n",
              "    }\n",
              "</style>\n",
              "<table border=\"1\" class=\"dataframe\">\n",
              "  <thead>\n",
              "    <tr style=\"text-align: right;\">\n",
              "      <th></th>\n",
              "      <th>rating</th>\n",
              "    </tr>\n",
              "  </thead>\n",
              "  <tbody>\n",
              "    <tr>\n",
              "      <th>count</th>\n",
              "      <td>93045.000000</td>\n",
              "    </tr>\n",
              "    <tr>\n",
              "      <th>mean</th>\n",
              "      <td>6.114826</td>\n",
              "    </tr>\n",
              "    <tr>\n",
              "      <th>std</th>\n",
              "      <td>3.778899</td>\n",
              "    </tr>\n",
              "    <tr>\n",
              "      <th>min</th>\n",
              "      <td>-1.000000</td>\n",
              "    </tr>\n",
              "    <tr>\n",
              "      <th>25%</th>\n",
              "      <td>6.000000</td>\n",
              "    </tr>\n",
              "    <tr>\n",
              "      <th>50%</th>\n",
              "      <td>8.000000</td>\n",
              "    </tr>\n",
              "    <tr>\n",
              "      <th>75%</th>\n",
              "      <td>9.000000</td>\n",
              "    </tr>\n",
              "    <tr>\n",
              "      <th>max</th>\n",
              "      <td>10.000000</td>\n",
              "    </tr>\n",
              "  </tbody>\n",
              "</table>\n",
              "</div><br><label><b>dtype:</b> float64</label>"
            ]
          },
          "metadata": {},
          "execution_count": 134
        }
      ]
    },
    {
      "cell_type": "markdown",
      "source": [
        "\n",
        "\n",
        "Sebelum memulai dengan proses interquartile. Perlu dilihat terlebih dahulu secara sekilas secara statistika deskriptif.\n",
        "\n",
        "Hanya kolom review yang dicek karena hanya kolom tersebut yang tergolong sebagai kolom numeric dan perlu dilakukan pemeriksaan outliers-nya.\n",
        "\n",
        "Berdasarkan output diatas, terlihbat bahwa nilai terkecil dari review adalah -1 dan terbesarnya adalah 10.\n"
      ],
      "metadata": {
        "id": "gu7cG7ivqOLl"
      }
    },
    {
      "cell_type": "markdown",
      "source": [
        "**Dataset rating anime memiliki rating terendah yang diberikan user pada suatu anime adalah -1 dan rating tertinggi adalah 10. Rating -1 menandakan bahwa user menonton anime, namun tidak memberikan rating.**"
      ],
      "metadata": {
        "id": "loglsTYfqjvt"
      }
    },
    {
      "cell_type": "markdown",
      "metadata": {
        "id": "IEHud32xqlA_"
      },
      "source": [
        "# Data Preparation\n"
      ]
    },
    {
      "cell_type": "markdown",
      "source": [
        "## Data Cleaning"
      ],
      "metadata": {
        "id": "qNddR_5lsY8M"
      }
    },
    {
      "cell_type": "markdown",
      "metadata": {
        "id": "gRMOEABLrDze"
      },
      "source": [
        "### Removal Duplicates\n",
        "\n",
        "\n",
        "Data duplikat adalah baris data yang sama persis untuk setiap variabel yang ada. Dataset yang digunakan perlu diperiksa juga apakah dataset memiliki data yang sama atau data duplikat. Jika ada, maka data tersebut harus ditangani dengan menghapus data duplikat tersebut.\n",
        "\n",
        "Alasan: Data duplikat perlu didektesi dan dihapus karena jika dibiarkan pada dataset dapat membuat model Anda memiliki bias, sehingga menyebabkan overfitting. Dengan kata lain, model memiliki performa akurasi yang baik pada data pelatihan, tetapi buruk pada data baru. Menghapus data duplikat dapat membantu memastikan bahwa model Anda dapat menemukan pola yang ada lebih baik lagi.\n",
        "\n",
        "**Setelah ditemukan 1 duplikat data maka akan kita hapus dalam rating_df**\n"
      ]
    },
    {
      "cell_type": "code",
      "source": [
        "# hapus duplikat data\n",
        "anime_df=anime_df.drop_duplicates()"
      ],
      "metadata": {
        "id": "7yLlzJEVHWQ9"
      },
      "execution_count": null,
      "outputs": []
    },
    {
      "cell_type": "markdown",
      "metadata": {
        "id": "nYHbHZ3yrrhg"
      },
      "source": [
        "berhasil dihapus duplikat data\n"
      ]
    },
    {
      "cell_type": "markdown",
      "metadata": {
        "id": "lrSJB5Ldrw-q"
      },
      "source": [
        "### Handle Missing Value\n",
        "\n",
        "\n",
        "Missing Value terjadi ketika variabel atau barus tertentu kekurangan titik data, sehingga menghasilkan informasi yang tidak lengkap. Nilai yang hilang dapat ditangani dengan berbagai cara seperti imputasi (mengisi nilai yang hilang dengan mean, median, modus, dll), atau penghapusan (menghilangkan baris atau kolom yang nilai hilang)\n",
        "\n",
        "Alasan: Missing Value perlu ditangani karena jika dibiarkan dapat berpengaruh ke rendahnya akurasi model yang akan dibuat. Maka dari itu, penting untuk mengatasi missing value secara efisien untuk mendapatkan model Machine Learning yang baik juga.\n",
        "\n",
        "**Berdasarkan hasil diatas, terdapat  3 missing values yaitu `genre ` `type` `rating`**\n"
      ]
    },
    {
      "cell_type": "markdown",
      "metadata": {
        "id": "PRT-QyTPsbLv"
      },
      "source": [
        "Berdasarkan output diatas, terdapat 2  missing value runtime , release_year"
      ]
    },
    {
      "cell_type": "code",
      "source": [
        "anime_df.dropna(inplace =True)\n"
      ],
      "metadata": {
        "id": "k9r9z0S2Tt9x"
      },
      "execution_count": null,
      "outputs": []
    },
    {
      "cell_type": "code",
      "source": [
        "anime_df.shape"
      ],
      "metadata": {
        "colab": {
          "base_uri": "https://localhost:8080/"
        },
        "id": "DAG1DonVxvF6",
        "outputId": "45ddbee6-427d-4ed9-e9a7-1bf72734453a"
      },
      "execution_count": null,
      "outputs": [
        {
          "output_type": "execute_result",
          "data": {
            "text/plain": [
              "(12017, 7)"
            ]
          },
          "metadata": {},
          "execution_count": 137
        }
      ]
    },
    {
      "cell_type": "markdown",
      "source": [
        "Missing value Berhasil ditangani"
      ],
      "metadata": {
        "id": "iTFUmvAJUQYr"
      }
    },
    {
      "cell_type": "markdown",
      "metadata": {
        "id": "lqvfV3Xmu1T5"
      },
      "source": [
        "### Outliers Detection and Removal\n",
        "Outliers adalah titik data yang secara signifikan berbeda dari sebagian besar data dalam kumpulan data. Outliers dapat muncul karena variasi dalam pengukuran atau mungkin menunjukkan kesalahan eksperimental; dalam beberapa kasus, outliers bisa juga menunjukkan variabilitas yang sebenarnya dalam data. Penting untuk menganalisis outliers karena mereka dapat memiliki pengaruh besar pada hasil analisis statistik.\n",
        "\n",
        "Outliers adalah titik data yang secara signifikan berbeda dari sebagian besar data dalam kumpulan data. Outliers dapat muncul karena variasi dalam pengukuran atau mungkin menunjukkan kesalahan eksperimental; dalam beberapa kasus, outliers bisa juga menunjukkan variabilitas yang sebenarnya dalam data. Penting untuk menganalisis outliers karena mereka dapat memiliki pengaruh besar pada hasil analisis statistik.\n",
        "\n",
        "Proses pembersihan outliers menggunakan metode IQR (Interquartile Range) melibatkan beberapa langkah:\n",
        "\n",
        "  * Menghitung Kuartil: Tentukan kuartil pertama (Q1) dan kuartil ketiga (Q3) dari data. Kuartil ini membagi data menjadi empat bagian yang sama.\n",
        "\n",
        "  * Menghitung IQR: Hitung IQR dengan mengurangi Q1 dari Q3:\n",
        "    * IQR=Q3-Q1\n",
        "\n",
        "  * Menentukan Batas Outliers:\n",
        "\n",
        "    * Batas bawah untuk outliers:\n",
        "      * Q1-1,5*IQR\n",
        "    * Batas atas untuk outliers:\n",
        "      * Q3+1,5*IQR\n",
        "\n",
        "  * Identifikasi Outliers: Data yang berada di luar batas bawah dan atas ini dianggap sebagai outliers.\n",
        "\n",
        "Pembersihan Outliers yang teridentifikasi kemudian dapat dibersihkan dari dataset, baik dengan menghapusnya atau melakukan transformasi tertentu.\n",
        "\n",
        "Alasan:Outliers perlu dideteksi dan dihapus karena jika dibiarkan dapat merusak hasil analisis statistik pada kumpulan data sehingga menghasilkan performa model yang kurang baik. Selain itu, Mendeteksi dan menghapus outlier dapat membantu meningkatkan performa model Machine Learning menjadi lebih baik.\n",
        "\n",
        "**Berdasarkan output data understanding, terlihat bahwa nilai terkecil dari review adalah -1 dan terbesarnya adalah 10. Rating -1 menandakan bahwa user menonton anime, namun tidak memberikan rating. **"
      ]
    },
    {
      "cell_type": "code",
      "execution_count": null,
      "metadata": {
        "id": "drA9UTPYIhBX"
      },
      "outputs": [],
      "source": [
        "rating_df = rating_df[~(rating_df.rating == -1)]\n",
        "\n"
      ]
    },
    {
      "cell_type": "code",
      "source": [
        "rating_df.describe().apply(lambda s: s.apply('{0:.2f}'.format))"
      ],
      "metadata": {
        "colab": {
          "base_uri": "https://localhost:8080/",
          "height": 320
        },
        "id": "0B0fwXDQvDuT",
        "outputId": "29fa0d55-5531-42c1-f43b-885704c83bf7"
      },
      "execution_count": null,
      "outputs": [
        {
          "output_type": "execute_result",
          "data": {
            "text/plain": [
              "        user_id  anime_id    rating\n",
              "count  74776.00  74776.00  74776.00\n",
              "mean     498.80  10640.70      7.85\n",
              "std      267.17   9016.21      1.54\n",
              "min        1.00      1.00      1.00\n",
              "25%      277.00   2236.00      7.00\n",
              "50%      508.50   9367.00      8.00\n",
              "75%      734.00  16512.00      9.00\n",
              "max      958.00  34240.00     10.00"
            ],
            "text/html": [
              "\n",
              "  <div id=\"df-28e77611-4302-4d04-86ef-09b51f272783\" class=\"colab-df-container\">\n",
              "    <div>\n",
              "<style scoped>\n",
              "    .dataframe tbody tr th:only-of-type {\n",
              "        vertical-align: middle;\n",
              "    }\n",
              "\n",
              "    .dataframe tbody tr th {\n",
              "        vertical-align: top;\n",
              "    }\n",
              "\n",
              "    .dataframe thead th {\n",
              "        text-align: right;\n",
              "    }\n",
              "</style>\n",
              "<table border=\"1\" class=\"dataframe\">\n",
              "  <thead>\n",
              "    <tr style=\"text-align: right;\">\n",
              "      <th></th>\n",
              "      <th>user_id</th>\n",
              "      <th>anime_id</th>\n",
              "      <th>rating</th>\n",
              "    </tr>\n",
              "  </thead>\n",
              "  <tbody>\n",
              "    <tr>\n",
              "      <th>count</th>\n",
              "      <td>74776.00</td>\n",
              "      <td>74776.00</td>\n",
              "      <td>74776.00</td>\n",
              "    </tr>\n",
              "    <tr>\n",
              "      <th>mean</th>\n",
              "      <td>498.80</td>\n",
              "      <td>10640.70</td>\n",
              "      <td>7.85</td>\n",
              "    </tr>\n",
              "    <tr>\n",
              "      <th>std</th>\n",
              "      <td>267.17</td>\n",
              "      <td>9016.21</td>\n",
              "      <td>1.54</td>\n",
              "    </tr>\n",
              "    <tr>\n",
              "      <th>min</th>\n",
              "      <td>1.00</td>\n",
              "      <td>1.00</td>\n",
              "      <td>1.00</td>\n",
              "    </tr>\n",
              "    <tr>\n",
              "      <th>25%</th>\n",
              "      <td>277.00</td>\n",
              "      <td>2236.00</td>\n",
              "      <td>7.00</td>\n",
              "    </tr>\n",
              "    <tr>\n",
              "      <th>50%</th>\n",
              "      <td>508.50</td>\n",
              "      <td>9367.00</td>\n",
              "      <td>8.00</td>\n",
              "    </tr>\n",
              "    <tr>\n",
              "      <th>75%</th>\n",
              "      <td>734.00</td>\n",
              "      <td>16512.00</td>\n",
              "      <td>9.00</td>\n",
              "    </tr>\n",
              "    <tr>\n",
              "      <th>max</th>\n",
              "      <td>958.00</td>\n",
              "      <td>34240.00</td>\n",
              "      <td>10.00</td>\n",
              "    </tr>\n",
              "  </tbody>\n",
              "</table>\n",
              "</div>\n",
              "    <div class=\"colab-df-buttons\">\n",
              "\n",
              "  <div class=\"colab-df-container\">\n",
              "    <button class=\"colab-df-convert\" onclick=\"convertToInteractive('df-28e77611-4302-4d04-86ef-09b51f272783')\"\n",
              "            title=\"Convert this dataframe to an interactive table.\"\n",
              "            style=\"display:none;\">\n",
              "\n",
              "  <svg xmlns=\"http://www.w3.org/2000/svg\" height=\"24px\" viewBox=\"0 -960 960 960\">\n",
              "    <path d=\"M120-120v-720h720v720H120Zm60-500h600v-160H180v160Zm220 220h160v-160H400v160Zm0 220h160v-160H400v160ZM180-400h160v-160H180v160Zm440 0h160v-160H620v160ZM180-180h160v-160H180v160Zm440 0h160v-160H620v160Z\"/>\n",
              "  </svg>\n",
              "    </button>\n",
              "\n",
              "  <style>\n",
              "    .colab-df-container {\n",
              "      display:flex;\n",
              "      gap: 12px;\n",
              "    }\n",
              "\n",
              "    .colab-df-convert {\n",
              "      background-color: #E8F0FE;\n",
              "      border: none;\n",
              "      border-radius: 50%;\n",
              "      cursor: pointer;\n",
              "      display: none;\n",
              "      fill: #1967D2;\n",
              "      height: 32px;\n",
              "      padding: 0 0 0 0;\n",
              "      width: 32px;\n",
              "    }\n",
              "\n",
              "    .colab-df-convert:hover {\n",
              "      background-color: #E2EBFA;\n",
              "      box-shadow: 0px 1px 2px rgba(60, 64, 67, 0.3), 0px 1px 3px 1px rgba(60, 64, 67, 0.15);\n",
              "      fill: #174EA6;\n",
              "    }\n",
              "\n",
              "    .colab-df-buttons div {\n",
              "      margin-bottom: 4px;\n",
              "    }\n",
              "\n",
              "    [theme=dark] .colab-df-convert {\n",
              "      background-color: #3B4455;\n",
              "      fill: #D2E3FC;\n",
              "    }\n",
              "\n",
              "    [theme=dark] .colab-df-convert:hover {\n",
              "      background-color: #434B5C;\n",
              "      box-shadow: 0px 1px 3px 1px rgba(0, 0, 0, 0.15);\n",
              "      filter: drop-shadow(0px 1px 2px rgba(0, 0, 0, 0.3));\n",
              "      fill: #FFFFFF;\n",
              "    }\n",
              "  </style>\n",
              "\n",
              "    <script>\n",
              "      const buttonEl =\n",
              "        document.querySelector('#df-28e77611-4302-4d04-86ef-09b51f272783 button.colab-df-convert');\n",
              "      buttonEl.style.display =\n",
              "        google.colab.kernel.accessAllowed ? 'block' : 'none';\n",
              "\n",
              "      async function convertToInteractive(key) {\n",
              "        const element = document.querySelector('#df-28e77611-4302-4d04-86ef-09b51f272783');\n",
              "        const dataTable =\n",
              "          await google.colab.kernel.invokeFunction('convertToInteractive',\n",
              "                                                    [key], {});\n",
              "        if (!dataTable) return;\n",
              "\n",
              "        const docLinkHtml = 'Like what you see? Visit the ' +\n",
              "          '<a target=\"_blank\" href=https://colab.research.google.com/notebooks/data_table.ipynb>data table notebook</a>'\n",
              "          + ' to learn more about interactive tables.';\n",
              "        element.innerHTML = '';\n",
              "        dataTable['output_type'] = 'display_data';\n",
              "        await google.colab.output.renderOutput(dataTable, element);\n",
              "        const docLink = document.createElement('div');\n",
              "        docLink.innerHTML = docLinkHtml;\n",
              "        element.appendChild(docLink);\n",
              "      }\n",
              "    </script>\n",
              "  </div>\n",
              "\n",
              "\n",
              "<div id=\"df-aac9df88-ecc8-4fcb-aebf-515ecfa0f414\">\n",
              "  <button class=\"colab-df-quickchart\" onclick=\"quickchart('df-aac9df88-ecc8-4fcb-aebf-515ecfa0f414')\"\n",
              "            title=\"Suggest charts\"\n",
              "            style=\"display:none;\">\n",
              "\n",
              "<svg xmlns=\"http://www.w3.org/2000/svg\" height=\"24px\"viewBox=\"0 0 24 24\"\n",
              "     width=\"24px\">\n",
              "    <g>\n",
              "        <path d=\"M19 3H5c-1.1 0-2 .9-2 2v14c0 1.1.9 2 2 2h14c1.1 0 2-.9 2-2V5c0-1.1-.9-2-2-2zM9 17H7v-7h2v7zm4 0h-2V7h2v10zm4 0h-2v-4h2v4z\"/>\n",
              "    </g>\n",
              "</svg>\n",
              "  </button>\n",
              "\n",
              "<style>\n",
              "  .colab-df-quickchart {\n",
              "      --bg-color: #E8F0FE;\n",
              "      --fill-color: #1967D2;\n",
              "      --hover-bg-color: #E2EBFA;\n",
              "      --hover-fill-color: #174EA6;\n",
              "      --disabled-fill-color: #AAA;\n",
              "      --disabled-bg-color: #DDD;\n",
              "  }\n",
              "\n",
              "  [theme=dark] .colab-df-quickchart {\n",
              "      --bg-color: #3B4455;\n",
              "      --fill-color: #D2E3FC;\n",
              "      --hover-bg-color: #434B5C;\n",
              "      --hover-fill-color: #FFFFFF;\n",
              "      --disabled-bg-color: #3B4455;\n",
              "      --disabled-fill-color: #666;\n",
              "  }\n",
              "\n",
              "  .colab-df-quickchart {\n",
              "    background-color: var(--bg-color);\n",
              "    border: none;\n",
              "    border-radius: 50%;\n",
              "    cursor: pointer;\n",
              "    display: none;\n",
              "    fill: var(--fill-color);\n",
              "    height: 32px;\n",
              "    padding: 0;\n",
              "    width: 32px;\n",
              "  }\n",
              "\n",
              "  .colab-df-quickchart:hover {\n",
              "    background-color: var(--hover-bg-color);\n",
              "    box-shadow: 0 1px 2px rgba(60, 64, 67, 0.3), 0 1px 3px 1px rgba(60, 64, 67, 0.15);\n",
              "    fill: var(--button-hover-fill-color);\n",
              "  }\n",
              "\n",
              "  .colab-df-quickchart-complete:disabled,\n",
              "  .colab-df-quickchart-complete:disabled:hover {\n",
              "    background-color: var(--disabled-bg-color);\n",
              "    fill: var(--disabled-fill-color);\n",
              "    box-shadow: none;\n",
              "  }\n",
              "\n",
              "  .colab-df-spinner {\n",
              "    border: 2px solid var(--fill-color);\n",
              "    border-color: transparent;\n",
              "    border-bottom-color: var(--fill-color);\n",
              "    animation:\n",
              "      spin 1s steps(1) infinite;\n",
              "  }\n",
              "\n",
              "  @keyframes spin {\n",
              "    0% {\n",
              "      border-color: transparent;\n",
              "      border-bottom-color: var(--fill-color);\n",
              "      border-left-color: var(--fill-color);\n",
              "    }\n",
              "    20% {\n",
              "      border-color: transparent;\n",
              "      border-left-color: var(--fill-color);\n",
              "      border-top-color: var(--fill-color);\n",
              "    }\n",
              "    30% {\n",
              "      border-color: transparent;\n",
              "      border-left-color: var(--fill-color);\n",
              "      border-top-color: var(--fill-color);\n",
              "      border-right-color: var(--fill-color);\n",
              "    }\n",
              "    40% {\n",
              "      border-color: transparent;\n",
              "      border-right-color: var(--fill-color);\n",
              "      border-top-color: var(--fill-color);\n",
              "    }\n",
              "    60% {\n",
              "      border-color: transparent;\n",
              "      border-right-color: var(--fill-color);\n",
              "    }\n",
              "    80% {\n",
              "      border-color: transparent;\n",
              "      border-right-color: var(--fill-color);\n",
              "      border-bottom-color: var(--fill-color);\n",
              "    }\n",
              "    90% {\n",
              "      border-color: transparent;\n",
              "      border-bottom-color: var(--fill-color);\n",
              "    }\n",
              "  }\n",
              "</style>\n",
              "\n",
              "  <script>\n",
              "    async function quickchart(key) {\n",
              "      const quickchartButtonEl =\n",
              "        document.querySelector('#' + key + ' button');\n",
              "      quickchartButtonEl.disabled = true;  // To prevent multiple clicks.\n",
              "      quickchartButtonEl.classList.add('colab-df-spinner');\n",
              "      try {\n",
              "        const charts = await google.colab.kernel.invokeFunction(\n",
              "            'suggestCharts', [key], {});\n",
              "      } catch (error) {\n",
              "        console.error('Error during call to suggestCharts:', error);\n",
              "      }\n",
              "      quickchartButtonEl.classList.remove('colab-df-spinner');\n",
              "      quickchartButtonEl.classList.add('colab-df-quickchart-complete');\n",
              "    }\n",
              "    (() => {\n",
              "      let quickchartButtonEl =\n",
              "        document.querySelector('#df-aac9df88-ecc8-4fcb-aebf-515ecfa0f414 button');\n",
              "      quickchartButtonEl.style.display =\n",
              "        google.colab.kernel.accessAllowed ? 'block' : 'none';\n",
              "    })();\n",
              "  </script>\n",
              "</div>\n",
              "\n",
              "    </div>\n",
              "  </div>\n"
            ],
            "application/vnd.google.colaboratory.intrinsic+json": {
              "type": "dataframe",
              "summary": "{\n  \"name\": \"rating_df\",\n  \"rows\": 8,\n  \"fields\": [\n    {\n      \"column\": \"user_id\",\n      \"properties\": {\n        \"dtype\": \"string\",\n        \"num_unique_values\": 8,\n        \"samples\": [\n          \"498.80\",\n          \"508.50\",\n          \"74776.00\"\n        ],\n        \"semantic_type\": \"\",\n        \"description\": \"\"\n      }\n    },\n    {\n      \"column\": \"anime_id\",\n      \"properties\": {\n        \"dtype\": \"string\",\n        \"num_unique_values\": 8,\n        \"samples\": [\n          \"10640.70\",\n          \"9367.00\",\n          \"74776.00\"\n        ],\n        \"semantic_type\": \"\",\n        \"description\": \"\"\n      }\n    },\n    {\n      \"column\": \"rating\",\n      \"properties\": {\n        \"dtype\": \"string\",\n        \"num_unique_values\": 8,\n        \"samples\": [\n          \"7.85\",\n          \"8.00\",\n          \"74776.00\"\n        ],\n        \"semantic_type\": \"\",\n        \"description\": \"\"\n      }\n    }\n  ]\n}"
            }
          },
          "metadata": {},
          "execution_count": 139
        }
      ]
    },
    {
      "cell_type": "markdown",
      "metadata": {
        "id": "18Ma5f1fw-lS"
      },
      "source": [
        "\n",
        "\n",
        "Sebelum memulai dengan proses interquartile. Perlu dilihat terlebih dahulu secara sekilas secara statistika deskriptif.\n",
        "\n",
        "Berdasarkan output diatas, terlihbat bahwa nilai terkecil dari score adalah 1 dan terbesarnya adalah 10."
      ]
    },
    {
      "cell_type": "markdown",
      "source": [
        "### Menghapus symbol pada judul anime"
      ],
      "metadata": {
        "id": "wUPfBGYX8N3k"
      }
    },
    {
      "cell_type": "code",
      "source": [
        "import re\n",
        "def text_cleaning(text):\n",
        "    text = re.sub(r'\"', '', text)\n",
        "    text = re.sub(r'.hack//', '', text)\n",
        "    text = re.sub(r'\"', '', text)\n",
        "    text = re.sub(r'A\"s', '', text)\n",
        "    text = re.sub(r'I\"', 'I\\'', text)\n",
        "    text = re.sub(r'&', 'and', text)\n",
        "\n",
        "    return text\n",
        "\n",
        "anime_df['name'] = anime_df['name'].apply(text_cleaning)\n"
      ],
      "metadata": {
        "id": "H3RCI32P7ahu"
      },
      "execution_count": null,
      "outputs": []
    },
    {
      "cell_type": "markdown",
      "metadata": {
        "id": "XFhDol6cx2PW"
      },
      "source": [
        "## Encoding\n",
        "\n",
        "\n",
        "Encoding adalah proses konversi informasi dari satu bentuk atau format ke bentuk lain, yang sering kali dilakukan untuk memastikan kompatibilitas dan pemrosesan yang tepat oleh berbagai sistem komputer. Proses ini sangat penting dalam dunia digital, di mana berbagai jenis data, seperti teks, gambar, dan suara, harus diubah menjadi format yang dapat dipahami oleh perangkat keras dan perangkat lunak.\n",
        "\n",
        "Alasan: Tahap ini perlu dilakukan karena Encoding memungkinkan data dari berbagai sumber dan format untuk diubah menjadi format standar yang dapat dipahami dan memastikan bahwa informasi dapat diproses\n"
      ]
    },
    {
      "cell_type": "code",
      "source": [
        "user_id = rating_df['user_id'].unique().tolist() # Mengubah userId menjadi list tanpa nilai yang sama\n",
        "user_to_user = {x: i for i, x in enumerate(user_id)} # Melakukan encoding userId\n",
        "user_encode_to_user = {i: x for i, x in enumerate(user_id)} # Melakukan proses encoding angka ke ke userId\n",
        "\n",
        "print('list userId :  ', user_id)\n",
        "print('encoded userId :  ', user_to_user)\n",
        "print('encoded angka ke userId :  ', user_encode_to_user)\n",
        "\n"
      ],
      "metadata": {
        "colab": {
          "base_uri": "https://localhost:8080/"
        },
        "id": "Db4vmrLGL9-z",
        "outputId": "8c3ebc79-8d3f-4980-b887-f6ed5dd709d6"
      },
      "execution_count": null,
      "outputs": [
        {
          "output_type": "stream",
          "name": "stdout",
          "text": [
            "list userId :   [1, 2, 3, 5, 7, 8, 9, 10, 11, 12, 14, 15, 16, 17, 18, 19, 20, 21, 22, 23, 24, 25, 26, 27, 28, 29, 30, 31, 32, 33, 34, 35, 36, 37, 38, 39, 40, 41, 42, 43, 44, 45, 46, 47, 48, 50, 51, 52, 53, 55, 56, 57, 58, 59, 60, 61, 62, 63, 64, 65, 66, 67, 68, 69, 70, 71, 72, 73, 74, 75, 76, 77, 78, 79, 80, 81, 82, 83, 84, 85, 86, 87, 88, 90, 91, 92, 93, 94, 95, 96, 97, 98, 99, 100, 101, 102, 103, 104, 105, 106, 107, 108, 109, 110, 111, 112, 113, 114, 115, 116, 117, 118, 119, 120, 121, 122, 123, 124, 125, 126, 127, 128, 129, 130, 131, 132, 134, 135, 136, 137, 138, 139, 140, 141, 142, 143, 144, 145, 146, 147, 148, 149, 150, 152, 153, 154, 155, 156, 158, 159, 160, 161, 162, 163, 164, 165, 166, 167, 168, 169, 170, 171, 172, 173, 174, 175, 176, 177, 178, 179, 180, 181, 182, 183, 184, 185, 186, 187, 189, 190, 191, 192, 193, 194, 195, 196, 197, 198, 199, 200, 201, 202, 203, 204, 205, 206, 207, 208, 209, 210, 211, 212, 213, 214, 215, 216, 217, 218, 219, 220, 222, 223, 224, 225, 226, 227, 228, 229, 230, 231, 232, 233, 234, 235, 236, 238, 239, 241, 242, 243, 244, 245, 246, 247, 248, 249, 250, 251, 252, 253, 254, 255, 256, 257, 258, 259, 260, 261, 262, 263, 264, 265, 266, 268, 269, 270, 271, 272, 273, 275, 276, 277, 278, 279, 280, 281, 282, 283, 284, 286, 287, 288, 289, 290, 291, 292, 293, 294, 295, 296, 297, 298, 299, 300, 301, 303, 304, 305, 306, 307, 308, 309, 310, 311, 312, 313, 314, 315, 316, 317, 318, 319, 320, 321, 322, 323, 324, 325, 326, 327, 329, 330, 331, 332, 333, 334, 335, 336, 337, 338, 339, 340, 341, 342, 343, 344, 345, 346, 348, 349, 350, 352, 353, 354, 355, 356, 357, 358, 359, 360, 361, 362, 363, 364, 365, 366, 367, 368, 369, 370, 371, 373, 374, 375, 376, 377, 378, 379, 380, 382, 383, 384, 385, 386, 387, 388, 389, 390, 391, 392, 393, 394, 395, 397, 398, 400, 401, 402, 403, 404, 405, 406, 408, 409, 410, 411, 412, 413, 414, 415, 416, 417, 418, 419, 420, 421, 422, 423, 424, 425, 426, 427, 428, 429, 430, 431, 432, 433, 434, 435, 436, 438, 439, 440, 441, 442, 443, 444, 445, 446, 447, 448, 449, 450, 451, 453, 454, 455, 456, 457, 458, 459, 460, 461, 462, 463, 464, 465, 466, 468, 469, 470, 471, 473, 474, 475, 478, 479, 480, 481, 482, 483, 484, 485, 486, 487, 488, 489, 490, 491, 492, 494, 495, 496, 497, 499, 500, 501, 502, 503, 504, 505, 507, 508, 509, 510, 511, 512, 513, 514, 515, 516, 517, 518, 519, 520, 521, 522, 523, 524, 525, 526, 527, 528, 529, 530, 531, 533, 534, 535, 536, 538, 539, 540, 541, 542, 543, 544, 545, 546, 547, 548, 549, 550, 551, 552, 553, 554, 555, 556, 557, 558, 559, 560, 561, 562, 563, 564, 565, 566, 567, 568, 569, 570, 571, 572, 573, 575, 576, 577, 578, 579, 580, 581, 582, 583, 584, 585, 586, 587, 588, 589, 590, 591, 592, 593, 594, 595, 596, 598, 599, 600, 601, 602, 603, 604, 605, 606, 607, 608, 609, 610, 611, 612, 613, 614, 615, 616, 617, 618, 619, 620, 622, 623, 624, 625, 626, 627, 628, 629, 630, 631, 632, 633, 634, 635, 636, 637, 638, 639, 640, 641, 642, 643, 644, 645, 646, 647, 648, 649, 650, 651, 652, 653, 654, 655, 656, 657, 658, 659, 660, 661, 662, 663, 664, 665, 666, 667, 668, 669, 670, 671, 672, 673, 674, 675, 677, 679, 680, 681, 682, 683, 685, 686, 687, 688, 689, 690, 691, 692, 693, 694, 695, 696, 697, 699, 700, 701, 702, 703, 704, 705, 706, 707, 708, 709, 710, 711, 712, 713, 714, 715, 716, 717, 718, 719, 720, 721, 722, 723, 724, 725, 726, 727, 728, 730, 731, 732, 733, 734, 735, 736, 737, 738, 739, 740, 741, 742, 743, 744, 745, 746, 747, 748, 749, 750, 751, 752, 753, 754, 755, 756, 757, 758, 759, 760, 762, 763, 764, 765, 766, 767, 768, 769, 770, 771, 772, 773, 774, 775, 776, 777, 778, 779, 782, 783, 784, 786, 787, 788, 789, 790, 791, 792, 793, 794, 795, 796, 797, 798, 799, 800, 801, 802, 803, 804, 805, 806, 807, 808, 809, 810, 812, 813, 814, 815, 816, 817, 818, 819, 820, 821, 822, 823, 824, 825, 826, 827, 828, 829, 830, 831, 832, 833, 834, 835, 836, 837, 838, 839, 840, 841, 842, 843, 845, 846, 847, 848, 849, 850, 851, 852, 853, 854, 855, 856, 857, 858, 859, 860, 861, 862, 863, 864, 865, 866, 867, 868, 869, 870, 871, 872, 873, 874, 875, 876, 878, 879, 880, 881, 882, 883, 884, 885, 886, 887, 888, 890, 891, 892, 893, 894, 895, 896, 897, 898, 899, 900, 901, 902, 903, 904, 905, 906, 907, 908, 909, 910, 911, 912, 913, 914, 915, 916, 917, 918, 919, 920, 922, 923, 926, 927, 928, 929, 930, 931, 932, 933, 934, 935, 936, 937, 938, 941, 942, 943, 944, 945, 946, 947, 948, 949, 950, 951, 952, 953, 954, 955, 956, 957, 958]\n",
            "encoded userId :   {1: 0, 2: 1, 3: 2, 5: 3, 7: 4, 8: 5, 9: 6, 10: 7, 11: 8, 12: 9, 14: 10, 15: 11, 16: 12, 17: 13, 18: 14, 19: 15, 20: 16, 21: 17, 22: 18, 23: 19, 24: 20, 25: 21, 26: 22, 27: 23, 28: 24, 29: 25, 30: 26, 31: 27, 32: 28, 33: 29, 34: 30, 35: 31, 36: 32, 37: 33, 38: 34, 39: 35, 40: 36, 41: 37, 42: 38, 43: 39, 44: 40, 45: 41, 46: 42, 47: 43, 48: 44, 50: 45, 51: 46, 52: 47, 53: 48, 55: 49, 56: 50, 57: 51, 58: 52, 59: 53, 60: 54, 61: 55, 62: 56, 63: 57, 64: 58, 65: 59, 66: 60, 67: 61, 68: 62, 69: 63, 70: 64, 71: 65, 72: 66, 73: 67, 74: 68, 75: 69, 76: 70, 77: 71, 78: 72, 79: 73, 80: 74, 81: 75, 82: 76, 83: 77, 84: 78, 85: 79, 86: 80, 87: 81, 88: 82, 90: 83, 91: 84, 92: 85, 93: 86, 94: 87, 95: 88, 96: 89, 97: 90, 98: 91, 99: 92, 100: 93, 101: 94, 102: 95, 103: 96, 104: 97, 105: 98, 106: 99, 107: 100, 108: 101, 109: 102, 110: 103, 111: 104, 112: 105, 113: 106, 114: 107, 115: 108, 116: 109, 117: 110, 118: 111, 119: 112, 120: 113, 121: 114, 122: 115, 123: 116, 124: 117, 125: 118, 126: 119, 127: 120, 128: 121, 129: 122, 130: 123, 131: 124, 132: 125, 134: 126, 135: 127, 136: 128, 137: 129, 138: 130, 139: 131, 140: 132, 141: 133, 142: 134, 143: 135, 144: 136, 145: 137, 146: 138, 147: 139, 148: 140, 149: 141, 150: 142, 152: 143, 153: 144, 154: 145, 155: 146, 156: 147, 158: 148, 159: 149, 160: 150, 161: 151, 162: 152, 163: 153, 164: 154, 165: 155, 166: 156, 167: 157, 168: 158, 169: 159, 170: 160, 171: 161, 172: 162, 173: 163, 174: 164, 175: 165, 176: 166, 177: 167, 178: 168, 179: 169, 180: 170, 181: 171, 182: 172, 183: 173, 184: 174, 185: 175, 186: 176, 187: 177, 189: 178, 190: 179, 191: 180, 192: 181, 193: 182, 194: 183, 195: 184, 196: 185, 197: 186, 198: 187, 199: 188, 200: 189, 201: 190, 202: 191, 203: 192, 204: 193, 205: 194, 206: 195, 207: 196, 208: 197, 209: 198, 210: 199, 211: 200, 212: 201, 213: 202, 214: 203, 215: 204, 216: 205, 217: 206, 218: 207, 219: 208, 220: 209, 222: 210, 223: 211, 224: 212, 225: 213, 226: 214, 227: 215, 228: 216, 229: 217, 230: 218, 231: 219, 232: 220, 233: 221, 234: 222, 235: 223, 236: 224, 238: 225, 239: 226, 241: 227, 242: 228, 243: 229, 244: 230, 245: 231, 246: 232, 247: 233, 248: 234, 249: 235, 250: 236, 251: 237, 252: 238, 253: 239, 254: 240, 255: 241, 256: 242, 257: 243, 258: 244, 259: 245, 260: 246, 261: 247, 262: 248, 263: 249, 264: 250, 265: 251, 266: 252, 268: 253, 269: 254, 270: 255, 271: 256, 272: 257, 273: 258, 275: 259, 276: 260, 277: 261, 278: 262, 279: 263, 280: 264, 281: 265, 282: 266, 283: 267, 284: 268, 286: 269, 287: 270, 288: 271, 289: 272, 290: 273, 291: 274, 292: 275, 293: 276, 294: 277, 295: 278, 296: 279, 297: 280, 298: 281, 299: 282, 300: 283, 301: 284, 303: 285, 304: 286, 305: 287, 306: 288, 307: 289, 308: 290, 309: 291, 310: 292, 311: 293, 312: 294, 313: 295, 314: 296, 315: 297, 316: 298, 317: 299, 318: 300, 319: 301, 320: 302, 321: 303, 322: 304, 323: 305, 324: 306, 325: 307, 326: 308, 327: 309, 329: 310, 330: 311, 331: 312, 332: 313, 333: 314, 334: 315, 335: 316, 336: 317, 337: 318, 338: 319, 339: 320, 340: 321, 341: 322, 342: 323, 343: 324, 344: 325, 345: 326, 346: 327, 348: 328, 349: 329, 350: 330, 352: 331, 353: 332, 354: 333, 355: 334, 356: 335, 357: 336, 358: 337, 359: 338, 360: 339, 361: 340, 362: 341, 363: 342, 364: 343, 365: 344, 366: 345, 367: 346, 368: 347, 369: 348, 370: 349, 371: 350, 373: 351, 374: 352, 375: 353, 376: 354, 377: 355, 378: 356, 379: 357, 380: 358, 382: 359, 383: 360, 384: 361, 385: 362, 386: 363, 387: 364, 388: 365, 389: 366, 390: 367, 391: 368, 392: 369, 393: 370, 394: 371, 395: 372, 397: 373, 398: 374, 400: 375, 401: 376, 402: 377, 403: 378, 404: 379, 405: 380, 406: 381, 408: 382, 409: 383, 410: 384, 411: 385, 412: 386, 413: 387, 414: 388, 415: 389, 416: 390, 417: 391, 418: 392, 419: 393, 420: 394, 421: 395, 422: 396, 423: 397, 424: 398, 425: 399, 426: 400, 427: 401, 428: 402, 429: 403, 430: 404, 431: 405, 432: 406, 433: 407, 434: 408, 435: 409, 436: 410, 438: 411, 439: 412, 440: 413, 441: 414, 442: 415, 443: 416, 444: 417, 445: 418, 446: 419, 447: 420, 448: 421, 449: 422, 450: 423, 451: 424, 453: 425, 454: 426, 455: 427, 456: 428, 457: 429, 458: 430, 459: 431, 460: 432, 461: 433, 462: 434, 463: 435, 464: 436, 465: 437, 466: 438, 468: 439, 469: 440, 470: 441, 471: 442, 473: 443, 474: 444, 475: 445, 478: 446, 479: 447, 480: 448, 481: 449, 482: 450, 483: 451, 484: 452, 485: 453, 486: 454, 487: 455, 488: 456, 489: 457, 490: 458, 491: 459, 492: 460, 494: 461, 495: 462, 496: 463, 497: 464, 499: 465, 500: 466, 501: 467, 502: 468, 503: 469, 504: 470, 505: 471, 507: 472, 508: 473, 509: 474, 510: 475, 511: 476, 512: 477, 513: 478, 514: 479, 515: 480, 516: 481, 517: 482, 518: 483, 519: 484, 520: 485, 521: 486, 522: 487, 523: 488, 524: 489, 525: 490, 526: 491, 527: 492, 528: 493, 529: 494, 530: 495, 531: 496, 533: 497, 534: 498, 535: 499, 536: 500, 538: 501, 539: 502, 540: 503, 541: 504, 542: 505, 543: 506, 544: 507, 545: 508, 546: 509, 547: 510, 548: 511, 549: 512, 550: 513, 551: 514, 552: 515, 553: 516, 554: 517, 555: 518, 556: 519, 557: 520, 558: 521, 559: 522, 560: 523, 561: 524, 562: 525, 563: 526, 564: 527, 565: 528, 566: 529, 567: 530, 568: 531, 569: 532, 570: 533, 571: 534, 572: 535, 573: 536, 575: 537, 576: 538, 577: 539, 578: 540, 579: 541, 580: 542, 581: 543, 582: 544, 583: 545, 584: 546, 585: 547, 586: 548, 587: 549, 588: 550, 589: 551, 590: 552, 591: 553, 592: 554, 593: 555, 594: 556, 595: 557, 596: 558, 598: 559, 599: 560, 600: 561, 601: 562, 602: 563, 603: 564, 604: 565, 605: 566, 606: 567, 607: 568, 608: 569, 609: 570, 610: 571, 611: 572, 612: 573, 613: 574, 614: 575, 615: 576, 616: 577, 617: 578, 618: 579, 619: 580, 620: 581, 622: 582, 623: 583, 624: 584, 625: 585, 626: 586, 627: 587, 628: 588, 629: 589, 630: 590, 631: 591, 632: 592, 633: 593, 634: 594, 635: 595, 636: 596, 637: 597, 638: 598, 639: 599, 640: 600, 641: 601, 642: 602, 643: 603, 644: 604, 645: 605, 646: 606, 647: 607, 648: 608, 649: 609, 650: 610, 651: 611, 652: 612, 653: 613, 654: 614, 655: 615, 656: 616, 657: 617, 658: 618, 659: 619, 660: 620, 661: 621, 662: 622, 663: 623, 664: 624, 665: 625, 666: 626, 667: 627, 668: 628, 669: 629, 670: 630, 671: 631, 672: 632, 673: 633, 674: 634, 675: 635, 677: 636, 679: 637, 680: 638, 681: 639, 682: 640, 683: 641, 685: 642, 686: 643, 687: 644, 688: 645, 689: 646, 690: 647, 691: 648, 692: 649, 693: 650, 694: 651, 695: 652, 696: 653, 697: 654, 699: 655, 700: 656, 701: 657, 702: 658, 703: 659, 704: 660, 705: 661, 706: 662, 707: 663, 708: 664, 709: 665, 710: 666, 711: 667, 712: 668, 713: 669, 714: 670, 715: 671, 716: 672, 717: 673, 718: 674, 719: 675, 720: 676, 721: 677, 722: 678, 723: 679, 724: 680, 725: 681, 726: 682, 727: 683, 728: 684, 730: 685, 731: 686, 732: 687, 733: 688, 734: 689, 735: 690, 736: 691, 737: 692, 738: 693, 739: 694, 740: 695, 741: 696, 742: 697, 743: 698, 744: 699, 745: 700, 746: 701, 747: 702, 748: 703, 749: 704, 750: 705, 751: 706, 752: 707, 753: 708, 754: 709, 755: 710, 756: 711, 757: 712, 758: 713, 759: 714, 760: 715, 762: 716, 763: 717, 764: 718, 765: 719, 766: 720, 767: 721, 768: 722, 769: 723, 770: 724, 771: 725, 772: 726, 773: 727, 774: 728, 775: 729, 776: 730, 777: 731, 778: 732, 779: 733, 782: 734, 783: 735, 784: 736, 786: 737, 787: 738, 788: 739, 789: 740, 790: 741, 791: 742, 792: 743, 793: 744, 794: 745, 795: 746, 796: 747, 797: 748, 798: 749, 799: 750, 800: 751, 801: 752, 802: 753, 803: 754, 804: 755, 805: 756, 806: 757, 807: 758, 808: 759, 809: 760, 810: 761, 812: 762, 813: 763, 814: 764, 815: 765, 816: 766, 817: 767, 818: 768, 819: 769, 820: 770, 821: 771, 822: 772, 823: 773, 824: 774, 825: 775, 826: 776, 827: 777, 828: 778, 829: 779, 830: 780, 831: 781, 832: 782, 833: 783, 834: 784, 835: 785, 836: 786, 837: 787, 838: 788, 839: 789, 840: 790, 841: 791, 842: 792, 843: 793, 845: 794, 846: 795, 847: 796, 848: 797, 849: 798, 850: 799, 851: 800, 852: 801, 853: 802, 854: 803, 855: 804, 856: 805, 857: 806, 858: 807, 859: 808, 860: 809, 861: 810, 862: 811, 863: 812, 864: 813, 865: 814, 866: 815, 867: 816, 868: 817, 869: 818, 870: 819, 871: 820, 872: 821, 873: 822, 874: 823, 875: 824, 876: 825, 878: 826, 879: 827, 880: 828, 881: 829, 882: 830, 883: 831, 884: 832, 885: 833, 886: 834, 887: 835, 888: 836, 890: 837, 891: 838, 892: 839, 893: 840, 894: 841, 895: 842, 896: 843, 897: 844, 898: 845, 899: 846, 900: 847, 901: 848, 902: 849, 903: 850, 904: 851, 905: 852, 906: 853, 907: 854, 908: 855, 909: 856, 910: 857, 911: 858, 912: 859, 913: 860, 914: 861, 915: 862, 916: 863, 917: 864, 918: 865, 919: 866, 920: 867, 922: 868, 923: 869, 926: 870, 927: 871, 928: 872, 929: 873, 930: 874, 931: 875, 932: 876, 933: 877, 934: 878, 935: 879, 936: 880, 937: 881, 938: 882, 941: 883, 942: 884, 943: 885, 944: 886, 945: 887, 946: 888, 947: 889, 948: 890, 949: 891, 950: 892, 951: 893, 952: 894, 953: 895, 954: 896, 955: 897, 956: 898, 957: 899, 958: 900}\n",
            "encoded angka ke userId :   {0: 1, 1: 2, 2: 3, 3: 5, 4: 7, 5: 8, 6: 9, 7: 10, 8: 11, 9: 12, 10: 14, 11: 15, 12: 16, 13: 17, 14: 18, 15: 19, 16: 20, 17: 21, 18: 22, 19: 23, 20: 24, 21: 25, 22: 26, 23: 27, 24: 28, 25: 29, 26: 30, 27: 31, 28: 32, 29: 33, 30: 34, 31: 35, 32: 36, 33: 37, 34: 38, 35: 39, 36: 40, 37: 41, 38: 42, 39: 43, 40: 44, 41: 45, 42: 46, 43: 47, 44: 48, 45: 50, 46: 51, 47: 52, 48: 53, 49: 55, 50: 56, 51: 57, 52: 58, 53: 59, 54: 60, 55: 61, 56: 62, 57: 63, 58: 64, 59: 65, 60: 66, 61: 67, 62: 68, 63: 69, 64: 70, 65: 71, 66: 72, 67: 73, 68: 74, 69: 75, 70: 76, 71: 77, 72: 78, 73: 79, 74: 80, 75: 81, 76: 82, 77: 83, 78: 84, 79: 85, 80: 86, 81: 87, 82: 88, 83: 90, 84: 91, 85: 92, 86: 93, 87: 94, 88: 95, 89: 96, 90: 97, 91: 98, 92: 99, 93: 100, 94: 101, 95: 102, 96: 103, 97: 104, 98: 105, 99: 106, 100: 107, 101: 108, 102: 109, 103: 110, 104: 111, 105: 112, 106: 113, 107: 114, 108: 115, 109: 116, 110: 117, 111: 118, 112: 119, 113: 120, 114: 121, 115: 122, 116: 123, 117: 124, 118: 125, 119: 126, 120: 127, 121: 128, 122: 129, 123: 130, 124: 131, 125: 132, 126: 134, 127: 135, 128: 136, 129: 137, 130: 138, 131: 139, 132: 140, 133: 141, 134: 142, 135: 143, 136: 144, 137: 145, 138: 146, 139: 147, 140: 148, 141: 149, 142: 150, 143: 152, 144: 153, 145: 154, 146: 155, 147: 156, 148: 158, 149: 159, 150: 160, 151: 161, 152: 162, 153: 163, 154: 164, 155: 165, 156: 166, 157: 167, 158: 168, 159: 169, 160: 170, 161: 171, 162: 172, 163: 173, 164: 174, 165: 175, 166: 176, 167: 177, 168: 178, 169: 179, 170: 180, 171: 181, 172: 182, 173: 183, 174: 184, 175: 185, 176: 186, 177: 187, 178: 189, 179: 190, 180: 191, 181: 192, 182: 193, 183: 194, 184: 195, 185: 196, 186: 197, 187: 198, 188: 199, 189: 200, 190: 201, 191: 202, 192: 203, 193: 204, 194: 205, 195: 206, 196: 207, 197: 208, 198: 209, 199: 210, 200: 211, 201: 212, 202: 213, 203: 214, 204: 215, 205: 216, 206: 217, 207: 218, 208: 219, 209: 220, 210: 222, 211: 223, 212: 224, 213: 225, 214: 226, 215: 227, 216: 228, 217: 229, 218: 230, 219: 231, 220: 232, 221: 233, 222: 234, 223: 235, 224: 236, 225: 238, 226: 239, 227: 241, 228: 242, 229: 243, 230: 244, 231: 245, 232: 246, 233: 247, 234: 248, 235: 249, 236: 250, 237: 251, 238: 252, 239: 253, 240: 254, 241: 255, 242: 256, 243: 257, 244: 258, 245: 259, 246: 260, 247: 261, 248: 262, 249: 263, 250: 264, 251: 265, 252: 266, 253: 268, 254: 269, 255: 270, 256: 271, 257: 272, 258: 273, 259: 275, 260: 276, 261: 277, 262: 278, 263: 279, 264: 280, 265: 281, 266: 282, 267: 283, 268: 284, 269: 286, 270: 287, 271: 288, 272: 289, 273: 290, 274: 291, 275: 292, 276: 293, 277: 294, 278: 295, 279: 296, 280: 297, 281: 298, 282: 299, 283: 300, 284: 301, 285: 303, 286: 304, 287: 305, 288: 306, 289: 307, 290: 308, 291: 309, 292: 310, 293: 311, 294: 312, 295: 313, 296: 314, 297: 315, 298: 316, 299: 317, 300: 318, 301: 319, 302: 320, 303: 321, 304: 322, 305: 323, 306: 324, 307: 325, 308: 326, 309: 327, 310: 329, 311: 330, 312: 331, 313: 332, 314: 333, 315: 334, 316: 335, 317: 336, 318: 337, 319: 338, 320: 339, 321: 340, 322: 341, 323: 342, 324: 343, 325: 344, 326: 345, 327: 346, 328: 348, 329: 349, 330: 350, 331: 352, 332: 353, 333: 354, 334: 355, 335: 356, 336: 357, 337: 358, 338: 359, 339: 360, 340: 361, 341: 362, 342: 363, 343: 364, 344: 365, 345: 366, 346: 367, 347: 368, 348: 369, 349: 370, 350: 371, 351: 373, 352: 374, 353: 375, 354: 376, 355: 377, 356: 378, 357: 379, 358: 380, 359: 382, 360: 383, 361: 384, 362: 385, 363: 386, 364: 387, 365: 388, 366: 389, 367: 390, 368: 391, 369: 392, 370: 393, 371: 394, 372: 395, 373: 397, 374: 398, 375: 400, 376: 401, 377: 402, 378: 403, 379: 404, 380: 405, 381: 406, 382: 408, 383: 409, 384: 410, 385: 411, 386: 412, 387: 413, 388: 414, 389: 415, 390: 416, 391: 417, 392: 418, 393: 419, 394: 420, 395: 421, 396: 422, 397: 423, 398: 424, 399: 425, 400: 426, 401: 427, 402: 428, 403: 429, 404: 430, 405: 431, 406: 432, 407: 433, 408: 434, 409: 435, 410: 436, 411: 438, 412: 439, 413: 440, 414: 441, 415: 442, 416: 443, 417: 444, 418: 445, 419: 446, 420: 447, 421: 448, 422: 449, 423: 450, 424: 451, 425: 453, 426: 454, 427: 455, 428: 456, 429: 457, 430: 458, 431: 459, 432: 460, 433: 461, 434: 462, 435: 463, 436: 464, 437: 465, 438: 466, 439: 468, 440: 469, 441: 470, 442: 471, 443: 473, 444: 474, 445: 475, 446: 478, 447: 479, 448: 480, 449: 481, 450: 482, 451: 483, 452: 484, 453: 485, 454: 486, 455: 487, 456: 488, 457: 489, 458: 490, 459: 491, 460: 492, 461: 494, 462: 495, 463: 496, 464: 497, 465: 499, 466: 500, 467: 501, 468: 502, 469: 503, 470: 504, 471: 505, 472: 507, 473: 508, 474: 509, 475: 510, 476: 511, 477: 512, 478: 513, 479: 514, 480: 515, 481: 516, 482: 517, 483: 518, 484: 519, 485: 520, 486: 521, 487: 522, 488: 523, 489: 524, 490: 525, 491: 526, 492: 527, 493: 528, 494: 529, 495: 530, 496: 531, 497: 533, 498: 534, 499: 535, 500: 536, 501: 538, 502: 539, 503: 540, 504: 541, 505: 542, 506: 543, 507: 544, 508: 545, 509: 546, 510: 547, 511: 548, 512: 549, 513: 550, 514: 551, 515: 552, 516: 553, 517: 554, 518: 555, 519: 556, 520: 557, 521: 558, 522: 559, 523: 560, 524: 561, 525: 562, 526: 563, 527: 564, 528: 565, 529: 566, 530: 567, 531: 568, 532: 569, 533: 570, 534: 571, 535: 572, 536: 573, 537: 575, 538: 576, 539: 577, 540: 578, 541: 579, 542: 580, 543: 581, 544: 582, 545: 583, 546: 584, 547: 585, 548: 586, 549: 587, 550: 588, 551: 589, 552: 590, 553: 591, 554: 592, 555: 593, 556: 594, 557: 595, 558: 596, 559: 598, 560: 599, 561: 600, 562: 601, 563: 602, 564: 603, 565: 604, 566: 605, 567: 606, 568: 607, 569: 608, 570: 609, 571: 610, 572: 611, 573: 612, 574: 613, 575: 614, 576: 615, 577: 616, 578: 617, 579: 618, 580: 619, 581: 620, 582: 622, 583: 623, 584: 624, 585: 625, 586: 626, 587: 627, 588: 628, 589: 629, 590: 630, 591: 631, 592: 632, 593: 633, 594: 634, 595: 635, 596: 636, 597: 637, 598: 638, 599: 639, 600: 640, 601: 641, 602: 642, 603: 643, 604: 644, 605: 645, 606: 646, 607: 647, 608: 648, 609: 649, 610: 650, 611: 651, 612: 652, 613: 653, 614: 654, 615: 655, 616: 656, 617: 657, 618: 658, 619: 659, 620: 660, 621: 661, 622: 662, 623: 663, 624: 664, 625: 665, 626: 666, 627: 667, 628: 668, 629: 669, 630: 670, 631: 671, 632: 672, 633: 673, 634: 674, 635: 675, 636: 677, 637: 679, 638: 680, 639: 681, 640: 682, 641: 683, 642: 685, 643: 686, 644: 687, 645: 688, 646: 689, 647: 690, 648: 691, 649: 692, 650: 693, 651: 694, 652: 695, 653: 696, 654: 697, 655: 699, 656: 700, 657: 701, 658: 702, 659: 703, 660: 704, 661: 705, 662: 706, 663: 707, 664: 708, 665: 709, 666: 710, 667: 711, 668: 712, 669: 713, 670: 714, 671: 715, 672: 716, 673: 717, 674: 718, 675: 719, 676: 720, 677: 721, 678: 722, 679: 723, 680: 724, 681: 725, 682: 726, 683: 727, 684: 728, 685: 730, 686: 731, 687: 732, 688: 733, 689: 734, 690: 735, 691: 736, 692: 737, 693: 738, 694: 739, 695: 740, 696: 741, 697: 742, 698: 743, 699: 744, 700: 745, 701: 746, 702: 747, 703: 748, 704: 749, 705: 750, 706: 751, 707: 752, 708: 753, 709: 754, 710: 755, 711: 756, 712: 757, 713: 758, 714: 759, 715: 760, 716: 762, 717: 763, 718: 764, 719: 765, 720: 766, 721: 767, 722: 768, 723: 769, 724: 770, 725: 771, 726: 772, 727: 773, 728: 774, 729: 775, 730: 776, 731: 777, 732: 778, 733: 779, 734: 782, 735: 783, 736: 784, 737: 786, 738: 787, 739: 788, 740: 789, 741: 790, 742: 791, 743: 792, 744: 793, 745: 794, 746: 795, 747: 796, 748: 797, 749: 798, 750: 799, 751: 800, 752: 801, 753: 802, 754: 803, 755: 804, 756: 805, 757: 806, 758: 807, 759: 808, 760: 809, 761: 810, 762: 812, 763: 813, 764: 814, 765: 815, 766: 816, 767: 817, 768: 818, 769: 819, 770: 820, 771: 821, 772: 822, 773: 823, 774: 824, 775: 825, 776: 826, 777: 827, 778: 828, 779: 829, 780: 830, 781: 831, 782: 832, 783: 833, 784: 834, 785: 835, 786: 836, 787: 837, 788: 838, 789: 839, 790: 840, 791: 841, 792: 842, 793: 843, 794: 845, 795: 846, 796: 847, 797: 848, 798: 849, 799: 850, 800: 851, 801: 852, 802: 853, 803: 854, 804: 855, 805: 856, 806: 857, 807: 858, 808: 859, 809: 860, 810: 861, 811: 862, 812: 863, 813: 864, 814: 865, 815: 866, 816: 867, 817: 868, 818: 869, 819: 870, 820: 871, 821: 872, 822: 873, 823: 874, 824: 875, 825: 876, 826: 878, 827: 879, 828: 880, 829: 881, 830: 882, 831: 883, 832: 884, 833: 885, 834: 886, 835: 887, 836: 888, 837: 890, 838: 891, 839: 892, 840: 893, 841: 894, 842: 895, 843: 896, 844: 897, 845: 898, 846: 899, 847: 900, 848: 901, 849: 902, 850: 903, 851: 904, 852: 905, 853: 906, 854: 907, 855: 908, 856: 909, 857: 910, 858: 911, 859: 912, 860: 913, 861: 914, 862: 915, 863: 916, 864: 917, 865: 918, 866: 919, 867: 920, 868: 922, 869: 923, 870: 926, 871: 927, 872: 928, 873: 929, 874: 930, 875: 931, 876: 932, 877: 933, 878: 934, 879: 935, 880: 936, 881: 937, 882: 938, 883: 941, 884: 942, 885: 943, 886: 944, 887: 945, 888: 946, 889: 947, 890: 948, 891: 949, 892: 950, 893: 951, 894: 952, 895: 953, 896: 954, 897: 955, 898: 956, 899: 957, 900: 958}\n"
          ]
        }
      ]
    },
    {
      "cell_type": "markdown",
      "source": [
        "Berdasarkan output diatas, proses encoding untuk userId sudah berhasil dilakukan."
      ],
      "metadata": {
        "id": "Cpx2GhuGyJ0B"
      }
    },
    {
      "cell_type": "code",
      "source": [
        "anime_id = rating_df['anime_id'].unique().tolist() # Mengubah movieId menjadi list tanpa nilai yang sama\n",
        "anime_to_anime = {x: i for i, x in enumerate(anime_id)} # Melakukan proses encoding movieId\n",
        "anime_encode_to_anime = {i: x for i, x in enumerate(anime_id)} # Melakukan proses encoding angka ke movieId\n",
        "\n",
        "print('list anime_id:  ', anime_id)\n",
        "print('encoded anime_id:  ', anime_to_anime)\n",
        "print('encoded angka ke anime_id:  ', anime_encode_to_anime)"
      ],
      "metadata": {
        "id": "FrzRBkO1MQ3j",
        "colab": {
          "base_uri": "https://localhost:8080/"
        },
        "outputId": "56201679-e543-4449-da23-bf42f2fc273b"
      },
      "execution_count": null,
      "outputs": [
        {
          "output_type": "stream",
          "name": "stdout",
          "text": [
            "list anime_id:   [8074, 11617, 11757, 15451, 11771, 20, 154, 170, 199, 225, 341, 430, 527, 552, 813, 1119, 1121, 1122, 1132, 1292, 1313, 1526, 1535, 1564, 1689, 1764, 1943, 2201, 2404, 2847, 3588, 4026, 5114, 5231, 6178, 6702, 6880, 7695, 9107, 9135, 9760, 9917, 9919, 9989, 10408, 10507, 11111, 11703, 11737, 11759, 12671, 14075, 14093, 14345, 14513, 16498, 16512, 16782, 16894, 16918, 17265, 18097, 18115, 18393, 19315, 19815, 20021, 20159, 20507, 20583, 21507, 21881, 22199, 22297, 22319, 22547, 22729, 23301, 23321, 23333, 23755, 24415, 26243, 27631, 27899, 28121, 28171, 28223, 28497, 28701, 28891, 29854, 31043, 31859, 6, 15, 17, 18, 22, 24, 30, 45, 47, 57, 63, 67, 68, 132, 136, 137, 138, 139, 150, 152, 166, 174, 185, 186, 189, 190, 195, 205, 223, 232, 240, 241, 245, 248, 249, 250, 263, 264, 265, 268, 269, 272, 288, 292, 335, 344, 371, 379, 390, 392, 406, 442, 443, 448, 481, 482, 487, 508, 517, 528, 534, 550, 709, 760, 761, 846, 861, 874, 896, 898, 903, 905, 914, 918, 936, 981, 987, 1117, 1138, 1195, 1210, 1253, 1254, 1257, 1469, 1559, 1614, 1668, 1669, 1674, 1840, 1887, 1913, 1956, 2034, 2104, 2116, 2144, 2159, 2236, 2248, 2330, 2363, 2397, 2398, 2400, 2418, 2424, 2472, 2508, 2594, 2605, 2684, 2789, 2907, 2961, 2962, 2993, 3228, 3455, 3503, 3515, 3655, 3702, 3712, 3887, 3974, 4015, 4052, 4063, 4214, 4224, 4437, 4472, 4548, 4654, 4667, 4760, 4975, 4999, 5040, 5042, 5251, 5258, 5277, 5279, 5526, 5667, 5680, 5681, 5958, 6098, 6201, 6211, 6324, 6325, 6347, 6377, 6385, 6512, 6547, 6695, 6746, 6791, 6885, 6956, 6974, 7088, 7148, 7593, 7647, 7661, 7674, 7720, 7762, 7769, 7791, 7817, 7858, 8277, 8302, 8407, 8408, 8424, 8457, 8516, 8525, 8619, 8675, 8769, 8841, 9041, 9074, 9181, 9220, 9253, 9355, 9367, 9379, 9471, 9479, 9741, 9936, 9969, 9981, 10020, 10030, 10080, 10108, 10110, 10119, 10162, 10163, 10172, 10209, 10216, 10396, 10397, 10521, 10589, 10638, 10719, 10790, 10805, 10863, 10897, 11013, 11113, 11179, 11319, 11371, 11433, 11499, 11577, 11633, 11761, 11785, 11813, 11843, 11853, 12069, 12189, 12431, 12445, 12447, 12467, 12549, 12581, 12673, 12729, 13055, 13093, 13161, 13201, 13333, 13357, 13367, 13403, 13479, 13535, 13659, 13663, 13759, 13851, 14027, 14189, 14199, 14227, 14349, 14467, 14527, 14669, 14685, 14719, 14741, 14749, 14813, 14967, 15039, 15059, 15225, 15315, 15335, 15379, 15417, 15437, 15565, 15583, 15609, 15729, 15771, 15775, 15809, 16011, 16067, 16241, 16353, 16417, 16444, 16592, 16636, 16694, 16706, 16742, 16866, 17157, 17247, 17505, 17641, 17729, 17741, 17777, 17827, 17875, 17895, 18001, 18039, 18095, 18139, 18153, 18179, 18229, 18247, 18277, 18441, 18465, 18497, 18671, 18677, 18689, 18753, 18857, 18897, 19023, 19163, 19221, 19363, 19365, 19369, 19647, 19769, 19799, 19953, 20031, 20045, 20047, 20053, 20057, 20431, 20457, 20541, 20545, 20689, 20767, 20785, 20787, 20847, 20853, 20899, 20931, 20939, 20973, 20977, 21033, 21085, 21185, 21189, 21327, 21405, 21431, 21561, 21587, 21603, 21647, 21781, 21863, 22147, 22535, 22789, 23079, 23199, 23233, 23251, 23273, 23277, 23289, 23309, 23447, 23847, 24135, 24171, 24175, 24627, 24781, 24873, 24913, 25157, 25159, 25183, 25397, 25429, 25635, 26055, 26349, 26441, 28297, 28677, 28819, 28907, 29027, 29035, 29317, 29785, 29786, 29803, 30831, 31240, 31722, 32182, 32828, 31, 32, 59, 64, 65, 111, 121, 210, 270, 339, 357, 407, 435, 530, 532, 535, 568, 740, 849, 934, 996, 1172, 1259, 1563, 1575, 1719, 1889, 2012, 2026, 2131, 2167, 2213, 2237, 2759, 2899, 2904, 2994, 3086, 3652, 3784, 3785, 4028, 4059, 4181, 4192, 4382, 4896, 5233, 5521, 6166, 6205, 6213, 6351, 6811, 8460, 8861, 8876, 8937, 9032, 9047, 9063, 9618, 9675, 9756, 9790, 9958, 10076, 10456, 10491, 10588, 10620, 10794, 11061, 11743, 11763, 11933, 11977, 11979, 11981, 12783, 12967, 13261, 13587, 13939, 14407, 14653, 14833, 15117, 15377, 15411, 15687, 15879, 15911, 16049, 16157, 16700, 16762, 16934, 16982, 17513, 17725, 18041, 18679, 18893, 19151, 19367, 19855, 20033, 20479, 20919, 21177, 21325, 21473, 21511, 21541, 21653, 21679, 22057, 22071, 22273, 22663, 22961, 23153, 23227, 23383, 23421, 23427, 23945, 24037, 24075, 24133, 24227, 24365, 24543, 24655, 24703, 24713, 24765, 25283, 25687, 25689, 26351, 27775, 27787, 27829, 28179, 28215, 28285, 28391, 28713, 28825, 28979, 28999, 29067, 29163, 29589, 30276, 30296, 30300, 30307, 30321, 30347, 30363, 30365, 30379, 30384, 30503, 30544, 30740, 30749, 30885, 30991, 31149, 31156, 31338, 31404, 31439, 31442, 31560, 31630, 31637, 31704, 31716, 31737, 31845, 31867, 31914, 31952, 31953, 31980, 32093, 32108, 32171, 32215, 32360, 32380, 32553, 33091, 33341, 355, 8630, 10793, 11241, 43, 44, 61, 104, 120, 122, 143, 149, 164, 177, 202, 243, 338, 416, 431, 440, 441, 449, 450, 451, 452, 497, 512, 513, 522, 523, 531, 543, 565, 572, 578, 589, 597, 687, 723, 759, 790, 853, 855, 879, 997, 1002, 1032, 1060, 1118, 1239, 1240, 1709, 2313, 2685, 2890, 3577, 4898, 5030, 5060, 6164, 6280, 6707, 6747, 12355, 12365, 13599, 13601, 18507, 21241, 21339, 22145, 22265, 23281, 25015, 28675, 302, 877, 1562, 2025, 4182, 6033, 6573, 7338, 8888, 133, 135, 433, 587, 969, 2129, 2155, 2336, 2926, 2927, 3229, 3299, 4186, 4938, 5081, 5734, 5764, 6408, 6772, 7590, 8514, 8536, 8676, 8934, 9117, 9252, 9465, 9724, 9925, 10092, 10372, 10447, 10568, 11597, 11887, 12175, 14293, 15689, 16397, 17074, 17121, 18245, 19117, 19775, 21437, 22839, 1222, 11285, 19, 66, 114, 226, 227, 228, 256, 323, 413, 437, 468, 486, 570, 664, 770, 777, 889, 932, 949, 1004, 1033, 1056, 1379, 1530, 1852, 2001, 2175, 2251, 2476, 2593, 2924, 3002, 3087, 3167, 3287, 3782, 3783, 4081, 4091, 4106, 4107, 4280, 4282, 4565, 5177, 5204, 5205, 5365, 5682, 5909, 6114, 6505, 6594, 6675, 6954, 7059, 7311, 7465, 7785, 8100, 8142, 8187, 8795, 9598, 10087, 10165, 10271, 10417, 10448, 10495, 10624, 10711, 11235, 11741, 11809, 12029, 12403, 12477, 12531, 13391, 13629, 13639, 14045, 14131, 14353, 14355, 14807, 14829, 14853, 15037, 15043, 15051, 15125, 15197, 15199, 15201, 15699, 16149, 16528, 16726, 16732, 16774, 17269, 17549, 17677, 17679, 18121, 18617, 19111, 19133, 19429, 19489, 19573, 19685, 19703, 20473, 20509, 20543, 20709, 20903, 20965, 21067, 21353, 21421, 21809, 21821, 21843, 21855, 21995, 22123, 22135, 22835, 22865, 23225, 23249, 23283, 23285, 23317, 23433, 23623, 23673, 23787, 24031, 24211, 24231, 24277, 24439, 24833, 24997, 25519, 25875, 26085, 26165, 26395, 27387, 27503, 27525, 27655, 27911, 28155, 28249, 28423, 28619, 28623, 28805, 28861, 28927, 30015, 30240, 30279, 30413, 30567, 31610, 31798, 31964, 32282, 32438, 32542, 32681, 32729, 32935, 32998, 34240, 317, 2952, 3457, 1, 5, 1519, 193, 325, 819, 1639, 3375, 5391, 6500, 6682, 7739, 10073, 97, 356, 417, 432, 457, 1212, 1361, 1637, 2621, 2705, 2709, 7711, 7724, 8129, 9289, 9513, 10321, 10418, 10893, 14073, 14889, 15605, 16009, 16201, 18411, 19159, 19841, 20423, 20555, 21273, 21667, 21771, 23209, 23385, 24893, 32491, 48, 96, 257, 298, 400, 469, 696, 763, 764, 857, 1264, 1502, 1675, 1816, 2156, 3791, 4719, 5337, 5781, 6633, 7334, 7740, 8456, 8918, 9201, 10330, 10464, 10924, 11005, 12065, 15963, 72, 376, 659, 1593, 1696, 3342, 6203, 7748, 8857, 9014, 9515, 10067, 10490, 11079, 7054, 13469, 14267, 17831, 479, 1604, 7592, 10049, 10213, 12049, 13411, 16668, 17651, 502, 731, 788, 827, 859, 891, 892, 893, 894, 895, 897, 899, 900, 901, 902, 904, 906, 972, 984, 985, 986, 1137, 1710, 1726, 1894, 2281, 2341, 2349, 2403, 2775, 4962, 5152, 6918, 9322, 10465, 11209, 11701, 12231, 12361, 14837, 15409, 15847, 18397, 21521, 21659, 28779, 30243, 30658, 30812, 3759, 9136, 2581, 6634, 9617, 9938, 10161, 12291, 12565, 13655, 14237, 14811, 16005, 16524, 1829, 1686, 2889, 4835, 8247, 12859, 147, 1860, 9001, 521, 1691, 2923, 3470, 2966, 6862, 9734, 10604, 16001, 17082, 71, 1818, 2787, 4581, 4725, 5034, 5355, 5593, 5940, 6773, 6895, 8086, 8449, 9065, 9331, 10079, 11751, 12031, 12413, 13331, 13807, 14283, 17389, 18767, 22687, 24405, 24455, 25867, 27821, 27831, 27833, 27991, 30205, 31163, 31430, 31478, 31559, 31580, 31821, 31904, 32023, 32379, 32668, 7411, 13125, 14289, 18195, 187, 237, 821, 822, 1723, 2608, 2951, 3614, 3731, 3931, 5118, 5228, 6645, 6945, 9587, 12725, 19613, 22507, 28881, 30952, 1498, 5458, 5525, 6030, 9330, 12293, 23325, 2964, 168, 198, 411, 845, 935, 940, 1482, 1566, 1827, 1965, 2216, 3091, 3230, 3389, 4087, 4177, 4196, 4744, 4752, 4918, 5342, 5530, 6920, 6973, 9941, 10155, 10260, 10578, 11783, 12017, 14765, 15109, 15119, 16035, 16890, 21235, 21329, 21415, 21939, 22097, 22877, 23311, 24687, 25013, 25099, 25731, 26443, 27411, 28617, 28977, 29093, 29095, 29101, 29325, 29758, 30091, 30654, 30782, 31318, 31405, 31710, 31741, 31764, 32083, 32094, 32595, 32608, 33421, 878, 953, 1023, 2030, 2158, 4981, 5630, 5955, 6774, 6793, 8915, 9745, 9834, 10083, 10249, 10721, 11266, 11837, 12685, 15085, 1571, 1579, 4722, 8425, 10800, 12711, 230, 242, 322, 464, 594, 907, 1072, 1074, 1532, 1912, 2112, 3089, 3572, 3656, 3848, 4151, 5065, 5300, 5702, 6045, 6046, 6444, 7058, 7103, 7367, 9656, 9754, 10350, 10379, 10389, 10391, 10686, 11375, 11665, 13115, 13245, 13833, 14397, 14713, 14753, 15487, 15751, 16033, 17259, 17391, 17409, 18523, 18745, 20655, 20673, 21105, 21439, 21563, 21743, 22043, 22101, 22433, 24701, 24991, 25303, 25649, 25681, 27417, 27633, 27663, 28211, 29974, 29976, 30056, 30458, 30714, 30901, 31297, 31374, 31376, 31452, 31680, 31754, 31772, 32365, 32370, 32566, 32648, 32664, 32696, 33028, 7082, 7337, 8479, 9982, 15195, 2494, 3927, 11021, 33, 90, 246, 278, 384, 876, 971, 1430, 1707, 1744, 2390, 4155, 5962, 6171, 9130, 13271, 25, 73, 165, 167, 239, 387, 467, 585, 801, 1140, 2154, 2596, 4789, 4901, 5341, 6372, 6637, 7193, 10090, 5356, 7017, 8440, 8465, 18849, 20651, 24727, 28069, 101, 6361, 6401, 11553, 1594, 5262, 16916, 850, 2842, 3092, 6877, 9926, 11123, 14123, 1826, 8246, 10681, 13667, 19285, 19669, 28625, 1050, 1281, 2963, 8557, 9888, 10378, 10739, 1221, 2766, 3901, 12883, 60, 412, 762, 908, 3713, 6421, 7902, 8068, 10842, 12079, 76, 10798, 16662, 1731, 5306, 8995, 3958, 5678, 7079, 12487, 14175, 329, 967, 1356, 16, 46, 74, 80, 86, 233, 401, 644, 1120, 1142, 1236, 1261, 2411, 2446, 2871, 3059, 3271, 4094, 4558, 4600, 4970, 6875, 6919, 8394, 13019, 6927, 8230, 9002, 9062, 10178, 10647, 12503, 12893, 15439, 16868, 19671, 21557, 21797, 22745, 24151, 31414, 33241, 196, 524, 591, 886, 1749, 6007, 11313, 12669, 18119, 20649, 134, 2006, 3231, 4765, 4886, 6884, 6948, 6951, 10263, 13859, 14893, 16099, 16199, 17743, 17909, 19383, 1690, 2986, 6624, 22763, 23441, 7472, 9735, 634, 408, 6151, 2762, 11491, 13377, 19319, 21569, 16680, 3464, 3561, 4163, 6896, 9750, 9863, 15719, 16395, 19759, 21167, 529, 1177, 1573, 5835, 6610, 743, 915, 1030, 3667, 6381, 6572, 9751, 10029, 12317, 12471, 12679, 14173, 16355, 3210, 4814, 7598, 1412, 103, 957, 1698, 1914, 1953, 4551, 5163, 6586, 8728, 8894, 9366, 9441, 10460, 20371, 20815, 372, 538, 1303, 1462, 20449, 21845, 32188, 32281, 79, 98, 99, 145, 169, 5079, 5675, 6922, 15359, 50, 93, 94, 276, 974, 6867, 9332, 13267, 197, 348, 488, 1516, 1642, 1688, 1728, 1838, 5717, 8560, 8768, 14511, 53, 267, 389, 807, 1067, 1536, 1606, 1679, 2683, 3359, 6704, 6758, 27, 54, 58, 81, 108, 180, 181, 884, 1194, 1380, 1682, 1810, 2002, 2273, 2589, 2795, 3407, 3653, 4415, 4672, 4726, 5039, 5072, 5178, 5220, 5505, 6288, 6336, 6794, 7540, 10294, 10689, 10693, 10713, 10714, 10715, 10716, 10717, 12015, 13709, 17187, 17535, 19191, 19255, 6987, 8577, 52, 293, 318, 477, 507, 519, 688, 693, 746, 785, 789, 825, 1161, 1250, 4866, 142, 719, 747, 1216, 1217, 2148, 2218, 2238, 5774, 5902, 8634, 12461, 12695, 14645, 7627, 9510, 1808, 62, 260, 291, 391, 419, 713, 1015, 9000, 9736, 9922, 10611, 15633, 18661, 33075, 204, 667, 1045, 1046, 1546, 1655, 5112, 5973, 665, 724, 741, 1051, 1102, 1192, 1202, 1220, 1576, 1622, 1640, 1977, 2592, 3613, 4353, 4477, 4879, 5332, 5656, 5690, 5784, 5984, 6581, 6736, 6787, 7110, 7588, 7705, 7857, 8063, 8190, 8426, 8476, 8666, 9120, 9624, 9630, 9723, 9761, 10483, 10935, 11001, 11135, 11355, 11663, 12137, 12419, 13585, 13863, 14145, 15933, 16023, 16518, 16904, 17371, 17573, 18177, 18295, 18549, 18953, 19211, 19257, 19391, 19653, 19945, 20971, 21335, 21497, 22583, 22673, 22689, 23037, 23133, 23201, 23327, 23775, 24261, 24475, 25143, 25781, 25835, 25839, 26213, 27727, 27989, 28025, 28283, 28607, 28735, 28791, 28817, 28981, 30230, 30346, 30705, 30895, 31109, 31229, 31245, 31251, 31417, 31540, 31636, 31790, 31815, 31846, 31973, 32011, 32175, 32245, 32483, 32697, 32947, 33037, 33080, 33222, 277, 366, 394, 563, 1016, 1065, 1453, 2163, 6443, 732, 2130, 2520, 4535, 6553, 8422, 11359, 12815, 13677, 18413, 19251, 20909, 25755, 299, 454, 459, 460, 461, 462, 463, 465, 873, 1143, 1487, 1994, 2107, 2928, 3269, 4130, 4469, 8740, 10390, 15219, 320, 340, 617, 834, 1109, 1824, 3323, 5386, 6591, 9023, 9690, 9716, 9731, 10334, 10504, 11083, 11441, 12067, 14617, 15323, 15959, 17205, 25161, 5194, 8023, 10196, 10572, 15613, 1029, 1520, 8532, 10189, 20871, 576, 1588, 1722, 2369, 3467, 6023, 10928, 23587, 30123, 30344, 30355, 207, 326, 369, 395, 514, 586, 885, 1106, 1486, 2202, 2235, 3326, 3743, 3906, 4095, 4460, 8475, 10218, 12113, 12115, 14751, 21677, 31098, 31181, 31733, 32189, 32268, 12753, 20745, 24625, 4550, 3031, 3032, 3033, 4712, 8624, 15005, 19021, 23703, 30925, 31848, 32013, 627, 1090, 1091, 1092, 3972, 10197, 182, 962, 2563, 3297, 6172, 6802, 10690, 17491, 30825, 106, 9776, 10737, 11339, 18851, 24705, 26057, 7870, 385, 405, 2746, 100, 123, 161, 476, 721, 738, 1127, 1509, 1699, 2153, 2162, 2772, 3298, 3615, 4884, 11755, 17873, 19291, 24459, 30415, 31592, 33046, 33558, 7, 26, 51, 102, 129, 130, 131, 144, 155, 156, 157, 158, 251, 281, 300, 365, 425, 439, 444, 536, 553, 595, 596, 601, 610, 656, 658, 704, 756, 867, 868, 869, 875, 916, 1019, 1020, 1043, 1055, 1066, 1078, 1112, 1225, 1311, 1324, 1496, 1531, 1654, 1729, 1747, 1815, 1836, 1869, 1890, 1908, 1958, 2033, 2143, 2246, 2274, 2602, 2729, 2768, 2954, 2985, 3057, 3080, 3121, 3174, 3318, 3328, 3420, 3429, 3430, 3468, 3469, 3508, 3701, 3750, 3841, 4021, 4037, 4772, 4872, 5196, 5244, 5772, 5957, 6064, 6127, 6163, 6187, 6299, 6399, 6768, 6864, 6958, 7044, 7135, 7396, 7669, 8038, 8079, 8197, 8481, 8985, 9088, 9712, 10098, 10445, 10469, 10870, 10945, 11531, 12665, 13281, 17901, 9310, 10552, 284, 509, 16870, 25389, 708, 1685, 12021, 28, 212, 604, 620, 882, 883, 1110, 1278, 1296, 1362, 1681, 1813, 2611, 2937, 3011, 3861, 9782, 12455, 15863, 191, 192, 221, 222, 427, 564, 1619, 1732, 10278, 14835, 109, 10012, 20889, 21879, 501, 1252, 3366, 4134, 11739, 30911, 77, 85, 87, 95, 153, 194, 285, 290, 474, 478, 820, 1088, 1089, 1397, 1915, 4985, 5941, 11227, 21469, 24629, 28621, 33221, 330, 426, 1157, 2071, 1601, 1517, 160, 1025, 9999, 16239, 1581, 4195, 34103, 12149, 14921, 14941, 254, 489, 1279, 10765, 15807, 16051, 20155, 279, 445, 603, 854, 1174, 1408, 1954, 2105, 2275, 2276, 2523, 4262, 7662, 7768, 8141, 8908, 10923, 14373, 15793, 5671, 10884, 16123, 32526, 9875, 537, 979, 998, 2263, 10702, 880, 1086, 1218, 1543, 1565, 2108, 3594, 5507, 6676, 11697, 16335, 16385, 17115, 22777, 28755, 31711, 32551, 33142, 382, 18713, 3636, 7745, 10470, 10740, 17273, 17919, 25805, 28387, 30375, 30915, 32879, 247, 2020, 3322, 10497, 119, 125, 126, 146, 175, 209, 218, 238, 259, 261, 262, 275, 303, 343, 346, 471, 472, 546, 547, 554, 555, 577, 590, 609, 615, 626, 648, 668, 682, 685, 694, 710, 824, 835, 836, 856, 988, 1048, 1128, 1133, 1164, 1514, 1555, 1557, 1568, 1569, 1570, 1648, 1727, 1807, 2015, 2027, 2367, 2595, 2960, 2970, 3166, 3247, 3358, 3593, 3627, 3654, 4450, 4566, 4720, 5041, 5216, 5504, 6489, 6979, 7596, 8310, 8986, 9581, 9793, 10017, 10033, 10156, 10659, 12979, 14515, 14827, 15133, 15391, 16508, 17397, 18055, 19845, 20517, 21039, 24011, 25517, 28537, 28883, 28929, 30187, 30250, 30383, 30746, 31091, 31143, 31147, 31173, 31797, 32313, 32323, 2744, 1435, 6069, 11679, 15313, 22537, 12367, 779, 780, 781, 1363, 1364, 1365, 1366, 1367, 1505, 1506, 2171, 2298, 4447, 5460, 6467, 7016, 8241, 9963, 10301, 12117, 12879, 14735, 17643, 18045, 21419, 28479, 28593, 28725, 28957, 30100, 30206, 31324, 31368, 31389, 31553, 32561, 33161, 82, 84, 88, 324, 1095, 1096, 1209, 1288, 1289, 1301, 1302, 1650, 1916, 1917, 3014, 3111, 4232, 16664, 23259, 24835, 183, 386, 558, 1327, 1842, 3226, 5028, 7655, 12875, 20533, 393, 1094, 9260, 11487, 11735, 19185, 19521, 22539, 30795, 31483, 31490, 32051, 33338, 1847, 21681, 22189, 75, 89, 92, 110, 115, 116, 321, 388, 396, 397, 404, 473, 944, 995, 1005, 1021, 1215, 1251, 1425, 1426, 1485, 1541, 1618, 1651, 1652, 1835, 1985, 2043, 2142, 2227, 2229, 2253, 2391, 2405, 2543, 2559, 2752, 2913, 3044, 3437, 3481, 3631, 4073, 4385, 5189, 5252, 5311, 5485, 5658, 11859, 12001, 105, 470, 614, 631, 641, 642, 645, 841, 863, 881, 2205, 3225, 3673, 3965, 4715, 5132, 5150, 5162, 5597, 5713, 6712, 7468, 7559, 9203, 10547, 10934, 14575, 17745, 27891, 1589, 10075, 18495, 25879, 31715, 30806, 127, 128, 670, 776, 933, 2580, 3956, 4188, 4903, 5454, 6050, 6748, 7875, 8917, 10298, 10532, 10582, 10628, 11161, 12281, 12505, 12823, 13429, 15951, 16910, 17585, 17637, 17681, 17821, 24695, 27957, 30651, 31793, 32801, 17849, 838, 10308, 438, 1358, 793, 1952, 4334, 4773, 5005, 6016, 6582, 6583, 16211, 1525, 2619, 2620, 2782, 4389, 4793, 4794, 4795, 4874, 5027, 5529, 5845, 6555, 6893, 8438, 8709, 8815, 9911, 10302, 10419, 10779, 10916, 10917, 11009, 11019, 11069, 11073, 11717, 12187, 12255, 13183, 13251, 13263, 13595, 15537, 15881, 15927, 16604, 16608, 16610, 17879, 19109, 19697, 20359, 20365, 20557, 20743, 20913, 22225, 22759, 23121, 23237, 23269, 23299, 23341, 23399, 23579, 24699, 24821, 24855, 24919, 24921, 25011, 25285, 25859, 25907, 25943, 27509, 27539, 27601, 27969, 28105, 28221, 28299, 28405, 28531, 28789, 28841, 29083, 29511, 29513, 29515, 29517, 29575, 29705, 30127, 30251, 30358, 30437, 30460, 30514, 30543, 30583, 30585, 30745, 30813, 30826, 30902, 31080, 31498, 31564, 31578, 31621, 31706, 31756, 31771, 31918, 32214, 32309, 32454, 32667, 32863, 32906, 32954, 9539, 13145, 15611, 19123, 91, 124, 380, 381, 539, 541, 567, 598, 1006, 1144, 2604, 6112, 19115, 990, 49, 55, 244, 349, 398, 399, 566, 766, 1003, 1583, 1817, 3090, 5074, 6291, 6380, 6425, 6587, 7463, 10336, 10357, 12579, 15617, 27857, 334, 520, 540, 792, 1007, 1101, 1146, 1147, 2725, 9396, 10351, 304, 466, 504, 618, 837, 963, 1009, 1237, 1238, 1694, 1799, 1800, 1861, 2170, 2198, 2210, 2385, 2386, 2490, 2498, 2499, 2680, 3221, 3352, 3392, 3954, 4205, 4657, 4705, 6032, 6287, 6344, 6379, 6548, 6783, 7375, 7580, 7805, 8171, 8231, 8311, 8348, 8487, 8909, 9202, 9314, 10622, 10834, 10920, 11077, 11769, 11889, 12119, 12429, 12449, 12709, 12857, 13137, 13259, 13309, 13373, 13375, 15431, 16273, 16468, 17791, 17811, 17813, 17815, 17819, 19951, 22117, 22125, 22859, 23989, 27939, 29998, 30382, 30981, 31051, 31289, 8, 1123, 4618, 5691, 5947, 9124, 10431, 4069, 19511, 25313, 548, 4786, 6574, 9308, 10380, 11879, 15883, 17345, 736, 752, 755, 5085, 5719, 9232, 113, 296, 327, 337, 350, 351, 352, 353, 456, 671, 831, 1376, 1533, 1561, 1567, 1578, 1602, 1864, 1957, 2489, 2947, 2948, 4114, 4662, 4713, 5753, 5938, 6117, 6980, 8133, 8206, 8217, 9907, 9979, 10153, 10257, 12221, 12863, 12963, 14951, 16442, 17249, 17497, 21031, 28669, 30709, 31500, 4443, 10527, 10528, 1374, 490, 505, 516, 860, 5684, 9893, 12191, 16419, 403, 10219, 24451, 24531, 31499, 31865, 33209, 345, 811, 1946, 1961, 2035, 4586, 6422, 7265, 11543, 649, 24029, 24469, 23319, 1034, 3371, 3665, 3466, 5420, 15735, 19581, 12057, 15811, 24471, 287, 178, 1411, 1534, 1930, 2084, 2087, 3076, 4124, 4703, 6527, 7645, 9288, 10821, 14127, 15307, 17357, 23083, 32160, 162, 200, 25729, 30868, 208, 584, 1241, 1410, 1454, 2971, 3270, 4080, 19193, 19195, 10187, 2848, 7144, 17731, 420, 812, 4718, 5141, 7453, 8115, 328, 25861, 30533, 3354, 31174, 11867, 6162, 9890, 11917, 3616, 23985, 32485, 2123, 3016, 499, 622, 1047, 1107, 1208, 1269, 1352, 1793, 1857, 1951, 1972, 1980, 2250, 2293, 2616, 2897, 2981, 3061, 3446, 4685, 4756, 5225, 5600, 5624, 6941, 8972, 9544, 10074, 25045, 910, 1243, 4156, 4792, 13767, 14627, 18099, 25567, 30191, 30948, 31552, 31561, 33524, 20035, 236, 503, 970, 1017, 1466, 1647, 1663, 1678, 1823, 2031, 2150, 2225, 2228, 2333, 2346, 2569, 2575, 2618, 2780, 2808, 2828, 2829, 3009, 3010, 3085, 3535, 3907, 4663, 4798, 5014, 5029, 5712, 5832, 5891, 7014, 7651, 10592, 12223, 22817, 30137, 31144, 31223, 31227, 32376, 1413, 1414, 1415, 1416, 1417, 1418, 1419, 1420, 1421, 1422, 1423, 1424, 1427, 1429, 1431, 1432, 1433, 1434, 1437, 1438, 3019, 4320, 4851, 6115, 8097, 10519, 15783, 18429, 20141, 22215, 23551, 25939, 4039, 5967, 5968, 179, 1171, 1779, 2134, 2436, 2562, 2590, 2943, 3586, 3587, 3916, 3918, 3941, 4473, 4653, 4714, 4775, 5054, 5305, 5762, 6194, 6705, 8635, 9311, 9362, 10457, 10570, 10668, 11467, 13171, 13643, 14347, 14663, 15093, 15095, 16614, 16656, 16914, 17949, 19051, 15895, 25647, 31683, 4983, 18599, 16317, 23115, 25241, 173, 2164, 3001, 4053, 8339, 13409, 4246, 415, 493, 573, 600, 647, 650, 1008, 1011, 1037, 1191, 1232, 1609, 1905, 2193, 2488, 3202, 4023, 4024, 4025, 5998, 7083, 7261, 9291, 11521, 15577, 17951, 17953, 17955, 17957, 18029, 18031, 18033, 18083, 18085, 18587, 18589, 18823, 18825, 18829, 6165, 18343, 18499, 18619, 23367, 206, 690, 1384, 2335, 3004, 5155, 7108, 8278, 10643, 11705, 12677, 13117, 13119, 19261, 10015, 56, 447, 581, 637, 866, 1026, 1246, 1276, 1277, 1868, 2356, 2528, 2905, 3268, 5226, 5333, 5868, 6199, 7322, 8507, 8518, 10479, 10516, 10545, 11255, 12053, 14479, 15325, 21373, 23619, 23697, 26023, 27945, 29123, 30324, 30385, 30524, 30711, 31128, 32606, 32682, 33082, 33372, 258, 2564, 4908, 2950, 6721, 308, 982, 1205, 2166, 2832, 2953, 3088, 4158, 5978, 6554, 9213, 10500, 15077, 20187, 9611, 315, 107, 159, 286, 377, 579, 832, 833, 1149, 1492, 1493, 1500, 1538, 1603, 1628, 1693, 2819, 4038, 4197, 7081, 8287, 8410, 9737, 10370, 10444, 10808, 11385, 12651, 13231, 17917, 651, 1995, 2821, 5904, 9600, 10671, 12501, 12997, 18449, 22901, 24751, 27967, 28205, 29876, 31064, 31118, 31138, 31326, 31521, 31598, 32574, 11177, 14277, 16405, 1974, 2534, 19575, 274, 1214, 1219, 1230, 1456, 1480, 1607, 1888, 2151, 2813, 3165, 3312, 3449, 3456, 3604, 3641, 4421, 4811, 5084, 5116, 5914, 6479, 6890, 6984, 7062, 7770, 8078, 9055, 9333, 9393, 9493, 9523, 9563, 9774, 9930, 9934, 9940, 10122, 10232, 10804, 10918, 11033, 11043, 11103, 11237, 11239, 11341, 11615, 11661, 11793, 12437, 12611, 12637, 12921, 13169, 13173, 13283, 13335, 13563, 13727, 13731, 13835, 14317, 14675, 14875, 15591, 15649, 15731, 15781, 15989, 17267, 17341, 17351, 17739, 17855, 19029, 20039, 20221, 20723, 21073, 21409, 21435, 21573, 21635, 21649, 21737, 23459, 29787, 4444, 10526, 9347, 4066, 31890, 29301, 32915, 2157, 2868, 2869, 12623, 31121, 4910, 6275, 16678, 368, 864, 927, 928, 2284, 2372, 2432, 2507, 2852, 3102, 3537, 3578, 3622, 3970, 3976, 3999, 4358, 4763, 5316, 5464, 5651, 5959, 6690, 6892, 7113, 7474, 7708, 9312, 9638, 9721, 10488, 10695, 11031, 11065, 11321, 11349, 11827, 13221, 13325, 13379, 14379, 14657, 14659, 14993, 14995, 15839, 16059, 17541, 18693, 19103, 20589, 20959, 21001, 21349, 21597, 21829, 22429, 22435, 22543, 22815, 25345, 25877, 27603, 28311, 28313, 28519, 28859, 29085, 29261, 29809, 30702, 31101, 31189, 31234, 31283, 31331, 31403, 31518, 31995, 32267, 32620, 4033, 10536, 1737, 7106, 958, 1881, 1882, 2525, 27927, 30218, 30721, 148, 358, 1206, 1441, 1554, 1721, 3549, 9053, 9931, 13215, 17635, 623, 646, 840, 851, 1135, 1591, 1825, 1830, 2124, 2132, 2409, 2451, 2784, 3419, 3618, 4082, 4361, 4596, 5032, 5045, 5080, 5199, 6226, 6330, 6743, 7041, 7744, 7882, 8211, 9159, 9290, 9328, 9591, 10152, 10180, 10477, 10807, 10933, 12131, 14957, 17277, 17551, 18355, 18881, 559, 758, 4650, 5288, 26449, 31105, 370, 383, 712, 924, 925, 926, 938, 978, 4554, 27785, 2706, 815, 8599, 1335, 3447, 3485, 21575, 22359, 842, 1235, 5308, 7774, 8057, 10297, 13561, 13757, 13855, 17419, 21119, 23781, 28013, 28063, 29413, 30464, 31851, 418, 1010, 1491, 5493, 10191, 10819, 10822, 10825, 252, 25341, 203, 229, 492, 608, 830, 941, 1079, 1186, 1234, 1336, 1372, 1401, 1489, 1787, 2011, 2014, 2136, 2178, 2185, 2188, 2262, 2751, 2798, 2811, 2873, 2883, 2884, 2988, 3000, 3050, 3992, 4350, 4997, 5097, 5172, 5347, 5686, 6189, 6235, 6590, 7066, 7264, 8101, 8653, 8837, 10325, 10629, 10792, 13057, 13223, 13239, 14129, 16756, 18455, 21451, 21267, 23361, 23369, 27887, 30912, 336, 446, 771, 1013, 1024, 1777, 2267, 2290, 2756, 3574, 4138, 5538, 6607, 10502, 12433, 12877, 15651, 17395, 22137, 8939, 909, 1167, 783, 2279, 33032, 560, 593, 1170, 1190, 5751, 6999, 29583, 31378, 551, 624, 1445, 1483, 1910, 2544, 4060, 4061, 5203, 10958, 16143, 16287, 31994, 2152, 15979, 484, 950, 1187, 1357, 2125, 2126, 2222, 2265, 2268, 2747, 3576, 4476, 5070, 5289, 5369, 5725, 6038, 6152, 6511, 6800, 6964, 7862, 8026, 9274, 9528, 17379, 814, 6985, 10109, 20969, 1084, 13799, 3772, 4524, 6714, 6392, 9744, 10827, 12055, 17867, 23605, 1293, 9988, 32950, 937, 2969, 1703, 31804, 32961, 1448, 1488, 1873, 2252, 2354, 2355, 8098, 8337, 1967, 1968, 1969, 2606, 1290, 1328, 1762, 2016, 2017, 2018, 2973, 3787, 16436, 23179, 28775, 29347, 32959, 6024, 7972, 24935, 30919, 31056, 31370, 32190, 33201, 1069, 582, 975, 976, 1196, 1711, 1757, 3070, 4056, 5670, 24457, 27653, 6438, 7303, 8609, 2603, 4549, 354, 3889, 201, 666, 1062, 1105, 9608, 9874, 13203, 13619, 17437, 21201, 22335, 23293, 26359, 612, 673, 1255, 2269, 2294, 2332, 2547, 2561, 2615, 2743, 3438, 3626, 3948, 3963, 3964, 4012, 4509, 4646, 4890, 5031, 5351, 6153, 6154, 6904, 7270, 8062, 9170, 10581, 11635, 12237, 15279, 16331, 17080, 17717, 18149, 19099, 21103, 23439, 23835, 23837, 28431, 30549, 6946, 22831, 1996, 6798, 11457, 14563, 16169, 26183, 31763, 6694, 3100, 3837, 311, 312, 313, 314, 795, 844, 911, 3868, 7861, 8542, 10384, 14359, 15015, 342, 23725, 10687, 12929, 21835, 32601, 8726, 306, 23701, 184, 2106, 11505, 12689, 9204, 733, 734, 1042, 2417, 10731, 15291, 31139, 12411, 983, 1718, 23359, 1198, 1720, 4166, 4804, 606, 1189, 1508, 1657, 15813, 20329, 21013, 21773, 22099, 22733, 22735, 27825, 28869, 30381, 2810, 2816, 3008, 757, 2767, 3962, 12907, 23151, 458, 629, 630, 769, 773, 870, 1182, 1484, 1528, 1558, 1630, 1643, 1701, 1702, 1780, 1805, 1855, 1944, 2217, 2324, 2325, 2433, 2437, 2453, 2522, 2524, 3793, 5020, 1041, 1080, 16233, 21041, 25719, 424, 11715, 20849, 22039, 23247, 24271, 33964, 253, 255, 29829, 29830, 29831, 4664, 29223, 31221, 951, 1375, 2334, 2542, 2555, 2557, 2570, 2577, 2783, 2799, 2825, 2826, 2912, 3036, 3043, 3053, 3125, 3186, 3196, 3460, 3754, 3807, 3847, 3877, 5267, 5273, 25897, 1490, 2717, 3854, 27947, 31645, 23487, 28683, 2413, 5603, 8039, 15867, 16472, 20377, 21751, 24641, 8705, 17655, 2613, 2614, 7308, 15711, 544, 1151, 1342, 1587, 2060, 2061, 2062, 2063, 5053, 6331, 6129, 10801, 13993, 32422, 14231, 25883, 1285, 635, 636, 956, 2467, 2471, 2612, 2701, 3272, 4375, 9119, 12145, 14211, 18577, 19999, 23363, 3745, 8358, 18989, 283, 367, 455, 495, 1373, 1695, 1806, 1983, 2214, 2392, 2648, 2649, 2651, 2736, 2757, 3424, 3432, 4926, 5494, 8208, 10534, 15159, 30649, 31665, 818, 6838, 219, 1082, 1898, 421, 569, 1168, 1256, 1258, 1481, 1592, 1919, 1920, 1921, 1922, 1923, 1924, 1925, 2118, 2449, 4639, 6567, 22677, 29129, 31096, 266, 297, 1097, 359, 525, 1156, 1350, 1544, 1760, 1966, 2261, 2318, 2419, 3005, 9241, 271, 580, 678, 1108, 1859, 5310, 7222, 10050, 1929, 2518, 151, 3737, 3738, 5397, 10513, 16347, 2351, 2800, 483, 1629, 526, 689, 722, 1031, 1904, 1906, 2917, 3227, 4190, 7254, 8022, 588, 1750, 3140, 3559, 3560, 3921, 4260, 14991, 8792, 11507, 141, 289, 683, 706, 1185, 1706, 5865, 6709, 21009, 22361, 27441, 32039, 633, 961, 1608, 2204, 2243, 2389, 3116, 3609, 6219, 1886, 992, 2109, 2110, 2165, 2713, 3493, 14989, 2287, 13495, 16381, 29941, 30014, 30988, 31280, 31440, 31519, 31909, 32228, 32547, 32740, 33011, 33569, 1370, 1550, 2000, 2138, 2319, 2500, 2526, 2646]\n",
            "encoded anime_id:   {8074: 0, 11617: 1, 11757: 2, 15451: 3, 11771: 4, 20: 5, 154: 6, 170: 7, 199: 8, 225: 9, 341: 10, 430: 11, 527: 12, 552: 13, 813: 14, 1119: 15, 1121: 16, 1122: 17, 1132: 18, 1292: 19, 1313: 20, 1526: 21, 1535: 22, 1564: 23, 1689: 24, 1764: 25, 1943: 26, 2201: 27, 2404: 28, 2847: 29, 3588: 30, 4026: 31, 5114: 32, 5231: 33, 6178: 34, 6702: 35, 6880: 36, 7695: 37, 9107: 38, 9135: 39, 9760: 40, 9917: 41, 9919: 42, 9989: 43, 10408: 44, 10507: 45, 11111: 46, 11703: 47, 11737: 48, 11759: 49, 12671: 50, 14075: 51, 14093: 52, 14345: 53, 14513: 54, 16498: 55, 16512: 56, 16782: 57, 16894: 58, 16918: 59, 17265: 60, 18097: 61, 18115: 62, 18393: 63, 19315: 64, 19815: 65, 20021: 66, 20159: 67, 20507: 68, 20583: 69, 21507: 70, 21881: 71, 22199: 72, 22297: 73, 22319: 74, 22547: 75, 22729: 76, 23301: 77, 23321: 78, 23333: 79, 23755: 80, 24415: 81, 26243: 82, 27631: 83, 27899: 84, 28121: 85, 28171: 86, 28223: 87, 28497: 88, 28701: 89, 28891: 90, 29854: 91, 31043: 92, 31859: 93, 6: 94, 15: 95, 17: 96, 18: 97, 22: 98, 24: 99, 30: 100, 45: 101, 47: 102, 57: 103, 63: 104, 67: 105, 68: 106, 132: 107, 136: 108, 137: 109, 138: 110, 139: 111, 150: 112, 152: 113, 166: 114, 174: 115, 185: 116, 186: 117, 189: 118, 190: 119, 195: 120, 205: 121, 223: 122, 232: 123, 240: 124, 241: 125, 245: 126, 248: 127, 249: 128, 250: 129, 263: 130, 264: 131, 265: 132, 268: 133, 269: 134, 272: 135, 288: 136, 292: 137, 335: 138, 344: 139, 371: 140, 379: 141, 390: 142, 392: 143, 406: 144, 442: 145, 443: 146, 448: 147, 481: 148, 482: 149, 487: 150, 508: 151, 517: 152, 528: 153, 534: 154, 550: 155, 709: 156, 760: 157, 761: 158, 846: 159, 861: 160, 874: 161, 896: 162, 898: 163, 903: 164, 905: 165, 914: 166, 918: 167, 936: 168, 981: 169, 987: 170, 1117: 171, 1138: 172, 1195: 173, 1210: 174, 1253: 175, 1254: 176, 1257: 177, 1469: 178, 1559: 179, 1614: 180, 1668: 181, 1669: 182, 1674: 183, 1840: 184, 1887: 185, 1913: 186, 1956: 187, 2034: 188, 2104: 189, 2116: 190, 2144: 191, 2159: 192, 2236: 193, 2248: 194, 2330: 195, 2363: 196, 2397: 197, 2398: 198, 2400: 199, 2418: 200, 2424: 201, 2472: 202, 2508: 203, 2594: 204, 2605: 205, 2684: 206, 2789: 207, 2907: 208, 2961: 209, 2962: 210, 2993: 211, 3228: 212, 3455: 213, 3503: 214, 3515: 215, 3655: 216, 3702: 217, 3712: 218, 3887: 219, 3974: 220, 4015: 221, 4052: 222, 4063: 223, 4214: 224, 4224: 225, 4437: 226, 4472: 227, 4548: 228, 4654: 229, 4667: 230, 4760: 231, 4975: 232, 4999: 233, 5040: 234, 5042: 235, 5251: 236, 5258: 237, 5277: 238, 5279: 239, 5526: 240, 5667: 241, 5680: 242, 5681: 243, 5958: 244, 6098: 245, 6201: 246, 6211: 247, 6324: 248, 6325: 249, 6347: 250, 6377: 251, 6385: 252, 6512: 253, 6547: 254, 6695: 255, 6746: 256, 6791: 257, 6885: 258, 6956: 259, 6974: 260, 7088: 261, 7148: 262, 7593: 263, 7647: 264, 7661: 265, 7674: 266, 7720: 267, 7762: 268, 7769: 269, 7791: 270, 7817: 271, 7858: 272, 8277: 273, 8302: 274, 8407: 275, 8408: 276, 8424: 277, 8457: 278, 8516: 279, 8525: 280, 8619: 281, 8675: 282, 8769: 283, 8841: 284, 9041: 285, 9074: 286, 9181: 287, 9220: 288, 9253: 289, 9355: 290, 9367: 291, 9379: 292, 9471: 293, 9479: 294, 9741: 295, 9936: 296, 9969: 297, 9981: 298, 10020: 299, 10030: 300, 10080: 301, 10108: 302, 10110: 303, 10119: 304, 10162: 305, 10163: 306, 10172: 307, 10209: 308, 10216: 309, 10396: 310, 10397: 311, 10521: 312, 10589: 313, 10638: 314, 10719: 315, 10790: 316, 10805: 317, 10863: 318, 10897: 319, 11013: 320, 11113: 321, 11179: 322, 11319: 323, 11371: 324, 11433: 325, 11499: 326, 11577: 327, 11633: 328, 11761: 329, 11785: 330, 11813: 331, 11843: 332, 11853: 333, 12069: 334, 12189: 335, 12431: 336, 12445: 337, 12447: 338, 12467: 339, 12549: 340, 12581: 341, 12673: 342, 12729: 343, 13055: 344, 13093: 345, 13161: 346, 13201: 347, 13333: 348, 13357: 349, 13367: 350, 13403: 351, 13479: 352, 13535: 353, 13659: 354, 13663: 355, 13759: 356, 13851: 357, 14027: 358, 14189: 359, 14199: 360, 14227: 361, 14349: 362, 14467: 363, 14527: 364, 14669: 365, 14685: 366, 14719: 367, 14741: 368, 14749: 369, 14813: 370, 14967: 371, 15039: 372, 15059: 373, 15225: 374, 15315: 375, 15335: 376, 15379: 377, 15417: 378, 15437: 379, 15565: 380, 15583: 381, 15609: 382, 15729: 383, 15771: 384, 15775: 385, 15809: 386, 16011: 387, 16067: 388, 16241: 389, 16353: 390, 16417: 391, 16444: 392, 16592: 393, 16636: 394, 16694: 395, 16706: 396, 16742: 397, 16866: 398, 17157: 399, 17247: 400, 17505: 401, 17641: 402, 17729: 403, 17741: 404, 17777: 405, 17827: 406, 17875: 407, 17895: 408, 18001: 409, 18039: 410, 18095: 411, 18139: 412, 18153: 413, 18179: 414, 18229: 415, 18247: 416, 18277: 417, 18441: 418, 18465: 419, 18497: 420, 18671: 421, 18677: 422, 18689: 423, 18753: 424, 18857: 425, 18897: 426, 19023: 427, 19163: 428, 19221: 429, 19363: 430, 19365: 431, 19369: 432, 19647: 433, 19769: 434, 19799: 435, 19953: 436, 20031: 437, 20045: 438, 20047: 439, 20053: 440, 20057: 441, 20431: 442, 20457: 443, 20541: 444, 20545: 445, 20689: 446, 20767: 447, 20785: 448, 20787: 449, 20847: 450, 20853: 451, 20899: 452, 20931: 453, 20939: 454, 20973: 455, 20977: 456, 21033: 457, 21085: 458, 21185: 459, 21189: 460, 21327: 461, 21405: 462, 21431: 463, 21561: 464, 21587: 465, 21603: 466, 21647: 467, 21781: 468, 21863: 469, 22147: 470, 22535: 471, 22789: 472, 23079: 473, 23199: 474, 23233: 475, 23251: 476, 23273: 477, 23277: 478, 23289: 479, 23309: 480, 23447: 481, 23847: 482, 24135: 483, 24171: 484, 24175: 485, 24627: 486, 24781: 487, 24873: 488, 24913: 489, 25157: 490, 25159: 491, 25183: 492, 25397: 493, 25429: 494, 25635: 495, 26055: 496, 26349: 497, 26441: 498, 28297: 499, 28677: 500, 28819: 501, 28907: 502, 29027: 503, 29035: 504, 29317: 505, 29785: 506, 29786: 507, 29803: 508, 30831: 509, 31240: 510, 31722: 511, 32182: 512, 32828: 513, 31: 514, 32: 515, 59: 516, 64: 517, 65: 518, 111: 519, 121: 520, 210: 521, 270: 522, 339: 523, 357: 524, 407: 525, 435: 526, 530: 527, 532: 528, 535: 529, 568: 530, 740: 531, 849: 532, 934: 533, 996: 534, 1172: 535, 1259: 536, 1563: 537, 1575: 538, 1719: 539, 1889: 540, 2012: 541, 2026: 542, 2131: 543, 2167: 544, 2213: 545, 2237: 546, 2759: 547, 2899: 548, 2904: 549, 2994: 550, 3086: 551, 3652: 552, 3784: 553, 3785: 554, 4028: 555, 4059: 556, 4181: 557, 4192: 558, 4382: 559, 4896: 560, 5233: 561, 5521: 562, 6166: 563, 6205: 564, 6213: 565, 6351: 566, 6811: 567, 8460: 568, 8861: 569, 8876: 570, 8937: 571, 9032: 572, 9047: 573, 9063: 574, 9618: 575, 9675: 576, 9756: 577, 9790: 578, 9958: 579, 10076: 580, 10456: 581, 10491: 582, 10588: 583, 10620: 584, 10794: 585, 11061: 586, 11743: 587, 11763: 588, 11933: 589, 11977: 590, 11979: 591, 11981: 592, 12783: 593, 12967: 594, 13261: 595, 13587: 596, 13939: 597, 14407: 598, 14653: 599, 14833: 600, 15117: 601, 15377: 602, 15411: 603, 15687: 604, 15879: 605, 15911: 606, 16049: 607, 16157: 608, 16700: 609, 16762: 610, 16934: 611, 16982: 612, 17513: 613, 17725: 614, 18041: 615, 18679: 616, 18893: 617, 19151: 618, 19367: 619, 19855: 620, 20033: 621, 20479: 622, 20919: 623, 21177: 624, 21325: 625, 21473: 626, 21511: 627, 21541: 628, 21653: 629, 21679: 630, 22057: 631, 22071: 632, 22273: 633, 22663: 634, 22961: 635, 23153: 636, 23227: 637, 23383: 638, 23421: 639, 23427: 640, 23945: 641, 24037: 642, 24075: 643, 24133: 644, 24227: 645, 24365: 646, 24543: 647, 24655: 648, 24703: 649, 24713: 650, 24765: 651, 25283: 652, 25687: 653, 25689: 654, 26351: 655, 27775: 656, 27787: 657, 27829: 658, 28179: 659, 28215: 660, 28285: 661, 28391: 662, 28713: 663, 28825: 664, 28979: 665, 28999: 666, 29067: 667, 29163: 668, 29589: 669, 30276: 670, 30296: 671, 30300: 672, 30307: 673, 30321: 674, 30347: 675, 30363: 676, 30365: 677, 30379: 678, 30384: 679, 30503: 680, 30544: 681, 30740: 682, 30749: 683, 30885: 684, 30991: 685, 31149: 686, 31156: 687, 31338: 688, 31404: 689, 31439: 690, 31442: 691, 31560: 692, 31630: 693, 31637: 694, 31704: 695, 31716: 696, 31737: 697, 31845: 698, 31867: 699, 31914: 700, 31952: 701, 31953: 702, 31980: 703, 32093: 704, 32108: 705, 32171: 706, 32215: 707, 32360: 708, 32380: 709, 32553: 710, 33091: 711, 33341: 712, 355: 713, 8630: 714, 10793: 715, 11241: 716, 43: 717, 44: 718, 61: 719, 104: 720, 120: 721, 122: 722, 143: 723, 149: 724, 164: 725, 177: 726, 202: 727, 243: 728, 338: 729, 416: 730, 431: 731, 440: 732, 441: 733, 449: 734, 450: 735, 451: 736, 452: 737, 497: 738, 512: 739, 513: 740, 522: 741, 523: 742, 531: 743, 543: 744, 565: 745, 572: 746, 578: 747, 589: 748, 597: 749, 687: 750, 723: 751, 759: 752, 790: 753, 853: 754, 855: 755, 879: 756, 997: 757, 1002: 758, 1032: 759, 1060: 760, 1118: 761, 1239: 762, 1240: 763, 1709: 764, 2313: 765, 2685: 766, 2890: 767, 3577: 768, 4898: 769, 5030: 770, 5060: 771, 6164: 772, 6280: 773, 6707: 774, 6747: 775, 12355: 776, 12365: 777, 13599: 778, 13601: 779, 18507: 780, 21241: 781, 21339: 782, 22145: 783, 22265: 784, 23281: 785, 25015: 786, 28675: 787, 302: 788, 877: 789, 1562: 790, 2025: 791, 4182: 792, 6033: 793, 6573: 794, 7338: 795, 8888: 796, 133: 797, 135: 798, 433: 799, 587: 800, 969: 801, 2129: 802, 2155: 803, 2336: 804, 2926: 805, 2927: 806, 3229: 807, 3299: 808, 4186: 809, 4938: 810, 5081: 811, 5734: 812, 5764: 813, 6408: 814, 6772: 815, 7590: 816, 8514: 817, 8536: 818, 8676: 819, 8934: 820, 9117: 821, 9252: 822, 9465: 823, 9724: 824, 9925: 825, 10092: 826, 10372: 827, 10447: 828, 10568: 829, 11597: 830, 11887: 831, 12175: 832, 14293: 833, 15689: 834, 16397: 835, 17074: 836, 17121: 837, 18245: 838, 19117: 839, 19775: 840, 21437: 841, 22839: 842, 1222: 843, 11285: 844, 19: 845, 66: 846, 114: 847, 226: 848, 227: 849, 228: 850, 256: 851, 323: 852, 413: 853, 437: 854, 468: 855, 486: 856, 570: 857, 664: 858, 770: 859, 777: 860, 889: 861, 932: 862, 949: 863, 1004: 864, 1033: 865, 1056: 866, 1379: 867, 1530: 868, 1852: 869, 2001: 870, 2175: 871, 2251: 872, 2476: 873, 2593: 874, 2924: 875, 3002: 876, 3087: 877, 3167: 878, 3287: 879, 3782: 880, 3783: 881, 4081: 882, 4091: 883, 4106: 884, 4107: 885, 4280: 886, 4282: 887, 4565: 888, 5177: 889, 5204: 890, 5205: 891, 5365: 892, 5682: 893, 5909: 894, 6114: 895, 6505: 896, 6594: 897, 6675: 898, 6954: 899, 7059: 900, 7311: 901, 7465: 902, 7785: 903, 8100: 904, 8142: 905, 8187: 906, 8795: 907, 9598: 908, 10087: 909, 10165: 910, 10271: 911, 10417: 912, 10448: 913, 10495: 914, 10624: 915, 10711: 916, 11235: 917, 11741: 918, 11809: 919, 12029: 920, 12403: 921, 12477: 922, 12531: 923, 13391: 924, 13629: 925, 13639: 926, 14045: 927, 14131: 928, 14353: 929, 14355: 930, 14807: 931, 14829: 932, 14853: 933, 15037: 934, 15043: 935, 15051: 936, 15125: 937, 15197: 938, 15199: 939, 15201: 940, 15699: 941, 16149: 942, 16528: 943, 16726: 944, 16732: 945, 16774: 946, 17269: 947, 17549: 948, 17677: 949, 17679: 950, 18121: 951, 18617: 952, 19111: 953, 19133: 954, 19429: 955, 19489: 956, 19573: 957, 19685: 958, 19703: 959, 20473: 960, 20509: 961, 20543: 962, 20709: 963, 20903: 964, 20965: 965, 21067: 966, 21353: 967, 21421: 968, 21809: 969, 21821: 970, 21843: 971, 21855: 972, 21995: 973, 22123: 974, 22135: 975, 22835: 976, 22865: 977, 23225: 978, 23249: 979, 23283: 980, 23285: 981, 23317: 982, 23433: 983, 23623: 984, 23673: 985, 23787: 986, 24031: 987, 24211: 988, 24231: 989, 24277: 990, 24439: 991, 24833: 992, 24997: 993, 25519: 994, 25875: 995, 26085: 996, 26165: 997, 26395: 998, 27387: 999, 27503: 1000, 27525: 1001, 27655: 1002, 27911: 1003, 28155: 1004, 28249: 1005, 28423: 1006, 28619: 1007, 28623: 1008, 28805: 1009, 28861: 1010, 28927: 1011, 30015: 1012, 30240: 1013, 30279: 1014, 30413: 1015, 30567: 1016, 31610: 1017, 31798: 1018, 31964: 1019, 32282: 1020, 32438: 1021, 32542: 1022, 32681: 1023, 32729: 1024, 32935: 1025, 32998: 1026, 34240: 1027, 317: 1028, 2952: 1029, 3457: 1030, 1: 1031, 5: 1032, 1519: 1033, 193: 1034, 325: 1035, 819: 1036, 1639: 1037, 3375: 1038, 5391: 1039, 6500: 1040, 6682: 1041, 7739: 1042, 10073: 1043, 97: 1044, 356: 1045, 417: 1046, 432: 1047, 457: 1048, 1212: 1049, 1361: 1050, 1637: 1051, 2621: 1052, 2705: 1053, 2709: 1054, 7711: 1055, 7724: 1056, 8129: 1057, 9289: 1058, 9513: 1059, 10321: 1060, 10418: 1061, 10893: 1062, 14073: 1063, 14889: 1064, 15605: 1065, 16009: 1066, 16201: 1067, 18411: 1068, 19159: 1069, 19841: 1070, 20423: 1071, 20555: 1072, 21273: 1073, 21667: 1074, 21771: 1075, 23209: 1076, 23385: 1077, 24893: 1078, 32491: 1079, 48: 1080, 96: 1081, 257: 1082, 298: 1083, 400: 1084, 469: 1085, 696: 1086, 763: 1087, 764: 1088, 857: 1089, 1264: 1090, 1502: 1091, 1675: 1092, 1816: 1093, 2156: 1094, 3791: 1095, 4719: 1096, 5337: 1097, 5781: 1098, 6633: 1099, 7334: 1100, 7740: 1101, 8456: 1102, 8918: 1103, 9201: 1104, 10330: 1105, 10464: 1106, 10924: 1107, 11005: 1108, 12065: 1109, 15963: 1110, 72: 1111, 376: 1112, 659: 1113, 1593: 1114, 1696: 1115, 3342: 1116, 6203: 1117, 7748: 1118, 8857: 1119, 9014: 1120, 9515: 1121, 10067: 1122, 10490: 1123, 11079: 1124, 7054: 1125, 13469: 1126, 14267: 1127, 17831: 1128, 479: 1129, 1604: 1130, 7592: 1131, 10049: 1132, 10213: 1133, 12049: 1134, 13411: 1135, 16668: 1136, 17651: 1137, 502: 1138, 731: 1139, 788: 1140, 827: 1141, 859: 1142, 891: 1143, 892: 1144, 893: 1145, 894: 1146, 895: 1147, 897: 1148, 899: 1149, 900: 1150, 901: 1151, 902: 1152, 904: 1153, 906: 1154, 972: 1155, 984: 1156, 985: 1157, 986: 1158, 1137: 1159, 1710: 1160, 1726: 1161, 1894: 1162, 2281: 1163, 2341: 1164, 2349: 1165, 2403: 1166, 2775: 1167, 4962: 1168, 5152: 1169, 6918: 1170, 9322: 1171, 10465: 1172, 11209: 1173, 11701: 1174, 12231: 1175, 12361: 1176, 14837: 1177, 15409: 1178, 15847: 1179, 18397: 1180, 21521: 1181, 21659: 1182, 28779: 1183, 30243: 1184, 30658: 1185, 30812: 1186, 3759: 1187, 9136: 1188, 2581: 1189, 6634: 1190, 9617: 1191, 9938: 1192, 10161: 1193, 12291: 1194, 12565: 1195, 13655: 1196, 14237: 1197, 14811: 1198, 16005: 1199, 16524: 1200, 1829: 1201, 1686: 1202, 2889: 1203, 4835: 1204, 8247: 1205, 12859: 1206, 147: 1207, 1860: 1208, 9001: 1209, 521: 1210, 1691: 1211, 2923: 1212, 3470: 1213, 2966: 1214, 6862: 1215, 9734: 1216, 10604: 1217, 16001: 1218, 17082: 1219, 71: 1220, 1818: 1221, 2787: 1222, 4581: 1223, 4725: 1224, 5034: 1225, 5355: 1226, 5593: 1227, 5940: 1228, 6773: 1229, 6895: 1230, 8086: 1231, 8449: 1232, 9065: 1233, 9331: 1234, 10079: 1235, 11751: 1236, 12031: 1237, 12413: 1238, 13331: 1239, 13807: 1240, 14283: 1241, 17389: 1242, 18767: 1243, 22687: 1244, 24405: 1245, 24455: 1246, 25867: 1247, 27821: 1248, 27831: 1249, 27833: 1250, 27991: 1251, 30205: 1252, 31163: 1253, 31430: 1254, 31478: 1255, 31559: 1256, 31580: 1257, 31821: 1258, 31904: 1259, 32023: 1260, 32379: 1261, 32668: 1262, 7411: 1263, 13125: 1264, 14289: 1265, 18195: 1266, 187: 1267, 237: 1268, 821: 1269, 822: 1270, 1723: 1271, 2608: 1272, 2951: 1273, 3614: 1274, 3731: 1275, 3931: 1276, 5118: 1277, 5228: 1278, 6645: 1279, 6945: 1280, 9587: 1281, 12725: 1282, 19613: 1283, 22507: 1284, 28881: 1285, 30952: 1286, 1498: 1287, 5458: 1288, 5525: 1289, 6030: 1290, 9330: 1291, 12293: 1292, 23325: 1293, 2964: 1294, 168: 1295, 198: 1296, 411: 1297, 845: 1298, 935: 1299, 940: 1300, 1482: 1301, 1566: 1302, 1827: 1303, 1965: 1304, 2216: 1305, 3091: 1306, 3230: 1307, 3389: 1308, 4087: 1309, 4177: 1310, 4196: 1311, 4744: 1312, 4752: 1313, 4918: 1314, 5342: 1315, 5530: 1316, 6920: 1317, 6973: 1318, 9941: 1319, 10155: 1320, 10260: 1321, 10578: 1322, 11783: 1323, 12017: 1324, 14765: 1325, 15109: 1326, 15119: 1327, 16035: 1328, 16890: 1329, 21235: 1330, 21329: 1331, 21415: 1332, 21939: 1333, 22097: 1334, 22877: 1335, 23311: 1336, 24687: 1337, 25013: 1338, 25099: 1339, 25731: 1340, 26443: 1341, 27411: 1342, 28617: 1343, 28977: 1344, 29093: 1345, 29095: 1346, 29101: 1347, 29325: 1348, 29758: 1349, 30091: 1350, 30654: 1351, 30782: 1352, 31318: 1353, 31405: 1354, 31710: 1355, 31741: 1356, 31764: 1357, 32083: 1358, 32094: 1359, 32595: 1360, 32608: 1361, 33421: 1362, 878: 1363, 953: 1364, 1023: 1365, 2030: 1366, 2158: 1367, 4981: 1368, 5630: 1369, 5955: 1370, 6774: 1371, 6793: 1372, 8915: 1373, 9745: 1374, 9834: 1375, 10083: 1376, 10249: 1377, 10721: 1378, 11266: 1379, 11837: 1380, 12685: 1381, 15085: 1382, 1571: 1383, 1579: 1384, 4722: 1385, 8425: 1386, 10800: 1387, 12711: 1388, 230: 1389, 242: 1390, 322: 1391, 464: 1392, 594: 1393, 907: 1394, 1072: 1395, 1074: 1396, 1532: 1397, 1912: 1398, 2112: 1399, 3089: 1400, 3572: 1401, 3656: 1402, 3848: 1403, 4151: 1404, 5065: 1405, 5300: 1406, 5702: 1407, 6045: 1408, 6046: 1409, 6444: 1410, 7058: 1411, 7103: 1412, 7367: 1413, 9656: 1414, 9754: 1415, 10350: 1416, 10379: 1417, 10389: 1418, 10391: 1419, 10686: 1420, 11375: 1421, 11665: 1422, 13115: 1423, 13245: 1424, 13833: 1425, 14397: 1426, 14713: 1427, 14753: 1428, 15487: 1429, 15751: 1430, 16033: 1431, 17259: 1432, 17391: 1433, 17409: 1434, 18523: 1435, 18745: 1436, 20655: 1437, 20673: 1438, 21105: 1439, 21439: 1440, 21563: 1441, 21743: 1442, 22043: 1443, 22101: 1444, 22433: 1445, 24701: 1446, 24991: 1447, 25303: 1448, 25649: 1449, 25681: 1450, 27417: 1451, 27633: 1452, 27663: 1453, 28211: 1454, 29974: 1455, 29976: 1456, 30056: 1457, 30458: 1458, 30714: 1459, 30901: 1460, 31297: 1461, 31374: 1462, 31376: 1463, 31452: 1464, 31680: 1465, 31754: 1466, 31772: 1467, 32365: 1468, 32370: 1469, 32566: 1470, 32648: 1471, 32664: 1472, 32696: 1473, 33028: 1474, 7082: 1475, 7337: 1476, 8479: 1477, 9982: 1478, 15195: 1479, 2494: 1480, 3927: 1481, 11021: 1482, 33: 1483, 90: 1484, 246: 1485, 278: 1486, 384: 1487, 876: 1488, 971: 1489, 1430: 1490, 1707: 1491, 1744: 1492, 2390: 1493, 4155: 1494, 5962: 1495, 6171: 1496, 9130: 1497, 13271: 1498, 25: 1499, 73: 1500, 165: 1501, 167: 1502, 239: 1503, 387: 1504, 467: 1505, 585: 1506, 801: 1507, 1140: 1508, 2154: 1509, 2596: 1510, 4789: 1511, 4901: 1512, 5341: 1513, 6372: 1514, 6637: 1515, 7193: 1516, 10090: 1517, 5356: 1518, 7017: 1519, 8440: 1520, 8465: 1521, 18849: 1522, 20651: 1523, 24727: 1524, 28069: 1525, 101: 1526, 6361: 1527, 6401: 1528, 11553: 1529, 1594: 1530, 5262: 1531, 16916: 1532, 850: 1533, 2842: 1534, 3092: 1535, 6877: 1536, 9926: 1537, 11123: 1538, 14123: 1539, 1826: 1540, 8246: 1541, 10681: 1542, 13667: 1543, 19285: 1544, 19669: 1545, 28625: 1546, 1050: 1547, 1281: 1548, 2963: 1549, 8557: 1550, 9888: 1551, 10378: 1552, 10739: 1553, 1221: 1554, 2766: 1555, 3901: 1556, 12883: 1557, 60: 1558, 412: 1559, 762: 1560, 908: 1561, 3713: 1562, 6421: 1563, 7902: 1564, 8068: 1565, 10842: 1566, 12079: 1567, 76: 1568, 10798: 1569, 16662: 1570, 1731: 1571, 5306: 1572, 8995: 1573, 3958: 1574, 5678: 1575, 7079: 1576, 12487: 1577, 14175: 1578, 329: 1579, 967: 1580, 1356: 1581, 16: 1582, 46: 1583, 74: 1584, 80: 1585, 86: 1586, 233: 1587, 401: 1588, 644: 1589, 1120: 1590, 1142: 1591, 1236: 1592, 1261: 1593, 2411: 1594, 2446: 1595, 2871: 1596, 3059: 1597, 3271: 1598, 4094: 1599, 4558: 1600, 4600: 1601, 4970: 1602, 6875: 1603, 6919: 1604, 8394: 1605, 13019: 1606, 6927: 1607, 8230: 1608, 9002: 1609, 9062: 1610, 10178: 1611, 10647: 1612, 12503: 1613, 12893: 1614, 15439: 1615, 16868: 1616, 19671: 1617, 21557: 1618, 21797: 1619, 22745: 1620, 24151: 1621, 31414: 1622, 33241: 1623, 196: 1624, 524: 1625, 591: 1626, 886: 1627, 1749: 1628, 6007: 1629, 11313: 1630, 12669: 1631, 18119: 1632, 20649: 1633, 134: 1634, 2006: 1635, 3231: 1636, 4765: 1637, 4886: 1638, 6884: 1639, 6948: 1640, 6951: 1641, 10263: 1642, 13859: 1643, 14893: 1644, 16099: 1645, 16199: 1646, 17743: 1647, 17909: 1648, 19383: 1649, 1690: 1650, 2986: 1651, 6624: 1652, 22763: 1653, 23441: 1654, 7472: 1655, 9735: 1656, 634: 1657, 408: 1658, 6151: 1659, 2762: 1660, 11491: 1661, 13377: 1662, 19319: 1663, 21569: 1664, 16680: 1665, 3464: 1666, 3561: 1667, 4163: 1668, 6896: 1669, 9750: 1670, 9863: 1671, 15719: 1672, 16395: 1673, 19759: 1674, 21167: 1675, 529: 1676, 1177: 1677, 1573: 1678, 5835: 1679, 6610: 1680, 743: 1681, 915: 1682, 1030: 1683, 3667: 1684, 6381: 1685, 6572: 1686, 9751: 1687, 10029: 1688, 12317: 1689, 12471: 1690, 12679: 1691, 14173: 1692, 16355: 1693, 3210: 1694, 4814: 1695, 7598: 1696, 1412: 1697, 103: 1698, 957: 1699, 1698: 1700, 1914: 1701, 1953: 1702, 4551: 1703, 5163: 1704, 6586: 1705, 8728: 1706, 8894: 1707, 9366: 1708, 9441: 1709, 10460: 1710, 20371: 1711, 20815: 1712, 372: 1713, 538: 1714, 1303: 1715, 1462: 1716, 20449: 1717, 21845: 1718, 32188: 1719, 32281: 1720, 79: 1721, 98: 1722, 99: 1723, 145: 1724, 169: 1725, 5079: 1726, 5675: 1727, 6922: 1728, 15359: 1729, 50: 1730, 93: 1731, 94: 1732, 276: 1733, 974: 1734, 6867: 1735, 9332: 1736, 13267: 1737, 197: 1738, 348: 1739, 488: 1740, 1516: 1741, 1642: 1742, 1688: 1743, 1728: 1744, 1838: 1745, 5717: 1746, 8560: 1747, 8768: 1748, 14511: 1749, 53: 1750, 267: 1751, 389: 1752, 807: 1753, 1067: 1754, 1536: 1755, 1606: 1756, 1679: 1757, 2683: 1758, 3359: 1759, 6704: 1760, 6758: 1761, 27: 1762, 54: 1763, 58: 1764, 81: 1765, 108: 1766, 180: 1767, 181: 1768, 884: 1769, 1194: 1770, 1380: 1771, 1682: 1772, 1810: 1773, 2002: 1774, 2273: 1775, 2589: 1776, 2795: 1777, 3407: 1778, 3653: 1779, 4415: 1780, 4672: 1781, 4726: 1782, 5039: 1783, 5072: 1784, 5178: 1785, 5220: 1786, 5505: 1787, 6288: 1788, 6336: 1789, 6794: 1790, 7540: 1791, 10294: 1792, 10689: 1793, 10693: 1794, 10713: 1795, 10714: 1796, 10715: 1797, 10716: 1798, 10717: 1799, 12015: 1800, 13709: 1801, 17187: 1802, 17535: 1803, 19191: 1804, 19255: 1805, 6987: 1806, 8577: 1807, 52: 1808, 293: 1809, 318: 1810, 477: 1811, 507: 1812, 519: 1813, 688: 1814, 693: 1815, 746: 1816, 785: 1817, 789: 1818, 825: 1819, 1161: 1820, 1250: 1821, 4866: 1822, 142: 1823, 719: 1824, 747: 1825, 1216: 1826, 1217: 1827, 2148: 1828, 2218: 1829, 2238: 1830, 5774: 1831, 5902: 1832, 8634: 1833, 12461: 1834, 12695: 1835, 14645: 1836, 7627: 1837, 9510: 1838, 1808: 1839, 62: 1840, 260: 1841, 291: 1842, 391: 1843, 419: 1844, 713: 1845, 1015: 1846, 9000: 1847, 9736: 1848, 9922: 1849, 10611: 1850, 15633: 1851, 18661: 1852, 33075: 1853, 204: 1854, 667: 1855, 1045: 1856, 1046: 1857, 1546: 1858, 1655: 1859, 5112: 1860, 5973: 1861, 665: 1862, 724: 1863, 741: 1864, 1051: 1865, 1102: 1866, 1192: 1867, 1202: 1868, 1220: 1869, 1576: 1870, 1622: 1871, 1640: 1872, 1977: 1873, 2592: 1874, 3613: 1875, 4353: 1876, 4477: 1877, 4879: 1878, 5332: 1879, 5656: 1880, 5690: 1881, 5784: 1882, 5984: 1883, 6581: 1884, 6736: 1885, 6787: 1886, 7110: 1887, 7588: 1888, 7705: 1889, 7857: 1890, 8063: 1891, 8190: 1892, 8426: 1893, 8476: 1894, 8666: 1895, 9120: 1896, 9624: 1897, 9630: 1898, 9723: 1899, 9761: 1900, 10483: 1901, 10935: 1902, 11001: 1903, 11135: 1904, 11355: 1905, 11663: 1906, 12137: 1907, 12419: 1908, 13585: 1909, 13863: 1910, 14145: 1911, 15933: 1912, 16023: 1913, 16518: 1914, 16904: 1915, 17371: 1916, 17573: 1917, 18177: 1918, 18295: 1919, 18549: 1920, 18953: 1921, 19211: 1922, 19257: 1923, 19391: 1924, 19653: 1925, 19945: 1926, 20971: 1927, 21335: 1928, 21497: 1929, 22583: 1930, 22673: 1931, 22689: 1932, 23037: 1933, 23133: 1934, 23201: 1935, 23327: 1936, 23775: 1937, 24261: 1938, 24475: 1939, 25143: 1940, 25781: 1941, 25835: 1942, 25839: 1943, 26213: 1944, 27727: 1945, 27989: 1946, 28025: 1947, 28283: 1948, 28607: 1949, 28735: 1950, 28791: 1951, 28817: 1952, 28981: 1953, 30230: 1954, 30346: 1955, 30705: 1956, 30895: 1957, 31109: 1958, 31229: 1959, 31245: 1960, 31251: 1961, 31417: 1962, 31540: 1963, 31636: 1964, 31790: 1965, 31815: 1966, 31846: 1967, 31973: 1968, 32011: 1969, 32175: 1970, 32245: 1971, 32483: 1972, 32697: 1973, 32947: 1974, 33037: 1975, 33080: 1976, 33222: 1977, 277: 1978, 366: 1979, 394: 1980, 563: 1981, 1016: 1982, 1065: 1983, 1453: 1984, 2163: 1985, 6443: 1986, 732: 1987, 2130: 1988, 2520: 1989, 4535: 1990, 6553: 1991, 8422: 1992, 11359: 1993, 12815: 1994, 13677: 1995, 18413: 1996, 19251: 1997, 20909: 1998, 25755: 1999, 299: 2000, 454: 2001, 459: 2002, 460: 2003, 461: 2004, 462: 2005, 463: 2006, 465: 2007, 873: 2008, 1143: 2009, 1487: 2010, 1994: 2011, 2107: 2012, 2928: 2013, 3269: 2014, 4130: 2015, 4469: 2016, 8740: 2017, 10390: 2018, 15219: 2019, 320: 2020, 340: 2021, 617: 2022, 834: 2023, 1109: 2024, 1824: 2025, 3323: 2026, 5386: 2027, 6591: 2028, 9023: 2029, 9690: 2030, 9716: 2031, 9731: 2032, 10334: 2033, 10504: 2034, 11083: 2035, 11441: 2036, 12067: 2037, 14617: 2038, 15323: 2039, 15959: 2040, 17205: 2041, 25161: 2042, 5194: 2043, 8023: 2044, 10196: 2045, 10572: 2046, 15613: 2047, 1029: 2048, 1520: 2049, 8532: 2050, 10189: 2051, 20871: 2052, 576: 2053, 1588: 2054, 1722: 2055, 2369: 2056, 3467: 2057, 6023: 2058, 10928: 2059, 23587: 2060, 30123: 2061, 30344: 2062, 30355: 2063, 207: 2064, 326: 2065, 369: 2066, 395: 2067, 514: 2068, 586: 2069, 885: 2070, 1106: 2071, 1486: 2072, 2202: 2073, 2235: 2074, 3326: 2075, 3743: 2076, 3906: 2077, 4095: 2078, 4460: 2079, 8475: 2080, 10218: 2081, 12113: 2082, 12115: 2083, 14751: 2084, 21677: 2085, 31098: 2086, 31181: 2087, 31733: 2088, 32189: 2089, 32268: 2090, 12753: 2091, 20745: 2092, 24625: 2093, 4550: 2094, 3031: 2095, 3032: 2096, 3033: 2097, 4712: 2098, 8624: 2099, 15005: 2100, 19021: 2101, 23703: 2102, 30925: 2103, 31848: 2104, 32013: 2105, 627: 2106, 1090: 2107, 1091: 2108, 1092: 2109, 3972: 2110, 10197: 2111, 182: 2112, 962: 2113, 2563: 2114, 3297: 2115, 6172: 2116, 6802: 2117, 10690: 2118, 17491: 2119, 30825: 2120, 106: 2121, 9776: 2122, 10737: 2123, 11339: 2124, 18851: 2125, 24705: 2126, 26057: 2127, 7870: 2128, 385: 2129, 405: 2130, 2746: 2131, 100: 2132, 123: 2133, 161: 2134, 476: 2135, 721: 2136, 738: 2137, 1127: 2138, 1509: 2139, 1699: 2140, 2153: 2141, 2162: 2142, 2772: 2143, 3298: 2144, 3615: 2145, 4884: 2146, 11755: 2147, 17873: 2148, 19291: 2149, 24459: 2150, 30415: 2151, 31592: 2152, 33046: 2153, 33558: 2154, 7: 2155, 26: 2156, 51: 2157, 102: 2158, 129: 2159, 130: 2160, 131: 2161, 144: 2162, 155: 2163, 156: 2164, 157: 2165, 158: 2166, 251: 2167, 281: 2168, 300: 2169, 365: 2170, 425: 2171, 439: 2172, 444: 2173, 536: 2174, 553: 2175, 595: 2176, 596: 2177, 601: 2178, 610: 2179, 656: 2180, 658: 2181, 704: 2182, 756: 2183, 867: 2184, 868: 2185, 869: 2186, 875: 2187, 916: 2188, 1019: 2189, 1020: 2190, 1043: 2191, 1055: 2192, 1066: 2193, 1078: 2194, 1112: 2195, 1225: 2196, 1311: 2197, 1324: 2198, 1496: 2199, 1531: 2200, 1654: 2201, 1729: 2202, 1747: 2203, 1815: 2204, 1836: 2205, 1869: 2206, 1890: 2207, 1908: 2208, 1958: 2209, 2033: 2210, 2143: 2211, 2246: 2212, 2274: 2213, 2602: 2214, 2729: 2215, 2768: 2216, 2954: 2217, 2985: 2218, 3057: 2219, 3080: 2220, 3121: 2221, 3174: 2222, 3318: 2223, 3328: 2224, 3420: 2225, 3429: 2226, 3430: 2227, 3468: 2228, 3469: 2229, 3508: 2230, 3701: 2231, 3750: 2232, 3841: 2233, 4021: 2234, 4037: 2235, 4772: 2236, 4872: 2237, 5196: 2238, 5244: 2239, 5772: 2240, 5957: 2241, 6064: 2242, 6127: 2243, 6163: 2244, 6187: 2245, 6299: 2246, 6399: 2247, 6768: 2248, 6864: 2249, 6958: 2250, 7044: 2251, 7135: 2252, 7396: 2253, 7669: 2254, 8038: 2255, 8079: 2256, 8197: 2257, 8481: 2258, 8985: 2259, 9088: 2260, 9712: 2261, 10098: 2262, 10445: 2263, 10469: 2264, 10870: 2265, 10945: 2266, 11531: 2267, 12665: 2268, 13281: 2269, 17901: 2270, 9310: 2271, 10552: 2272, 284: 2273, 509: 2274, 16870: 2275, 25389: 2276, 708: 2277, 1685: 2278, 12021: 2279, 28: 2280, 212: 2281, 604: 2282, 620: 2283, 882: 2284, 883: 2285, 1110: 2286, 1278: 2287, 1296: 2288, 1362: 2289, 1681: 2290, 1813: 2291, 2611: 2292, 2937: 2293, 3011: 2294, 3861: 2295, 9782: 2296, 12455: 2297, 15863: 2298, 191: 2299, 192: 2300, 221: 2301, 222: 2302, 427: 2303, 564: 2304, 1619: 2305, 1732: 2306, 10278: 2307, 14835: 2308, 109: 2309, 10012: 2310, 20889: 2311, 21879: 2312, 501: 2313, 1252: 2314, 3366: 2315, 4134: 2316, 11739: 2317, 30911: 2318, 77: 2319, 85: 2320, 87: 2321, 95: 2322, 153: 2323, 194: 2324, 285: 2325, 290: 2326, 474: 2327, 478: 2328, 820: 2329, 1088: 2330, 1089: 2331, 1397: 2332, 1915: 2333, 4985: 2334, 5941: 2335, 11227: 2336, 21469: 2337, 24629: 2338, 28621: 2339, 33221: 2340, 330: 2341, 426: 2342, 1157: 2343, 2071: 2344, 1601: 2345, 1517: 2346, 160: 2347, 1025: 2348, 9999: 2349, 16239: 2350, 1581: 2351, 4195: 2352, 34103: 2353, 12149: 2354, 14921: 2355, 14941: 2356, 254: 2357, 489: 2358, 1279: 2359, 10765: 2360, 15807: 2361, 16051: 2362, 20155: 2363, 279: 2364, 445: 2365, 603: 2366, 854: 2367, 1174: 2368, 1408: 2369, 1954: 2370, 2105: 2371, 2275: 2372, 2276: 2373, 2523: 2374, 4262: 2375, 7662: 2376, 7768: 2377, 8141: 2378, 8908: 2379, 10923: 2380, 14373: 2381, 15793: 2382, 5671: 2383, 10884: 2384, 16123: 2385, 32526: 2386, 9875: 2387, 537: 2388, 979: 2389, 998: 2390, 2263: 2391, 10702: 2392, 880: 2393, 1086: 2394, 1218: 2395, 1543: 2396, 1565: 2397, 2108: 2398, 3594: 2399, 5507: 2400, 6676: 2401, 11697: 2402, 16335: 2403, 16385: 2404, 17115: 2405, 22777: 2406, 28755: 2407, 31711: 2408, 32551: 2409, 33142: 2410, 382: 2411, 18713: 2412, 3636: 2413, 7745: 2414, 10470: 2415, 10740: 2416, 17273: 2417, 17919: 2418, 25805: 2419, 28387: 2420, 30375: 2421, 30915: 2422, 32879: 2423, 247: 2424, 2020: 2425, 3322: 2426, 10497: 2427, 119: 2428, 125: 2429, 126: 2430, 146: 2431, 175: 2432, 209: 2433, 218: 2434, 238: 2435, 259: 2436, 261: 2437, 262: 2438, 275: 2439, 303: 2440, 343: 2441, 346: 2442, 471: 2443, 472: 2444, 546: 2445, 547: 2446, 554: 2447, 555: 2448, 577: 2449, 590: 2450, 609: 2451, 615: 2452, 626: 2453, 648: 2454, 668: 2455, 682: 2456, 685: 2457, 694: 2458, 710: 2459, 824: 2460, 835: 2461, 836: 2462, 856: 2463, 988: 2464, 1048: 2465, 1128: 2466, 1133: 2467, 1164: 2468, 1514: 2469, 1555: 2470, 1557: 2471, 1568: 2472, 1569: 2473, 1570: 2474, 1648: 2475, 1727: 2476, 1807: 2477, 2015: 2478, 2027: 2479, 2367: 2480, 2595: 2481, 2960: 2482, 2970: 2483, 3166: 2484, 3247: 2485, 3358: 2486, 3593: 2487, 3627: 2488, 3654: 2489, 4450: 2490, 4566: 2491, 4720: 2492, 5041: 2493, 5216: 2494, 5504: 2495, 6489: 2496, 6979: 2497, 7596: 2498, 8310: 2499, 8986: 2500, 9581: 2501, 9793: 2502, 10017: 2503, 10033: 2504, 10156: 2505, 10659: 2506, 12979: 2507, 14515: 2508, 14827: 2509, 15133: 2510, 15391: 2511, 16508: 2512, 17397: 2513, 18055: 2514, 19845: 2515, 20517: 2516, 21039: 2517, 24011: 2518, 25517: 2519, 28537: 2520, 28883: 2521, 28929: 2522, 30187: 2523, 30250: 2524, 30383: 2525, 30746: 2526, 31091: 2527, 31143: 2528, 31147: 2529, 31173: 2530, 31797: 2531, 32313: 2532, 32323: 2533, 2744: 2534, 1435: 2535, 6069: 2536, 11679: 2537, 15313: 2538, 22537: 2539, 12367: 2540, 779: 2541, 780: 2542, 781: 2543, 1363: 2544, 1364: 2545, 1365: 2546, 1366: 2547, 1367: 2548, 1505: 2549, 1506: 2550, 2171: 2551, 2298: 2552, 4447: 2553, 5460: 2554, 6467: 2555, 7016: 2556, 8241: 2557, 9963: 2558, 10301: 2559, 12117: 2560, 12879: 2561, 14735: 2562, 17643: 2563, 18045: 2564, 21419: 2565, 28479: 2566, 28593: 2567, 28725: 2568, 28957: 2569, 30100: 2570, 30206: 2571, 31324: 2572, 31368: 2573, 31389: 2574, 31553: 2575, 32561: 2576, 33161: 2577, 82: 2578, 84: 2579, 88: 2580, 324: 2581, 1095: 2582, 1096: 2583, 1209: 2584, 1288: 2585, 1289: 2586, 1301: 2587, 1302: 2588, 1650: 2589, 1916: 2590, 1917: 2591, 3014: 2592, 3111: 2593, 4232: 2594, 16664: 2595, 23259: 2596, 24835: 2597, 183: 2598, 386: 2599, 558: 2600, 1327: 2601, 1842: 2602, 3226: 2603, 5028: 2604, 7655: 2605, 12875: 2606, 20533: 2607, 393: 2608, 1094: 2609, 9260: 2610, 11487: 2611, 11735: 2612, 19185: 2613, 19521: 2614, 22539: 2615, 30795: 2616, 31483: 2617, 31490: 2618, 32051: 2619, 33338: 2620, 1847: 2621, 21681: 2622, 22189: 2623, 75: 2624, 89: 2625, 92: 2626, 110: 2627, 115: 2628, 116: 2629, 321: 2630, 388: 2631, 396: 2632, 397: 2633, 404: 2634, 473: 2635, 944: 2636, 995: 2637, 1005: 2638, 1021: 2639, 1215: 2640, 1251: 2641, 1425: 2642, 1426: 2643, 1485: 2644, 1541: 2645, 1618: 2646, 1651: 2647, 1652: 2648, 1835: 2649, 1985: 2650, 2043: 2651, 2142: 2652, 2227: 2653, 2229: 2654, 2253: 2655, 2391: 2656, 2405: 2657, 2543: 2658, 2559: 2659, 2752: 2660, 2913: 2661, 3044: 2662, 3437: 2663, 3481: 2664, 3631: 2665, 4073: 2666, 4385: 2667, 5189: 2668, 5252: 2669, 5311: 2670, 5485: 2671, 5658: 2672, 11859: 2673, 12001: 2674, 105: 2675, 470: 2676, 614: 2677, 631: 2678, 641: 2679, 642: 2680, 645: 2681, 841: 2682, 863: 2683, 881: 2684, 2205: 2685, 3225: 2686, 3673: 2687, 3965: 2688, 4715: 2689, 5132: 2690, 5150: 2691, 5162: 2692, 5597: 2693, 5713: 2694, 6712: 2695, 7468: 2696, 7559: 2697, 9203: 2698, 10547: 2699, 10934: 2700, 14575: 2701, 17745: 2702, 27891: 2703, 1589: 2704, 10075: 2705, 18495: 2706, 25879: 2707, 31715: 2708, 30806: 2709, 127: 2710, 128: 2711, 670: 2712, 776: 2713, 933: 2714, 2580: 2715, 3956: 2716, 4188: 2717, 4903: 2718, 5454: 2719, 6050: 2720, 6748: 2721, 7875: 2722, 8917: 2723, 10298: 2724, 10532: 2725, 10582: 2726, 10628: 2727, 11161: 2728, 12281: 2729, 12505: 2730, 12823: 2731, 13429: 2732, 15951: 2733, 16910: 2734, 17585: 2735, 17637: 2736, 17681: 2737, 17821: 2738, 24695: 2739, 27957: 2740, 30651: 2741, 31793: 2742, 32801: 2743, 17849: 2744, 838: 2745, 10308: 2746, 438: 2747, 1358: 2748, 793: 2749, 1952: 2750, 4334: 2751, 4773: 2752, 5005: 2753, 6016: 2754, 6582: 2755, 6583: 2756, 16211: 2757, 1525: 2758, 2619: 2759, 2620: 2760, 2782: 2761, 4389: 2762, 4793: 2763, 4794: 2764, 4795: 2765, 4874: 2766, 5027: 2767, 5529: 2768, 5845: 2769, 6555: 2770, 6893: 2771, 8438: 2772, 8709: 2773, 8815: 2774, 9911: 2775, 10302: 2776, 10419: 2777, 10779: 2778, 10916: 2779, 10917: 2780, 11009: 2781, 11019: 2782, 11069: 2783, 11073: 2784, 11717: 2785, 12187: 2786, 12255: 2787, 13183: 2788, 13251: 2789, 13263: 2790, 13595: 2791, 15537: 2792, 15881: 2793, 15927: 2794, 16604: 2795, 16608: 2796, 16610: 2797, 17879: 2798, 19109: 2799, 19697: 2800, 20359: 2801, 20365: 2802, 20557: 2803, 20743: 2804, 20913: 2805, 22225: 2806, 22759: 2807, 23121: 2808, 23237: 2809, 23269: 2810, 23299: 2811, 23341: 2812, 23399: 2813, 23579: 2814, 24699: 2815, 24821: 2816, 24855: 2817, 24919: 2818, 24921: 2819, 25011: 2820, 25285: 2821, 25859: 2822, 25907: 2823, 25943: 2824, 27509: 2825, 27539: 2826, 27601: 2827, 27969: 2828, 28105: 2829, 28221: 2830, 28299: 2831, 28405: 2832, 28531: 2833, 28789: 2834, 28841: 2835, 29083: 2836, 29511: 2837, 29513: 2838, 29515: 2839, 29517: 2840, 29575: 2841, 29705: 2842, 30127: 2843, 30251: 2844, 30358: 2845, 30437: 2846, 30460: 2847, 30514: 2848, 30543: 2849, 30583: 2850, 30585: 2851, 30745: 2852, 30813: 2853, 30826: 2854, 30902: 2855, 31080: 2856, 31498: 2857, 31564: 2858, 31578: 2859, 31621: 2860, 31706: 2861, 31756: 2862, 31771: 2863, 31918: 2864, 32214: 2865, 32309: 2866, 32454: 2867, 32667: 2868, 32863: 2869, 32906: 2870, 32954: 2871, 9539: 2872, 13145: 2873, 15611: 2874, 19123: 2875, 91: 2876, 124: 2877, 380: 2878, 381: 2879, 539: 2880, 541: 2881, 567: 2882, 598: 2883, 1006: 2884, 1144: 2885, 2604: 2886, 6112: 2887, 19115: 2888, 990: 2889, 49: 2890, 55: 2891, 244: 2892, 349: 2893, 398: 2894, 399: 2895, 566: 2896, 766: 2897, 1003: 2898, 1583: 2899, 1817: 2900, 3090: 2901, 5074: 2902, 6291: 2903, 6380: 2904, 6425: 2905, 6587: 2906, 7463: 2907, 10336: 2908, 10357: 2909, 12579: 2910, 15617: 2911, 27857: 2912, 334: 2913, 520: 2914, 540: 2915, 792: 2916, 1007: 2917, 1101: 2918, 1146: 2919, 1147: 2920, 2725: 2921, 9396: 2922, 10351: 2923, 304: 2924, 466: 2925, 504: 2926, 618: 2927, 837: 2928, 963: 2929, 1009: 2930, 1237: 2931, 1238: 2932, 1694: 2933, 1799: 2934, 1800: 2935, 1861: 2936, 2170: 2937, 2198: 2938, 2210: 2939, 2385: 2940, 2386: 2941, 2490: 2942, 2498: 2943, 2499: 2944, 2680: 2945, 3221: 2946, 3352: 2947, 3392: 2948, 3954: 2949, 4205: 2950, 4657: 2951, 4705: 2952, 6032: 2953, 6287: 2954, 6344: 2955, 6379: 2956, 6548: 2957, 6783: 2958, 7375: 2959, 7580: 2960, 7805: 2961, 8171: 2962, 8231: 2963, 8311: 2964, 8348: 2965, 8487: 2966, 8909: 2967, 9202: 2968, 9314: 2969, 10622: 2970, 10834: 2971, 10920: 2972, 11077: 2973, 11769: 2974, 11889: 2975, 12119: 2976, 12429: 2977, 12449: 2978, 12709: 2979, 12857: 2980, 13137: 2981, 13259: 2982, 13309: 2983, 13373: 2984, 13375: 2985, 15431: 2986, 16273: 2987, 16468: 2988, 17791: 2989, 17811: 2990, 17813: 2991, 17815: 2992, 17819: 2993, 19951: 2994, 22117: 2995, 22125: 2996, 22859: 2997, 23989: 2998, 27939: 2999, 29998: 3000, 30382: 3001, 30981: 3002, 31051: 3003, 31289: 3004, 8: 3005, 1123: 3006, 4618: 3007, 5691: 3008, 5947: 3009, 9124: 3010, 10431: 3011, 4069: 3012, 19511: 3013, 25313: 3014, 548: 3015, 4786: 3016, 6574: 3017, 9308: 3018, 10380: 3019, 11879: 3020, 15883: 3021, 17345: 3022, 736: 3023, 752: 3024, 755: 3025, 5085: 3026, 5719: 3027, 9232: 3028, 113: 3029, 296: 3030, 327: 3031, 337: 3032, 350: 3033, 351: 3034, 352: 3035, 353: 3036, 456: 3037, 671: 3038, 831: 3039, 1376: 3040, 1533: 3041, 1561: 3042, 1567: 3043, 1578: 3044, 1602: 3045, 1864: 3046, 1957: 3047, 2489: 3048, 2947: 3049, 2948: 3050, 4114: 3051, 4662: 3052, 4713: 3053, 5753: 3054, 5938: 3055, 6117: 3056, 6980: 3057, 8133: 3058, 8206: 3059, 8217: 3060, 9907: 3061, 9979: 3062, 10153: 3063, 10257: 3064, 12221: 3065, 12863: 3066, 12963: 3067, 14951: 3068, 16442: 3069, 17249: 3070, 17497: 3071, 21031: 3072, 28669: 3073, 30709: 3074, 31500: 3075, 4443: 3076, 10527: 3077, 10528: 3078, 1374: 3079, 490: 3080, 505: 3081, 516: 3082, 860: 3083, 5684: 3084, 9893: 3085, 12191: 3086, 16419: 3087, 403: 3088, 10219: 3089, 24451: 3090, 24531: 3091, 31499: 3092, 31865: 3093, 33209: 3094, 345: 3095, 811: 3096, 1946: 3097, 1961: 3098, 2035: 3099, 4586: 3100, 6422: 3101, 7265: 3102, 11543: 3103, 649: 3104, 24029: 3105, 24469: 3106, 23319: 3107, 1034: 3108, 3371: 3109, 3665: 3110, 3466: 3111, 5420: 3112, 15735: 3113, 19581: 3114, 12057: 3115, 15811: 3116, 24471: 3117, 287: 3118, 178: 3119, 1411: 3120, 1534: 3121, 1930: 3122, 2084: 3123, 2087: 3124, 3076: 3125, 4124: 3126, 4703: 3127, 6527: 3128, 7645: 3129, 9288: 3130, 10821: 3131, 14127: 3132, 15307: 3133, 17357: 3134, 23083: 3135, 32160: 3136, 162: 3137, 200: 3138, 25729: 3139, 30868: 3140, 208: 3141, 584: 3142, 1241: 3143, 1410: 3144, 1454: 3145, 2971: 3146, 3270: 3147, 4080: 3148, 19193: 3149, 19195: 3150, 10187: 3151, 2848: 3152, 7144: 3153, 17731: 3154, 420: 3155, 812: 3156, 4718: 3157, 5141: 3158, 7453: 3159, 8115: 3160, 328: 3161, 25861: 3162, 30533: 3163, 3354: 3164, 31174: 3165, 11867: 3166, 6162: 3167, 9890: 3168, 11917: 3169, 3616: 3170, 23985: 3171, 32485: 3172, 2123: 3173, 3016: 3174, 499: 3175, 622: 3176, 1047: 3177, 1107: 3178, 1208: 3179, 1269: 3180, 1352: 3181, 1793: 3182, 1857: 3183, 1951: 3184, 1972: 3185, 1980: 3186, 2250: 3187, 2293: 3188, 2616: 3189, 2897: 3190, 2981: 3191, 3061: 3192, 3446: 3193, 4685: 3194, 4756: 3195, 5225: 3196, 5600: 3197, 5624: 3198, 6941: 3199, 8972: 3200, 9544: 3201, 10074: 3202, 25045: 3203, 910: 3204, 1243: 3205, 4156: 3206, 4792: 3207, 13767: 3208, 14627: 3209, 18099: 3210, 25567: 3211, 30191: 3212, 30948: 3213, 31552: 3214, 31561: 3215, 33524: 3216, 20035: 3217, 236: 3218, 503: 3219, 970: 3220, 1017: 3221, 1466: 3222, 1647: 3223, 1663: 3224, 1678: 3225, 1823: 3226, 2031: 3227, 2150: 3228, 2225: 3229, 2228: 3230, 2333: 3231, 2346: 3232, 2569: 3233, 2575: 3234, 2618: 3235, 2780: 3236, 2808: 3237, 2828: 3238, 2829: 3239, 3009: 3240, 3010: 3241, 3085: 3242, 3535: 3243, 3907: 3244, 4663: 3245, 4798: 3246, 5014: 3247, 5029: 3248, 5712: 3249, 5832: 3250, 5891: 3251, 7014: 3252, 7651: 3253, 10592: 3254, 12223: 3255, 22817: 3256, 30137: 3257, 31144: 3258, 31223: 3259, 31227: 3260, 32376: 3261, 1413: 3262, 1414: 3263, 1415: 3264, 1416: 3265, 1417: 3266, 1418: 3267, 1419: 3268, 1420: 3269, 1421: 3270, 1422: 3271, 1423: 3272, 1424: 3273, 1427: 3274, 1429: 3275, 1431: 3276, 1432: 3277, 1433: 3278, 1434: 3279, 1437: 3280, 1438: 3281, 3019: 3282, 4320: 3283, 4851: 3284, 6115: 3285, 8097: 3286, 10519: 3287, 15783: 3288, 18429: 3289, 20141: 3290, 22215: 3291, 23551: 3292, 25939: 3293, 4039: 3294, 5967: 3295, 5968: 3296, 179: 3297, 1171: 3298, 1779: 3299, 2134: 3300, 2436: 3301, 2562: 3302, 2590: 3303, 2943: 3304, 3586: 3305, 3587: 3306, 3916: 3307, 3918: 3308, 3941: 3309, 4473: 3310, 4653: 3311, 4714: 3312, 4775: 3313, 5054: 3314, 5305: 3315, 5762: 3316, 6194: 3317, 6705: 3318, 8635: 3319, 9311: 3320, 9362: 3321, 10457: 3322, 10570: 3323, 10668: 3324, 11467: 3325, 13171: 3326, 13643: 3327, 14347: 3328, 14663: 3329, 15093: 3330, 15095: 3331, 16614: 3332, 16656: 3333, 16914: 3334, 17949: 3335, 19051: 3336, 15895: 3337, 25647: 3338, 31683: 3339, 4983: 3340, 18599: 3341, 16317: 3342, 23115: 3343, 25241: 3344, 173: 3345, 2164: 3346, 3001: 3347, 4053: 3348, 8339: 3349, 13409: 3350, 4246: 3351, 415: 3352, 493: 3353, 573: 3354, 600: 3355, 647: 3356, 650: 3357, 1008: 3358, 1011: 3359, 1037: 3360, 1191: 3361, 1232: 3362, 1609: 3363, 1905: 3364, 2193: 3365, 2488: 3366, 3202: 3367, 4023: 3368, 4024: 3369, 4025: 3370, 5998: 3371, 7083: 3372, 7261: 3373, 9291: 3374, 11521: 3375, 15577: 3376, 17951: 3377, 17953: 3378, 17955: 3379, 17957: 3380, 18029: 3381, 18031: 3382, 18033: 3383, 18083: 3384, 18085: 3385, 18587: 3386, 18589: 3387, 18823: 3388, 18825: 3389, 18829: 3390, 6165: 3391, 18343: 3392, 18499: 3393, 18619: 3394, 23367: 3395, 206: 3396, 690: 3397, 1384: 3398, 2335: 3399, 3004: 3400, 5155: 3401, 7108: 3402, 8278: 3403, 10643: 3404, 11705: 3405, 12677: 3406, 13117: 3407, 13119: 3408, 19261: 3409, 10015: 3410, 56: 3411, 447: 3412, 581: 3413, 637: 3414, 866: 3415, 1026: 3416, 1246: 3417, 1276: 3418, 1277: 3419, 1868: 3420, 2356: 3421, 2528: 3422, 2905: 3423, 3268: 3424, 5226: 3425, 5333: 3426, 5868: 3427, 6199: 3428, 7322: 3429, 8507: 3430, 8518: 3431, 10479: 3432, 10516: 3433, 10545: 3434, 11255: 3435, 12053: 3436, 14479: 3437, 15325: 3438, 21373: 3439, 23619: 3440, 23697: 3441, 26023: 3442, 27945: 3443, 29123: 3444, 30324: 3445, 30385: 3446, 30524: 3447, 30711: 3448, 31128: 3449, 32606: 3450, 32682: 3451, 33082: 3452, 33372: 3453, 258: 3454, 2564: 3455, 4908: 3456, 2950: 3457, 6721: 3458, 308: 3459, 982: 3460, 1205: 3461, 2166: 3462, 2832: 3463, 2953: 3464, 3088: 3465, 4158: 3466, 5978: 3467, 6554: 3468, 9213: 3469, 10500: 3470, 15077: 3471, 20187: 3472, 9611: 3473, 315: 3474, 107: 3475, 159: 3476, 286: 3477, 377: 3478, 579: 3479, 832: 3480, 833: 3481, 1149: 3482, 1492: 3483, 1493: 3484, 1500: 3485, 1538: 3486, 1603: 3487, 1628: 3488, 1693: 3489, 2819: 3490, 4038: 3491, 4197: 3492, 7081: 3493, 8287: 3494, 8410: 3495, 9737: 3496, 10370: 3497, 10444: 3498, 10808: 3499, 11385: 3500, 12651: 3501, 13231: 3502, 17917: 3503, 651: 3504, 1995: 3505, 2821: 3506, 5904: 3507, 9600: 3508, 10671: 3509, 12501: 3510, 12997: 3511, 18449: 3512, 22901: 3513, 24751: 3514, 27967: 3515, 28205: 3516, 29876: 3517, 31064: 3518, 31118: 3519, 31138: 3520, 31326: 3521, 31521: 3522, 31598: 3523, 32574: 3524, 11177: 3525, 14277: 3526, 16405: 3527, 1974: 3528, 2534: 3529, 19575: 3530, 274: 3531, 1214: 3532, 1219: 3533, 1230: 3534, 1456: 3535, 1480: 3536, 1607: 3537, 1888: 3538, 2151: 3539, 2813: 3540, 3165: 3541, 3312: 3542, 3449: 3543, 3456: 3544, 3604: 3545, 3641: 3546, 4421: 3547, 4811: 3548, 5084: 3549, 5116: 3550, 5914: 3551, 6479: 3552, 6890: 3553, 6984: 3554, 7062: 3555, 7770: 3556, 8078: 3557, 9055: 3558, 9333: 3559, 9393: 3560, 9493: 3561, 9523: 3562, 9563: 3563, 9774: 3564, 9930: 3565, 9934: 3566, 9940: 3567, 10122: 3568, 10232: 3569, 10804: 3570, 10918: 3571, 11033: 3572, 11043: 3573, 11103: 3574, 11237: 3575, 11239: 3576, 11341: 3577, 11615: 3578, 11661: 3579, 11793: 3580, 12437: 3581, 12611: 3582, 12637: 3583, 12921: 3584, 13169: 3585, 13173: 3586, 13283: 3587, 13335: 3588, 13563: 3589, 13727: 3590, 13731: 3591, 13835: 3592, 14317: 3593, 14675: 3594, 14875: 3595, 15591: 3596, 15649: 3597, 15731: 3598, 15781: 3599, 15989: 3600, 17267: 3601, 17341: 3602, 17351: 3603, 17739: 3604, 17855: 3605, 19029: 3606, 20039: 3607, 20221: 3608, 20723: 3609, 21073: 3610, 21409: 3611, 21435: 3612, 21573: 3613, 21635: 3614, 21649: 3615, 21737: 3616, 23459: 3617, 29787: 3618, 4444: 3619, 10526: 3620, 9347: 3621, 4066: 3622, 31890: 3623, 29301: 3624, 32915: 3625, 2157: 3626, 2868: 3627, 2869: 3628, 12623: 3629, 31121: 3630, 4910: 3631, 6275: 3632, 16678: 3633, 368: 3634, 864: 3635, 927: 3636, 928: 3637, 2284: 3638, 2372: 3639, 2432: 3640, 2507: 3641, 2852: 3642, 3102: 3643, 3537: 3644, 3578: 3645, 3622: 3646, 3970: 3647, 3976: 3648, 3999: 3649, 4358: 3650, 4763: 3651, 5316: 3652, 5464: 3653, 5651: 3654, 5959: 3655, 6690: 3656, 6892: 3657, 7113: 3658, 7474: 3659, 7708: 3660, 9312: 3661, 9638: 3662, 9721: 3663, 10488: 3664, 10695: 3665, 11031: 3666, 11065: 3667, 11321: 3668, 11349: 3669, 11827: 3670, 13221: 3671, 13325: 3672, 13379: 3673, 14379: 3674, 14657: 3675, 14659: 3676, 14993: 3677, 14995: 3678, 15839: 3679, 16059: 3680, 17541: 3681, 18693: 3682, 19103: 3683, 20589: 3684, 20959: 3685, 21001: 3686, 21349: 3687, 21597: 3688, 21829: 3689, 22429: 3690, 22435: 3691, 22543: 3692, 22815: 3693, 25345: 3694, 25877: 3695, 27603: 3696, 28311: 3697, 28313: 3698, 28519: 3699, 28859: 3700, 29085: 3701, 29261: 3702, 29809: 3703, 30702: 3704, 31101: 3705, 31189: 3706, 31234: 3707, 31283: 3708, 31331: 3709, 31403: 3710, 31518: 3711, 31995: 3712, 32267: 3713, 32620: 3714, 4033: 3715, 10536: 3716, 1737: 3717, 7106: 3718, 958: 3719, 1881: 3720, 1882: 3721, 2525: 3722, 27927: 3723, 30218: 3724, 30721: 3725, 148: 3726, 358: 3727, 1206: 3728, 1441: 3729, 1554: 3730, 1721: 3731, 3549: 3732, 9053: 3733, 9931: 3734, 13215: 3735, 17635: 3736, 623: 3737, 646: 3738, 840: 3739, 851: 3740, 1135: 3741, 1591: 3742, 1825: 3743, 1830: 3744, 2124: 3745, 2132: 3746, 2409: 3747, 2451: 3748, 2784: 3749, 3419: 3750, 3618: 3751, 4082: 3752, 4361: 3753, 4596: 3754, 5032: 3755, 5045: 3756, 5080: 3757, 5199: 3758, 6226: 3759, 6330: 3760, 6743: 3761, 7041: 3762, 7744: 3763, 7882: 3764, 8211: 3765, 9159: 3766, 9290: 3767, 9328: 3768, 9591: 3769, 10152: 3770, 10180: 3771, 10477: 3772, 10807: 3773, 10933: 3774, 12131: 3775, 14957: 3776, 17277: 3777, 17551: 3778, 18355: 3779, 18881: 3780, 559: 3781, 758: 3782, 4650: 3783, 5288: 3784, 26449: 3785, 31105: 3786, 370: 3787, 383: 3788, 712: 3789, 924: 3790, 925: 3791, 926: 3792, 938: 3793, 978: 3794, 4554: 3795, 27785: 3796, 2706: 3797, 815: 3798, 8599: 3799, 1335: 3800, 3447: 3801, 3485: 3802, 21575: 3803, 22359: 3804, 842: 3805, 1235: 3806, 5308: 3807, 7774: 3808, 8057: 3809, 10297: 3810, 13561: 3811, 13757: 3812, 13855: 3813, 17419: 3814, 21119: 3815, 23781: 3816, 28013: 3817, 28063: 3818, 29413: 3819, 30464: 3820, 31851: 3821, 418: 3822, 1010: 3823, 1491: 3824, 5493: 3825, 10191: 3826, 10819: 3827, 10822: 3828, 10825: 3829, 252: 3830, 25341: 3831, 203: 3832, 229: 3833, 492: 3834, 608: 3835, 830: 3836, 941: 3837, 1079: 3838, 1186: 3839, 1234: 3840, 1336: 3841, 1372: 3842, 1401: 3843, 1489: 3844, 1787: 3845, 2011: 3846, 2014: 3847, 2136: 3848, 2178: 3849, 2185: 3850, 2188: 3851, 2262: 3852, 2751: 3853, 2798: 3854, 2811: 3855, 2873: 3856, 2883: 3857, 2884: 3858, 2988: 3859, 3000: 3860, 3050: 3861, 3992: 3862, 4350: 3863, 4997: 3864, 5097: 3865, 5172: 3866, 5347: 3867, 5686: 3868, 6189: 3869, 6235: 3870, 6590: 3871, 7066: 3872, 7264: 3873, 8101: 3874, 8653: 3875, 8837: 3876, 10325: 3877, 10629: 3878, 10792: 3879, 13057: 3880, 13223: 3881, 13239: 3882, 14129: 3883, 16756: 3884, 18455: 3885, 21451: 3886, 21267: 3887, 23361: 3888, 23369: 3889, 27887: 3890, 30912: 3891, 336: 3892, 446: 3893, 771: 3894, 1013: 3895, 1024: 3896, 1777: 3897, 2267: 3898, 2290: 3899, 2756: 3900, 3574: 3901, 4138: 3902, 5538: 3903, 6607: 3904, 10502: 3905, 12433: 3906, 12877: 3907, 15651: 3908, 17395: 3909, 22137: 3910, 8939: 3911, 909: 3912, 1167: 3913, 783: 3914, 2279: 3915, 33032: 3916, 560: 3917, 593: 3918, 1170: 3919, 1190: 3920, 5751: 3921, 6999: 3922, 29583: 3923, 31378: 3924, 551: 3925, 624: 3926, 1445: 3927, 1483: 3928, 1910: 3929, 2544: 3930, 4060: 3931, 4061: 3932, 5203: 3933, 10958: 3934, 16143: 3935, 16287: 3936, 31994: 3937, 2152: 3938, 15979: 3939, 484: 3940, 950: 3941, 1187: 3942, 1357: 3943, 2125: 3944, 2126: 3945, 2222: 3946, 2265: 3947, 2268: 3948, 2747: 3949, 3576: 3950, 4476: 3951, 5070: 3952, 5289: 3953, 5369: 3954, 5725: 3955, 6038: 3956, 6152: 3957, 6511: 3958, 6800: 3959, 6964: 3960, 7862: 3961, 8026: 3962, 9274: 3963, 9528: 3964, 17379: 3965, 814: 3966, 6985: 3967, 10109: 3968, 20969: 3969, 1084: 3970, 13799: 3971, 3772: 3972, 4524: 3973, 6714: 3974, 6392: 3975, 9744: 3976, 10827: 3977, 12055: 3978, 17867: 3979, 23605: 3980, 1293: 3981, 9988: 3982, 32950: 3983, 937: 3984, 2969: 3985, 1703: 3986, 31804: 3987, 32961: 3988, 1448: 3989, 1488: 3990, 1873: 3991, 2252: 3992, 2354: 3993, 2355: 3994, 8098: 3995, 8337: 3996, 1967: 3997, 1968: 3998, 1969: 3999, 2606: 4000, 1290: 4001, 1328: 4002, 1762: 4003, 2016: 4004, 2017: 4005, 2018: 4006, 2973: 4007, 3787: 4008, 16436: 4009, 23179: 4010, 28775: 4011, 29347: 4012, 32959: 4013, 6024: 4014, 7972: 4015, 24935: 4016, 30919: 4017, 31056: 4018, 31370: 4019, 32190: 4020, 33201: 4021, 1069: 4022, 582: 4023, 975: 4024, 976: 4025, 1196: 4026, 1711: 4027, 1757: 4028, 3070: 4029, 4056: 4030, 5670: 4031, 24457: 4032, 27653: 4033, 6438: 4034, 7303: 4035, 8609: 4036, 2603: 4037, 4549: 4038, 354: 4039, 3889: 4040, 201: 4041, 666: 4042, 1062: 4043, 1105: 4044, 9608: 4045, 9874: 4046, 13203: 4047, 13619: 4048, 17437: 4049, 21201: 4050, 22335: 4051, 23293: 4052, 26359: 4053, 612: 4054, 673: 4055, 1255: 4056, 2269: 4057, 2294: 4058, 2332: 4059, 2547: 4060, 2561: 4061, 2615: 4062, 2743: 4063, 3438: 4064, 3626: 4065, 3948: 4066, 3963: 4067, 3964: 4068, 4012: 4069, 4509: 4070, 4646: 4071, 4890: 4072, 5031: 4073, 5351: 4074, 6153: 4075, 6154: 4076, 6904: 4077, 7270: 4078, 8062: 4079, 9170: 4080, 10581: 4081, 11635: 4082, 12237: 4083, 15279: 4084, 16331: 4085, 17080: 4086, 17717: 4087, 18149: 4088, 19099: 4089, 21103: 4090, 23439: 4091, 23835: 4092, 23837: 4093, 28431: 4094, 30549: 4095, 6946: 4096, 22831: 4097, 1996: 4098, 6798: 4099, 11457: 4100, 14563: 4101, 16169: 4102, 26183: 4103, 31763: 4104, 6694: 4105, 3100: 4106, 3837: 4107, 311: 4108, 312: 4109, 313: 4110, 314: 4111, 795: 4112, 844: 4113, 911: 4114, 3868: 4115, 7861: 4116, 8542: 4117, 10384: 4118, 14359: 4119, 15015: 4120, 342: 4121, 23725: 4122, 10687: 4123, 12929: 4124, 21835: 4125, 32601: 4126, 8726: 4127, 306: 4128, 23701: 4129, 184: 4130, 2106: 4131, 11505: 4132, 12689: 4133, 9204: 4134, 733: 4135, 734: 4136, 1042: 4137, 2417: 4138, 10731: 4139, 15291: 4140, 31139: 4141, 12411: 4142, 983: 4143, 1718: 4144, 23359: 4145, 1198: 4146, 1720: 4147, 4166: 4148, 4804: 4149, 606: 4150, 1189: 4151, 1508: 4152, 1657: 4153, 15813: 4154, 20329: 4155, 21013: 4156, 21773: 4157, 22099: 4158, 22733: 4159, 22735: 4160, 27825: 4161, 28869: 4162, 30381: 4163, 2810: 4164, 2816: 4165, 3008: 4166, 757: 4167, 2767: 4168, 3962: 4169, 12907: 4170, 23151: 4171, 458: 4172, 629: 4173, 630: 4174, 769: 4175, 773: 4176, 870: 4177, 1182: 4178, 1484: 4179, 1528: 4180, 1558: 4181, 1630: 4182, 1643: 4183, 1701: 4184, 1702: 4185, 1780: 4186, 1805: 4187, 1855: 4188, 1944: 4189, 2217: 4190, 2324: 4191, 2325: 4192, 2433: 4193, 2437: 4194, 2453: 4195, 2522: 4196, 2524: 4197, 3793: 4198, 5020: 4199, 1041: 4200, 1080: 4201, 16233: 4202, 21041: 4203, 25719: 4204, 424: 4205, 11715: 4206, 20849: 4207, 22039: 4208, 23247: 4209, 24271: 4210, 33964: 4211, 253: 4212, 255: 4213, 29829: 4214, 29830: 4215, 29831: 4216, 4664: 4217, 29223: 4218, 31221: 4219, 951: 4220, 1375: 4221, 2334: 4222, 2542: 4223, 2555: 4224, 2557: 4225, 2570: 4226, 2577: 4227, 2783: 4228, 2799: 4229, 2825: 4230, 2826: 4231, 2912: 4232, 3036: 4233, 3043: 4234, 3053: 4235, 3125: 4236, 3186: 4237, 3196: 4238, 3460: 4239, 3754: 4240, 3807: 4241, 3847: 4242, 3877: 4243, 5267: 4244, 5273: 4245, 25897: 4246, 1490: 4247, 2717: 4248, 3854: 4249, 27947: 4250, 31645: 4251, 23487: 4252, 28683: 4253, 2413: 4254, 5603: 4255, 8039: 4256, 15867: 4257, 16472: 4258, 20377: 4259, 21751: 4260, 24641: 4261, 8705: 4262, 17655: 4263, 2613: 4264, 2614: 4265, 7308: 4266, 15711: 4267, 544: 4268, 1151: 4269, 1342: 4270, 1587: 4271, 2060: 4272, 2061: 4273, 2062: 4274, 2063: 4275, 5053: 4276, 6331: 4277, 6129: 4278, 10801: 4279, 13993: 4280, 32422: 4281, 14231: 4282, 25883: 4283, 1285: 4284, 635: 4285, 636: 4286, 956: 4287, 2467: 4288, 2471: 4289, 2612: 4290, 2701: 4291, 3272: 4292, 4375: 4293, 9119: 4294, 12145: 4295, 14211: 4296, 18577: 4297, 19999: 4298, 23363: 4299, 3745: 4300, 8358: 4301, 18989: 4302, 283: 4303, 367: 4304, 455: 4305, 495: 4306, 1373: 4307, 1695: 4308, 1806: 4309, 1983: 4310, 2214: 4311, 2392: 4312, 2648: 4313, 2649: 4314, 2651: 4315, 2736: 4316, 2757: 4317, 3424: 4318, 3432: 4319, 4926: 4320, 5494: 4321, 8208: 4322, 10534: 4323, 15159: 4324, 30649: 4325, 31665: 4326, 818: 4327, 6838: 4328, 219: 4329, 1082: 4330, 1898: 4331, 421: 4332, 569: 4333, 1168: 4334, 1256: 4335, 1258: 4336, 1481: 4337, 1592: 4338, 1919: 4339, 1920: 4340, 1921: 4341, 1922: 4342, 1923: 4343, 1924: 4344, 1925: 4345, 2118: 4346, 2449: 4347, 4639: 4348, 6567: 4349, 22677: 4350, 29129: 4351, 31096: 4352, 266: 4353, 297: 4354, 1097: 4355, 359: 4356, 525: 4357, 1156: 4358, 1350: 4359, 1544: 4360, 1760: 4361, 1966: 4362, 2261: 4363, 2318: 4364, 2419: 4365, 3005: 4366, 9241: 4367, 271: 4368, 580: 4369, 678: 4370, 1108: 4371, 1859: 4372, 5310: 4373, 7222: 4374, 10050: 4375, 1929: 4376, 2518: 4377, 151: 4378, 3737: 4379, 3738: 4380, 5397: 4381, 10513: 4382, 16347: 4383, 2351: 4384, 2800: 4385, 483: 4386, 1629: 4387, 526: 4388, 689: 4389, 722: 4390, 1031: 4391, 1904: 4392, 1906: 4393, 2917: 4394, 3227: 4395, 4190: 4396, 7254: 4397, 8022: 4398, 588: 4399, 1750: 4400, 3140: 4401, 3559: 4402, 3560: 4403, 3921: 4404, 4260: 4405, 14991: 4406, 8792: 4407, 11507: 4408, 141: 4409, 289: 4410, 683: 4411, 706: 4412, 1185: 4413, 1706: 4414, 5865: 4415, 6709: 4416, 21009: 4417, 22361: 4418, 27441: 4419, 32039: 4420, 633: 4421, 961: 4422, 1608: 4423, 2204: 4424, 2243: 4425, 2389: 4426, 3116: 4427, 3609: 4428, 6219: 4429, 1886: 4430, 992: 4431, 2109: 4432, 2110: 4433, 2165: 4434, 2713: 4435, 3493: 4436, 14989: 4437, 2287: 4438, 13495: 4439, 16381: 4440, 29941: 4441, 30014: 4442, 30988: 4443, 31280: 4444, 31440: 4445, 31519: 4446, 31909: 4447, 32228: 4448, 32547: 4449, 32740: 4450, 33011: 4451, 33569: 4452, 1370: 4453, 1550: 4454, 2000: 4455, 2138: 4456, 2319: 4457, 2500: 4458, 2526: 4459, 2646: 4460}\n",
            "encoded angka ke anime_id:   {0: 8074, 1: 11617, 2: 11757, 3: 15451, 4: 11771, 5: 20, 6: 154, 7: 170, 8: 199, 9: 225, 10: 341, 11: 430, 12: 527, 13: 552, 14: 813, 15: 1119, 16: 1121, 17: 1122, 18: 1132, 19: 1292, 20: 1313, 21: 1526, 22: 1535, 23: 1564, 24: 1689, 25: 1764, 26: 1943, 27: 2201, 28: 2404, 29: 2847, 30: 3588, 31: 4026, 32: 5114, 33: 5231, 34: 6178, 35: 6702, 36: 6880, 37: 7695, 38: 9107, 39: 9135, 40: 9760, 41: 9917, 42: 9919, 43: 9989, 44: 10408, 45: 10507, 46: 11111, 47: 11703, 48: 11737, 49: 11759, 50: 12671, 51: 14075, 52: 14093, 53: 14345, 54: 14513, 55: 16498, 56: 16512, 57: 16782, 58: 16894, 59: 16918, 60: 17265, 61: 18097, 62: 18115, 63: 18393, 64: 19315, 65: 19815, 66: 20021, 67: 20159, 68: 20507, 69: 20583, 70: 21507, 71: 21881, 72: 22199, 73: 22297, 74: 22319, 75: 22547, 76: 22729, 77: 23301, 78: 23321, 79: 23333, 80: 23755, 81: 24415, 82: 26243, 83: 27631, 84: 27899, 85: 28121, 86: 28171, 87: 28223, 88: 28497, 89: 28701, 90: 28891, 91: 29854, 92: 31043, 93: 31859, 94: 6, 95: 15, 96: 17, 97: 18, 98: 22, 99: 24, 100: 30, 101: 45, 102: 47, 103: 57, 104: 63, 105: 67, 106: 68, 107: 132, 108: 136, 109: 137, 110: 138, 111: 139, 112: 150, 113: 152, 114: 166, 115: 174, 116: 185, 117: 186, 118: 189, 119: 190, 120: 195, 121: 205, 122: 223, 123: 232, 124: 240, 125: 241, 126: 245, 127: 248, 128: 249, 129: 250, 130: 263, 131: 264, 132: 265, 133: 268, 134: 269, 135: 272, 136: 288, 137: 292, 138: 335, 139: 344, 140: 371, 141: 379, 142: 390, 143: 392, 144: 406, 145: 442, 146: 443, 147: 448, 148: 481, 149: 482, 150: 487, 151: 508, 152: 517, 153: 528, 154: 534, 155: 550, 156: 709, 157: 760, 158: 761, 159: 846, 160: 861, 161: 874, 162: 896, 163: 898, 164: 903, 165: 905, 166: 914, 167: 918, 168: 936, 169: 981, 170: 987, 171: 1117, 172: 1138, 173: 1195, 174: 1210, 175: 1253, 176: 1254, 177: 1257, 178: 1469, 179: 1559, 180: 1614, 181: 1668, 182: 1669, 183: 1674, 184: 1840, 185: 1887, 186: 1913, 187: 1956, 188: 2034, 189: 2104, 190: 2116, 191: 2144, 192: 2159, 193: 2236, 194: 2248, 195: 2330, 196: 2363, 197: 2397, 198: 2398, 199: 2400, 200: 2418, 201: 2424, 202: 2472, 203: 2508, 204: 2594, 205: 2605, 206: 2684, 207: 2789, 208: 2907, 209: 2961, 210: 2962, 211: 2993, 212: 3228, 213: 3455, 214: 3503, 215: 3515, 216: 3655, 217: 3702, 218: 3712, 219: 3887, 220: 3974, 221: 4015, 222: 4052, 223: 4063, 224: 4214, 225: 4224, 226: 4437, 227: 4472, 228: 4548, 229: 4654, 230: 4667, 231: 4760, 232: 4975, 233: 4999, 234: 5040, 235: 5042, 236: 5251, 237: 5258, 238: 5277, 239: 5279, 240: 5526, 241: 5667, 242: 5680, 243: 5681, 244: 5958, 245: 6098, 246: 6201, 247: 6211, 248: 6324, 249: 6325, 250: 6347, 251: 6377, 252: 6385, 253: 6512, 254: 6547, 255: 6695, 256: 6746, 257: 6791, 258: 6885, 259: 6956, 260: 6974, 261: 7088, 262: 7148, 263: 7593, 264: 7647, 265: 7661, 266: 7674, 267: 7720, 268: 7762, 269: 7769, 270: 7791, 271: 7817, 272: 7858, 273: 8277, 274: 8302, 275: 8407, 276: 8408, 277: 8424, 278: 8457, 279: 8516, 280: 8525, 281: 8619, 282: 8675, 283: 8769, 284: 8841, 285: 9041, 286: 9074, 287: 9181, 288: 9220, 289: 9253, 290: 9355, 291: 9367, 292: 9379, 293: 9471, 294: 9479, 295: 9741, 296: 9936, 297: 9969, 298: 9981, 299: 10020, 300: 10030, 301: 10080, 302: 10108, 303: 10110, 304: 10119, 305: 10162, 306: 10163, 307: 10172, 308: 10209, 309: 10216, 310: 10396, 311: 10397, 312: 10521, 313: 10589, 314: 10638, 315: 10719, 316: 10790, 317: 10805, 318: 10863, 319: 10897, 320: 11013, 321: 11113, 322: 11179, 323: 11319, 324: 11371, 325: 11433, 326: 11499, 327: 11577, 328: 11633, 329: 11761, 330: 11785, 331: 11813, 332: 11843, 333: 11853, 334: 12069, 335: 12189, 336: 12431, 337: 12445, 338: 12447, 339: 12467, 340: 12549, 341: 12581, 342: 12673, 343: 12729, 344: 13055, 345: 13093, 346: 13161, 347: 13201, 348: 13333, 349: 13357, 350: 13367, 351: 13403, 352: 13479, 353: 13535, 354: 13659, 355: 13663, 356: 13759, 357: 13851, 358: 14027, 359: 14189, 360: 14199, 361: 14227, 362: 14349, 363: 14467, 364: 14527, 365: 14669, 366: 14685, 367: 14719, 368: 14741, 369: 14749, 370: 14813, 371: 14967, 372: 15039, 373: 15059, 374: 15225, 375: 15315, 376: 15335, 377: 15379, 378: 15417, 379: 15437, 380: 15565, 381: 15583, 382: 15609, 383: 15729, 384: 15771, 385: 15775, 386: 15809, 387: 16011, 388: 16067, 389: 16241, 390: 16353, 391: 16417, 392: 16444, 393: 16592, 394: 16636, 395: 16694, 396: 16706, 397: 16742, 398: 16866, 399: 17157, 400: 17247, 401: 17505, 402: 17641, 403: 17729, 404: 17741, 405: 17777, 406: 17827, 407: 17875, 408: 17895, 409: 18001, 410: 18039, 411: 18095, 412: 18139, 413: 18153, 414: 18179, 415: 18229, 416: 18247, 417: 18277, 418: 18441, 419: 18465, 420: 18497, 421: 18671, 422: 18677, 423: 18689, 424: 18753, 425: 18857, 426: 18897, 427: 19023, 428: 19163, 429: 19221, 430: 19363, 431: 19365, 432: 19369, 433: 19647, 434: 19769, 435: 19799, 436: 19953, 437: 20031, 438: 20045, 439: 20047, 440: 20053, 441: 20057, 442: 20431, 443: 20457, 444: 20541, 445: 20545, 446: 20689, 447: 20767, 448: 20785, 449: 20787, 450: 20847, 451: 20853, 452: 20899, 453: 20931, 454: 20939, 455: 20973, 456: 20977, 457: 21033, 458: 21085, 459: 21185, 460: 21189, 461: 21327, 462: 21405, 463: 21431, 464: 21561, 465: 21587, 466: 21603, 467: 21647, 468: 21781, 469: 21863, 470: 22147, 471: 22535, 472: 22789, 473: 23079, 474: 23199, 475: 23233, 476: 23251, 477: 23273, 478: 23277, 479: 23289, 480: 23309, 481: 23447, 482: 23847, 483: 24135, 484: 24171, 485: 24175, 486: 24627, 487: 24781, 488: 24873, 489: 24913, 490: 25157, 491: 25159, 492: 25183, 493: 25397, 494: 25429, 495: 25635, 496: 26055, 497: 26349, 498: 26441, 499: 28297, 500: 28677, 501: 28819, 502: 28907, 503: 29027, 504: 29035, 505: 29317, 506: 29785, 507: 29786, 508: 29803, 509: 30831, 510: 31240, 511: 31722, 512: 32182, 513: 32828, 514: 31, 515: 32, 516: 59, 517: 64, 518: 65, 519: 111, 520: 121, 521: 210, 522: 270, 523: 339, 524: 357, 525: 407, 526: 435, 527: 530, 528: 532, 529: 535, 530: 568, 531: 740, 532: 849, 533: 934, 534: 996, 535: 1172, 536: 1259, 537: 1563, 538: 1575, 539: 1719, 540: 1889, 541: 2012, 542: 2026, 543: 2131, 544: 2167, 545: 2213, 546: 2237, 547: 2759, 548: 2899, 549: 2904, 550: 2994, 551: 3086, 552: 3652, 553: 3784, 554: 3785, 555: 4028, 556: 4059, 557: 4181, 558: 4192, 559: 4382, 560: 4896, 561: 5233, 562: 5521, 563: 6166, 564: 6205, 565: 6213, 566: 6351, 567: 6811, 568: 8460, 569: 8861, 570: 8876, 571: 8937, 572: 9032, 573: 9047, 574: 9063, 575: 9618, 576: 9675, 577: 9756, 578: 9790, 579: 9958, 580: 10076, 581: 10456, 582: 10491, 583: 10588, 584: 10620, 585: 10794, 586: 11061, 587: 11743, 588: 11763, 589: 11933, 590: 11977, 591: 11979, 592: 11981, 593: 12783, 594: 12967, 595: 13261, 596: 13587, 597: 13939, 598: 14407, 599: 14653, 600: 14833, 601: 15117, 602: 15377, 603: 15411, 604: 15687, 605: 15879, 606: 15911, 607: 16049, 608: 16157, 609: 16700, 610: 16762, 611: 16934, 612: 16982, 613: 17513, 614: 17725, 615: 18041, 616: 18679, 617: 18893, 618: 19151, 619: 19367, 620: 19855, 621: 20033, 622: 20479, 623: 20919, 624: 21177, 625: 21325, 626: 21473, 627: 21511, 628: 21541, 629: 21653, 630: 21679, 631: 22057, 632: 22071, 633: 22273, 634: 22663, 635: 22961, 636: 23153, 637: 23227, 638: 23383, 639: 23421, 640: 23427, 641: 23945, 642: 24037, 643: 24075, 644: 24133, 645: 24227, 646: 24365, 647: 24543, 648: 24655, 649: 24703, 650: 24713, 651: 24765, 652: 25283, 653: 25687, 654: 25689, 655: 26351, 656: 27775, 657: 27787, 658: 27829, 659: 28179, 660: 28215, 661: 28285, 662: 28391, 663: 28713, 664: 28825, 665: 28979, 666: 28999, 667: 29067, 668: 29163, 669: 29589, 670: 30276, 671: 30296, 672: 30300, 673: 30307, 674: 30321, 675: 30347, 676: 30363, 677: 30365, 678: 30379, 679: 30384, 680: 30503, 681: 30544, 682: 30740, 683: 30749, 684: 30885, 685: 30991, 686: 31149, 687: 31156, 688: 31338, 689: 31404, 690: 31439, 691: 31442, 692: 31560, 693: 31630, 694: 31637, 695: 31704, 696: 31716, 697: 31737, 698: 31845, 699: 31867, 700: 31914, 701: 31952, 702: 31953, 703: 31980, 704: 32093, 705: 32108, 706: 32171, 707: 32215, 708: 32360, 709: 32380, 710: 32553, 711: 33091, 712: 33341, 713: 355, 714: 8630, 715: 10793, 716: 11241, 717: 43, 718: 44, 719: 61, 720: 104, 721: 120, 722: 122, 723: 143, 724: 149, 725: 164, 726: 177, 727: 202, 728: 243, 729: 338, 730: 416, 731: 431, 732: 440, 733: 441, 734: 449, 735: 450, 736: 451, 737: 452, 738: 497, 739: 512, 740: 513, 741: 522, 742: 523, 743: 531, 744: 543, 745: 565, 746: 572, 747: 578, 748: 589, 749: 597, 750: 687, 751: 723, 752: 759, 753: 790, 754: 853, 755: 855, 756: 879, 757: 997, 758: 1002, 759: 1032, 760: 1060, 761: 1118, 762: 1239, 763: 1240, 764: 1709, 765: 2313, 766: 2685, 767: 2890, 768: 3577, 769: 4898, 770: 5030, 771: 5060, 772: 6164, 773: 6280, 774: 6707, 775: 6747, 776: 12355, 777: 12365, 778: 13599, 779: 13601, 780: 18507, 781: 21241, 782: 21339, 783: 22145, 784: 22265, 785: 23281, 786: 25015, 787: 28675, 788: 302, 789: 877, 790: 1562, 791: 2025, 792: 4182, 793: 6033, 794: 6573, 795: 7338, 796: 8888, 797: 133, 798: 135, 799: 433, 800: 587, 801: 969, 802: 2129, 803: 2155, 804: 2336, 805: 2926, 806: 2927, 807: 3229, 808: 3299, 809: 4186, 810: 4938, 811: 5081, 812: 5734, 813: 5764, 814: 6408, 815: 6772, 816: 7590, 817: 8514, 818: 8536, 819: 8676, 820: 8934, 821: 9117, 822: 9252, 823: 9465, 824: 9724, 825: 9925, 826: 10092, 827: 10372, 828: 10447, 829: 10568, 830: 11597, 831: 11887, 832: 12175, 833: 14293, 834: 15689, 835: 16397, 836: 17074, 837: 17121, 838: 18245, 839: 19117, 840: 19775, 841: 21437, 842: 22839, 843: 1222, 844: 11285, 845: 19, 846: 66, 847: 114, 848: 226, 849: 227, 850: 228, 851: 256, 852: 323, 853: 413, 854: 437, 855: 468, 856: 486, 857: 570, 858: 664, 859: 770, 860: 777, 861: 889, 862: 932, 863: 949, 864: 1004, 865: 1033, 866: 1056, 867: 1379, 868: 1530, 869: 1852, 870: 2001, 871: 2175, 872: 2251, 873: 2476, 874: 2593, 875: 2924, 876: 3002, 877: 3087, 878: 3167, 879: 3287, 880: 3782, 881: 3783, 882: 4081, 883: 4091, 884: 4106, 885: 4107, 886: 4280, 887: 4282, 888: 4565, 889: 5177, 890: 5204, 891: 5205, 892: 5365, 893: 5682, 894: 5909, 895: 6114, 896: 6505, 897: 6594, 898: 6675, 899: 6954, 900: 7059, 901: 7311, 902: 7465, 903: 7785, 904: 8100, 905: 8142, 906: 8187, 907: 8795, 908: 9598, 909: 10087, 910: 10165, 911: 10271, 912: 10417, 913: 10448, 914: 10495, 915: 10624, 916: 10711, 917: 11235, 918: 11741, 919: 11809, 920: 12029, 921: 12403, 922: 12477, 923: 12531, 924: 13391, 925: 13629, 926: 13639, 927: 14045, 928: 14131, 929: 14353, 930: 14355, 931: 14807, 932: 14829, 933: 14853, 934: 15037, 935: 15043, 936: 15051, 937: 15125, 938: 15197, 939: 15199, 940: 15201, 941: 15699, 942: 16149, 943: 16528, 944: 16726, 945: 16732, 946: 16774, 947: 17269, 948: 17549, 949: 17677, 950: 17679, 951: 18121, 952: 18617, 953: 19111, 954: 19133, 955: 19429, 956: 19489, 957: 19573, 958: 19685, 959: 19703, 960: 20473, 961: 20509, 962: 20543, 963: 20709, 964: 20903, 965: 20965, 966: 21067, 967: 21353, 968: 21421, 969: 21809, 970: 21821, 971: 21843, 972: 21855, 973: 21995, 974: 22123, 975: 22135, 976: 22835, 977: 22865, 978: 23225, 979: 23249, 980: 23283, 981: 23285, 982: 23317, 983: 23433, 984: 23623, 985: 23673, 986: 23787, 987: 24031, 988: 24211, 989: 24231, 990: 24277, 991: 24439, 992: 24833, 993: 24997, 994: 25519, 995: 25875, 996: 26085, 997: 26165, 998: 26395, 999: 27387, 1000: 27503, 1001: 27525, 1002: 27655, 1003: 27911, 1004: 28155, 1005: 28249, 1006: 28423, 1007: 28619, 1008: 28623, 1009: 28805, 1010: 28861, 1011: 28927, 1012: 30015, 1013: 30240, 1014: 30279, 1015: 30413, 1016: 30567, 1017: 31610, 1018: 31798, 1019: 31964, 1020: 32282, 1021: 32438, 1022: 32542, 1023: 32681, 1024: 32729, 1025: 32935, 1026: 32998, 1027: 34240, 1028: 317, 1029: 2952, 1030: 3457, 1031: 1, 1032: 5, 1033: 1519, 1034: 193, 1035: 325, 1036: 819, 1037: 1639, 1038: 3375, 1039: 5391, 1040: 6500, 1041: 6682, 1042: 7739, 1043: 10073, 1044: 97, 1045: 356, 1046: 417, 1047: 432, 1048: 457, 1049: 1212, 1050: 1361, 1051: 1637, 1052: 2621, 1053: 2705, 1054: 2709, 1055: 7711, 1056: 7724, 1057: 8129, 1058: 9289, 1059: 9513, 1060: 10321, 1061: 10418, 1062: 10893, 1063: 14073, 1064: 14889, 1065: 15605, 1066: 16009, 1067: 16201, 1068: 18411, 1069: 19159, 1070: 19841, 1071: 20423, 1072: 20555, 1073: 21273, 1074: 21667, 1075: 21771, 1076: 23209, 1077: 23385, 1078: 24893, 1079: 32491, 1080: 48, 1081: 96, 1082: 257, 1083: 298, 1084: 400, 1085: 469, 1086: 696, 1087: 763, 1088: 764, 1089: 857, 1090: 1264, 1091: 1502, 1092: 1675, 1093: 1816, 1094: 2156, 1095: 3791, 1096: 4719, 1097: 5337, 1098: 5781, 1099: 6633, 1100: 7334, 1101: 7740, 1102: 8456, 1103: 8918, 1104: 9201, 1105: 10330, 1106: 10464, 1107: 10924, 1108: 11005, 1109: 12065, 1110: 15963, 1111: 72, 1112: 376, 1113: 659, 1114: 1593, 1115: 1696, 1116: 3342, 1117: 6203, 1118: 7748, 1119: 8857, 1120: 9014, 1121: 9515, 1122: 10067, 1123: 10490, 1124: 11079, 1125: 7054, 1126: 13469, 1127: 14267, 1128: 17831, 1129: 479, 1130: 1604, 1131: 7592, 1132: 10049, 1133: 10213, 1134: 12049, 1135: 13411, 1136: 16668, 1137: 17651, 1138: 502, 1139: 731, 1140: 788, 1141: 827, 1142: 859, 1143: 891, 1144: 892, 1145: 893, 1146: 894, 1147: 895, 1148: 897, 1149: 899, 1150: 900, 1151: 901, 1152: 902, 1153: 904, 1154: 906, 1155: 972, 1156: 984, 1157: 985, 1158: 986, 1159: 1137, 1160: 1710, 1161: 1726, 1162: 1894, 1163: 2281, 1164: 2341, 1165: 2349, 1166: 2403, 1167: 2775, 1168: 4962, 1169: 5152, 1170: 6918, 1171: 9322, 1172: 10465, 1173: 11209, 1174: 11701, 1175: 12231, 1176: 12361, 1177: 14837, 1178: 15409, 1179: 15847, 1180: 18397, 1181: 21521, 1182: 21659, 1183: 28779, 1184: 30243, 1185: 30658, 1186: 30812, 1187: 3759, 1188: 9136, 1189: 2581, 1190: 6634, 1191: 9617, 1192: 9938, 1193: 10161, 1194: 12291, 1195: 12565, 1196: 13655, 1197: 14237, 1198: 14811, 1199: 16005, 1200: 16524, 1201: 1829, 1202: 1686, 1203: 2889, 1204: 4835, 1205: 8247, 1206: 12859, 1207: 147, 1208: 1860, 1209: 9001, 1210: 521, 1211: 1691, 1212: 2923, 1213: 3470, 1214: 2966, 1215: 6862, 1216: 9734, 1217: 10604, 1218: 16001, 1219: 17082, 1220: 71, 1221: 1818, 1222: 2787, 1223: 4581, 1224: 4725, 1225: 5034, 1226: 5355, 1227: 5593, 1228: 5940, 1229: 6773, 1230: 6895, 1231: 8086, 1232: 8449, 1233: 9065, 1234: 9331, 1235: 10079, 1236: 11751, 1237: 12031, 1238: 12413, 1239: 13331, 1240: 13807, 1241: 14283, 1242: 17389, 1243: 18767, 1244: 22687, 1245: 24405, 1246: 24455, 1247: 25867, 1248: 27821, 1249: 27831, 1250: 27833, 1251: 27991, 1252: 30205, 1253: 31163, 1254: 31430, 1255: 31478, 1256: 31559, 1257: 31580, 1258: 31821, 1259: 31904, 1260: 32023, 1261: 32379, 1262: 32668, 1263: 7411, 1264: 13125, 1265: 14289, 1266: 18195, 1267: 187, 1268: 237, 1269: 821, 1270: 822, 1271: 1723, 1272: 2608, 1273: 2951, 1274: 3614, 1275: 3731, 1276: 3931, 1277: 5118, 1278: 5228, 1279: 6645, 1280: 6945, 1281: 9587, 1282: 12725, 1283: 19613, 1284: 22507, 1285: 28881, 1286: 30952, 1287: 1498, 1288: 5458, 1289: 5525, 1290: 6030, 1291: 9330, 1292: 12293, 1293: 23325, 1294: 2964, 1295: 168, 1296: 198, 1297: 411, 1298: 845, 1299: 935, 1300: 940, 1301: 1482, 1302: 1566, 1303: 1827, 1304: 1965, 1305: 2216, 1306: 3091, 1307: 3230, 1308: 3389, 1309: 4087, 1310: 4177, 1311: 4196, 1312: 4744, 1313: 4752, 1314: 4918, 1315: 5342, 1316: 5530, 1317: 6920, 1318: 6973, 1319: 9941, 1320: 10155, 1321: 10260, 1322: 10578, 1323: 11783, 1324: 12017, 1325: 14765, 1326: 15109, 1327: 15119, 1328: 16035, 1329: 16890, 1330: 21235, 1331: 21329, 1332: 21415, 1333: 21939, 1334: 22097, 1335: 22877, 1336: 23311, 1337: 24687, 1338: 25013, 1339: 25099, 1340: 25731, 1341: 26443, 1342: 27411, 1343: 28617, 1344: 28977, 1345: 29093, 1346: 29095, 1347: 29101, 1348: 29325, 1349: 29758, 1350: 30091, 1351: 30654, 1352: 30782, 1353: 31318, 1354: 31405, 1355: 31710, 1356: 31741, 1357: 31764, 1358: 32083, 1359: 32094, 1360: 32595, 1361: 32608, 1362: 33421, 1363: 878, 1364: 953, 1365: 1023, 1366: 2030, 1367: 2158, 1368: 4981, 1369: 5630, 1370: 5955, 1371: 6774, 1372: 6793, 1373: 8915, 1374: 9745, 1375: 9834, 1376: 10083, 1377: 10249, 1378: 10721, 1379: 11266, 1380: 11837, 1381: 12685, 1382: 15085, 1383: 1571, 1384: 1579, 1385: 4722, 1386: 8425, 1387: 10800, 1388: 12711, 1389: 230, 1390: 242, 1391: 322, 1392: 464, 1393: 594, 1394: 907, 1395: 1072, 1396: 1074, 1397: 1532, 1398: 1912, 1399: 2112, 1400: 3089, 1401: 3572, 1402: 3656, 1403: 3848, 1404: 4151, 1405: 5065, 1406: 5300, 1407: 5702, 1408: 6045, 1409: 6046, 1410: 6444, 1411: 7058, 1412: 7103, 1413: 7367, 1414: 9656, 1415: 9754, 1416: 10350, 1417: 10379, 1418: 10389, 1419: 10391, 1420: 10686, 1421: 11375, 1422: 11665, 1423: 13115, 1424: 13245, 1425: 13833, 1426: 14397, 1427: 14713, 1428: 14753, 1429: 15487, 1430: 15751, 1431: 16033, 1432: 17259, 1433: 17391, 1434: 17409, 1435: 18523, 1436: 18745, 1437: 20655, 1438: 20673, 1439: 21105, 1440: 21439, 1441: 21563, 1442: 21743, 1443: 22043, 1444: 22101, 1445: 22433, 1446: 24701, 1447: 24991, 1448: 25303, 1449: 25649, 1450: 25681, 1451: 27417, 1452: 27633, 1453: 27663, 1454: 28211, 1455: 29974, 1456: 29976, 1457: 30056, 1458: 30458, 1459: 30714, 1460: 30901, 1461: 31297, 1462: 31374, 1463: 31376, 1464: 31452, 1465: 31680, 1466: 31754, 1467: 31772, 1468: 32365, 1469: 32370, 1470: 32566, 1471: 32648, 1472: 32664, 1473: 32696, 1474: 33028, 1475: 7082, 1476: 7337, 1477: 8479, 1478: 9982, 1479: 15195, 1480: 2494, 1481: 3927, 1482: 11021, 1483: 33, 1484: 90, 1485: 246, 1486: 278, 1487: 384, 1488: 876, 1489: 971, 1490: 1430, 1491: 1707, 1492: 1744, 1493: 2390, 1494: 4155, 1495: 5962, 1496: 6171, 1497: 9130, 1498: 13271, 1499: 25, 1500: 73, 1501: 165, 1502: 167, 1503: 239, 1504: 387, 1505: 467, 1506: 585, 1507: 801, 1508: 1140, 1509: 2154, 1510: 2596, 1511: 4789, 1512: 4901, 1513: 5341, 1514: 6372, 1515: 6637, 1516: 7193, 1517: 10090, 1518: 5356, 1519: 7017, 1520: 8440, 1521: 8465, 1522: 18849, 1523: 20651, 1524: 24727, 1525: 28069, 1526: 101, 1527: 6361, 1528: 6401, 1529: 11553, 1530: 1594, 1531: 5262, 1532: 16916, 1533: 850, 1534: 2842, 1535: 3092, 1536: 6877, 1537: 9926, 1538: 11123, 1539: 14123, 1540: 1826, 1541: 8246, 1542: 10681, 1543: 13667, 1544: 19285, 1545: 19669, 1546: 28625, 1547: 1050, 1548: 1281, 1549: 2963, 1550: 8557, 1551: 9888, 1552: 10378, 1553: 10739, 1554: 1221, 1555: 2766, 1556: 3901, 1557: 12883, 1558: 60, 1559: 412, 1560: 762, 1561: 908, 1562: 3713, 1563: 6421, 1564: 7902, 1565: 8068, 1566: 10842, 1567: 12079, 1568: 76, 1569: 10798, 1570: 16662, 1571: 1731, 1572: 5306, 1573: 8995, 1574: 3958, 1575: 5678, 1576: 7079, 1577: 12487, 1578: 14175, 1579: 329, 1580: 967, 1581: 1356, 1582: 16, 1583: 46, 1584: 74, 1585: 80, 1586: 86, 1587: 233, 1588: 401, 1589: 644, 1590: 1120, 1591: 1142, 1592: 1236, 1593: 1261, 1594: 2411, 1595: 2446, 1596: 2871, 1597: 3059, 1598: 3271, 1599: 4094, 1600: 4558, 1601: 4600, 1602: 4970, 1603: 6875, 1604: 6919, 1605: 8394, 1606: 13019, 1607: 6927, 1608: 8230, 1609: 9002, 1610: 9062, 1611: 10178, 1612: 10647, 1613: 12503, 1614: 12893, 1615: 15439, 1616: 16868, 1617: 19671, 1618: 21557, 1619: 21797, 1620: 22745, 1621: 24151, 1622: 31414, 1623: 33241, 1624: 196, 1625: 524, 1626: 591, 1627: 886, 1628: 1749, 1629: 6007, 1630: 11313, 1631: 12669, 1632: 18119, 1633: 20649, 1634: 134, 1635: 2006, 1636: 3231, 1637: 4765, 1638: 4886, 1639: 6884, 1640: 6948, 1641: 6951, 1642: 10263, 1643: 13859, 1644: 14893, 1645: 16099, 1646: 16199, 1647: 17743, 1648: 17909, 1649: 19383, 1650: 1690, 1651: 2986, 1652: 6624, 1653: 22763, 1654: 23441, 1655: 7472, 1656: 9735, 1657: 634, 1658: 408, 1659: 6151, 1660: 2762, 1661: 11491, 1662: 13377, 1663: 19319, 1664: 21569, 1665: 16680, 1666: 3464, 1667: 3561, 1668: 4163, 1669: 6896, 1670: 9750, 1671: 9863, 1672: 15719, 1673: 16395, 1674: 19759, 1675: 21167, 1676: 529, 1677: 1177, 1678: 1573, 1679: 5835, 1680: 6610, 1681: 743, 1682: 915, 1683: 1030, 1684: 3667, 1685: 6381, 1686: 6572, 1687: 9751, 1688: 10029, 1689: 12317, 1690: 12471, 1691: 12679, 1692: 14173, 1693: 16355, 1694: 3210, 1695: 4814, 1696: 7598, 1697: 1412, 1698: 103, 1699: 957, 1700: 1698, 1701: 1914, 1702: 1953, 1703: 4551, 1704: 5163, 1705: 6586, 1706: 8728, 1707: 8894, 1708: 9366, 1709: 9441, 1710: 10460, 1711: 20371, 1712: 20815, 1713: 372, 1714: 538, 1715: 1303, 1716: 1462, 1717: 20449, 1718: 21845, 1719: 32188, 1720: 32281, 1721: 79, 1722: 98, 1723: 99, 1724: 145, 1725: 169, 1726: 5079, 1727: 5675, 1728: 6922, 1729: 15359, 1730: 50, 1731: 93, 1732: 94, 1733: 276, 1734: 974, 1735: 6867, 1736: 9332, 1737: 13267, 1738: 197, 1739: 348, 1740: 488, 1741: 1516, 1742: 1642, 1743: 1688, 1744: 1728, 1745: 1838, 1746: 5717, 1747: 8560, 1748: 8768, 1749: 14511, 1750: 53, 1751: 267, 1752: 389, 1753: 807, 1754: 1067, 1755: 1536, 1756: 1606, 1757: 1679, 1758: 2683, 1759: 3359, 1760: 6704, 1761: 6758, 1762: 27, 1763: 54, 1764: 58, 1765: 81, 1766: 108, 1767: 180, 1768: 181, 1769: 884, 1770: 1194, 1771: 1380, 1772: 1682, 1773: 1810, 1774: 2002, 1775: 2273, 1776: 2589, 1777: 2795, 1778: 3407, 1779: 3653, 1780: 4415, 1781: 4672, 1782: 4726, 1783: 5039, 1784: 5072, 1785: 5178, 1786: 5220, 1787: 5505, 1788: 6288, 1789: 6336, 1790: 6794, 1791: 7540, 1792: 10294, 1793: 10689, 1794: 10693, 1795: 10713, 1796: 10714, 1797: 10715, 1798: 10716, 1799: 10717, 1800: 12015, 1801: 13709, 1802: 17187, 1803: 17535, 1804: 19191, 1805: 19255, 1806: 6987, 1807: 8577, 1808: 52, 1809: 293, 1810: 318, 1811: 477, 1812: 507, 1813: 519, 1814: 688, 1815: 693, 1816: 746, 1817: 785, 1818: 789, 1819: 825, 1820: 1161, 1821: 1250, 1822: 4866, 1823: 142, 1824: 719, 1825: 747, 1826: 1216, 1827: 1217, 1828: 2148, 1829: 2218, 1830: 2238, 1831: 5774, 1832: 5902, 1833: 8634, 1834: 12461, 1835: 12695, 1836: 14645, 1837: 7627, 1838: 9510, 1839: 1808, 1840: 62, 1841: 260, 1842: 291, 1843: 391, 1844: 419, 1845: 713, 1846: 1015, 1847: 9000, 1848: 9736, 1849: 9922, 1850: 10611, 1851: 15633, 1852: 18661, 1853: 33075, 1854: 204, 1855: 667, 1856: 1045, 1857: 1046, 1858: 1546, 1859: 1655, 1860: 5112, 1861: 5973, 1862: 665, 1863: 724, 1864: 741, 1865: 1051, 1866: 1102, 1867: 1192, 1868: 1202, 1869: 1220, 1870: 1576, 1871: 1622, 1872: 1640, 1873: 1977, 1874: 2592, 1875: 3613, 1876: 4353, 1877: 4477, 1878: 4879, 1879: 5332, 1880: 5656, 1881: 5690, 1882: 5784, 1883: 5984, 1884: 6581, 1885: 6736, 1886: 6787, 1887: 7110, 1888: 7588, 1889: 7705, 1890: 7857, 1891: 8063, 1892: 8190, 1893: 8426, 1894: 8476, 1895: 8666, 1896: 9120, 1897: 9624, 1898: 9630, 1899: 9723, 1900: 9761, 1901: 10483, 1902: 10935, 1903: 11001, 1904: 11135, 1905: 11355, 1906: 11663, 1907: 12137, 1908: 12419, 1909: 13585, 1910: 13863, 1911: 14145, 1912: 15933, 1913: 16023, 1914: 16518, 1915: 16904, 1916: 17371, 1917: 17573, 1918: 18177, 1919: 18295, 1920: 18549, 1921: 18953, 1922: 19211, 1923: 19257, 1924: 19391, 1925: 19653, 1926: 19945, 1927: 20971, 1928: 21335, 1929: 21497, 1930: 22583, 1931: 22673, 1932: 22689, 1933: 23037, 1934: 23133, 1935: 23201, 1936: 23327, 1937: 23775, 1938: 24261, 1939: 24475, 1940: 25143, 1941: 25781, 1942: 25835, 1943: 25839, 1944: 26213, 1945: 27727, 1946: 27989, 1947: 28025, 1948: 28283, 1949: 28607, 1950: 28735, 1951: 28791, 1952: 28817, 1953: 28981, 1954: 30230, 1955: 30346, 1956: 30705, 1957: 30895, 1958: 31109, 1959: 31229, 1960: 31245, 1961: 31251, 1962: 31417, 1963: 31540, 1964: 31636, 1965: 31790, 1966: 31815, 1967: 31846, 1968: 31973, 1969: 32011, 1970: 32175, 1971: 32245, 1972: 32483, 1973: 32697, 1974: 32947, 1975: 33037, 1976: 33080, 1977: 33222, 1978: 277, 1979: 366, 1980: 394, 1981: 563, 1982: 1016, 1983: 1065, 1984: 1453, 1985: 2163, 1986: 6443, 1987: 732, 1988: 2130, 1989: 2520, 1990: 4535, 1991: 6553, 1992: 8422, 1993: 11359, 1994: 12815, 1995: 13677, 1996: 18413, 1997: 19251, 1998: 20909, 1999: 25755, 2000: 299, 2001: 454, 2002: 459, 2003: 460, 2004: 461, 2005: 462, 2006: 463, 2007: 465, 2008: 873, 2009: 1143, 2010: 1487, 2011: 1994, 2012: 2107, 2013: 2928, 2014: 3269, 2015: 4130, 2016: 4469, 2017: 8740, 2018: 10390, 2019: 15219, 2020: 320, 2021: 340, 2022: 617, 2023: 834, 2024: 1109, 2025: 1824, 2026: 3323, 2027: 5386, 2028: 6591, 2029: 9023, 2030: 9690, 2031: 9716, 2032: 9731, 2033: 10334, 2034: 10504, 2035: 11083, 2036: 11441, 2037: 12067, 2038: 14617, 2039: 15323, 2040: 15959, 2041: 17205, 2042: 25161, 2043: 5194, 2044: 8023, 2045: 10196, 2046: 10572, 2047: 15613, 2048: 1029, 2049: 1520, 2050: 8532, 2051: 10189, 2052: 20871, 2053: 576, 2054: 1588, 2055: 1722, 2056: 2369, 2057: 3467, 2058: 6023, 2059: 10928, 2060: 23587, 2061: 30123, 2062: 30344, 2063: 30355, 2064: 207, 2065: 326, 2066: 369, 2067: 395, 2068: 514, 2069: 586, 2070: 885, 2071: 1106, 2072: 1486, 2073: 2202, 2074: 2235, 2075: 3326, 2076: 3743, 2077: 3906, 2078: 4095, 2079: 4460, 2080: 8475, 2081: 10218, 2082: 12113, 2083: 12115, 2084: 14751, 2085: 21677, 2086: 31098, 2087: 31181, 2088: 31733, 2089: 32189, 2090: 32268, 2091: 12753, 2092: 20745, 2093: 24625, 2094: 4550, 2095: 3031, 2096: 3032, 2097: 3033, 2098: 4712, 2099: 8624, 2100: 15005, 2101: 19021, 2102: 23703, 2103: 30925, 2104: 31848, 2105: 32013, 2106: 627, 2107: 1090, 2108: 1091, 2109: 1092, 2110: 3972, 2111: 10197, 2112: 182, 2113: 962, 2114: 2563, 2115: 3297, 2116: 6172, 2117: 6802, 2118: 10690, 2119: 17491, 2120: 30825, 2121: 106, 2122: 9776, 2123: 10737, 2124: 11339, 2125: 18851, 2126: 24705, 2127: 26057, 2128: 7870, 2129: 385, 2130: 405, 2131: 2746, 2132: 100, 2133: 123, 2134: 161, 2135: 476, 2136: 721, 2137: 738, 2138: 1127, 2139: 1509, 2140: 1699, 2141: 2153, 2142: 2162, 2143: 2772, 2144: 3298, 2145: 3615, 2146: 4884, 2147: 11755, 2148: 17873, 2149: 19291, 2150: 24459, 2151: 30415, 2152: 31592, 2153: 33046, 2154: 33558, 2155: 7, 2156: 26, 2157: 51, 2158: 102, 2159: 129, 2160: 130, 2161: 131, 2162: 144, 2163: 155, 2164: 156, 2165: 157, 2166: 158, 2167: 251, 2168: 281, 2169: 300, 2170: 365, 2171: 425, 2172: 439, 2173: 444, 2174: 536, 2175: 553, 2176: 595, 2177: 596, 2178: 601, 2179: 610, 2180: 656, 2181: 658, 2182: 704, 2183: 756, 2184: 867, 2185: 868, 2186: 869, 2187: 875, 2188: 916, 2189: 1019, 2190: 1020, 2191: 1043, 2192: 1055, 2193: 1066, 2194: 1078, 2195: 1112, 2196: 1225, 2197: 1311, 2198: 1324, 2199: 1496, 2200: 1531, 2201: 1654, 2202: 1729, 2203: 1747, 2204: 1815, 2205: 1836, 2206: 1869, 2207: 1890, 2208: 1908, 2209: 1958, 2210: 2033, 2211: 2143, 2212: 2246, 2213: 2274, 2214: 2602, 2215: 2729, 2216: 2768, 2217: 2954, 2218: 2985, 2219: 3057, 2220: 3080, 2221: 3121, 2222: 3174, 2223: 3318, 2224: 3328, 2225: 3420, 2226: 3429, 2227: 3430, 2228: 3468, 2229: 3469, 2230: 3508, 2231: 3701, 2232: 3750, 2233: 3841, 2234: 4021, 2235: 4037, 2236: 4772, 2237: 4872, 2238: 5196, 2239: 5244, 2240: 5772, 2241: 5957, 2242: 6064, 2243: 6127, 2244: 6163, 2245: 6187, 2246: 6299, 2247: 6399, 2248: 6768, 2249: 6864, 2250: 6958, 2251: 7044, 2252: 7135, 2253: 7396, 2254: 7669, 2255: 8038, 2256: 8079, 2257: 8197, 2258: 8481, 2259: 8985, 2260: 9088, 2261: 9712, 2262: 10098, 2263: 10445, 2264: 10469, 2265: 10870, 2266: 10945, 2267: 11531, 2268: 12665, 2269: 13281, 2270: 17901, 2271: 9310, 2272: 10552, 2273: 284, 2274: 509, 2275: 16870, 2276: 25389, 2277: 708, 2278: 1685, 2279: 12021, 2280: 28, 2281: 212, 2282: 604, 2283: 620, 2284: 882, 2285: 883, 2286: 1110, 2287: 1278, 2288: 1296, 2289: 1362, 2290: 1681, 2291: 1813, 2292: 2611, 2293: 2937, 2294: 3011, 2295: 3861, 2296: 9782, 2297: 12455, 2298: 15863, 2299: 191, 2300: 192, 2301: 221, 2302: 222, 2303: 427, 2304: 564, 2305: 1619, 2306: 1732, 2307: 10278, 2308: 14835, 2309: 109, 2310: 10012, 2311: 20889, 2312: 21879, 2313: 501, 2314: 1252, 2315: 3366, 2316: 4134, 2317: 11739, 2318: 30911, 2319: 77, 2320: 85, 2321: 87, 2322: 95, 2323: 153, 2324: 194, 2325: 285, 2326: 290, 2327: 474, 2328: 478, 2329: 820, 2330: 1088, 2331: 1089, 2332: 1397, 2333: 1915, 2334: 4985, 2335: 5941, 2336: 11227, 2337: 21469, 2338: 24629, 2339: 28621, 2340: 33221, 2341: 330, 2342: 426, 2343: 1157, 2344: 2071, 2345: 1601, 2346: 1517, 2347: 160, 2348: 1025, 2349: 9999, 2350: 16239, 2351: 1581, 2352: 4195, 2353: 34103, 2354: 12149, 2355: 14921, 2356: 14941, 2357: 254, 2358: 489, 2359: 1279, 2360: 10765, 2361: 15807, 2362: 16051, 2363: 20155, 2364: 279, 2365: 445, 2366: 603, 2367: 854, 2368: 1174, 2369: 1408, 2370: 1954, 2371: 2105, 2372: 2275, 2373: 2276, 2374: 2523, 2375: 4262, 2376: 7662, 2377: 7768, 2378: 8141, 2379: 8908, 2380: 10923, 2381: 14373, 2382: 15793, 2383: 5671, 2384: 10884, 2385: 16123, 2386: 32526, 2387: 9875, 2388: 537, 2389: 979, 2390: 998, 2391: 2263, 2392: 10702, 2393: 880, 2394: 1086, 2395: 1218, 2396: 1543, 2397: 1565, 2398: 2108, 2399: 3594, 2400: 5507, 2401: 6676, 2402: 11697, 2403: 16335, 2404: 16385, 2405: 17115, 2406: 22777, 2407: 28755, 2408: 31711, 2409: 32551, 2410: 33142, 2411: 382, 2412: 18713, 2413: 3636, 2414: 7745, 2415: 10470, 2416: 10740, 2417: 17273, 2418: 17919, 2419: 25805, 2420: 28387, 2421: 30375, 2422: 30915, 2423: 32879, 2424: 247, 2425: 2020, 2426: 3322, 2427: 10497, 2428: 119, 2429: 125, 2430: 126, 2431: 146, 2432: 175, 2433: 209, 2434: 218, 2435: 238, 2436: 259, 2437: 261, 2438: 262, 2439: 275, 2440: 303, 2441: 343, 2442: 346, 2443: 471, 2444: 472, 2445: 546, 2446: 547, 2447: 554, 2448: 555, 2449: 577, 2450: 590, 2451: 609, 2452: 615, 2453: 626, 2454: 648, 2455: 668, 2456: 682, 2457: 685, 2458: 694, 2459: 710, 2460: 824, 2461: 835, 2462: 836, 2463: 856, 2464: 988, 2465: 1048, 2466: 1128, 2467: 1133, 2468: 1164, 2469: 1514, 2470: 1555, 2471: 1557, 2472: 1568, 2473: 1569, 2474: 1570, 2475: 1648, 2476: 1727, 2477: 1807, 2478: 2015, 2479: 2027, 2480: 2367, 2481: 2595, 2482: 2960, 2483: 2970, 2484: 3166, 2485: 3247, 2486: 3358, 2487: 3593, 2488: 3627, 2489: 3654, 2490: 4450, 2491: 4566, 2492: 4720, 2493: 5041, 2494: 5216, 2495: 5504, 2496: 6489, 2497: 6979, 2498: 7596, 2499: 8310, 2500: 8986, 2501: 9581, 2502: 9793, 2503: 10017, 2504: 10033, 2505: 10156, 2506: 10659, 2507: 12979, 2508: 14515, 2509: 14827, 2510: 15133, 2511: 15391, 2512: 16508, 2513: 17397, 2514: 18055, 2515: 19845, 2516: 20517, 2517: 21039, 2518: 24011, 2519: 25517, 2520: 28537, 2521: 28883, 2522: 28929, 2523: 30187, 2524: 30250, 2525: 30383, 2526: 30746, 2527: 31091, 2528: 31143, 2529: 31147, 2530: 31173, 2531: 31797, 2532: 32313, 2533: 32323, 2534: 2744, 2535: 1435, 2536: 6069, 2537: 11679, 2538: 15313, 2539: 22537, 2540: 12367, 2541: 779, 2542: 780, 2543: 781, 2544: 1363, 2545: 1364, 2546: 1365, 2547: 1366, 2548: 1367, 2549: 1505, 2550: 1506, 2551: 2171, 2552: 2298, 2553: 4447, 2554: 5460, 2555: 6467, 2556: 7016, 2557: 8241, 2558: 9963, 2559: 10301, 2560: 12117, 2561: 12879, 2562: 14735, 2563: 17643, 2564: 18045, 2565: 21419, 2566: 28479, 2567: 28593, 2568: 28725, 2569: 28957, 2570: 30100, 2571: 30206, 2572: 31324, 2573: 31368, 2574: 31389, 2575: 31553, 2576: 32561, 2577: 33161, 2578: 82, 2579: 84, 2580: 88, 2581: 324, 2582: 1095, 2583: 1096, 2584: 1209, 2585: 1288, 2586: 1289, 2587: 1301, 2588: 1302, 2589: 1650, 2590: 1916, 2591: 1917, 2592: 3014, 2593: 3111, 2594: 4232, 2595: 16664, 2596: 23259, 2597: 24835, 2598: 183, 2599: 386, 2600: 558, 2601: 1327, 2602: 1842, 2603: 3226, 2604: 5028, 2605: 7655, 2606: 12875, 2607: 20533, 2608: 393, 2609: 1094, 2610: 9260, 2611: 11487, 2612: 11735, 2613: 19185, 2614: 19521, 2615: 22539, 2616: 30795, 2617: 31483, 2618: 31490, 2619: 32051, 2620: 33338, 2621: 1847, 2622: 21681, 2623: 22189, 2624: 75, 2625: 89, 2626: 92, 2627: 110, 2628: 115, 2629: 116, 2630: 321, 2631: 388, 2632: 396, 2633: 397, 2634: 404, 2635: 473, 2636: 944, 2637: 995, 2638: 1005, 2639: 1021, 2640: 1215, 2641: 1251, 2642: 1425, 2643: 1426, 2644: 1485, 2645: 1541, 2646: 1618, 2647: 1651, 2648: 1652, 2649: 1835, 2650: 1985, 2651: 2043, 2652: 2142, 2653: 2227, 2654: 2229, 2655: 2253, 2656: 2391, 2657: 2405, 2658: 2543, 2659: 2559, 2660: 2752, 2661: 2913, 2662: 3044, 2663: 3437, 2664: 3481, 2665: 3631, 2666: 4073, 2667: 4385, 2668: 5189, 2669: 5252, 2670: 5311, 2671: 5485, 2672: 5658, 2673: 11859, 2674: 12001, 2675: 105, 2676: 470, 2677: 614, 2678: 631, 2679: 641, 2680: 642, 2681: 645, 2682: 841, 2683: 863, 2684: 881, 2685: 2205, 2686: 3225, 2687: 3673, 2688: 3965, 2689: 4715, 2690: 5132, 2691: 5150, 2692: 5162, 2693: 5597, 2694: 5713, 2695: 6712, 2696: 7468, 2697: 7559, 2698: 9203, 2699: 10547, 2700: 10934, 2701: 14575, 2702: 17745, 2703: 27891, 2704: 1589, 2705: 10075, 2706: 18495, 2707: 25879, 2708: 31715, 2709: 30806, 2710: 127, 2711: 128, 2712: 670, 2713: 776, 2714: 933, 2715: 2580, 2716: 3956, 2717: 4188, 2718: 4903, 2719: 5454, 2720: 6050, 2721: 6748, 2722: 7875, 2723: 8917, 2724: 10298, 2725: 10532, 2726: 10582, 2727: 10628, 2728: 11161, 2729: 12281, 2730: 12505, 2731: 12823, 2732: 13429, 2733: 15951, 2734: 16910, 2735: 17585, 2736: 17637, 2737: 17681, 2738: 17821, 2739: 24695, 2740: 27957, 2741: 30651, 2742: 31793, 2743: 32801, 2744: 17849, 2745: 838, 2746: 10308, 2747: 438, 2748: 1358, 2749: 793, 2750: 1952, 2751: 4334, 2752: 4773, 2753: 5005, 2754: 6016, 2755: 6582, 2756: 6583, 2757: 16211, 2758: 1525, 2759: 2619, 2760: 2620, 2761: 2782, 2762: 4389, 2763: 4793, 2764: 4794, 2765: 4795, 2766: 4874, 2767: 5027, 2768: 5529, 2769: 5845, 2770: 6555, 2771: 6893, 2772: 8438, 2773: 8709, 2774: 8815, 2775: 9911, 2776: 10302, 2777: 10419, 2778: 10779, 2779: 10916, 2780: 10917, 2781: 11009, 2782: 11019, 2783: 11069, 2784: 11073, 2785: 11717, 2786: 12187, 2787: 12255, 2788: 13183, 2789: 13251, 2790: 13263, 2791: 13595, 2792: 15537, 2793: 15881, 2794: 15927, 2795: 16604, 2796: 16608, 2797: 16610, 2798: 17879, 2799: 19109, 2800: 19697, 2801: 20359, 2802: 20365, 2803: 20557, 2804: 20743, 2805: 20913, 2806: 22225, 2807: 22759, 2808: 23121, 2809: 23237, 2810: 23269, 2811: 23299, 2812: 23341, 2813: 23399, 2814: 23579, 2815: 24699, 2816: 24821, 2817: 24855, 2818: 24919, 2819: 24921, 2820: 25011, 2821: 25285, 2822: 25859, 2823: 25907, 2824: 25943, 2825: 27509, 2826: 27539, 2827: 27601, 2828: 27969, 2829: 28105, 2830: 28221, 2831: 28299, 2832: 28405, 2833: 28531, 2834: 28789, 2835: 28841, 2836: 29083, 2837: 29511, 2838: 29513, 2839: 29515, 2840: 29517, 2841: 29575, 2842: 29705, 2843: 30127, 2844: 30251, 2845: 30358, 2846: 30437, 2847: 30460, 2848: 30514, 2849: 30543, 2850: 30583, 2851: 30585, 2852: 30745, 2853: 30813, 2854: 30826, 2855: 30902, 2856: 31080, 2857: 31498, 2858: 31564, 2859: 31578, 2860: 31621, 2861: 31706, 2862: 31756, 2863: 31771, 2864: 31918, 2865: 32214, 2866: 32309, 2867: 32454, 2868: 32667, 2869: 32863, 2870: 32906, 2871: 32954, 2872: 9539, 2873: 13145, 2874: 15611, 2875: 19123, 2876: 91, 2877: 124, 2878: 380, 2879: 381, 2880: 539, 2881: 541, 2882: 567, 2883: 598, 2884: 1006, 2885: 1144, 2886: 2604, 2887: 6112, 2888: 19115, 2889: 990, 2890: 49, 2891: 55, 2892: 244, 2893: 349, 2894: 398, 2895: 399, 2896: 566, 2897: 766, 2898: 1003, 2899: 1583, 2900: 1817, 2901: 3090, 2902: 5074, 2903: 6291, 2904: 6380, 2905: 6425, 2906: 6587, 2907: 7463, 2908: 10336, 2909: 10357, 2910: 12579, 2911: 15617, 2912: 27857, 2913: 334, 2914: 520, 2915: 540, 2916: 792, 2917: 1007, 2918: 1101, 2919: 1146, 2920: 1147, 2921: 2725, 2922: 9396, 2923: 10351, 2924: 304, 2925: 466, 2926: 504, 2927: 618, 2928: 837, 2929: 963, 2930: 1009, 2931: 1237, 2932: 1238, 2933: 1694, 2934: 1799, 2935: 1800, 2936: 1861, 2937: 2170, 2938: 2198, 2939: 2210, 2940: 2385, 2941: 2386, 2942: 2490, 2943: 2498, 2944: 2499, 2945: 2680, 2946: 3221, 2947: 3352, 2948: 3392, 2949: 3954, 2950: 4205, 2951: 4657, 2952: 4705, 2953: 6032, 2954: 6287, 2955: 6344, 2956: 6379, 2957: 6548, 2958: 6783, 2959: 7375, 2960: 7580, 2961: 7805, 2962: 8171, 2963: 8231, 2964: 8311, 2965: 8348, 2966: 8487, 2967: 8909, 2968: 9202, 2969: 9314, 2970: 10622, 2971: 10834, 2972: 10920, 2973: 11077, 2974: 11769, 2975: 11889, 2976: 12119, 2977: 12429, 2978: 12449, 2979: 12709, 2980: 12857, 2981: 13137, 2982: 13259, 2983: 13309, 2984: 13373, 2985: 13375, 2986: 15431, 2987: 16273, 2988: 16468, 2989: 17791, 2990: 17811, 2991: 17813, 2992: 17815, 2993: 17819, 2994: 19951, 2995: 22117, 2996: 22125, 2997: 22859, 2998: 23989, 2999: 27939, 3000: 29998, 3001: 30382, 3002: 30981, 3003: 31051, 3004: 31289, 3005: 8, 3006: 1123, 3007: 4618, 3008: 5691, 3009: 5947, 3010: 9124, 3011: 10431, 3012: 4069, 3013: 19511, 3014: 25313, 3015: 548, 3016: 4786, 3017: 6574, 3018: 9308, 3019: 10380, 3020: 11879, 3021: 15883, 3022: 17345, 3023: 736, 3024: 752, 3025: 755, 3026: 5085, 3027: 5719, 3028: 9232, 3029: 113, 3030: 296, 3031: 327, 3032: 337, 3033: 350, 3034: 351, 3035: 352, 3036: 353, 3037: 456, 3038: 671, 3039: 831, 3040: 1376, 3041: 1533, 3042: 1561, 3043: 1567, 3044: 1578, 3045: 1602, 3046: 1864, 3047: 1957, 3048: 2489, 3049: 2947, 3050: 2948, 3051: 4114, 3052: 4662, 3053: 4713, 3054: 5753, 3055: 5938, 3056: 6117, 3057: 6980, 3058: 8133, 3059: 8206, 3060: 8217, 3061: 9907, 3062: 9979, 3063: 10153, 3064: 10257, 3065: 12221, 3066: 12863, 3067: 12963, 3068: 14951, 3069: 16442, 3070: 17249, 3071: 17497, 3072: 21031, 3073: 28669, 3074: 30709, 3075: 31500, 3076: 4443, 3077: 10527, 3078: 10528, 3079: 1374, 3080: 490, 3081: 505, 3082: 516, 3083: 860, 3084: 5684, 3085: 9893, 3086: 12191, 3087: 16419, 3088: 403, 3089: 10219, 3090: 24451, 3091: 24531, 3092: 31499, 3093: 31865, 3094: 33209, 3095: 345, 3096: 811, 3097: 1946, 3098: 1961, 3099: 2035, 3100: 4586, 3101: 6422, 3102: 7265, 3103: 11543, 3104: 649, 3105: 24029, 3106: 24469, 3107: 23319, 3108: 1034, 3109: 3371, 3110: 3665, 3111: 3466, 3112: 5420, 3113: 15735, 3114: 19581, 3115: 12057, 3116: 15811, 3117: 24471, 3118: 287, 3119: 178, 3120: 1411, 3121: 1534, 3122: 1930, 3123: 2084, 3124: 2087, 3125: 3076, 3126: 4124, 3127: 4703, 3128: 6527, 3129: 7645, 3130: 9288, 3131: 10821, 3132: 14127, 3133: 15307, 3134: 17357, 3135: 23083, 3136: 32160, 3137: 162, 3138: 200, 3139: 25729, 3140: 30868, 3141: 208, 3142: 584, 3143: 1241, 3144: 1410, 3145: 1454, 3146: 2971, 3147: 3270, 3148: 4080, 3149: 19193, 3150: 19195, 3151: 10187, 3152: 2848, 3153: 7144, 3154: 17731, 3155: 420, 3156: 812, 3157: 4718, 3158: 5141, 3159: 7453, 3160: 8115, 3161: 328, 3162: 25861, 3163: 30533, 3164: 3354, 3165: 31174, 3166: 11867, 3167: 6162, 3168: 9890, 3169: 11917, 3170: 3616, 3171: 23985, 3172: 32485, 3173: 2123, 3174: 3016, 3175: 499, 3176: 622, 3177: 1047, 3178: 1107, 3179: 1208, 3180: 1269, 3181: 1352, 3182: 1793, 3183: 1857, 3184: 1951, 3185: 1972, 3186: 1980, 3187: 2250, 3188: 2293, 3189: 2616, 3190: 2897, 3191: 2981, 3192: 3061, 3193: 3446, 3194: 4685, 3195: 4756, 3196: 5225, 3197: 5600, 3198: 5624, 3199: 6941, 3200: 8972, 3201: 9544, 3202: 10074, 3203: 25045, 3204: 910, 3205: 1243, 3206: 4156, 3207: 4792, 3208: 13767, 3209: 14627, 3210: 18099, 3211: 25567, 3212: 30191, 3213: 30948, 3214: 31552, 3215: 31561, 3216: 33524, 3217: 20035, 3218: 236, 3219: 503, 3220: 970, 3221: 1017, 3222: 1466, 3223: 1647, 3224: 1663, 3225: 1678, 3226: 1823, 3227: 2031, 3228: 2150, 3229: 2225, 3230: 2228, 3231: 2333, 3232: 2346, 3233: 2569, 3234: 2575, 3235: 2618, 3236: 2780, 3237: 2808, 3238: 2828, 3239: 2829, 3240: 3009, 3241: 3010, 3242: 3085, 3243: 3535, 3244: 3907, 3245: 4663, 3246: 4798, 3247: 5014, 3248: 5029, 3249: 5712, 3250: 5832, 3251: 5891, 3252: 7014, 3253: 7651, 3254: 10592, 3255: 12223, 3256: 22817, 3257: 30137, 3258: 31144, 3259: 31223, 3260: 31227, 3261: 32376, 3262: 1413, 3263: 1414, 3264: 1415, 3265: 1416, 3266: 1417, 3267: 1418, 3268: 1419, 3269: 1420, 3270: 1421, 3271: 1422, 3272: 1423, 3273: 1424, 3274: 1427, 3275: 1429, 3276: 1431, 3277: 1432, 3278: 1433, 3279: 1434, 3280: 1437, 3281: 1438, 3282: 3019, 3283: 4320, 3284: 4851, 3285: 6115, 3286: 8097, 3287: 10519, 3288: 15783, 3289: 18429, 3290: 20141, 3291: 22215, 3292: 23551, 3293: 25939, 3294: 4039, 3295: 5967, 3296: 5968, 3297: 179, 3298: 1171, 3299: 1779, 3300: 2134, 3301: 2436, 3302: 2562, 3303: 2590, 3304: 2943, 3305: 3586, 3306: 3587, 3307: 3916, 3308: 3918, 3309: 3941, 3310: 4473, 3311: 4653, 3312: 4714, 3313: 4775, 3314: 5054, 3315: 5305, 3316: 5762, 3317: 6194, 3318: 6705, 3319: 8635, 3320: 9311, 3321: 9362, 3322: 10457, 3323: 10570, 3324: 10668, 3325: 11467, 3326: 13171, 3327: 13643, 3328: 14347, 3329: 14663, 3330: 15093, 3331: 15095, 3332: 16614, 3333: 16656, 3334: 16914, 3335: 17949, 3336: 19051, 3337: 15895, 3338: 25647, 3339: 31683, 3340: 4983, 3341: 18599, 3342: 16317, 3343: 23115, 3344: 25241, 3345: 173, 3346: 2164, 3347: 3001, 3348: 4053, 3349: 8339, 3350: 13409, 3351: 4246, 3352: 415, 3353: 493, 3354: 573, 3355: 600, 3356: 647, 3357: 650, 3358: 1008, 3359: 1011, 3360: 1037, 3361: 1191, 3362: 1232, 3363: 1609, 3364: 1905, 3365: 2193, 3366: 2488, 3367: 3202, 3368: 4023, 3369: 4024, 3370: 4025, 3371: 5998, 3372: 7083, 3373: 7261, 3374: 9291, 3375: 11521, 3376: 15577, 3377: 17951, 3378: 17953, 3379: 17955, 3380: 17957, 3381: 18029, 3382: 18031, 3383: 18033, 3384: 18083, 3385: 18085, 3386: 18587, 3387: 18589, 3388: 18823, 3389: 18825, 3390: 18829, 3391: 6165, 3392: 18343, 3393: 18499, 3394: 18619, 3395: 23367, 3396: 206, 3397: 690, 3398: 1384, 3399: 2335, 3400: 3004, 3401: 5155, 3402: 7108, 3403: 8278, 3404: 10643, 3405: 11705, 3406: 12677, 3407: 13117, 3408: 13119, 3409: 19261, 3410: 10015, 3411: 56, 3412: 447, 3413: 581, 3414: 637, 3415: 866, 3416: 1026, 3417: 1246, 3418: 1276, 3419: 1277, 3420: 1868, 3421: 2356, 3422: 2528, 3423: 2905, 3424: 3268, 3425: 5226, 3426: 5333, 3427: 5868, 3428: 6199, 3429: 7322, 3430: 8507, 3431: 8518, 3432: 10479, 3433: 10516, 3434: 10545, 3435: 11255, 3436: 12053, 3437: 14479, 3438: 15325, 3439: 21373, 3440: 23619, 3441: 23697, 3442: 26023, 3443: 27945, 3444: 29123, 3445: 30324, 3446: 30385, 3447: 30524, 3448: 30711, 3449: 31128, 3450: 32606, 3451: 32682, 3452: 33082, 3453: 33372, 3454: 258, 3455: 2564, 3456: 4908, 3457: 2950, 3458: 6721, 3459: 308, 3460: 982, 3461: 1205, 3462: 2166, 3463: 2832, 3464: 2953, 3465: 3088, 3466: 4158, 3467: 5978, 3468: 6554, 3469: 9213, 3470: 10500, 3471: 15077, 3472: 20187, 3473: 9611, 3474: 315, 3475: 107, 3476: 159, 3477: 286, 3478: 377, 3479: 579, 3480: 832, 3481: 833, 3482: 1149, 3483: 1492, 3484: 1493, 3485: 1500, 3486: 1538, 3487: 1603, 3488: 1628, 3489: 1693, 3490: 2819, 3491: 4038, 3492: 4197, 3493: 7081, 3494: 8287, 3495: 8410, 3496: 9737, 3497: 10370, 3498: 10444, 3499: 10808, 3500: 11385, 3501: 12651, 3502: 13231, 3503: 17917, 3504: 651, 3505: 1995, 3506: 2821, 3507: 5904, 3508: 9600, 3509: 10671, 3510: 12501, 3511: 12997, 3512: 18449, 3513: 22901, 3514: 24751, 3515: 27967, 3516: 28205, 3517: 29876, 3518: 31064, 3519: 31118, 3520: 31138, 3521: 31326, 3522: 31521, 3523: 31598, 3524: 32574, 3525: 11177, 3526: 14277, 3527: 16405, 3528: 1974, 3529: 2534, 3530: 19575, 3531: 274, 3532: 1214, 3533: 1219, 3534: 1230, 3535: 1456, 3536: 1480, 3537: 1607, 3538: 1888, 3539: 2151, 3540: 2813, 3541: 3165, 3542: 3312, 3543: 3449, 3544: 3456, 3545: 3604, 3546: 3641, 3547: 4421, 3548: 4811, 3549: 5084, 3550: 5116, 3551: 5914, 3552: 6479, 3553: 6890, 3554: 6984, 3555: 7062, 3556: 7770, 3557: 8078, 3558: 9055, 3559: 9333, 3560: 9393, 3561: 9493, 3562: 9523, 3563: 9563, 3564: 9774, 3565: 9930, 3566: 9934, 3567: 9940, 3568: 10122, 3569: 10232, 3570: 10804, 3571: 10918, 3572: 11033, 3573: 11043, 3574: 11103, 3575: 11237, 3576: 11239, 3577: 11341, 3578: 11615, 3579: 11661, 3580: 11793, 3581: 12437, 3582: 12611, 3583: 12637, 3584: 12921, 3585: 13169, 3586: 13173, 3587: 13283, 3588: 13335, 3589: 13563, 3590: 13727, 3591: 13731, 3592: 13835, 3593: 14317, 3594: 14675, 3595: 14875, 3596: 15591, 3597: 15649, 3598: 15731, 3599: 15781, 3600: 15989, 3601: 17267, 3602: 17341, 3603: 17351, 3604: 17739, 3605: 17855, 3606: 19029, 3607: 20039, 3608: 20221, 3609: 20723, 3610: 21073, 3611: 21409, 3612: 21435, 3613: 21573, 3614: 21635, 3615: 21649, 3616: 21737, 3617: 23459, 3618: 29787, 3619: 4444, 3620: 10526, 3621: 9347, 3622: 4066, 3623: 31890, 3624: 29301, 3625: 32915, 3626: 2157, 3627: 2868, 3628: 2869, 3629: 12623, 3630: 31121, 3631: 4910, 3632: 6275, 3633: 16678, 3634: 368, 3635: 864, 3636: 927, 3637: 928, 3638: 2284, 3639: 2372, 3640: 2432, 3641: 2507, 3642: 2852, 3643: 3102, 3644: 3537, 3645: 3578, 3646: 3622, 3647: 3970, 3648: 3976, 3649: 3999, 3650: 4358, 3651: 4763, 3652: 5316, 3653: 5464, 3654: 5651, 3655: 5959, 3656: 6690, 3657: 6892, 3658: 7113, 3659: 7474, 3660: 7708, 3661: 9312, 3662: 9638, 3663: 9721, 3664: 10488, 3665: 10695, 3666: 11031, 3667: 11065, 3668: 11321, 3669: 11349, 3670: 11827, 3671: 13221, 3672: 13325, 3673: 13379, 3674: 14379, 3675: 14657, 3676: 14659, 3677: 14993, 3678: 14995, 3679: 15839, 3680: 16059, 3681: 17541, 3682: 18693, 3683: 19103, 3684: 20589, 3685: 20959, 3686: 21001, 3687: 21349, 3688: 21597, 3689: 21829, 3690: 22429, 3691: 22435, 3692: 22543, 3693: 22815, 3694: 25345, 3695: 25877, 3696: 27603, 3697: 28311, 3698: 28313, 3699: 28519, 3700: 28859, 3701: 29085, 3702: 29261, 3703: 29809, 3704: 30702, 3705: 31101, 3706: 31189, 3707: 31234, 3708: 31283, 3709: 31331, 3710: 31403, 3711: 31518, 3712: 31995, 3713: 32267, 3714: 32620, 3715: 4033, 3716: 10536, 3717: 1737, 3718: 7106, 3719: 958, 3720: 1881, 3721: 1882, 3722: 2525, 3723: 27927, 3724: 30218, 3725: 30721, 3726: 148, 3727: 358, 3728: 1206, 3729: 1441, 3730: 1554, 3731: 1721, 3732: 3549, 3733: 9053, 3734: 9931, 3735: 13215, 3736: 17635, 3737: 623, 3738: 646, 3739: 840, 3740: 851, 3741: 1135, 3742: 1591, 3743: 1825, 3744: 1830, 3745: 2124, 3746: 2132, 3747: 2409, 3748: 2451, 3749: 2784, 3750: 3419, 3751: 3618, 3752: 4082, 3753: 4361, 3754: 4596, 3755: 5032, 3756: 5045, 3757: 5080, 3758: 5199, 3759: 6226, 3760: 6330, 3761: 6743, 3762: 7041, 3763: 7744, 3764: 7882, 3765: 8211, 3766: 9159, 3767: 9290, 3768: 9328, 3769: 9591, 3770: 10152, 3771: 10180, 3772: 10477, 3773: 10807, 3774: 10933, 3775: 12131, 3776: 14957, 3777: 17277, 3778: 17551, 3779: 18355, 3780: 18881, 3781: 559, 3782: 758, 3783: 4650, 3784: 5288, 3785: 26449, 3786: 31105, 3787: 370, 3788: 383, 3789: 712, 3790: 924, 3791: 925, 3792: 926, 3793: 938, 3794: 978, 3795: 4554, 3796: 27785, 3797: 2706, 3798: 815, 3799: 8599, 3800: 1335, 3801: 3447, 3802: 3485, 3803: 21575, 3804: 22359, 3805: 842, 3806: 1235, 3807: 5308, 3808: 7774, 3809: 8057, 3810: 10297, 3811: 13561, 3812: 13757, 3813: 13855, 3814: 17419, 3815: 21119, 3816: 23781, 3817: 28013, 3818: 28063, 3819: 29413, 3820: 30464, 3821: 31851, 3822: 418, 3823: 1010, 3824: 1491, 3825: 5493, 3826: 10191, 3827: 10819, 3828: 10822, 3829: 10825, 3830: 252, 3831: 25341, 3832: 203, 3833: 229, 3834: 492, 3835: 608, 3836: 830, 3837: 941, 3838: 1079, 3839: 1186, 3840: 1234, 3841: 1336, 3842: 1372, 3843: 1401, 3844: 1489, 3845: 1787, 3846: 2011, 3847: 2014, 3848: 2136, 3849: 2178, 3850: 2185, 3851: 2188, 3852: 2262, 3853: 2751, 3854: 2798, 3855: 2811, 3856: 2873, 3857: 2883, 3858: 2884, 3859: 2988, 3860: 3000, 3861: 3050, 3862: 3992, 3863: 4350, 3864: 4997, 3865: 5097, 3866: 5172, 3867: 5347, 3868: 5686, 3869: 6189, 3870: 6235, 3871: 6590, 3872: 7066, 3873: 7264, 3874: 8101, 3875: 8653, 3876: 8837, 3877: 10325, 3878: 10629, 3879: 10792, 3880: 13057, 3881: 13223, 3882: 13239, 3883: 14129, 3884: 16756, 3885: 18455, 3886: 21451, 3887: 21267, 3888: 23361, 3889: 23369, 3890: 27887, 3891: 30912, 3892: 336, 3893: 446, 3894: 771, 3895: 1013, 3896: 1024, 3897: 1777, 3898: 2267, 3899: 2290, 3900: 2756, 3901: 3574, 3902: 4138, 3903: 5538, 3904: 6607, 3905: 10502, 3906: 12433, 3907: 12877, 3908: 15651, 3909: 17395, 3910: 22137, 3911: 8939, 3912: 909, 3913: 1167, 3914: 783, 3915: 2279, 3916: 33032, 3917: 560, 3918: 593, 3919: 1170, 3920: 1190, 3921: 5751, 3922: 6999, 3923: 29583, 3924: 31378, 3925: 551, 3926: 624, 3927: 1445, 3928: 1483, 3929: 1910, 3930: 2544, 3931: 4060, 3932: 4061, 3933: 5203, 3934: 10958, 3935: 16143, 3936: 16287, 3937: 31994, 3938: 2152, 3939: 15979, 3940: 484, 3941: 950, 3942: 1187, 3943: 1357, 3944: 2125, 3945: 2126, 3946: 2222, 3947: 2265, 3948: 2268, 3949: 2747, 3950: 3576, 3951: 4476, 3952: 5070, 3953: 5289, 3954: 5369, 3955: 5725, 3956: 6038, 3957: 6152, 3958: 6511, 3959: 6800, 3960: 6964, 3961: 7862, 3962: 8026, 3963: 9274, 3964: 9528, 3965: 17379, 3966: 814, 3967: 6985, 3968: 10109, 3969: 20969, 3970: 1084, 3971: 13799, 3972: 3772, 3973: 4524, 3974: 6714, 3975: 6392, 3976: 9744, 3977: 10827, 3978: 12055, 3979: 17867, 3980: 23605, 3981: 1293, 3982: 9988, 3983: 32950, 3984: 937, 3985: 2969, 3986: 1703, 3987: 31804, 3988: 32961, 3989: 1448, 3990: 1488, 3991: 1873, 3992: 2252, 3993: 2354, 3994: 2355, 3995: 8098, 3996: 8337, 3997: 1967, 3998: 1968, 3999: 1969, 4000: 2606, 4001: 1290, 4002: 1328, 4003: 1762, 4004: 2016, 4005: 2017, 4006: 2018, 4007: 2973, 4008: 3787, 4009: 16436, 4010: 23179, 4011: 28775, 4012: 29347, 4013: 32959, 4014: 6024, 4015: 7972, 4016: 24935, 4017: 30919, 4018: 31056, 4019: 31370, 4020: 32190, 4021: 33201, 4022: 1069, 4023: 582, 4024: 975, 4025: 976, 4026: 1196, 4027: 1711, 4028: 1757, 4029: 3070, 4030: 4056, 4031: 5670, 4032: 24457, 4033: 27653, 4034: 6438, 4035: 7303, 4036: 8609, 4037: 2603, 4038: 4549, 4039: 354, 4040: 3889, 4041: 201, 4042: 666, 4043: 1062, 4044: 1105, 4045: 9608, 4046: 9874, 4047: 13203, 4048: 13619, 4049: 17437, 4050: 21201, 4051: 22335, 4052: 23293, 4053: 26359, 4054: 612, 4055: 673, 4056: 1255, 4057: 2269, 4058: 2294, 4059: 2332, 4060: 2547, 4061: 2561, 4062: 2615, 4063: 2743, 4064: 3438, 4065: 3626, 4066: 3948, 4067: 3963, 4068: 3964, 4069: 4012, 4070: 4509, 4071: 4646, 4072: 4890, 4073: 5031, 4074: 5351, 4075: 6153, 4076: 6154, 4077: 6904, 4078: 7270, 4079: 8062, 4080: 9170, 4081: 10581, 4082: 11635, 4083: 12237, 4084: 15279, 4085: 16331, 4086: 17080, 4087: 17717, 4088: 18149, 4089: 19099, 4090: 21103, 4091: 23439, 4092: 23835, 4093: 23837, 4094: 28431, 4095: 30549, 4096: 6946, 4097: 22831, 4098: 1996, 4099: 6798, 4100: 11457, 4101: 14563, 4102: 16169, 4103: 26183, 4104: 31763, 4105: 6694, 4106: 3100, 4107: 3837, 4108: 311, 4109: 312, 4110: 313, 4111: 314, 4112: 795, 4113: 844, 4114: 911, 4115: 3868, 4116: 7861, 4117: 8542, 4118: 10384, 4119: 14359, 4120: 15015, 4121: 342, 4122: 23725, 4123: 10687, 4124: 12929, 4125: 21835, 4126: 32601, 4127: 8726, 4128: 306, 4129: 23701, 4130: 184, 4131: 2106, 4132: 11505, 4133: 12689, 4134: 9204, 4135: 733, 4136: 734, 4137: 1042, 4138: 2417, 4139: 10731, 4140: 15291, 4141: 31139, 4142: 12411, 4143: 983, 4144: 1718, 4145: 23359, 4146: 1198, 4147: 1720, 4148: 4166, 4149: 4804, 4150: 606, 4151: 1189, 4152: 1508, 4153: 1657, 4154: 15813, 4155: 20329, 4156: 21013, 4157: 21773, 4158: 22099, 4159: 22733, 4160: 22735, 4161: 27825, 4162: 28869, 4163: 30381, 4164: 2810, 4165: 2816, 4166: 3008, 4167: 757, 4168: 2767, 4169: 3962, 4170: 12907, 4171: 23151, 4172: 458, 4173: 629, 4174: 630, 4175: 769, 4176: 773, 4177: 870, 4178: 1182, 4179: 1484, 4180: 1528, 4181: 1558, 4182: 1630, 4183: 1643, 4184: 1701, 4185: 1702, 4186: 1780, 4187: 1805, 4188: 1855, 4189: 1944, 4190: 2217, 4191: 2324, 4192: 2325, 4193: 2433, 4194: 2437, 4195: 2453, 4196: 2522, 4197: 2524, 4198: 3793, 4199: 5020, 4200: 1041, 4201: 1080, 4202: 16233, 4203: 21041, 4204: 25719, 4205: 424, 4206: 11715, 4207: 20849, 4208: 22039, 4209: 23247, 4210: 24271, 4211: 33964, 4212: 253, 4213: 255, 4214: 29829, 4215: 29830, 4216: 29831, 4217: 4664, 4218: 29223, 4219: 31221, 4220: 951, 4221: 1375, 4222: 2334, 4223: 2542, 4224: 2555, 4225: 2557, 4226: 2570, 4227: 2577, 4228: 2783, 4229: 2799, 4230: 2825, 4231: 2826, 4232: 2912, 4233: 3036, 4234: 3043, 4235: 3053, 4236: 3125, 4237: 3186, 4238: 3196, 4239: 3460, 4240: 3754, 4241: 3807, 4242: 3847, 4243: 3877, 4244: 5267, 4245: 5273, 4246: 25897, 4247: 1490, 4248: 2717, 4249: 3854, 4250: 27947, 4251: 31645, 4252: 23487, 4253: 28683, 4254: 2413, 4255: 5603, 4256: 8039, 4257: 15867, 4258: 16472, 4259: 20377, 4260: 21751, 4261: 24641, 4262: 8705, 4263: 17655, 4264: 2613, 4265: 2614, 4266: 7308, 4267: 15711, 4268: 544, 4269: 1151, 4270: 1342, 4271: 1587, 4272: 2060, 4273: 2061, 4274: 2062, 4275: 2063, 4276: 5053, 4277: 6331, 4278: 6129, 4279: 10801, 4280: 13993, 4281: 32422, 4282: 14231, 4283: 25883, 4284: 1285, 4285: 635, 4286: 636, 4287: 956, 4288: 2467, 4289: 2471, 4290: 2612, 4291: 2701, 4292: 3272, 4293: 4375, 4294: 9119, 4295: 12145, 4296: 14211, 4297: 18577, 4298: 19999, 4299: 23363, 4300: 3745, 4301: 8358, 4302: 18989, 4303: 283, 4304: 367, 4305: 455, 4306: 495, 4307: 1373, 4308: 1695, 4309: 1806, 4310: 1983, 4311: 2214, 4312: 2392, 4313: 2648, 4314: 2649, 4315: 2651, 4316: 2736, 4317: 2757, 4318: 3424, 4319: 3432, 4320: 4926, 4321: 5494, 4322: 8208, 4323: 10534, 4324: 15159, 4325: 30649, 4326: 31665, 4327: 818, 4328: 6838, 4329: 219, 4330: 1082, 4331: 1898, 4332: 421, 4333: 569, 4334: 1168, 4335: 1256, 4336: 1258, 4337: 1481, 4338: 1592, 4339: 1919, 4340: 1920, 4341: 1921, 4342: 1922, 4343: 1923, 4344: 1924, 4345: 1925, 4346: 2118, 4347: 2449, 4348: 4639, 4349: 6567, 4350: 22677, 4351: 29129, 4352: 31096, 4353: 266, 4354: 297, 4355: 1097, 4356: 359, 4357: 525, 4358: 1156, 4359: 1350, 4360: 1544, 4361: 1760, 4362: 1966, 4363: 2261, 4364: 2318, 4365: 2419, 4366: 3005, 4367: 9241, 4368: 271, 4369: 580, 4370: 678, 4371: 1108, 4372: 1859, 4373: 5310, 4374: 7222, 4375: 10050, 4376: 1929, 4377: 2518, 4378: 151, 4379: 3737, 4380: 3738, 4381: 5397, 4382: 10513, 4383: 16347, 4384: 2351, 4385: 2800, 4386: 483, 4387: 1629, 4388: 526, 4389: 689, 4390: 722, 4391: 1031, 4392: 1904, 4393: 1906, 4394: 2917, 4395: 3227, 4396: 4190, 4397: 7254, 4398: 8022, 4399: 588, 4400: 1750, 4401: 3140, 4402: 3559, 4403: 3560, 4404: 3921, 4405: 4260, 4406: 14991, 4407: 8792, 4408: 11507, 4409: 141, 4410: 289, 4411: 683, 4412: 706, 4413: 1185, 4414: 1706, 4415: 5865, 4416: 6709, 4417: 21009, 4418: 22361, 4419: 27441, 4420: 32039, 4421: 633, 4422: 961, 4423: 1608, 4424: 2204, 4425: 2243, 4426: 2389, 4427: 3116, 4428: 3609, 4429: 6219, 4430: 1886, 4431: 992, 4432: 2109, 4433: 2110, 4434: 2165, 4435: 2713, 4436: 3493, 4437: 14989, 4438: 2287, 4439: 13495, 4440: 16381, 4441: 29941, 4442: 30014, 4443: 30988, 4444: 31280, 4445: 31440, 4446: 31519, 4447: 31909, 4448: 32228, 4449: 32547, 4450: 32740, 4451: 33011, 4452: 33569, 4453: 1370, 4454: 1550, 4455: 2000, 4456: 2138, 4457: 2319, 4458: 2500, 4459: 2526, 4460: 2646}\n"
          ]
        }
      ]
    },
    {
      "cell_type": "markdown",
      "source": [
        "Berdasarkan output diatas, proses encoding untuk `anime_id` sudah berhasil dilakukan."
      ],
      "metadata": {
        "id": "KmupqruRy0m8"
      }
    },
    {
      "cell_type": "code",
      "source": [
        "\n",
        "rating_df['user'] = rating_df['user_id'].map(user_to_user) # Mapping userId ke dataframe user\n",
        "rating_df['anime'] = rating_df['anime_id'].map(anime_to_anime) # Mapping animeId ke dataframe resto"
      ],
      "metadata": {
        "id": "b2WYb5LvN-mO"
      },
      "execution_count": null,
      "outputs": []
    },
    {
      "cell_type": "markdown",
      "source": [
        "Hasil encoding tadi, di-mapping ke dalam dataframe review_df dengan menempati kolom baru untuk masing-masing hasil."
      ],
      "metadata": {
        "id": "A3eOIRGBzk1Z"
      }
    },
    {
      "cell_type": "code",
      "source": [
        "rating_df.head(5)"
      ],
      "metadata": {
        "colab": {
          "base_uri": "https://localhost:8080/",
          "height": 226
        },
        "id": "G38lhfQSL2pX",
        "outputId": "37e67286-1b6e-4e93-bee4-008d56b8cb6f"
      },
      "execution_count": null,
      "outputs": [
        {
          "output_type": "execute_result",
          "data": {
            "text/plain": [
              "     user_id  anime_id  rating  user  anime\n",
              "47         1      8074      10     0      0\n",
              "81         1     11617      10     0      1\n",
              "83         1     11757      10     0      2\n",
              "101        1     15451      10     0      3\n",
              "153        2     11771      10     1      4"
            ],
            "text/html": [
              "\n",
              "  <div id=\"df-da5943de-d813-4dea-8893-9b742dbd5ee4\" class=\"colab-df-container\">\n",
              "    <div>\n",
              "<style scoped>\n",
              "    .dataframe tbody tr th:only-of-type {\n",
              "        vertical-align: middle;\n",
              "    }\n",
              "\n",
              "    .dataframe tbody tr th {\n",
              "        vertical-align: top;\n",
              "    }\n",
              "\n",
              "    .dataframe thead th {\n",
              "        text-align: right;\n",
              "    }\n",
              "</style>\n",
              "<table border=\"1\" class=\"dataframe\">\n",
              "  <thead>\n",
              "    <tr style=\"text-align: right;\">\n",
              "      <th></th>\n",
              "      <th>user_id</th>\n",
              "      <th>anime_id</th>\n",
              "      <th>rating</th>\n",
              "      <th>user</th>\n",
              "      <th>anime</th>\n",
              "    </tr>\n",
              "  </thead>\n",
              "  <tbody>\n",
              "    <tr>\n",
              "      <th>47</th>\n",
              "      <td>1</td>\n",
              "      <td>8074</td>\n",
              "      <td>10</td>\n",
              "      <td>0</td>\n",
              "      <td>0</td>\n",
              "    </tr>\n",
              "    <tr>\n",
              "      <th>81</th>\n",
              "      <td>1</td>\n",
              "      <td>11617</td>\n",
              "      <td>10</td>\n",
              "      <td>0</td>\n",
              "      <td>1</td>\n",
              "    </tr>\n",
              "    <tr>\n",
              "      <th>83</th>\n",
              "      <td>1</td>\n",
              "      <td>11757</td>\n",
              "      <td>10</td>\n",
              "      <td>0</td>\n",
              "      <td>2</td>\n",
              "    </tr>\n",
              "    <tr>\n",
              "      <th>101</th>\n",
              "      <td>1</td>\n",
              "      <td>15451</td>\n",
              "      <td>10</td>\n",
              "      <td>0</td>\n",
              "      <td>3</td>\n",
              "    </tr>\n",
              "    <tr>\n",
              "      <th>153</th>\n",
              "      <td>2</td>\n",
              "      <td>11771</td>\n",
              "      <td>10</td>\n",
              "      <td>1</td>\n",
              "      <td>4</td>\n",
              "    </tr>\n",
              "  </tbody>\n",
              "</table>\n",
              "</div>\n",
              "    <div class=\"colab-df-buttons\">\n",
              "\n",
              "  <div class=\"colab-df-container\">\n",
              "    <button class=\"colab-df-convert\" onclick=\"convertToInteractive('df-da5943de-d813-4dea-8893-9b742dbd5ee4')\"\n",
              "            title=\"Convert this dataframe to an interactive table.\"\n",
              "            style=\"display:none;\">\n",
              "\n",
              "  <svg xmlns=\"http://www.w3.org/2000/svg\" height=\"24px\" viewBox=\"0 -960 960 960\">\n",
              "    <path d=\"M120-120v-720h720v720H120Zm60-500h600v-160H180v160Zm220 220h160v-160H400v160Zm0 220h160v-160H400v160ZM180-400h160v-160H180v160Zm440 0h160v-160H620v160ZM180-180h160v-160H180v160Zm440 0h160v-160H620v160Z\"/>\n",
              "  </svg>\n",
              "    </button>\n",
              "\n",
              "  <style>\n",
              "    .colab-df-container {\n",
              "      display:flex;\n",
              "      gap: 12px;\n",
              "    }\n",
              "\n",
              "    .colab-df-convert {\n",
              "      background-color: #E8F0FE;\n",
              "      border: none;\n",
              "      border-radius: 50%;\n",
              "      cursor: pointer;\n",
              "      display: none;\n",
              "      fill: #1967D2;\n",
              "      height: 32px;\n",
              "      padding: 0 0 0 0;\n",
              "      width: 32px;\n",
              "    }\n",
              "\n",
              "    .colab-df-convert:hover {\n",
              "      background-color: #E2EBFA;\n",
              "      box-shadow: 0px 1px 2px rgba(60, 64, 67, 0.3), 0px 1px 3px 1px rgba(60, 64, 67, 0.15);\n",
              "      fill: #174EA6;\n",
              "    }\n",
              "\n",
              "    .colab-df-buttons div {\n",
              "      margin-bottom: 4px;\n",
              "    }\n",
              "\n",
              "    [theme=dark] .colab-df-convert {\n",
              "      background-color: #3B4455;\n",
              "      fill: #D2E3FC;\n",
              "    }\n",
              "\n",
              "    [theme=dark] .colab-df-convert:hover {\n",
              "      background-color: #434B5C;\n",
              "      box-shadow: 0px 1px 3px 1px rgba(0, 0, 0, 0.15);\n",
              "      filter: drop-shadow(0px 1px 2px rgba(0, 0, 0, 0.3));\n",
              "      fill: #FFFFFF;\n",
              "    }\n",
              "  </style>\n",
              "\n",
              "    <script>\n",
              "      const buttonEl =\n",
              "        document.querySelector('#df-da5943de-d813-4dea-8893-9b742dbd5ee4 button.colab-df-convert');\n",
              "      buttonEl.style.display =\n",
              "        google.colab.kernel.accessAllowed ? 'block' : 'none';\n",
              "\n",
              "      async function convertToInteractive(key) {\n",
              "        const element = document.querySelector('#df-da5943de-d813-4dea-8893-9b742dbd5ee4');\n",
              "        const dataTable =\n",
              "          await google.colab.kernel.invokeFunction('convertToInteractive',\n",
              "                                                    [key], {});\n",
              "        if (!dataTable) return;\n",
              "\n",
              "        const docLinkHtml = 'Like what you see? Visit the ' +\n",
              "          '<a target=\"_blank\" href=https://colab.research.google.com/notebooks/data_table.ipynb>data table notebook</a>'\n",
              "          + ' to learn more about interactive tables.';\n",
              "        element.innerHTML = '';\n",
              "        dataTable['output_type'] = 'display_data';\n",
              "        await google.colab.output.renderOutput(dataTable, element);\n",
              "        const docLink = document.createElement('div');\n",
              "        docLink.innerHTML = docLinkHtml;\n",
              "        element.appendChild(docLink);\n",
              "      }\n",
              "    </script>\n",
              "  </div>\n",
              "\n",
              "\n",
              "<div id=\"df-f177e296-29eb-4a25-a642-73a2230c2187\">\n",
              "  <button class=\"colab-df-quickchart\" onclick=\"quickchart('df-f177e296-29eb-4a25-a642-73a2230c2187')\"\n",
              "            title=\"Suggest charts\"\n",
              "            style=\"display:none;\">\n",
              "\n",
              "<svg xmlns=\"http://www.w3.org/2000/svg\" height=\"24px\"viewBox=\"0 0 24 24\"\n",
              "     width=\"24px\">\n",
              "    <g>\n",
              "        <path d=\"M19 3H5c-1.1 0-2 .9-2 2v14c0 1.1.9 2 2 2h14c1.1 0 2-.9 2-2V5c0-1.1-.9-2-2-2zM9 17H7v-7h2v7zm4 0h-2V7h2v10zm4 0h-2v-4h2v4z\"/>\n",
              "    </g>\n",
              "</svg>\n",
              "  </button>\n",
              "\n",
              "<style>\n",
              "  .colab-df-quickchart {\n",
              "      --bg-color: #E8F0FE;\n",
              "      --fill-color: #1967D2;\n",
              "      --hover-bg-color: #E2EBFA;\n",
              "      --hover-fill-color: #174EA6;\n",
              "      --disabled-fill-color: #AAA;\n",
              "      --disabled-bg-color: #DDD;\n",
              "  }\n",
              "\n",
              "  [theme=dark] .colab-df-quickchart {\n",
              "      --bg-color: #3B4455;\n",
              "      --fill-color: #D2E3FC;\n",
              "      --hover-bg-color: #434B5C;\n",
              "      --hover-fill-color: #FFFFFF;\n",
              "      --disabled-bg-color: #3B4455;\n",
              "      --disabled-fill-color: #666;\n",
              "  }\n",
              "\n",
              "  .colab-df-quickchart {\n",
              "    background-color: var(--bg-color);\n",
              "    border: none;\n",
              "    border-radius: 50%;\n",
              "    cursor: pointer;\n",
              "    display: none;\n",
              "    fill: var(--fill-color);\n",
              "    height: 32px;\n",
              "    padding: 0;\n",
              "    width: 32px;\n",
              "  }\n",
              "\n",
              "  .colab-df-quickchart:hover {\n",
              "    background-color: var(--hover-bg-color);\n",
              "    box-shadow: 0 1px 2px rgba(60, 64, 67, 0.3), 0 1px 3px 1px rgba(60, 64, 67, 0.15);\n",
              "    fill: var(--button-hover-fill-color);\n",
              "  }\n",
              "\n",
              "  .colab-df-quickchart-complete:disabled,\n",
              "  .colab-df-quickchart-complete:disabled:hover {\n",
              "    background-color: var(--disabled-bg-color);\n",
              "    fill: var(--disabled-fill-color);\n",
              "    box-shadow: none;\n",
              "  }\n",
              "\n",
              "  .colab-df-spinner {\n",
              "    border: 2px solid var(--fill-color);\n",
              "    border-color: transparent;\n",
              "    border-bottom-color: var(--fill-color);\n",
              "    animation:\n",
              "      spin 1s steps(1) infinite;\n",
              "  }\n",
              "\n",
              "  @keyframes spin {\n",
              "    0% {\n",
              "      border-color: transparent;\n",
              "      border-bottom-color: var(--fill-color);\n",
              "      border-left-color: var(--fill-color);\n",
              "    }\n",
              "    20% {\n",
              "      border-color: transparent;\n",
              "      border-left-color: var(--fill-color);\n",
              "      border-top-color: var(--fill-color);\n",
              "    }\n",
              "    30% {\n",
              "      border-color: transparent;\n",
              "      border-left-color: var(--fill-color);\n",
              "      border-top-color: var(--fill-color);\n",
              "      border-right-color: var(--fill-color);\n",
              "    }\n",
              "    40% {\n",
              "      border-color: transparent;\n",
              "      border-right-color: var(--fill-color);\n",
              "      border-top-color: var(--fill-color);\n",
              "    }\n",
              "    60% {\n",
              "      border-color: transparent;\n",
              "      border-right-color: var(--fill-color);\n",
              "    }\n",
              "    80% {\n",
              "      border-color: transparent;\n",
              "      border-right-color: var(--fill-color);\n",
              "      border-bottom-color: var(--fill-color);\n",
              "    }\n",
              "    90% {\n",
              "      border-color: transparent;\n",
              "      border-bottom-color: var(--fill-color);\n",
              "    }\n",
              "  }\n",
              "</style>\n",
              "\n",
              "  <script>\n",
              "    async function quickchart(key) {\n",
              "      const quickchartButtonEl =\n",
              "        document.querySelector('#' + key + ' button');\n",
              "      quickchartButtonEl.disabled = true;  // To prevent multiple clicks.\n",
              "      quickchartButtonEl.classList.add('colab-df-spinner');\n",
              "      try {\n",
              "        const charts = await google.colab.kernel.invokeFunction(\n",
              "            'suggestCharts', [key], {});\n",
              "      } catch (error) {\n",
              "        console.error('Error during call to suggestCharts:', error);\n",
              "      }\n",
              "      quickchartButtonEl.classList.remove('colab-df-spinner');\n",
              "      quickchartButtonEl.classList.add('colab-df-quickchart-complete');\n",
              "    }\n",
              "    (() => {\n",
              "      let quickchartButtonEl =\n",
              "        document.querySelector('#df-f177e296-29eb-4a25-a642-73a2230c2187 button');\n",
              "      quickchartButtonEl.style.display =\n",
              "        google.colab.kernel.accessAllowed ? 'block' : 'none';\n",
              "    })();\n",
              "  </script>\n",
              "</div>\n",
              "\n",
              "    </div>\n",
              "  </div>\n"
            ],
            "application/vnd.google.colaboratory.intrinsic+json": {
              "type": "dataframe",
              "variable_name": "rating_df",
              "summary": "{\n  \"name\": \"rating_df\",\n  \"rows\": 74776,\n  \"fields\": [\n    {\n      \"column\": \"user_id\",\n      \"properties\": {\n        \"dtype\": \"number\",\n        \"std\": 267,\n        \"min\": 1,\n        \"max\": 958,\n        \"num_unique_values\": 901,\n        \"samples\": [\n          76,\n          249,\n          458\n        ],\n        \"semantic_type\": \"\",\n        \"description\": \"\"\n      }\n    },\n    {\n      \"column\": \"anime_id\",\n      \"properties\": {\n        \"dtype\": \"number\",\n        \"std\": 9016,\n        \"min\": 1,\n        \"max\": 34240,\n        \"num_unique_values\": 4461,\n        \"samples\": [\n          9969,\n          21809,\n          17419\n        ],\n        \"semantic_type\": \"\",\n        \"description\": \"\"\n      }\n    },\n    {\n      \"column\": \"rating\",\n      \"properties\": {\n        \"dtype\": \"number\",\n        \"std\": 1,\n        \"min\": 1,\n        \"max\": 10,\n        \"num_unique_values\": 10,\n        \"samples\": [\n          1,\n          8,\n          3\n        ],\n        \"semantic_type\": \"\",\n        \"description\": \"\"\n      }\n    },\n    {\n      \"column\": \"user\",\n      \"properties\": {\n        \"dtype\": \"number\",\n        \"std\": 250,\n        \"min\": 0,\n        \"max\": 900,\n        \"num_unique_values\": 901,\n        \"samples\": [\n          70,\n          235,\n          430\n        ],\n        \"semantic_type\": \"\",\n        \"description\": \"\"\n      }\n    },\n    {\n      \"column\": \"anime\",\n      \"properties\": {\n        \"dtype\": \"number\",\n        \"std\": 837,\n        \"min\": 0,\n        \"max\": 4460,\n        \"num_unique_values\": 4461,\n        \"samples\": [\n          297,\n          969,\n          3814\n        ],\n        \"semantic_type\": \"\",\n        \"description\": \"\"\n      }\n    }\n  ]\n}"
            }
          },
          "metadata": {},
          "execution_count": 145
        }
      ]
    },
    {
      "cell_type": "markdown",
      "source": [
        "Proses mapping berhasil dilakukan karena sudah terdapat dua kolom baru, yaitu user dan anime"
      ],
      "metadata": {
        "id": "GJfdvaTHOKw2"
      }
    },
    {
      "cell_type": "code",
      "source": [
        "num_users = len(user_to_user) # Mendapatkan jumlah user\n",
        "num_anime = len(anime_to_anime) # Mendapatkan jumlah rating\n",
        "min_rating = min(rating_df['rating']) # Nilai minimum rating\n",
        "max_rating = max(rating_df['rating']) # Nilai maksimal rating\n",
        "\n",
        "print('total user: {}'.format(num_users))\n",
        "print('total rating: {}'.format(num_anime))\n",
        "print('MIN rating {}'.format(min_rating))\n",
        "print('MAX rating: {}'.format(max_rating))"
      ],
      "metadata": {
        "colab": {
          "base_uri": "https://localhost:8080/"
        },
        "id": "PScQVt3nPDEK",
        "outputId": "ce8db8f9-ee6c-4683-df60-36961ba75369"
      },
      "execution_count": null,
      "outputs": [
        {
          "output_type": "stream",
          "name": "stdout",
          "text": [
            "total user: 901\n",
            "total rating: 4461\n",
            "MIN rating 1\n",
            "MAX rating: 10\n"
          ]
        }
      ]
    },
    {
      "cell_type": "markdown",
      "source": [
        "\n",
        "Berdasarkan output diatas, dapat dilihat bahwa pada rating_df terdapat:\n",
        "\n",
        "  * total user: 901\n",
        "  * total rating: 4461\n",
        "  * MIN rating: 1\n",
        "  * MAX rating: 10\n",
        "\n"
      ],
      "metadata": {
        "id": "e2sNiBKT0WHU"
      }
    },
    {
      "cell_type": "markdown",
      "metadata": {
        "id": "TrhhWiuNLhNm"
      },
      "source": [
        "\n",
        "## Train Test Split\n",
        "\n",
        "Train Test Split adalah metode yang digunakan untuk membagi dataset menjadi dua bagian: satu untuk melatih model (training set) dan satu lagi untuk menguji model (testing set). Biasanya, data dibagi dengan proporsi tertentu, misalnya 90% untuk training dan 10% untuk testing.\n",
        "\n",
        "Alasan: Proses ini dilakukan agar dapat mengevaluasi kinerja model secara objektif. Dengan memisahkan data uji, kita dapat mengukur seberapa baik model memprediksi data baru yang tidak pernah dilihat sebelumnya, yang merupakan indikator penting dari kemampuan generalisasi model.\n"
      ]
    },
    {
      "cell_type": "code",
      "execution_count": null,
      "metadata": {
        "id": "m7ljYtTiLc7y"
      },
      "outputs": [],
      "source": [
        "rating_df = rating_df.sample(frac=1, random_state=18)"
      ]
    },
    {
      "cell_type": "code",
      "execution_count": null,
      "metadata": {
        "id": "tRckminPLp-b",
        "colab": {
          "base_uri": "https://localhost:8080/",
          "height": 444
        },
        "outputId": "0d550fce-d0eb-4dbf-8796-1a4f05173d22"
      },
      "outputs": [
        {
          "output_type": "execute_result",
          "data": {
            "text/plain": [
              "       user_id  anime_id  rating  user  anime\n",
              "36760      401      4181      10   376    557\n",
              "85079      890      8115       7   837   3160\n",
              "60255      627      8536       6   587    818\n",
              "41755      446     29758       6   419   1349\n",
              "56086      578     11887       8   540    831\n",
              "...        ...       ...     ...   ...    ...\n",
              "87795      920     15199       8   867    939\n",
              "61685      640     31804       8   600   3987\n",
              "2357        21      7724       9    17   1056\n",
              "46198      492     10714       7   460   1796\n",
              "75265      778      5114      10   732     32\n",
              "\n",
              "[74776 rows x 5 columns]"
            ],
            "text/html": [
              "\n",
              "  <div id=\"df-d888d229-0196-4b1d-8497-781111838183\" class=\"colab-df-container\">\n",
              "    <div>\n",
              "<style scoped>\n",
              "    .dataframe tbody tr th:only-of-type {\n",
              "        vertical-align: middle;\n",
              "    }\n",
              "\n",
              "    .dataframe tbody tr th {\n",
              "        vertical-align: top;\n",
              "    }\n",
              "\n",
              "    .dataframe thead th {\n",
              "        text-align: right;\n",
              "    }\n",
              "</style>\n",
              "<table border=\"1\" class=\"dataframe\">\n",
              "  <thead>\n",
              "    <tr style=\"text-align: right;\">\n",
              "      <th></th>\n",
              "      <th>user_id</th>\n",
              "      <th>anime_id</th>\n",
              "      <th>rating</th>\n",
              "      <th>user</th>\n",
              "      <th>anime</th>\n",
              "    </tr>\n",
              "  </thead>\n",
              "  <tbody>\n",
              "    <tr>\n",
              "      <th>36760</th>\n",
              "      <td>401</td>\n",
              "      <td>4181</td>\n",
              "      <td>10</td>\n",
              "      <td>376</td>\n",
              "      <td>557</td>\n",
              "    </tr>\n",
              "    <tr>\n",
              "      <th>85079</th>\n",
              "      <td>890</td>\n",
              "      <td>8115</td>\n",
              "      <td>7</td>\n",
              "      <td>837</td>\n",
              "      <td>3160</td>\n",
              "    </tr>\n",
              "    <tr>\n",
              "      <th>60255</th>\n",
              "      <td>627</td>\n",
              "      <td>8536</td>\n",
              "      <td>6</td>\n",
              "      <td>587</td>\n",
              "      <td>818</td>\n",
              "    </tr>\n",
              "    <tr>\n",
              "      <th>41755</th>\n",
              "      <td>446</td>\n",
              "      <td>29758</td>\n",
              "      <td>6</td>\n",
              "      <td>419</td>\n",
              "      <td>1349</td>\n",
              "    </tr>\n",
              "    <tr>\n",
              "      <th>56086</th>\n",
              "      <td>578</td>\n",
              "      <td>11887</td>\n",
              "      <td>8</td>\n",
              "      <td>540</td>\n",
              "      <td>831</td>\n",
              "    </tr>\n",
              "    <tr>\n",
              "      <th>...</th>\n",
              "      <td>...</td>\n",
              "      <td>...</td>\n",
              "      <td>...</td>\n",
              "      <td>...</td>\n",
              "      <td>...</td>\n",
              "    </tr>\n",
              "    <tr>\n",
              "      <th>87795</th>\n",
              "      <td>920</td>\n",
              "      <td>15199</td>\n",
              "      <td>8</td>\n",
              "      <td>867</td>\n",
              "      <td>939</td>\n",
              "    </tr>\n",
              "    <tr>\n",
              "      <th>61685</th>\n",
              "      <td>640</td>\n",
              "      <td>31804</td>\n",
              "      <td>8</td>\n",
              "      <td>600</td>\n",
              "      <td>3987</td>\n",
              "    </tr>\n",
              "    <tr>\n",
              "      <th>2357</th>\n",
              "      <td>21</td>\n",
              "      <td>7724</td>\n",
              "      <td>9</td>\n",
              "      <td>17</td>\n",
              "      <td>1056</td>\n",
              "    </tr>\n",
              "    <tr>\n",
              "      <th>46198</th>\n",
              "      <td>492</td>\n",
              "      <td>10714</td>\n",
              "      <td>7</td>\n",
              "      <td>460</td>\n",
              "      <td>1796</td>\n",
              "    </tr>\n",
              "    <tr>\n",
              "      <th>75265</th>\n",
              "      <td>778</td>\n",
              "      <td>5114</td>\n",
              "      <td>10</td>\n",
              "      <td>732</td>\n",
              "      <td>32</td>\n",
              "    </tr>\n",
              "  </tbody>\n",
              "</table>\n",
              "<p>74776 rows × 5 columns</p>\n",
              "</div>\n",
              "    <div class=\"colab-df-buttons\">\n",
              "\n",
              "  <div class=\"colab-df-container\">\n",
              "    <button class=\"colab-df-convert\" onclick=\"convertToInteractive('df-d888d229-0196-4b1d-8497-781111838183')\"\n",
              "            title=\"Convert this dataframe to an interactive table.\"\n",
              "            style=\"display:none;\">\n",
              "\n",
              "  <svg xmlns=\"http://www.w3.org/2000/svg\" height=\"24px\" viewBox=\"0 -960 960 960\">\n",
              "    <path d=\"M120-120v-720h720v720H120Zm60-500h600v-160H180v160Zm220 220h160v-160H400v160Zm0 220h160v-160H400v160ZM180-400h160v-160H180v160Zm440 0h160v-160H620v160ZM180-180h160v-160H180v160Zm440 0h160v-160H620v160Z\"/>\n",
              "  </svg>\n",
              "    </button>\n",
              "\n",
              "  <style>\n",
              "    .colab-df-container {\n",
              "      display:flex;\n",
              "      gap: 12px;\n",
              "    }\n",
              "\n",
              "    .colab-df-convert {\n",
              "      background-color: #E8F0FE;\n",
              "      border: none;\n",
              "      border-radius: 50%;\n",
              "      cursor: pointer;\n",
              "      display: none;\n",
              "      fill: #1967D2;\n",
              "      height: 32px;\n",
              "      padding: 0 0 0 0;\n",
              "      width: 32px;\n",
              "    }\n",
              "\n",
              "    .colab-df-convert:hover {\n",
              "      background-color: #E2EBFA;\n",
              "      box-shadow: 0px 1px 2px rgba(60, 64, 67, 0.3), 0px 1px 3px 1px rgba(60, 64, 67, 0.15);\n",
              "      fill: #174EA6;\n",
              "    }\n",
              "\n",
              "    .colab-df-buttons div {\n",
              "      margin-bottom: 4px;\n",
              "    }\n",
              "\n",
              "    [theme=dark] .colab-df-convert {\n",
              "      background-color: #3B4455;\n",
              "      fill: #D2E3FC;\n",
              "    }\n",
              "\n",
              "    [theme=dark] .colab-df-convert:hover {\n",
              "      background-color: #434B5C;\n",
              "      box-shadow: 0px 1px 3px 1px rgba(0, 0, 0, 0.15);\n",
              "      filter: drop-shadow(0px 1px 2px rgba(0, 0, 0, 0.3));\n",
              "      fill: #FFFFFF;\n",
              "    }\n",
              "  </style>\n",
              "\n",
              "    <script>\n",
              "      const buttonEl =\n",
              "        document.querySelector('#df-d888d229-0196-4b1d-8497-781111838183 button.colab-df-convert');\n",
              "      buttonEl.style.display =\n",
              "        google.colab.kernel.accessAllowed ? 'block' : 'none';\n",
              "\n",
              "      async function convertToInteractive(key) {\n",
              "        const element = document.querySelector('#df-d888d229-0196-4b1d-8497-781111838183');\n",
              "        const dataTable =\n",
              "          await google.colab.kernel.invokeFunction('convertToInteractive',\n",
              "                                                    [key], {});\n",
              "        if (!dataTable) return;\n",
              "\n",
              "        const docLinkHtml = 'Like what you see? Visit the ' +\n",
              "          '<a target=\"_blank\" href=https://colab.research.google.com/notebooks/data_table.ipynb>data table notebook</a>'\n",
              "          + ' to learn more about interactive tables.';\n",
              "        element.innerHTML = '';\n",
              "        dataTable['output_type'] = 'display_data';\n",
              "        await google.colab.output.renderOutput(dataTable, element);\n",
              "        const docLink = document.createElement('div');\n",
              "        docLink.innerHTML = docLinkHtml;\n",
              "        element.appendChild(docLink);\n",
              "      }\n",
              "    </script>\n",
              "  </div>\n",
              "\n",
              "\n",
              "<div id=\"df-9020261c-2052-44a2-a30c-c0b487292949\">\n",
              "  <button class=\"colab-df-quickchart\" onclick=\"quickchart('df-9020261c-2052-44a2-a30c-c0b487292949')\"\n",
              "            title=\"Suggest charts\"\n",
              "            style=\"display:none;\">\n",
              "\n",
              "<svg xmlns=\"http://www.w3.org/2000/svg\" height=\"24px\"viewBox=\"0 0 24 24\"\n",
              "     width=\"24px\">\n",
              "    <g>\n",
              "        <path d=\"M19 3H5c-1.1 0-2 .9-2 2v14c0 1.1.9 2 2 2h14c1.1 0 2-.9 2-2V5c0-1.1-.9-2-2-2zM9 17H7v-7h2v7zm4 0h-2V7h2v10zm4 0h-2v-4h2v4z\"/>\n",
              "    </g>\n",
              "</svg>\n",
              "  </button>\n",
              "\n",
              "<style>\n",
              "  .colab-df-quickchart {\n",
              "      --bg-color: #E8F0FE;\n",
              "      --fill-color: #1967D2;\n",
              "      --hover-bg-color: #E2EBFA;\n",
              "      --hover-fill-color: #174EA6;\n",
              "      --disabled-fill-color: #AAA;\n",
              "      --disabled-bg-color: #DDD;\n",
              "  }\n",
              "\n",
              "  [theme=dark] .colab-df-quickchart {\n",
              "      --bg-color: #3B4455;\n",
              "      --fill-color: #D2E3FC;\n",
              "      --hover-bg-color: #434B5C;\n",
              "      --hover-fill-color: #FFFFFF;\n",
              "      --disabled-bg-color: #3B4455;\n",
              "      --disabled-fill-color: #666;\n",
              "  }\n",
              "\n",
              "  .colab-df-quickchart {\n",
              "    background-color: var(--bg-color);\n",
              "    border: none;\n",
              "    border-radius: 50%;\n",
              "    cursor: pointer;\n",
              "    display: none;\n",
              "    fill: var(--fill-color);\n",
              "    height: 32px;\n",
              "    padding: 0;\n",
              "    width: 32px;\n",
              "  }\n",
              "\n",
              "  .colab-df-quickchart:hover {\n",
              "    background-color: var(--hover-bg-color);\n",
              "    box-shadow: 0 1px 2px rgba(60, 64, 67, 0.3), 0 1px 3px 1px rgba(60, 64, 67, 0.15);\n",
              "    fill: var(--button-hover-fill-color);\n",
              "  }\n",
              "\n",
              "  .colab-df-quickchart-complete:disabled,\n",
              "  .colab-df-quickchart-complete:disabled:hover {\n",
              "    background-color: var(--disabled-bg-color);\n",
              "    fill: var(--disabled-fill-color);\n",
              "    box-shadow: none;\n",
              "  }\n",
              "\n",
              "  .colab-df-spinner {\n",
              "    border: 2px solid var(--fill-color);\n",
              "    border-color: transparent;\n",
              "    border-bottom-color: var(--fill-color);\n",
              "    animation:\n",
              "      spin 1s steps(1) infinite;\n",
              "  }\n",
              "\n",
              "  @keyframes spin {\n",
              "    0% {\n",
              "      border-color: transparent;\n",
              "      border-bottom-color: var(--fill-color);\n",
              "      border-left-color: var(--fill-color);\n",
              "    }\n",
              "    20% {\n",
              "      border-color: transparent;\n",
              "      border-left-color: var(--fill-color);\n",
              "      border-top-color: var(--fill-color);\n",
              "    }\n",
              "    30% {\n",
              "      border-color: transparent;\n",
              "      border-left-color: var(--fill-color);\n",
              "      border-top-color: var(--fill-color);\n",
              "      border-right-color: var(--fill-color);\n",
              "    }\n",
              "    40% {\n",
              "      border-color: transparent;\n",
              "      border-right-color: var(--fill-color);\n",
              "      border-top-color: var(--fill-color);\n",
              "    }\n",
              "    60% {\n",
              "      border-color: transparent;\n",
              "      border-right-color: var(--fill-color);\n",
              "    }\n",
              "    80% {\n",
              "      border-color: transparent;\n",
              "      border-right-color: var(--fill-color);\n",
              "      border-bottom-color: var(--fill-color);\n",
              "    }\n",
              "    90% {\n",
              "      border-color: transparent;\n",
              "      border-bottom-color: var(--fill-color);\n",
              "    }\n",
              "  }\n",
              "</style>\n",
              "\n",
              "  <script>\n",
              "    async function quickchart(key) {\n",
              "      const quickchartButtonEl =\n",
              "        document.querySelector('#' + key + ' button');\n",
              "      quickchartButtonEl.disabled = true;  // To prevent multiple clicks.\n",
              "      quickchartButtonEl.classList.add('colab-df-spinner');\n",
              "      try {\n",
              "        const charts = await google.colab.kernel.invokeFunction(\n",
              "            'suggestCharts', [key], {});\n",
              "      } catch (error) {\n",
              "        console.error('Error during call to suggestCharts:', error);\n",
              "      }\n",
              "      quickchartButtonEl.classList.remove('colab-df-spinner');\n",
              "      quickchartButtonEl.classList.add('colab-df-quickchart-complete');\n",
              "    }\n",
              "    (() => {\n",
              "      let quickchartButtonEl =\n",
              "        document.querySelector('#df-9020261c-2052-44a2-a30c-c0b487292949 button');\n",
              "      quickchartButtonEl.style.display =\n",
              "        google.colab.kernel.accessAllowed ? 'block' : 'none';\n",
              "    })();\n",
              "  </script>\n",
              "</div>\n",
              "\n",
              "  <div id=\"id_2fd56964-c66f-4c6f-9c43-cc76c48b5d51\">\n",
              "    <style>\n",
              "      .colab-df-generate {\n",
              "        background-color: #E8F0FE;\n",
              "        border: none;\n",
              "        border-radius: 50%;\n",
              "        cursor: pointer;\n",
              "        display: none;\n",
              "        fill: #1967D2;\n",
              "        height: 32px;\n",
              "        padding: 0 0 0 0;\n",
              "        width: 32px;\n",
              "      }\n",
              "\n",
              "      .colab-df-generate:hover {\n",
              "        background-color: #E2EBFA;\n",
              "        box-shadow: 0px 1px 2px rgba(60, 64, 67, 0.3), 0px 1px 3px 1px rgba(60, 64, 67, 0.15);\n",
              "        fill: #174EA6;\n",
              "      }\n",
              "\n",
              "      [theme=dark] .colab-df-generate {\n",
              "        background-color: #3B4455;\n",
              "        fill: #D2E3FC;\n",
              "      }\n",
              "\n",
              "      [theme=dark] .colab-df-generate:hover {\n",
              "        background-color: #434B5C;\n",
              "        box-shadow: 0px 1px 3px 1px rgba(0, 0, 0, 0.15);\n",
              "        filter: drop-shadow(0px 1px 2px rgba(0, 0, 0, 0.3));\n",
              "        fill: #FFFFFF;\n",
              "      }\n",
              "    </style>\n",
              "    <button class=\"colab-df-generate\" onclick=\"generateWithVariable('rating_df')\"\n",
              "            title=\"Generate code using this dataframe.\"\n",
              "            style=\"display:none;\">\n",
              "\n",
              "  <svg xmlns=\"http://www.w3.org/2000/svg\" height=\"24px\"viewBox=\"0 0 24 24\"\n",
              "       width=\"24px\">\n",
              "    <path d=\"M7,19H8.4L18.45,9,17,7.55,7,17.6ZM5,21V16.75L18.45,3.32a2,2,0,0,1,2.83,0l1.4,1.43a1.91,1.91,0,0,1,.58,1.4,1.91,1.91,0,0,1-.58,1.4L9.25,21ZM18.45,9,17,7.55Zm-12,3A5.31,5.31,0,0,0,4.9,8.1,5.31,5.31,0,0,0,1,6.5,5.31,5.31,0,0,0,4.9,4.9,5.31,5.31,0,0,0,6.5,1,5.31,5.31,0,0,0,8.1,4.9,5.31,5.31,0,0,0,12,6.5,5.46,5.46,0,0,0,6.5,12Z\"/>\n",
              "  </svg>\n",
              "    </button>\n",
              "    <script>\n",
              "      (() => {\n",
              "      const buttonEl =\n",
              "        document.querySelector('#id_2fd56964-c66f-4c6f-9c43-cc76c48b5d51 button.colab-df-generate');\n",
              "      buttonEl.style.display =\n",
              "        google.colab.kernel.accessAllowed ? 'block' : 'none';\n",
              "\n",
              "      buttonEl.onclick = () => {\n",
              "        google.colab.notebook.generateWithVariable('rating_df');\n",
              "      }\n",
              "      })();\n",
              "    </script>\n",
              "  </div>\n",
              "\n",
              "    </div>\n",
              "  </div>\n"
            ],
            "application/vnd.google.colaboratory.intrinsic+json": {
              "type": "dataframe",
              "variable_name": "rating_df",
              "summary": "{\n  \"name\": \"rating_df\",\n  \"rows\": 74776,\n  \"fields\": [\n    {\n      \"column\": \"user_id\",\n      \"properties\": {\n        \"dtype\": \"number\",\n        \"std\": 267,\n        \"min\": 1,\n        \"max\": 958,\n        \"num_unique_values\": 901,\n        \"samples\": [\n          958,\n          51,\n          765\n        ],\n        \"semantic_type\": \"\",\n        \"description\": \"\"\n      }\n    },\n    {\n      \"column\": \"anime_id\",\n      \"properties\": {\n        \"dtype\": \"number\",\n        \"std\": 9016,\n        \"min\": 1,\n        \"max\": 34240,\n        \"num_unique_values\": 4461,\n        \"samples\": [\n          1132,\n          23421,\n          7745\n        ],\n        \"semantic_type\": \"\",\n        \"description\": \"\"\n      }\n    },\n    {\n      \"column\": \"rating\",\n      \"properties\": {\n        \"dtype\": \"number\",\n        \"std\": 1,\n        \"min\": 1,\n        \"max\": 10,\n        \"num_unique_values\": 10,\n        \"samples\": [\n          4,\n          7,\n          9\n        ],\n        \"semantic_type\": \"\",\n        \"description\": \"\"\n      }\n    },\n    {\n      \"column\": \"user\",\n      \"properties\": {\n        \"dtype\": \"number\",\n        \"std\": 250,\n        \"min\": 0,\n        \"max\": 900,\n        \"num_unique_values\": 901,\n        \"samples\": [\n          900,\n          46,\n          719\n        ],\n        \"semantic_type\": \"\",\n        \"description\": \"\"\n      }\n    },\n    {\n      \"column\": \"anime\",\n      \"properties\": {\n        \"dtype\": \"number\",\n        \"std\": 837,\n        \"min\": 0,\n        \"max\": 4460,\n        \"num_unique_values\": 4461,\n        \"samples\": [\n          18,\n          639,\n          2414\n        ],\n        \"semantic_type\": \"\",\n        \"description\": \"\"\n      }\n    }\n  ]\n}"
            }
          },
          "metadata": {},
          "execution_count": 149
        }
      ],
      "source": [
        "rating_df"
      ]
    },
    {
      "cell_type": "markdown",
      "metadata": {
        "id": "nq108ZTEL7xt"
      },
      "source": [
        "Berdasarkan output diatas, proses shuffling atau pengacakan berhasil dilakukan"
      ]
    },
    {
      "cell_type": "code",
      "source": [
        "x_df = rating_df[['user', 'anime']].values # Membuat variabel x_df untuk mencocokkan data user dan anime menjadi satu value\n",
        "y_df = rating_df['rating'].apply(lambda x: (x - min_rating) / (max_rating - min_rating)).values # Membuat variabel y_df untuk"
      ],
      "metadata": {
        "id": "xHrPdSuiQnd9"
      },
      "execution_count": null,
      "outputs": []
    },
    {
      "cell_type": "markdown",
      "source": [
        "Pemisahan rating_df menjadi dua bagian ke x_df dan y_df untuk proses Train Test Split berhasil dilakukan."
      ],
      "metadata": {
        "id": "O2JnZ8Aq1eZS"
      }
    },
    {
      "cell_type": "code",
      "execution_count": null,
      "metadata": {
        "id": "trgoykzaMN4u"
      },
      "outputs": [],
      "source": [
        "# Membagi menjadi 90% data train dan 10% data validasi\n",
        "train_indices = int(0.9 * rating_df.shape[0])\n",
        "x_train, x_val, y_train, y_val = (\n",
        "    x_df[:train_indices],\n",
        "    x_df[train_indices:],\n",
        "    y_df[:train_indices],\n",
        "    y_df[train_indices:]\n",
        ")"
      ]
    },
    {
      "cell_type": "markdown",
      "source": [
        "Proses Train Test Split telah dilakukan ke empat variabel berbebeda dengan komposisi 0.9 untuk train dan 0.1 untuk val. Berikut adalah keempatnya:\n",
        "\n",
        "  * x_train\n",
        "  * x_val\n",
        "  *  y_train\n",
        "  *  y_val\n",
        "\n"
      ],
      "metadata": {
        "id": "uOxOawS71pgy"
      }
    },
    {
      "cell_type": "markdown",
      "metadata": {
        "id": "_qN8S5hWM3Ll"
      },
      "source": [
        "Berdasarkan keempat output diatas, terbukti bahwa proses Train Test Split telah berhasil dilakukan dan berhasil ditampung pada keempat variabel yang telah dibuat."
      ]
    },
    {
      "cell_type": "code",
      "source": [
        "print(\"panjang array dari x_train : \" + str(len(x_train)))\n",
        "x_train"
      ],
      "metadata": {
        "colab": {
          "base_uri": "https://localhost:8080/"
        },
        "id": "abYEInnF1zJ6",
        "outputId": "36a7f424-4318-4356-ed27-bc9eaf38a7a0"
      },
      "execution_count": null,
      "outputs": [
        {
          "output_type": "stream",
          "name": "stdout",
          "text": [
            "panjang array dari x_train : 67298\n"
          ]
        },
        {
          "output_type": "execute_result",
          "data": {
            "text/plain": [
              "array([[ 376,  557],\n",
              "       [ 837, 3160],\n",
              "       [ 587,  818],\n",
              "       ...,\n",
              "       [ 206,   17],\n",
              "       [ 884,  884],\n",
              "       [ 776,  676]])"
            ]
          },
          "metadata": {},
          "execution_count": 152
        }
      ]
    },
    {
      "cell_type": "code",
      "source": [
        "print(\"panjang array dari x_val : \" + str(len(x_val)))\n",
        "x_val"
      ],
      "metadata": {
        "colab": {
          "base_uri": "https://localhost:8080/"
        },
        "id": "L7Wz8a_412vr",
        "outputId": "abe41532-7644-48d1-99c0-0d7aae40b85c"
      },
      "execution_count": null,
      "outputs": [
        {
          "output_type": "stream",
          "name": "stdout",
          "text": [
            "panjang array dari x_val : 7478\n"
          ]
        },
        {
          "output_type": "execute_result",
          "data": {
            "text/plain": [
              "array([[ 700, 2523],\n",
              "       [ 495, 1253],\n",
              "       [ 863, 1829],\n",
              "       ...,\n",
              "       [  17, 1056],\n",
              "       [ 460, 1796],\n",
              "       [ 732,   32]])"
            ]
          },
          "metadata": {},
          "execution_count": 153
        }
      ]
    },
    {
      "cell_type": "code",
      "source": [
        "print(\"panjang array dari y_train : \" + str(len(y_train)))\n",
        "y_train"
      ],
      "metadata": {
        "colab": {
          "base_uri": "https://localhost:8080/"
        },
        "id": "dUymQyHv15eP",
        "outputId": "0ab30a30-07d1-40ae-8565-35388f11257d"
      },
      "execution_count": null,
      "outputs": [
        {
          "output_type": "stream",
          "name": "stdout",
          "text": [
            "panjang array dari y_train : 67298\n"
          ]
        },
        {
          "output_type": "execute_result",
          "data": {
            "text/plain": [
              "array([1.        , 0.66666667, 0.55555556, ..., 0.66666667, 1.        ,\n",
              "       0.77777778])"
            ]
          },
          "metadata": {},
          "execution_count": 154
        }
      ]
    },
    {
      "cell_type": "code",
      "source": [
        "print(\"panjang array dari y_val : \" + str(len(y_val)))\n",
        "y_val"
      ],
      "metadata": {
        "colab": {
          "base_uri": "https://localhost:8080/"
        },
        "id": "MgJ8Qr9918Vf",
        "outputId": "fcfd583d-7249-44c6-8cdb-4925a6a57b7b"
      },
      "execution_count": null,
      "outputs": [
        {
          "output_type": "stream",
          "name": "stdout",
          "text": [
            "panjang array dari y_val : 7478\n"
          ]
        },
        {
          "output_type": "execute_result",
          "data": {
            "text/plain": [
              "array([0.66666667, 0.66666667, 0.44444444, ..., 0.88888889, 0.66666667,\n",
              "       1.        ])"
            ]
          },
          "metadata": {},
          "execution_count": 155
        }
      ]
    },
    {
      "cell_type": "markdown",
      "source": [
        "Berdasarkan keempat output diatas, terbukti bahwa proses Train Test Split telah berhasil dilakukan dan berhasil ditampung pada keempat variabel yang telah dibuat."
      ],
      "metadata": {
        "id": "NYiUIxnb19xE"
      }
    },
    {
      "cell_type": "markdown",
      "metadata": {
        "id": "mYc1lkJyNHLL"
      },
      "source": [
        "# Modelling and Result"
      ]
    },
    {
      "cell_type": "markdown",
      "metadata": {
        "id": "HXYSS50KNPkZ"
      },
      "source": [
        "\n",
        "## Content-Based Filtering\n",
        "\n",
        "Content-Based Filtering adalah metode yang digunakan dalam sistem rekomendasi untuk memberikan saran kepada pengguna berdasarkan item-item yang telah mereka sukai atau pilih sebelumnya. Metode ini berfokus pada karakteristik atau konten dari item yang ingin direkomendasikan.\n",
        "\n",
        "Kelebihan Content-Based Filtering:\n",
        "\n",
        "  * Personalisasi: Dapat memberikan rekomendasi yang sangat personal karena didasarkan pada preferensi sebelumnya dari pengguna itu sendiri.\n",
        "  * Transparansi: Mudah untuk menjelaskan mengapa suatu item direkomendasikan, karena rekomendasi didasarkan pada fitur-fitur item yang telah disukai pengguna.\n",
        "\n",
        "Kekurangan Content-Based Filtering:\n",
        "\n",
        "   * Keterbatasan Diversifikasi: Cenderung merekomendasikan item yang mirip dengan yang sudah diketahui pengguna, sehingga kurang memberikan kejutan atau item baru yang berbeda.\n",
        "   * Ketergantungan pada Konten: Memerlukan data yang cukup tentang konten item untuk bekerja dengan baik, dan kualitas rekomendasi sangat bergantung pada kualitas deskripsi item tersebut.\n",
        "\n",
        "Pendekatan ini menggunakan atribut-atribut atau fitur-fitur item untuk menentukan kesamaan antara item yang ada. Dalam konteks proyek ini, content-based filtering akan memberikan rekomendasi buku berdasarkan genre dari anime yang ada. Model akan memberikan rekomendasi buku yang memiliki author yang sama.\n"
      ]
    },
    {
      "cell_type": "markdown",
      "metadata": {
        "id": "_H72UiKDNjhr"
      },
      "source": [
        "### Modelling"
      ]
    },
    {
      "cell_type": "code",
      "execution_count": null,
      "metadata": {
        "id": "s7E8MuY7NU6g",
        "colab": {
          "base_uri": "https://localhost:8080/"
        },
        "outputId": "7d9f0c11-d6e0-4744-c71b-d8151dee8c6e"
      },
      "outputs": [
        {
          "output_type": "execute_result",
          "data": {
            "text/plain": [
              "array(['action', 'adventure', 'ai', 'arts', 'cars', 'comedy', 'dementia',\n",
              "       'demons', 'drama', 'ecchi', 'fantasy', 'fi', 'game', 'harem',\n",
              "       'hentai', 'historical', 'horror', 'josei', 'kids', 'life', 'magic',\n",
              "       'martial', 'mecha', 'military', 'music', 'mystery', 'of', 'parody',\n",
              "       'police', 'power', 'psychological', 'romance', 'samurai', 'school',\n",
              "       'sci', 'seinen', 'shoujo', 'shounen', 'slice', 'space', 'sports',\n",
              "       'super', 'supernatural', 'thriller', 'vampire', 'yaoi', 'yuri'],\n",
              "      dtype=object)"
            ]
          },
          "metadata": {},
          "execution_count": 156
        }
      ],
      "source": [
        "# Inisialisasi TfidfVectorizer\n",
        "tf_id = TfidfVectorizer()\n",
        "tf_id.fit(anime_df['genre'])\n",
        "tf_id.get_feature_names_out()"
      ]
    },
    {
      "cell_type": "markdown",
      "source": [
        "Output diatas adalah array yang berisi nilai-nilai yang ada pada kolom genre"
      ],
      "metadata": {
        "id": "fmMcCPqM2jrx"
      }
    },
    {
      "cell_type": "code",
      "execution_count": null,
      "metadata": {
        "id": "w7jEI8P-Ng3h",
        "colab": {
          "base_uri": "https://localhost:8080/"
        },
        "outputId": "35ba8be5-bedd-4fb1-9d41-50f3e781ba4a"
      },
      "outputs": [
        {
          "output_type": "execute_result",
          "data": {
            "text/plain": [
              "(12017, 47)"
            ]
          },
          "metadata": {},
          "execution_count": 157
        }
      ],
      "source": [
        "tfidf_matrix = tf_id.fit_transform(anime_df['genre'])\n",
        "tfidf_matrix.shape # Melihat ukuran matrix tfidf"
      ]
    },
    {
      "cell_type": "markdown",
      "source": [
        "Berdasarkan output diatas, dapat dilihat bahwa ukuran matriksnya sebesar 12017 x 47"
      ],
      "metadata": {
        "id": "q9qRGT0U2uZh"
      }
    },
    {
      "cell_type": "code",
      "execution_count": null,
      "metadata": {
        "id": "S9swNix-ODbv",
        "colab": {
          "base_uri": "https://localhost:8080/"
        },
        "outputId": "df5eaefd-a182-4af7-fccb-75d9f49f31b5"
      },
      "outputs": [
        {
          "output_type": "execute_result",
          "data": {
            "text/plain": [
              "matrix([[0.        , 0.        , 0.        , ..., 0.        , 0.        ,\n",
              "         0.        ],\n",
              "        [0.29498527, 0.3162867 , 0.        , ..., 0.        , 0.        ,\n",
              "         0.        ],\n",
              "        [0.2516182 , 0.        , 0.        , ..., 0.        , 0.        ,\n",
              "         0.        ],\n",
              "        ...,\n",
              "        [0.        , 0.        , 0.        , ..., 0.        , 0.        ,\n",
              "         0.        ],\n",
              "        [0.        , 0.        , 0.        , ..., 0.        , 0.        ,\n",
              "         0.        ],\n",
              "        [0.        , 0.        , 0.        , ..., 0.        , 0.        ,\n",
              "         0.        ]])"
            ]
          },
          "metadata": {},
          "execution_count": 158
        }
      ],
      "source": [
        "tfidf_matrix.todense()"
      ]
    },
    {
      "cell_type": "markdown",
      "metadata": {
        "id": "sAYA6oTZOGJU"
      },
      "source": [
        "Berdasarkan output diatas, proses operasi menggunakan todense() sudah berhasil dilakukan"
      ]
    },
    {
      "cell_type": "code",
      "execution_count": null,
      "metadata": {
        "id": "el_wy8IlO-I-",
        "colab": {
          "base_uri": "https://localhost:8080/",
          "height": 477
        },
        "outputId": "390b3d33-2cc6-4468-9f5d-4898d7300406"
      },
      "outputs": [
        {
          "output_type": "execute_result",
          "data": {
            "text/plain": [
              "                                                     fantasy  police  \\\n",
              "name                                                                   \n",
              "Brave 10                                            0.000000     0.0   \n",
              "Glass no Kantai: La Legende du Vent de land#039...  0.000000     0.0   \n",
              "Chokin no Susume                                    0.000000     0.0   \n",
              "Final Fantasy VII: Advent Children - Venice Fil...  0.443181     0.0   \n",
              "Shiritsu Liyon Gakuen                               0.000000     0.0   \n",
              "Pair                                                0.000000     0.0   \n",
              "Bakuen Campus Guardress                             0.000000     0.0   \n",
              "\n",
              "                                                       power  historical  \\\n",
              "name                                                                       \n",
              "Brave 10                                            0.408785    0.354381   \n",
              "Glass no Kantai: La Legende du Vent de land#039...  0.000000    0.000000   \n",
              "Chokin no Susume                                    0.000000    0.000000   \n",
              "Final Fantasy VII: Advent Children - Venice Fil...  0.000000    0.000000   \n",
              "Shiritsu Liyon Gakuen                               0.000000    0.000000   \n",
              "Pair                                                0.000000    0.000000   \n",
              "Bakuen Campus Guardress                             0.000000    0.000000   \n",
              "\n",
              "                                                    romance   ai  harem   of  \\\n",
              "name                                                                           \n",
              "Brave 10                                                0.0  0.0    0.0  0.0   \n",
              "Glass no Kantai: La Legende du Vent de land#039...      0.0  0.0    0.0  0.0   \n",
              "Chokin no Susume                                        0.0  0.0    0.0  0.0   \n",
              "Final Fantasy VII: Advent Children - Venice Fil...      0.0  0.0    0.0  0.0   \n",
              "Shiritsu Liyon Gakuen                                   0.0  0.0    0.0  0.0   \n",
              "Pair                                                    0.0  0.0    0.0  0.0   \n",
              "Bakuen Campus Guardress                                 0.0  0.0    0.0  0.0   \n",
              "\n",
              "                                                    adventure  slice  shoujo  \\\n",
              "name                                                                           \n",
              "Brave 10                                             0.252705    0.0     0.0   \n",
              "Glass no Kantai: La Legende du Vent de land#039...   0.559067    0.0     0.0   \n",
              "Chokin no Susume                                     0.000000    0.0     0.0   \n",
              "Final Fantasy VII: Advent Children - Venice Fil...   0.000000    0.0     0.0   \n",
              "Shiritsu Liyon Gakuen                                0.000000    0.0     0.0   \n",
              "Pair                                                 0.000000    0.0     0.0   \n",
              "Bakuen Campus Guardress                              0.000000    0.0     0.0   \n",
              "\n",
              "                                                    mecha  yaoi   shounen  \\\n",
              "name                                                                        \n",
              "Brave 10                                              0.0   0.0  0.000000   \n",
              "Glass no Kantai: La Legende du Vent de land#039...    0.0   0.0  0.000000   \n",
              "Chokin no Susume                                      0.0   0.0  0.000000   \n",
              "Final Fantasy VII: Advent Children - Venice Fil...    0.0   0.0  0.000000   \n",
              "Shiritsu Liyon Gakuen                                 0.0   0.0  0.000000   \n",
              "Pair                                                  0.0   0.0  0.000000   \n",
              "Bakuen Campus Guardress                               0.0   0.0  0.453481   \n",
              "\n",
              "                                                    cars  demons  military  \n",
              "name                                                                        \n",
              "Brave 10                                             0.0     0.0       0.0  \n",
              "Glass no Kantai: La Legende du Vent de land#039...   0.0     0.0       0.0  \n",
              "Chokin no Susume                                     0.0     0.0       0.0  \n",
              "Final Fantasy VII: Advent Children - Venice Fil...   0.0     0.0       0.0  \n",
              "Shiritsu Liyon Gakuen                                0.0     0.0       0.0  \n",
              "Pair                                                 0.0     0.0       0.0  \n",
              "Bakuen Campus Guardress                              0.0     0.0       0.0  "
            ],
            "text/html": [
              "\n",
              "  <div id=\"df-bf1286e8-6caa-4ebc-bcdd-48f8293b453d\" class=\"colab-df-container\">\n",
              "    <div>\n",
              "<style scoped>\n",
              "    .dataframe tbody tr th:only-of-type {\n",
              "        vertical-align: middle;\n",
              "    }\n",
              "\n",
              "    .dataframe tbody tr th {\n",
              "        vertical-align: top;\n",
              "    }\n",
              "\n",
              "    .dataframe thead th {\n",
              "        text-align: right;\n",
              "    }\n",
              "</style>\n",
              "<table border=\"1\" class=\"dataframe\">\n",
              "  <thead>\n",
              "    <tr style=\"text-align: right;\">\n",
              "      <th></th>\n",
              "      <th>fantasy</th>\n",
              "      <th>police</th>\n",
              "      <th>power</th>\n",
              "      <th>historical</th>\n",
              "      <th>romance</th>\n",
              "      <th>ai</th>\n",
              "      <th>harem</th>\n",
              "      <th>of</th>\n",
              "      <th>adventure</th>\n",
              "      <th>slice</th>\n",
              "      <th>shoujo</th>\n",
              "      <th>mecha</th>\n",
              "      <th>yaoi</th>\n",
              "      <th>shounen</th>\n",
              "      <th>cars</th>\n",
              "      <th>demons</th>\n",
              "      <th>military</th>\n",
              "    </tr>\n",
              "    <tr>\n",
              "      <th>name</th>\n",
              "      <th></th>\n",
              "      <th></th>\n",
              "      <th></th>\n",
              "      <th></th>\n",
              "      <th></th>\n",
              "      <th></th>\n",
              "      <th></th>\n",
              "      <th></th>\n",
              "      <th></th>\n",
              "      <th></th>\n",
              "      <th></th>\n",
              "      <th></th>\n",
              "      <th></th>\n",
              "      <th></th>\n",
              "      <th></th>\n",
              "      <th></th>\n",
              "      <th></th>\n",
              "    </tr>\n",
              "  </thead>\n",
              "  <tbody>\n",
              "    <tr>\n",
              "      <th>Brave 10</th>\n",
              "      <td>0.000000</td>\n",
              "      <td>0.0</td>\n",
              "      <td>0.408785</td>\n",
              "      <td>0.354381</td>\n",
              "      <td>0.0</td>\n",
              "      <td>0.0</td>\n",
              "      <td>0.0</td>\n",
              "      <td>0.0</td>\n",
              "      <td>0.252705</td>\n",
              "      <td>0.0</td>\n",
              "      <td>0.0</td>\n",
              "      <td>0.0</td>\n",
              "      <td>0.0</td>\n",
              "      <td>0.000000</td>\n",
              "      <td>0.0</td>\n",
              "      <td>0.0</td>\n",
              "      <td>0.0</td>\n",
              "    </tr>\n",
              "    <tr>\n",
              "      <th>Glass no Kantai: La Legende du Vent de land#039;Univers</th>\n",
              "      <td>0.000000</td>\n",
              "      <td>0.0</td>\n",
              "      <td>0.000000</td>\n",
              "      <td>0.000000</td>\n",
              "      <td>0.0</td>\n",
              "      <td>0.0</td>\n",
              "      <td>0.0</td>\n",
              "      <td>0.0</td>\n",
              "      <td>0.559067</td>\n",
              "      <td>0.0</td>\n",
              "      <td>0.0</td>\n",
              "      <td>0.0</td>\n",
              "      <td>0.0</td>\n",
              "      <td>0.000000</td>\n",
              "      <td>0.0</td>\n",
              "      <td>0.0</td>\n",
              "      <td>0.0</td>\n",
              "    </tr>\n",
              "    <tr>\n",
              "      <th>Chokin no Susume</th>\n",
              "      <td>0.000000</td>\n",
              "      <td>0.0</td>\n",
              "      <td>0.000000</td>\n",
              "      <td>0.000000</td>\n",
              "      <td>0.0</td>\n",
              "      <td>0.0</td>\n",
              "      <td>0.0</td>\n",
              "      <td>0.0</td>\n",
              "      <td>0.000000</td>\n",
              "      <td>0.0</td>\n",
              "      <td>0.0</td>\n",
              "      <td>0.0</td>\n",
              "      <td>0.0</td>\n",
              "      <td>0.000000</td>\n",
              "      <td>0.0</td>\n",
              "      <td>0.0</td>\n",
              "      <td>0.0</td>\n",
              "    </tr>\n",
              "    <tr>\n",
              "      <th>Final Fantasy VII: Advent Children - Venice Film Festival Footage</th>\n",
              "      <td>0.443181</td>\n",
              "      <td>0.0</td>\n",
              "      <td>0.000000</td>\n",
              "      <td>0.000000</td>\n",
              "      <td>0.0</td>\n",
              "      <td>0.0</td>\n",
              "      <td>0.0</td>\n",
              "      <td>0.0</td>\n",
              "      <td>0.000000</td>\n",
              "      <td>0.0</td>\n",
              "      <td>0.0</td>\n",
              "      <td>0.0</td>\n",
              "      <td>0.0</td>\n",
              "      <td>0.000000</td>\n",
              "      <td>0.0</td>\n",
              "      <td>0.0</td>\n",
              "      <td>0.0</td>\n",
              "    </tr>\n",
              "    <tr>\n",
              "      <th>Shiritsu Liyon Gakuen</th>\n",
              "      <td>0.000000</td>\n",
              "      <td>0.0</td>\n",
              "      <td>0.000000</td>\n",
              "      <td>0.000000</td>\n",
              "      <td>0.0</td>\n",
              "      <td>0.0</td>\n",
              "      <td>0.0</td>\n",
              "      <td>0.0</td>\n",
              "      <td>0.000000</td>\n",
              "      <td>0.0</td>\n",
              "      <td>0.0</td>\n",
              "      <td>0.0</td>\n",
              "      <td>0.0</td>\n",
              "      <td>0.000000</td>\n",
              "      <td>0.0</td>\n",
              "      <td>0.0</td>\n",
              "      <td>0.0</td>\n",
              "    </tr>\n",
              "    <tr>\n",
              "      <th>Pair</th>\n",
              "      <td>0.000000</td>\n",
              "      <td>0.0</td>\n",
              "      <td>0.000000</td>\n",
              "      <td>0.000000</td>\n",
              "      <td>0.0</td>\n",
              "      <td>0.0</td>\n",
              "      <td>0.0</td>\n",
              "      <td>0.0</td>\n",
              "      <td>0.000000</td>\n",
              "      <td>0.0</td>\n",
              "      <td>0.0</td>\n",
              "      <td>0.0</td>\n",
              "      <td>0.0</td>\n",
              "      <td>0.000000</td>\n",
              "      <td>0.0</td>\n",
              "      <td>0.0</td>\n",
              "      <td>0.0</td>\n",
              "    </tr>\n",
              "    <tr>\n",
              "      <th>Bakuen Campus Guardress</th>\n",
              "      <td>0.000000</td>\n",
              "      <td>0.0</td>\n",
              "      <td>0.000000</td>\n",
              "      <td>0.000000</td>\n",
              "      <td>0.0</td>\n",
              "      <td>0.0</td>\n",
              "      <td>0.0</td>\n",
              "      <td>0.0</td>\n",
              "      <td>0.000000</td>\n",
              "      <td>0.0</td>\n",
              "      <td>0.0</td>\n",
              "      <td>0.0</td>\n",
              "      <td>0.0</td>\n",
              "      <td>0.453481</td>\n",
              "      <td>0.0</td>\n",
              "      <td>0.0</td>\n",
              "      <td>0.0</td>\n",
              "    </tr>\n",
              "  </tbody>\n",
              "</table>\n",
              "</div>\n",
              "    <div class=\"colab-df-buttons\">\n",
              "\n",
              "  <div class=\"colab-df-container\">\n",
              "    <button class=\"colab-df-convert\" onclick=\"convertToInteractive('df-bf1286e8-6caa-4ebc-bcdd-48f8293b453d')\"\n",
              "            title=\"Convert this dataframe to an interactive table.\"\n",
              "            style=\"display:none;\">\n",
              "\n",
              "  <svg xmlns=\"http://www.w3.org/2000/svg\" height=\"24px\" viewBox=\"0 -960 960 960\">\n",
              "    <path d=\"M120-120v-720h720v720H120Zm60-500h600v-160H180v160Zm220 220h160v-160H400v160Zm0 220h160v-160H400v160ZM180-400h160v-160H180v160Zm440 0h160v-160H620v160ZM180-180h160v-160H180v160Zm440 0h160v-160H620v160Z\"/>\n",
              "  </svg>\n",
              "    </button>\n",
              "\n",
              "  <style>\n",
              "    .colab-df-container {\n",
              "      display:flex;\n",
              "      gap: 12px;\n",
              "    }\n",
              "\n",
              "    .colab-df-convert {\n",
              "      background-color: #E8F0FE;\n",
              "      border: none;\n",
              "      border-radius: 50%;\n",
              "      cursor: pointer;\n",
              "      display: none;\n",
              "      fill: #1967D2;\n",
              "      height: 32px;\n",
              "      padding: 0 0 0 0;\n",
              "      width: 32px;\n",
              "    }\n",
              "\n",
              "    .colab-df-convert:hover {\n",
              "      background-color: #E2EBFA;\n",
              "      box-shadow: 0px 1px 2px rgba(60, 64, 67, 0.3), 0px 1px 3px 1px rgba(60, 64, 67, 0.15);\n",
              "      fill: #174EA6;\n",
              "    }\n",
              "\n",
              "    .colab-df-buttons div {\n",
              "      margin-bottom: 4px;\n",
              "    }\n",
              "\n",
              "    [theme=dark] .colab-df-convert {\n",
              "      background-color: #3B4455;\n",
              "      fill: #D2E3FC;\n",
              "    }\n",
              "\n",
              "    [theme=dark] .colab-df-convert:hover {\n",
              "      background-color: #434B5C;\n",
              "      box-shadow: 0px 1px 3px 1px rgba(0, 0, 0, 0.15);\n",
              "      filter: drop-shadow(0px 1px 2px rgba(0, 0, 0, 0.3));\n",
              "      fill: #FFFFFF;\n",
              "    }\n",
              "  </style>\n",
              "\n",
              "    <script>\n",
              "      const buttonEl =\n",
              "        document.querySelector('#df-bf1286e8-6caa-4ebc-bcdd-48f8293b453d button.colab-df-convert');\n",
              "      buttonEl.style.display =\n",
              "        google.colab.kernel.accessAllowed ? 'block' : 'none';\n",
              "\n",
              "      async function convertToInteractive(key) {\n",
              "        const element = document.querySelector('#df-bf1286e8-6caa-4ebc-bcdd-48f8293b453d');\n",
              "        const dataTable =\n",
              "          await google.colab.kernel.invokeFunction('convertToInteractive',\n",
              "                                                    [key], {});\n",
              "        if (!dataTable) return;\n",
              "\n",
              "        const docLinkHtml = 'Like what you see? Visit the ' +\n",
              "          '<a target=\"_blank\" href=https://colab.research.google.com/notebooks/data_table.ipynb>data table notebook</a>'\n",
              "          + ' to learn more about interactive tables.';\n",
              "        element.innerHTML = '';\n",
              "        dataTable['output_type'] = 'display_data';\n",
              "        await google.colab.output.renderOutput(dataTable, element);\n",
              "        const docLink = document.createElement('div');\n",
              "        docLink.innerHTML = docLinkHtml;\n",
              "        element.appendChild(docLink);\n",
              "      }\n",
              "    </script>\n",
              "  </div>\n",
              "\n",
              "\n",
              "<div id=\"df-95408e0e-caad-4ec3-a91f-ce72d5dc74e9\">\n",
              "  <button class=\"colab-df-quickchart\" onclick=\"quickchart('df-95408e0e-caad-4ec3-a91f-ce72d5dc74e9')\"\n",
              "            title=\"Suggest charts\"\n",
              "            style=\"display:none;\">\n",
              "\n",
              "<svg xmlns=\"http://www.w3.org/2000/svg\" height=\"24px\"viewBox=\"0 0 24 24\"\n",
              "     width=\"24px\">\n",
              "    <g>\n",
              "        <path d=\"M19 3H5c-1.1 0-2 .9-2 2v14c0 1.1.9 2 2 2h14c1.1 0 2-.9 2-2V5c0-1.1-.9-2-2-2zM9 17H7v-7h2v7zm4 0h-2V7h2v10zm4 0h-2v-4h2v4z\"/>\n",
              "    </g>\n",
              "</svg>\n",
              "  </button>\n",
              "\n",
              "<style>\n",
              "  .colab-df-quickchart {\n",
              "      --bg-color: #E8F0FE;\n",
              "      --fill-color: #1967D2;\n",
              "      --hover-bg-color: #E2EBFA;\n",
              "      --hover-fill-color: #174EA6;\n",
              "      --disabled-fill-color: #AAA;\n",
              "      --disabled-bg-color: #DDD;\n",
              "  }\n",
              "\n",
              "  [theme=dark] .colab-df-quickchart {\n",
              "      --bg-color: #3B4455;\n",
              "      --fill-color: #D2E3FC;\n",
              "      --hover-bg-color: #434B5C;\n",
              "      --hover-fill-color: #FFFFFF;\n",
              "      --disabled-bg-color: #3B4455;\n",
              "      --disabled-fill-color: #666;\n",
              "  }\n",
              "\n",
              "  .colab-df-quickchart {\n",
              "    background-color: var(--bg-color);\n",
              "    border: none;\n",
              "    border-radius: 50%;\n",
              "    cursor: pointer;\n",
              "    display: none;\n",
              "    fill: var(--fill-color);\n",
              "    height: 32px;\n",
              "    padding: 0;\n",
              "    width: 32px;\n",
              "  }\n",
              "\n",
              "  .colab-df-quickchart:hover {\n",
              "    background-color: var(--hover-bg-color);\n",
              "    box-shadow: 0 1px 2px rgba(60, 64, 67, 0.3), 0 1px 3px 1px rgba(60, 64, 67, 0.15);\n",
              "    fill: var(--button-hover-fill-color);\n",
              "  }\n",
              "\n",
              "  .colab-df-quickchart-complete:disabled,\n",
              "  .colab-df-quickchart-complete:disabled:hover {\n",
              "    background-color: var(--disabled-bg-color);\n",
              "    fill: var(--disabled-fill-color);\n",
              "    box-shadow: none;\n",
              "  }\n",
              "\n",
              "  .colab-df-spinner {\n",
              "    border: 2px solid var(--fill-color);\n",
              "    border-color: transparent;\n",
              "    border-bottom-color: var(--fill-color);\n",
              "    animation:\n",
              "      spin 1s steps(1) infinite;\n",
              "  }\n",
              "\n",
              "  @keyframes spin {\n",
              "    0% {\n",
              "      border-color: transparent;\n",
              "      border-bottom-color: var(--fill-color);\n",
              "      border-left-color: var(--fill-color);\n",
              "    }\n",
              "    20% {\n",
              "      border-color: transparent;\n",
              "      border-left-color: var(--fill-color);\n",
              "      border-top-color: var(--fill-color);\n",
              "    }\n",
              "    30% {\n",
              "      border-color: transparent;\n",
              "      border-left-color: var(--fill-color);\n",
              "      border-top-color: var(--fill-color);\n",
              "      border-right-color: var(--fill-color);\n",
              "    }\n",
              "    40% {\n",
              "      border-color: transparent;\n",
              "      border-right-color: var(--fill-color);\n",
              "      border-top-color: var(--fill-color);\n",
              "    }\n",
              "    60% {\n",
              "      border-color: transparent;\n",
              "      border-right-color: var(--fill-color);\n",
              "    }\n",
              "    80% {\n",
              "      border-color: transparent;\n",
              "      border-right-color: var(--fill-color);\n",
              "      border-bottom-color: var(--fill-color);\n",
              "    }\n",
              "    90% {\n",
              "      border-color: transparent;\n",
              "      border-bottom-color: var(--fill-color);\n",
              "    }\n",
              "  }\n",
              "</style>\n",
              "\n",
              "  <script>\n",
              "    async function quickchart(key) {\n",
              "      const quickchartButtonEl =\n",
              "        document.querySelector('#' + key + ' button');\n",
              "      quickchartButtonEl.disabled = true;  // To prevent multiple clicks.\n",
              "      quickchartButtonEl.classList.add('colab-df-spinner');\n",
              "      try {\n",
              "        const charts = await google.colab.kernel.invokeFunction(\n",
              "            'suggestCharts', [key], {});\n",
              "      } catch (error) {\n",
              "        console.error('Error during call to suggestCharts:', error);\n",
              "      }\n",
              "      quickchartButtonEl.classList.remove('colab-df-spinner');\n",
              "      quickchartButtonEl.classList.add('colab-df-quickchart-complete');\n",
              "    }\n",
              "    (() => {\n",
              "      let quickchartButtonEl =\n",
              "        document.querySelector('#df-95408e0e-caad-4ec3-a91f-ce72d5dc74e9 button');\n",
              "      quickchartButtonEl.style.display =\n",
              "        google.colab.kernel.accessAllowed ? 'block' : 'none';\n",
              "    })();\n",
              "  </script>\n",
              "</div>\n",
              "\n",
              "    </div>\n",
              "  </div>\n"
            ],
            "application/vnd.google.colaboratory.intrinsic+json": {
              "type": "dataframe",
              "summary": "{\n  \"name\": \")\",\n  \"rows\": 7,\n  \"fields\": [\n    {\n      \"column\": \"name\",\n      \"properties\": {\n        \"dtype\": \"string\",\n        \"num_unique_values\": 7,\n        \"samples\": [\n          \"Brave 10\",\n          \"Glass no Kantai: La Legende du Vent de land#039;Univers\",\n          \"Pair\"\n        ],\n        \"semantic_type\": \"\",\n        \"description\": \"\"\n      }\n    },\n    {\n      \"column\": \"fantasy\",\n      \"properties\": {\n        \"dtype\": \"number\",\n        \"std\": 0.16750656590348462,\n        \"min\": 0.0,\n        \"max\": 0.44318071635107165,\n        \"num_unique_values\": 2,\n        \"samples\": [\n          0.44318071635107165,\n          0.0\n        ],\n        \"semantic_type\": \"\",\n        \"description\": \"\"\n      }\n    },\n    {\n      \"column\": \"police\",\n      \"properties\": {\n        \"dtype\": \"number\",\n        \"std\": 0.0,\n        \"min\": 0.0,\n        \"max\": 0.0,\n        \"num_unique_values\": 1,\n        \"samples\": [\n          0.0\n        ],\n        \"semantic_type\": \"\",\n        \"description\": \"\"\n      }\n    },\n    {\n      \"column\": \"power\",\n      \"properties\": {\n        \"dtype\": \"number\",\n        \"std\": 0.15450624896926665,\n        \"min\": 0.0,\n        \"max\": 0.40878511077810936,\n        \"num_unique_values\": 2,\n        \"samples\": [\n          0.0\n        ],\n        \"semantic_type\": \"\",\n        \"description\": \"\"\n      }\n    },\n    {\n      \"column\": \"historical\",\n      \"properties\": {\n        \"dtype\": \"number\",\n        \"std\": 0.1339433780962361,\n        \"min\": 0.0,\n        \"max\": 0.35438086820653686,\n        \"num_unique_values\": 2,\n        \"samples\": [\n          0.0\n        ],\n        \"semantic_type\": \"\",\n        \"description\": \"\"\n      }\n    },\n    {\n      \"column\": \"romance\",\n      \"properties\": {\n        \"dtype\": \"number\",\n        \"std\": 0.0,\n        \"min\": 0.0,\n        \"max\": 0.0,\n        \"num_unique_values\": 1,\n        \"samples\": [\n          0.0\n        ],\n        \"semantic_type\": \"\",\n        \"description\": \"\"\n      }\n    },\n    {\n      \"column\": \"ai\",\n      \"properties\": {\n        \"dtype\": \"number\",\n        \"std\": 0.0,\n        \"min\": 0.0,\n        \"max\": 0.0,\n        \"num_unique_values\": 1,\n        \"samples\": [\n          0.0\n        ],\n        \"semantic_type\": \"\",\n        \"description\": \"\"\n      }\n    },\n    {\n      \"column\": \"harem\",\n      \"properties\": {\n        \"dtype\": \"number\",\n        \"std\": 0.0,\n        \"min\": 0.0,\n        \"max\": 0.0,\n        \"num_unique_values\": 1,\n        \"samples\": [\n          0.0\n        ],\n        \"semantic_type\": \"\",\n        \"description\": \"\"\n      }\n    },\n    {\n      \"column\": \"of\",\n      \"properties\": {\n        \"dtype\": \"number\",\n        \"std\": 0.0,\n        \"min\": 0.0,\n        \"max\": 0.0,\n        \"num_unique_values\": 1,\n        \"samples\": [\n          0.0\n        ],\n        \"semantic_type\": \"\",\n        \"description\": \"\"\n      }\n    },\n    {\n      \"column\": \"adventure\",\n      \"properties\": {\n        \"dtype\": \"number\",\n        \"std\": 0.21690109190055967,\n        \"min\": 0.0,\n        \"max\": 0.5590667900585458,\n        \"num_unique_values\": 3,\n        \"samples\": [\n          0.2527052631611744\n        ],\n        \"semantic_type\": \"\",\n        \"description\": \"\"\n      }\n    },\n    {\n      \"column\": \"slice\",\n      \"properties\": {\n        \"dtype\": \"number\",\n        \"std\": 0.0,\n        \"min\": 0.0,\n        \"max\": 0.0,\n        \"num_unique_values\": 1,\n        \"samples\": [\n          0.0\n        ],\n        \"semantic_type\": \"\",\n        \"description\": \"\"\n      }\n    },\n    {\n      \"column\": \"shoujo\",\n      \"properties\": {\n        \"dtype\": \"number\",\n        \"std\": 0.0,\n        \"min\": 0.0,\n        \"max\": 0.0,\n        \"num_unique_values\": 1,\n        \"samples\": [\n          0.0\n        ],\n        \"semantic_type\": \"\",\n        \"description\": \"\"\n      }\n    },\n    {\n      \"column\": \"mecha\",\n      \"properties\": {\n        \"dtype\": \"number\",\n        \"std\": 0.0,\n        \"min\": 0.0,\n        \"max\": 0.0,\n        \"num_unique_values\": 1,\n        \"samples\": [\n          0.0\n        ],\n        \"semantic_type\": \"\",\n        \"description\": \"\"\n      }\n    },\n    {\n      \"column\": \"yaoi\",\n      \"properties\": {\n        \"dtype\": \"number\",\n        \"std\": 0.0,\n        \"min\": 0.0,\n        \"max\": 0.0,\n        \"num_unique_values\": 1,\n        \"samples\": [\n          0.0\n        ],\n        \"semantic_type\": \"\",\n        \"description\": \"\"\n      }\n    },\n    {\n      \"column\": \"shounen\",\n      \"properties\": {\n        \"dtype\": \"number\",\n        \"std\": 0.17139967773830045,\n        \"min\": 0.0,\n        \"max\": 0.4534809220921568,\n        \"num_unique_values\": 2,\n        \"samples\": [\n          0.4534809220921568\n        ],\n        \"semantic_type\": \"\",\n        \"description\": \"\"\n      }\n    },\n    {\n      \"column\": \"cars\",\n      \"properties\": {\n        \"dtype\": \"number\",\n        \"std\": 0.0,\n        \"min\": 0.0,\n        \"max\": 0.0,\n        \"num_unique_values\": 1,\n        \"samples\": [\n          0.0\n        ],\n        \"semantic_type\": \"\",\n        \"description\": \"\"\n      }\n    },\n    {\n      \"column\": \"demons\",\n      \"properties\": {\n        \"dtype\": \"number\",\n        \"std\": 0.0,\n        \"min\": 0.0,\n        \"max\": 0.0,\n        \"num_unique_values\": 1,\n        \"samples\": [\n          0.0\n        ],\n        \"semantic_type\": \"\",\n        \"description\": \"\"\n      }\n    },\n    {\n      \"column\": \"military\",\n      \"properties\": {\n        \"dtype\": \"number\",\n        \"std\": 0.0,\n        \"min\": 0.0,\n        \"max\": 0.0,\n        \"num_unique_values\": 1,\n        \"samples\": [\n          0.0\n        ],\n        \"semantic_type\": \"\",\n        \"description\": \"\"\n      }\n    }\n  ]\n}"
            }
          },
          "metadata": {},
          "execution_count": 159
        }
      ],
      "source": [
        "## Membuat dataframe untuk melihat tf-idf matrix\n",
        "pd.DataFrame(\n",
        "    tfidf_matrix.todense(),\n",
        "    columns=tf_id.get_feature_names_out(),\n",
        "    index=anime_df.name\n",
        ").sample(17, axis=1).sample(7, axis=0)"
      ]
    },
    {
      "cell_type": "markdown",
      "source": [
        "Berdasarkan output diatas, dataframe berhasil dibuat dengan data dari matriks yang sudah dibuat sebelumnya"
      ],
      "metadata": {
        "id": "fy_drX5IT6Lj"
      }
    },
    {
      "cell_type": "code",
      "source": [
        "# Proses perhitungan cosine_similarity\n",
        "cosine_sim = cosine_similarity(tfidf_matrix)\n",
        "cosine_sim"
      ],
      "metadata": {
        "id": "xnLkq7HLT03a",
        "colab": {
          "base_uri": "https://localhost:8080/"
        },
        "outputId": "2fb4e44c-19f7-41e0-abc2-97c6f25307ae"
      },
      "execution_count": null,
      "outputs": [
        {
          "output_type": "execute_result",
          "data": {
            "text/plain": [
              "array([[1.        , 0.14715318, 0.        , ..., 0.        , 0.        ,\n",
              "        0.        ],\n",
              "       [0.14715318, 1.        , 0.17877808, ..., 0.        , 0.        ,\n",
              "        0.        ],\n",
              "       [0.        , 0.17877808, 1.        , ..., 0.        , 0.        ,\n",
              "        0.        ],\n",
              "       ...,\n",
              "       [0.        , 0.        , 0.        , ..., 1.        , 1.        ,\n",
              "        1.        ],\n",
              "       [0.        , 0.        , 0.        , ..., 1.        , 1.        ,\n",
              "        1.        ],\n",
              "       [0.        , 0.        , 0.        , ..., 1.        , 1.        ,\n",
              "        1.        ]])"
            ]
          },
          "metadata": {},
          "execution_count": 160
        }
      ]
    },
    {
      "cell_type": "markdown",
      "source": [
        "Berdasarkan output diatas, proses perhitungan cosine_similarity telah berhasil dilakukan."
      ],
      "metadata": {
        "id": "V16Asx5Z3foD"
      }
    },
    {
      "cell_type": "code",
      "source": [
        "# Membuat dataframe dari variabel cosine_sim\n",
        "cosine_sim_df = pd.DataFrame(cosine_sim, index=anime_df['name'], columns=anime_df['name'])\n",
        "print('Ukuran Dataframe : ', cosine_sim_df.shape)"
      ],
      "metadata": {
        "colab": {
          "base_uri": "https://localhost:8080/"
        },
        "id": "CR08otyH3i10",
        "outputId": "146bf669-f482-4d44-8d17-6ccb0060e789"
      },
      "execution_count": null,
      "outputs": [
        {
          "output_type": "stream",
          "name": "stdout",
          "text": [
            "Ukuran Dataframe :  (12017, 12017)\n"
          ]
        }
      ]
    },
    {
      "cell_type": "markdown",
      "source": [
        "Berdasarkan output diatas, proses pembuatan dataframe berhasil dilakukan dan dataframe memiliki ukuran 12017 x 12017."
      ],
      "metadata": {
        "id": "CXcdSN_C3uDY"
      }
    },
    {
      "cell_type": "code",
      "source": [
        "# Melihat similarity matrix pada data\n",
        "cosine_sim_df.sample(5, axis=1).sample(7, axis=0)"
      ],
      "metadata": {
        "colab": {
          "base_uri": "https://localhost:8080/",
          "height": 407
        },
        "id": "7xcjaaIf32Gz",
        "outputId": "42f2cdab-9520-4188-8406-c26c1cf6b76a"
      },
      "execution_count": null,
      "outputs": [
        {
          "output_type": "execute_result",
          "data": {
            "text/plain": [
              "name                                       Miracle Shoujo Limit-chan  \\\n",
              "name                                                                   \n",
              "Denpa Kyoushi (TV)                                          0.263027   \n",
              "Mienu Me ni Kanjita Kumotoriyama no Asahi                   0.000000   \n",
              "Servant x Service                                           0.065020   \n",
              "High School DxD BorN                                        0.159576   \n",
              "Chuumon no Ooi Ryouriten (1991)                             0.000000   \n",
              "Kiteretsu Daihyakka                                         0.058981   \n",
              "Shintaisou: Shin                                            0.237709   \n",
              "\n",
              "name                                       Puchi Puri Yuushi  \\\n",
              "name                                                           \n",
              "Denpa Kyoushi (TV)                                  0.104995   \n",
              "Mienu Me ni Kanjita Kumotoriyama no Asahi           0.000000   \n",
              "Servant x Service                                   0.100156   \n",
              "High School DxD BorN                                0.063700   \n",
              "Chuumon no Ooi Ryouriten (1991)                     0.178730   \n",
              "Kiteretsu Daihyakka                                 0.090854   \n",
              "Shintaisou: Shin                                    0.000000   \n",
              "\n",
              "name                                       Toki no Daichi: Hana no Oukoku no Majo  \\\n",
              "name                                                                                \n",
              "Denpa Kyoushi (TV)                                                       0.000000   \n",
              "Mienu Me ni Kanjita Kumotoriyama no Asahi                                0.000000   \n",
              "Servant x Service                                                        0.000000   \n",
              "High School DxD BorN                                                     0.000000   \n",
              "Chuumon no Ooi Ryouriten (1991)                                          0.302952   \n",
              "Kiteretsu Daihyakka                                                      0.000000   \n",
              "Shintaisou: Shin                                                         0.000000   \n",
              "\n",
              "name                                       Lime-iro Senkitan: Nankoku Yume Roman  \\\n",
              "name                                                                               \n",
              "Denpa Kyoushi (TV)                                                      0.108386   \n",
              "Mienu Me ni Kanjita Kumotoriyama no Asahi                               0.000000   \n",
              "Servant x Service                                                       0.103391   \n",
              "High School DxD BorN                                                    0.434977   \n",
              "Chuumon no Ooi Ryouriten (1991)                                         0.000000   \n",
              "Kiteretsu Daihyakka                                                     0.093788   \n",
              "Shintaisou: Shin                                                        0.000000   \n",
              "\n",
              "name                                       Minihams no Kekkon Song  \n",
              "name                                                                \n",
              "Denpa Kyoushi (TV)                                        0.000000  \n",
              "Mienu Me ni Kanjita Kumotoriyama no Asahi                 0.466107  \n",
              "Servant x Service                                         0.000000  \n",
              "High School DxD BorN                                      0.000000  \n",
              "Chuumon no Ooi Ryouriten (1991)                           0.000000  \n",
              "Kiteretsu Daihyakka                                       0.000000  \n",
              "Shintaisou: Shin                                          0.000000  "
            ],
            "text/html": [
              "\n",
              "  <div id=\"df-dc4fee55-5c77-4344-8268-d0c3a8d73daa\" class=\"colab-df-container\">\n",
              "    <div>\n",
              "<style scoped>\n",
              "    .dataframe tbody tr th:only-of-type {\n",
              "        vertical-align: middle;\n",
              "    }\n",
              "\n",
              "    .dataframe tbody tr th {\n",
              "        vertical-align: top;\n",
              "    }\n",
              "\n",
              "    .dataframe thead th {\n",
              "        text-align: right;\n",
              "    }\n",
              "</style>\n",
              "<table border=\"1\" class=\"dataframe\">\n",
              "  <thead>\n",
              "    <tr style=\"text-align: right;\">\n",
              "      <th>name</th>\n",
              "      <th>Miracle Shoujo Limit-chan</th>\n",
              "      <th>Puchi Puri Yuushi</th>\n",
              "      <th>Toki no Daichi: Hana no Oukoku no Majo</th>\n",
              "      <th>Lime-iro Senkitan: Nankoku Yume Roman</th>\n",
              "      <th>Minihams no Kekkon Song</th>\n",
              "    </tr>\n",
              "    <tr>\n",
              "      <th>name</th>\n",
              "      <th></th>\n",
              "      <th></th>\n",
              "      <th></th>\n",
              "      <th></th>\n",
              "      <th></th>\n",
              "    </tr>\n",
              "  </thead>\n",
              "  <tbody>\n",
              "    <tr>\n",
              "      <th>Denpa Kyoushi (TV)</th>\n",
              "      <td>0.263027</td>\n",
              "      <td>0.104995</td>\n",
              "      <td>0.000000</td>\n",
              "      <td>0.108386</td>\n",
              "      <td>0.000000</td>\n",
              "    </tr>\n",
              "    <tr>\n",
              "      <th>Mienu Me ni Kanjita Kumotoriyama no Asahi</th>\n",
              "      <td>0.000000</td>\n",
              "      <td>0.000000</td>\n",
              "      <td>0.000000</td>\n",
              "      <td>0.000000</td>\n",
              "      <td>0.466107</td>\n",
              "    </tr>\n",
              "    <tr>\n",
              "      <th>Servant x Service</th>\n",
              "      <td>0.065020</td>\n",
              "      <td>0.100156</td>\n",
              "      <td>0.000000</td>\n",
              "      <td>0.103391</td>\n",
              "      <td>0.000000</td>\n",
              "    </tr>\n",
              "    <tr>\n",
              "      <th>High School DxD BorN</th>\n",
              "      <td>0.159576</td>\n",
              "      <td>0.063700</td>\n",
              "      <td>0.000000</td>\n",
              "      <td>0.434977</td>\n",
              "      <td>0.000000</td>\n",
              "    </tr>\n",
              "    <tr>\n",
              "      <th>Chuumon no Ooi Ryouriten (1991)</th>\n",
              "      <td>0.000000</td>\n",
              "      <td>0.178730</td>\n",
              "      <td>0.302952</td>\n",
              "      <td>0.000000</td>\n",
              "      <td>0.000000</td>\n",
              "    </tr>\n",
              "    <tr>\n",
              "      <th>Kiteretsu Daihyakka</th>\n",
              "      <td>0.058981</td>\n",
              "      <td>0.090854</td>\n",
              "      <td>0.000000</td>\n",
              "      <td>0.093788</td>\n",
              "      <td>0.000000</td>\n",
              "    </tr>\n",
              "    <tr>\n",
              "      <th>Shintaisou: Shin</th>\n",
              "      <td>0.237709</td>\n",
              "      <td>0.000000</td>\n",
              "      <td>0.000000</td>\n",
              "      <td>0.000000</td>\n",
              "      <td>0.000000</td>\n",
              "    </tr>\n",
              "  </tbody>\n",
              "</table>\n",
              "</div>\n",
              "    <div class=\"colab-df-buttons\">\n",
              "\n",
              "  <div class=\"colab-df-container\">\n",
              "    <button class=\"colab-df-convert\" onclick=\"convertToInteractive('df-dc4fee55-5c77-4344-8268-d0c3a8d73daa')\"\n",
              "            title=\"Convert this dataframe to an interactive table.\"\n",
              "            style=\"display:none;\">\n",
              "\n",
              "  <svg xmlns=\"http://www.w3.org/2000/svg\" height=\"24px\" viewBox=\"0 -960 960 960\">\n",
              "    <path d=\"M120-120v-720h720v720H120Zm60-500h600v-160H180v160Zm220 220h160v-160H400v160Zm0 220h160v-160H400v160ZM180-400h160v-160H180v160Zm440 0h160v-160H620v160ZM180-180h160v-160H180v160Zm440 0h160v-160H620v160Z\"/>\n",
              "  </svg>\n",
              "    </button>\n",
              "\n",
              "  <style>\n",
              "    .colab-df-container {\n",
              "      display:flex;\n",
              "      gap: 12px;\n",
              "    }\n",
              "\n",
              "    .colab-df-convert {\n",
              "      background-color: #E8F0FE;\n",
              "      border: none;\n",
              "      border-radius: 50%;\n",
              "      cursor: pointer;\n",
              "      display: none;\n",
              "      fill: #1967D2;\n",
              "      height: 32px;\n",
              "      padding: 0 0 0 0;\n",
              "      width: 32px;\n",
              "    }\n",
              "\n",
              "    .colab-df-convert:hover {\n",
              "      background-color: #E2EBFA;\n",
              "      box-shadow: 0px 1px 2px rgba(60, 64, 67, 0.3), 0px 1px 3px 1px rgba(60, 64, 67, 0.15);\n",
              "      fill: #174EA6;\n",
              "    }\n",
              "\n",
              "    .colab-df-buttons div {\n",
              "      margin-bottom: 4px;\n",
              "    }\n",
              "\n",
              "    [theme=dark] .colab-df-convert {\n",
              "      background-color: #3B4455;\n",
              "      fill: #D2E3FC;\n",
              "    }\n",
              "\n",
              "    [theme=dark] .colab-df-convert:hover {\n",
              "      background-color: #434B5C;\n",
              "      box-shadow: 0px 1px 3px 1px rgba(0, 0, 0, 0.15);\n",
              "      filter: drop-shadow(0px 1px 2px rgba(0, 0, 0, 0.3));\n",
              "      fill: #FFFFFF;\n",
              "    }\n",
              "  </style>\n",
              "\n",
              "    <script>\n",
              "      const buttonEl =\n",
              "        document.querySelector('#df-dc4fee55-5c77-4344-8268-d0c3a8d73daa button.colab-df-convert');\n",
              "      buttonEl.style.display =\n",
              "        google.colab.kernel.accessAllowed ? 'block' : 'none';\n",
              "\n",
              "      async function convertToInteractive(key) {\n",
              "        const element = document.querySelector('#df-dc4fee55-5c77-4344-8268-d0c3a8d73daa');\n",
              "        const dataTable =\n",
              "          await google.colab.kernel.invokeFunction('convertToInteractive',\n",
              "                                                    [key], {});\n",
              "        if (!dataTable) return;\n",
              "\n",
              "        const docLinkHtml = 'Like what you see? Visit the ' +\n",
              "          '<a target=\"_blank\" href=https://colab.research.google.com/notebooks/data_table.ipynb>data table notebook</a>'\n",
              "          + ' to learn more about interactive tables.';\n",
              "        element.innerHTML = '';\n",
              "        dataTable['output_type'] = 'display_data';\n",
              "        await google.colab.output.renderOutput(dataTable, element);\n",
              "        const docLink = document.createElement('div');\n",
              "        docLink.innerHTML = docLinkHtml;\n",
              "        element.appendChild(docLink);\n",
              "      }\n",
              "    </script>\n",
              "  </div>\n",
              "\n",
              "\n",
              "<div id=\"df-3cc5c168-024b-4540-b9e5-a1d3fc680e0d\">\n",
              "  <button class=\"colab-df-quickchart\" onclick=\"quickchart('df-3cc5c168-024b-4540-b9e5-a1d3fc680e0d')\"\n",
              "            title=\"Suggest charts\"\n",
              "            style=\"display:none;\">\n",
              "\n",
              "<svg xmlns=\"http://www.w3.org/2000/svg\" height=\"24px\"viewBox=\"0 0 24 24\"\n",
              "     width=\"24px\">\n",
              "    <g>\n",
              "        <path d=\"M19 3H5c-1.1 0-2 .9-2 2v14c0 1.1.9 2 2 2h14c1.1 0 2-.9 2-2V5c0-1.1-.9-2-2-2zM9 17H7v-7h2v7zm4 0h-2V7h2v10zm4 0h-2v-4h2v4z\"/>\n",
              "    </g>\n",
              "</svg>\n",
              "  </button>\n",
              "\n",
              "<style>\n",
              "  .colab-df-quickchart {\n",
              "      --bg-color: #E8F0FE;\n",
              "      --fill-color: #1967D2;\n",
              "      --hover-bg-color: #E2EBFA;\n",
              "      --hover-fill-color: #174EA6;\n",
              "      --disabled-fill-color: #AAA;\n",
              "      --disabled-bg-color: #DDD;\n",
              "  }\n",
              "\n",
              "  [theme=dark] .colab-df-quickchart {\n",
              "      --bg-color: #3B4455;\n",
              "      --fill-color: #D2E3FC;\n",
              "      --hover-bg-color: #434B5C;\n",
              "      --hover-fill-color: #FFFFFF;\n",
              "      --disabled-bg-color: #3B4455;\n",
              "      --disabled-fill-color: #666;\n",
              "  }\n",
              "\n",
              "  .colab-df-quickchart {\n",
              "    background-color: var(--bg-color);\n",
              "    border: none;\n",
              "    border-radius: 50%;\n",
              "    cursor: pointer;\n",
              "    display: none;\n",
              "    fill: var(--fill-color);\n",
              "    height: 32px;\n",
              "    padding: 0;\n",
              "    width: 32px;\n",
              "  }\n",
              "\n",
              "  .colab-df-quickchart:hover {\n",
              "    background-color: var(--hover-bg-color);\n",
              "    box-shadow: 0 1px 2px rgba(60, 64, 67, 0.3), 0 1px 3px 1px rgba(60, 64, 67, 0.15);\n",
              "    fill: var(--button-hover-fill-color);\n",
              "  }\n",
              "\n",
              "  .colab-df-quickchart-complete:disabled,\n",
              "  .colab-df-quickchart-complete:disabled:hover {\n",
              "    background-color: var(--disabled-bg-color);\n",
              "    fill: var(--disabled-fill-color);\n",
              "    box-shadow: none;\n",
              "  }\n",
              "\n",
              "  .colab-df-spinner {\n",
              "    border: 2px solid var(--fill-color);\n",
              "    border-color: transparent;\n",
              "    border-bottom-color: var(--fill-color);\n",
              "    animation:\n",
              "      spin 1s steps(1) infinite;\n",
              "  }\n",
              "\n",
              "  @keyframes spin {\n",
              "    0% {\n",
              "      border-color: transparent;\n",
              "      border-bottom-color: var(--fill-color);\n",
              "      border-left-color: var(--fill-color);\n",
              "    }\n",
              "    20% {\n",
              "      border-color: transparent;\n",
              "      border-left-color: var(--fill-color);\n",
              "      border-top-color: var(--fill-color);\n",
              "    }\n",
              "    30% {\n",
              "      border-color: transparent;\n",
              "      border-left-color: var(--fill-color);\n",
              "      border-top-color: var(--fill-color);\n",
              "      border-right-color: var(--fill-color);\n",
              "    }\n",
              "    40% {\n",
              "      border-color: transparent;\n",
              "      border-right-color: var(--fill-color);\n",
              "      border-top-color: var(--fill-color);\n",
              "    }\n",
              "    60% {\n",
              "      border-color: transparent;\n",
              "      border-right-color: var(--fill-color);\n",
              "    }\n",
              "    80% {\n",
              "      border-color: transparent;\n",
              "      border-right-color: var(--fill-color);\n",
              "      border-bottom-color: var(--fill-color);\n",
              "    }\n",
              "    90% {\n",
              "      border-color: transparent;\n",
              "      border-bottom-color: var(--fill-color);\n",
              "    }\n",
              "  }\n",
              "</style>\n",
              "\n",
              "  <script>\n",
              "    async function quickchart(key) {\n",
              "      const quickchartButtonEl =\n",
              "        document.querySelector('#' + key + ' button');\n",
              "      quickchartButtonEl.disabled = true;  // To prevent multiple clicks.\n",
              "      quickchartButtonEl.classList.add('colab-df-spinner');\n",
              "      try {\n",
              "        const charts = await google.colab.kernel.invokeFunction(\n",
              "            'suggestCharts', [key], {});\n",
              "      } catch (error) {\n",
              "        console.error('Error during call to suggestCharts:', error);\n",
              "      }\n",
              "      quickchartButtonEl.classList.remove('colab-df-spinner');\n",
              "      quickchartButtonEl.classList.add('colab-df-quickchart-complete');\n",
              "    }\n",
              "    (() => {\n",
              "      let quickchartButtonEl =\n",
              "        document.querySelector('#df-3cc5c168-024b-4540-b9e5-a1d3fc680e0d button');\n",
              "      quickchartButtonEl.style.display =\n",
              "        google.colab.kernel.accessAllowed ? 'block' : 'none';\n",
              "    })();\n",
              "  </script>\n",
              "</div>\n",
              "\n",
              "    </div>\n",
              "  </div>\n"
            ],
            "application/vnd.google.colaboratory.intrinsic+json": {
              "type": "dataframe",
              "summary": "{\n  \"name\": \"cosine_sim_df\",\n  \"rows\": 7,\n  \"fields\": [\n    {\n      \"column\": \"name\",\n      \"properties\": {\n        \"dtype\": \"string\",\n        \"num_unique_values\": 7,\n        \"samples\": [\n          \"Denpa Kyoushi (TV)\",\n          \"Mienu Me ni Kanjita Kumotoriyama no Asahi\",\n          \"Kiteretsu Daihyakka\"\n        ],\n        \"semantic_type\": \"\",\n        \"description\": \"\"\n      }\n    },\n    {\n      \"column\": \"Miracle Shoujo Limit-chan\",\n      \"properties\": {\n        \"dtype\": \"number\",\n        \"std\": 0.10876689614598549,\n        \"min\": 0.0,\n        \"max\": 0.2630269029724763,\n        \"num_unique_values\": 6,\n        \"samples\": [\n          0.2630269029724763,\n          0.0,\n          0.23770902834232738\n        ],\n        \"semantic_type\": \"\",\n        \"description\": \"\"\n      }\n    },\n    {\n      \"column\": \"Puchi Puri Yuushi\",\n      \"properties\": {\n        \"dtype\": \"number\",\n        \"std\": 0.06310814172031558,\n        \"min\": 0.0,\n        \"max\": 0.17873043464325034,\n        \"num_unique_values\": 6,\n        \"samples\": [\n          0.10499542481830924,\n          0.0,\n          0.0908537552879053\n        ],\n        \"semantic_type\": \"\",\n        \"description\": \"\"\n      }\n    },\n    {\n      \"column\": \"Toki no Daichi: Hana no Oukoku no Majo\",\n      \"properties\": {\n        \"dtype\": \"number\",\n        \"std\": 0.11450512218813155,\n        \"min\": 0.0,\n        \"max\": 0.3029520771528602,\n        \"num_unique_values\": 2,\n        \"samples\": [\n          0.3029520771528602,\n          0.0\n        ],\n        \"semantic_type\": \"\",\n        \"description\": \"\"\n      }\n    },\n    {\n      \"column\": \"Lime-iro Senkitan: Nankoku Yume Roman\",\n      \"properties\": {\n        \"dtype\": \"number\",\n        \"std\": 0.1538911764277537,\n        \"min\": 0.0,\n        \"max\": 0.43497663092152955,\n        \"num_unique_values\": 5,\n        \"samples\": [\n          0.0,\n          0.09378752039661348\n        ],\n        \"semantic_type\": \"\",\n        \"description\": \"\"\n      }\n    },\n    {\n      \"column\": \"Minihams no Kekkon Song\",\n      \"properties\": {\n        \"dtype\": \"number\",\n        \"std\": 0.17617206401018856,\n        \"min\": 0.0,\n        \"max\": 0.46610746932791136,\n        \"num_unique_values\": 2,\n        \"samples\": [\n          0.46610746932791136,\n          0.0\n        ],\n        \"semantic_type\": \"\",\n        \"description\": \"\"\n      }\n    }\n  ]\n}"
            }
          },
          "metadata": {},
          "execution_count": 162
        }
      ]
    },
    {
      "cell_type": "markdown",
      "source": [
        "Output diatas adalah tampilan dari dataframe yang telah dibuat."
      ],
      "metadata": {
        "id": "sCV4WlTD38NA"
      }
    },
    {
      "cell_type": "code",
      "source": [
        "def anime_recommendations(name, similarity_data=cosine_sim_df, items=anime_df[['name', 'genre']], k=5):\n",
        "    index = similarity_data.loc[:,name].to_numpy().argpartition(range(-1, -k, -1))\n",
        "    closest_data = similarity_data.columns[index[-1:-(k+2):-1]]\n",
        "    closest_data = closest_data.drop(name, errors='ignore')\n",
        "\n",
        "    return pd.DataFrame(closest_data).merge(items).head(k)\n"
      ],
      "metadata": {
        "id": "DRDsn9Rg39W2"
      },
      "execution_count": null,
      "outputs": []
    },
    {
      "cell_type": "markdown",
      "source": [
        "Function utama yang digunakan untuk pembuatan model Content Based telah berhasil dibuat"
      ],
      "metadata": {
        "id": "O4wDTq5E4M90"
      }
    },
    {
      "cell_type": "markdown",
      "source": [
        "### Result"
      ],
      "metadata": {
        "id": "NeCEr2xs4Ynn"
      }
    },
    {
      "cell_type": "code",
      "source": [
        "anime_df[anime_df.name.eq('Naruto')]"
      ],
      "metadata": {
        "colab": {
          "base_uri": "https://localhost:8080/",
          "height": 101
        },
        "id": "VsEV8lEJ4c5W",
        "outputId": "e63ddd62-dfa2-4eba-b620-e32b300a84d9"
      },
      "execution_count": null,
      "outputs": [
        {
          "output_type": "execute_result",
          "data": {
            "text/plain": [
              "     anime_id    name                                              genre type  \\\n",
              "841        20  Naruto  Action, Comedy, Martial Arts, Shounen, Super P...   TV   \n",
              "\n",
              "    episodes  rating  members  \n",
              "841      220    7.81   683297  "
            ],
            "text/html": [
              "\n",
              "  <div id=\"df-d8ca949e-0b90-4f0e-81ab-c28c6bec6283\" class=\"colab-df-container\">\n",
              "    <div>\n",
              "<style scoped>\n",
              "    .dataframe tbody tr th:only-of-type {\n",
              "        vertical-align: middle;\n",
              "    }\n",
              "\n",
              "    .dataframe tbody tr th {\n",
              "        vertical-align: top;\n",
              "    }\n",
              "\n",
              "    .dataframe thead th {\n",
              "        text-align: right;\n",
              "    }\n",
              "</style>\n",
              "<table border=\"1\" class=\"dataframe\">\n",
              "  <thead>\n",
              "    <tr style=\"text-align: right;\">\n",
              "      <th></th>\n",
              "      <th>anime_id</th>\n",
              "      <th>name</th>\n",
              "      <th>genre</th>\n",
              "      <th>type</th>\n",
              "      <th>episodes</th>\n",
              "      <th>rating</th>\n",
              "      <th>members</th>\n",
              "    </tr>\n",
              "  </thead>\n",
              "  <tbody>\n",
              "    <tr>\n",
              "      <th>841</th>\n",
              "      <td>20</td>\n",
              "      <td>Naruto</td>\n",
              "      <td>Action, Comedy, Martial Arts, Shounen, Super P...</td>\n",
              "      <td>TV</td>\n",
              "      <td>220</td>\n",
              "      <td>7.81</td>\n",
              "      <td>683297</td>\n",
              "    </tr>\n",
              "  </tbody>\n",
              "</table>\n",
              "</div>\n",
              "    <div class=\"colab-df-buttons\">\n",
              "\n",
              "  <div class=\"colab-df-container\">\n",
              "    <button class=\"colab-df-convert\" onclick=\"convertToInteractive('df-d8ca949e-0b90-4f0e-81ab-c28c6bec6283')\"\n",
              "            title=\"Convert this dataframe to an interactive table.\"\n",
              "            style=\"display:none;\">\n",
              "\n",
              "  <svg xmlns=\"http://www.w3.org/2000/svg\" height=\"24px\" viewBox=\"0 -960 960 960\">\n",
              "    <path d=\"M120-120v-720h720v720H120Zm60-500h600v-160H180v160Zm220 220h160v-160H400v160Zm0 220h160v-160H400v160ZM180-400h160v-160H180v160Zm440 0h160v-160H620v160ZM180-180h160v-160H180v160Zm440 0h160v-160H620v160Z\"/>\n",
              "  </svg>\n",
              "    </button>\n",
              "\n",
              "  <style>\n",
              "    .colab-df-container {\n",
              "      display:flex;\n",
              "      gap: 12px;\n",
              "    }\n",
              "\n",
              "    .colab-df-convert {\n",
              "      background-color: #E8F0FE;\n",
              "      border: none;\n",
              "      border-radius: 50%;\n",
              "      cursor: pointer;\n",
              "      display: none;\n",
              "      fill: #1967D2;\n",
              "      height: 32px;\n",
              "      padding: 0 0 0 0;\n",
              "      width: 32px;\n",
              "    }\n",
              "\n",
              "    .colab-df-convert:hover {\n",
              "      background-color: #E2EBFA;\n",
              "      box-shadow: 0px 1px 2px rgba(60, 64, 67, 0.3), 0px 1px 3px 1px rgba(60, 64, 67, 0.15);\n",
              "      fill: #174EA6;\n",
              "    }\n",
              "\n",
              "    .colab-df-buttons div {\n",
              "      margin-bottom: 4px;\n",
              "    }\n",
              "\n",
              "    [theme=dark] .colab-df-convert {\n",
              "      background-color: #3B4455;\n",
              "      fill: #D2E3FC;\n",
              "    }\n",
              "\n",
              "    [theme=dark] .colab-df-convert:hover {\n",
              "      background-color: #434B5C;\n",
              "      box-shadow: 0px 1px 3px 1px rgba(0, 0, 0, 0.15);\n",
              "      filter: drop-shadow(0px 1px 2px rgba(0, 0, 0, 0.3));\n",
              "      fill: #FFFFFF;\n",
              "    }\n",
              "  </style>\n",
              "\n",
              "    <script>\n",
              "      const buttonEl =\n",
              "        document.querySelector('#df-d8ca949e-0b90-4f0e-81ab-c28c6bec6283 button.colab-df-convert');\n",
              "      buttonEl.style.display =\n",
              "        google.colab.kernel.accessAllowed ? 'block' : 'none';\n",
              "\n",
              "      async function convertToInteractive(key) {\n",
              "        const element = document.querySelector('#df-d8ca949e-0b90-4f0e-81ab-c28c6bec6283');\n",
              "        const dataTable =\n",
              "          await google.colab.kernel.invokeFunction('convertToInteractive',\n",
              "                                                    [key], {});\n",
              "        if (!dataTable) return;\n",
              "\n",
              "        const docLinkHtml = 'Like what you see? Visit the ' +\n",
              "          '<a target=\"_blank\" href=https://colab.research.google.com/notebooks/data_table.ipynb>data table notebook</a>'\n",
              "          + ' to learn more about interactive tables.';\n",
              "        element.innerHTML = '';\n",
              "        dataTable['output_type'] = 'display_data';\n",
              "        await google.colab.output.renderOutput(dataTable, element);\n",
              "        const docLink = document.createElement('div');\n",
              "        docLink.innerHTML = docLinkHtml;\n",
              "        element.appendChild(docLink);\n",
              "      }\n",
              "    </script>\n",
              "  </div>\n",
              "\n",
              "\n",
              "    </div>\n",
              "  </div>\n"
            ],
            "application/vnd.google.colaboratory.intrinsic+json": {
              "type": "dataframe",
              "summary": "{\n  \"name\": \"anime_df[anime_df\",\n  \"rows\": 1,\n  \"fields\": [\n    {\n      \"column\": \"anime_id\",\n      \"properties\": {\n        \"dtype\": \"number\",\n        \"std\": null,\n        \"min\": 20,\n        \"max\": 20,\n        \"num_unique_values\": 1,\n        \"samples\": [\n          20\n        ],\n        \"semantic_type\": \"\",\n        \"description\": \"\"\n      }\n    },\n    {\n      \"column\": \"name\",\n      \"properties\": {\n        \"dtype\": \"string\",\n        \"num_unique_values\": 1,\n        \"samples\": [\n          \"Naruto\"\n        ],\n        \"semantic_type\": \"\",\n        \"description\": \"\"\n      }\n    },\n    {\n      \"column\": \"genre\",\n      \"properties\": {\n        \"dtype\": \"string\",\n        \"num_unique_values\": 1,\n        \"samples\": [\n          \"Action, Comedy, Martial Arts, Shounen, Super Power\"\n        ],\n        \"semantic_type\": \"\",\n        \"description\": \"\"\n      }\n    },\n    {\n      \"column\": \"type\",\n      \"properties\": {\n        \"dtype\": \"string\",\n        \"num_unique_values\": 1,\n        \"samples\": [\n          \"TV\"\n        ],\n        \"semantic_type\": \"\",\n        \"description\": \"\"\n      }\n    },\n    {\n      \"column\": \"episodes\",\n      \"properties\": {\n        \"dtype\": \"string\",\n        \"num_unique_values\": 1,\n        \"samples\": [\n          \"220\"\n        ],\n        \"semantic_type\": \"\",\n        \"description\": \"\"\n      }\n    },\n    {\n      \"column\": \"rating\",\n      \"properties\": {\n        \"dtype\": \"number\",\n        \"std\": null,\n        \"min\": 7.81,\n        \"max\": 7.81,\n        \"num_unique_values\": 1,\n        \"samples\": [\n          7.81\n        ],\n        \"semantic_type\": \"\",\n        \"description\": \"\"\n      }\n    },\n    {\n      \"column\": \"members\",\n      \"properties\": {\n        \"dtype\": \"number\",\n        \"std\": null,\n        \"min\": 683297,\n        \"max\": 683297,\n        \"num_unique_values\": 1,\n        \"samples\": [\n          683297\n        ],\n        \"semantic_type\": \"\",\n        \"description\": \"\"\n      }\n    }\n  ]\n}"
            }
          },
          "metadata": {},
          "execution_count": 167
        }
      ]
    },
    {
      "cell_type": "markdown",
      "source": [
        "Untuk contoh atau simulasi penggunaan model, kita gunakan naruto yang ber-genre Action, Comedy, Martial Arts, Shounen, Super P..."
      ],
      "metadata": {
        "id": "R0t-h80f5JQI"
      }
    },
    {
      "cell_type": "code",
      "source": [
        "recommendations_result = anime_recommendations('Naruto')\n",
        "recommendations_result"
      ],
      "metadata": {
        "colab": {
          "base_uri": "https://localhost:8080/",
          "height": 226
        },
        "id": "KP_X5phU5XM2",
        "outputId": "4b8d884b-e4b4-41f2-fb87-4f7e13292581"
      },
      "execution_count": null,
      "outputs": [
        {
          "output_type": "execute_result",
          "data": {
            "text/plain": [
              "                                                name  \\\n",
              "0        Naruto: Shippuuden Movie 4 - The Lost Tower   \n",
              "1               Naruto Shippuuden: Sunny Side Battle   \n",
              "2  Boruto: Naruto the Movie - Naruto ga Hokage ni...   \n",
              "3                                        Naruto x UT   \n",
              "4                                 Naruto: Shippuuden   \n",
              "\n",
              "                                               genre  \n",
              "0  Action, Comedy, Martial Arts, Shounen, Super P...  \n",
              "1  Action, Comedy, Martial Arts, Shounen, Super P...  \n",
              "2  Action, Comedy, Martial Arts, Shounen, Super P...  \n",
              "3  Action, Comedy, Martial Arts, Shounen, Super P...  \n",
              "4  Action, Comedy, Martial Arts, Shounen, Super P...  "
            ],
            "text/html": [
              "\n",
              "  <div id=\"df-a25be8ba-ede4-42e2-aef0-f1ecb486f4a6\" class=\"colab-df-container\">\n",
              "    <div>\n",
              "<style scoped>\n",
              "    .dataframe tbody tr th:only-of-type {\n",
              "        vertical-align: middle;\n",
              "    }\n",
              "\n",
              "    .dataframe tbody tr th {\n",
              "        vertical-align: top;\n",
              "    }\n",
              "\n",
              "    .dataframe thead th {\n",
              "        text-align: right;\n",
              "    }\n",
              "</style>\n",
              "<table border=\"1\" class=\"dataframe\">\n",
              "  <thead>\n",
              "    <tr style=\"text-align: right;\">\n",
              "      <th></th>\n",
              "      <th>name</th>\n",
              "      <th>genre</th>\n",
              "    </tr>\n",
              "  </thead>\n",
              "  <tbody>\n",
              "    <tr>\n",
              "      <th>0</th>\n",
              "      <td>Naruto: Shippuuden Movie 4 - The Lost Tower</td>\n",
              "      <td>Action, Comedy, Martial Arts, Shounen, Super P...</td>\n",
              "    </tr>\n",
              "    <tr>\n",
              "      <th>1</th>\n",
              "      <td>Naruto Shippuuden: Sunny Side Battle</td>\n",
              "      <td>Action, Comedy, Martial Arts, Shounen, Super P...</td>\n",
              "    </tr>\n",
              "    <tr>\n",
              "      <th>2</th>\n",
              "      <td>Boruto: Naruto the Movie - Naruto ga Hokage ni...</td>\n",
              "      <td>Action, Comedy, Martial Arts, Shounen, Super P...</td>\n",
              "    </tr>\n",
              "    <tr>\n",
              "      <th>3</th>\n",
              "      <td>Naruto x UT</td>\n",
              "      <td>Action, Comedy, Martial Arts, Shounen, Super P...</td>\n",
              "    </tr>\n",
              "    <tr>\n",
              "      <th>4</th>\n",
              "      <td>Naruto: Shippuuden</td>\n",
              "      <td>Action, Comedy, Martial Arts, Shounen, Super P...</td>\n",
              "    </tr>\n",
              "  </tbody>\n",
              "</table>\n",
              "</div>\n",
              "    <div class=\"colab-df-buttons\">\n",
              "\n",
              "  <div class=\"colab-df-container\">\n",
              "    <button class=\"colab-df-convert\" onclick=\"convertToInteractive('df-a25be8ba-ede4-42e2-aef0-f1ecb486f4a6')\"\n",
              "            title=\"Convert this dataframe to an interactive table.\"\n",
              "            style=\"display:none;\">\n",
              "\n",
              "  <svg xmlns=\"http://www.w3.org/2000/svg\" height=\"24px\" viewBox=\"0 -960 960 960\">\n",
              "    <path d=\"M120-120v-720h720v720H120Zm60-500h600v-160H180v160Zm220 220h160v-160H400v160Zm0 220h160v-160H400v160ZM180-400h160v-160H180v160Zm440 0h160v-160H620v160ZM180-180h160v-160H180v160Zm440 0h160v-160H620v160Z\"/>\n",
              "  </svg>\n",
              "    </button>\n",
              "\n",
              "  <style>\n",
              "    .colab-df-container {\n",
              "      display:flex;\n",
              "      gap: 12px;\n",
              "    }\n",
              "\n",
              "    .colab-df-convert {\n",
              "      background-color: #E8F0FE;\n",
              "      border: none;\n",
              "      border-radius: 50%;\n",
              "      cursor: pointer;\n",
              "      display: none;\n",
              "      fill: #1967D2;\n",
              "      height: 32px;\n",
              "      padding: 0 0 0 0;\n",
              "      width: 32px;\n",
              "    }\n",
              "\n",
              "    .colab-df-convert:hover {\n",
              "      background-color: #E2EBFA;\n",
              "      box-shadow: 0px 1px 2px rgba(60, 64, 67, 0.3), 0px 1px 3px 1px rgba(60, 64, 67, 0.15);\n",
              "      fill: #174EA6;\n",
              "    }\n",
              "\n",
              "    .colab-df-buttons div {\n",
              "      margin-bottom: 4px;\n",
              "    }\n",
              "\n",
              "    [theme=dark] .colab-df-convert {\n",
              "      background-color: #3B4455;\n",
              "      fill: #D2E3FC;\n",
              "    }\n",
              "\n",
              "    [theme=dark] .colab-df-convert:hover {\n",
              "      background-color: #434B5C;\n",
              "      box-shadow: 0px 1px 3px 1px rgba(0, 0, 0, 0.15);\n",
              "      filter: drop-shadow(0px 1px 2px rgba(0, 0, 0, 0.3));\n",
              "      fill: #FFFFFF;\n",
              "    }\n",
              "  </style>\n",
              "\n",
              "    <script>\n",
              "      const buttonEl =\n",
              "        document.querySelector('#df-a25be8ba-ede4-42e2-aef0-f1ecb486f4a6 button.colab-df-convert');\n",
              "      buttonEl.style.display =\n",
              "        google.colab.kernel.accessAllowed ? 'block' : 'none';\n",
              "\n",
              "      async function convertToInteractive(key) {\n",
              "        const element = document.querySelector('#df-a25be8ba-ede4-42e2-aef0-f1ecb486f4a6');\n",
              "        const dataTable =\n",
              "          await google.colab.kernel.invokeFunction('convertToInteractive',\n",
              "                                                    [key], {});\n",
              "        if (!dataTable) return;\n",
              "\n",
              "        const docLinkHtml = 'Like what you see? Visit the ' +\n",
              "          '<a target=\"_blank\" href=https://colab.research.google.com/notebooks/data_table.ipynb>data table notebook</a>'\n",
              "          + ' to learn more about interactive tables.';\n",
              "        element.innerHTML = '';\n",
              "        dataTable['output_type'] = 'display_data';\n",
              "        await google.colab.output.renderOutput(dataTable, element);\n",
              "        const docLink = document.createElement('div');\n",
              "        docLink.innerHTML = docLinkHtml;\n",
              "        element.appendChild(docLink);\n",
              "      }\n",
              "    </script>\n",
              "  </div>\n",
              "\n",
              "\n",
              "<div id=\"df-5d8a87ec-4fe6-4575-8ed0-f61417fe6e98\">\n",
              "  <button class=\"colab-df-quickchart\" onclick=\"quickchart('df-5d8a87ec-4fe6-4575-8ed0-f61417fe6e98')\"\n",
              "            title=\"Suggest charts\"\n",
              "            style=\"display:none;\">\n",
              "\n",
              "<svg xmlns=\"http://www.w3.org/2000/svg\" height=\"24px\"viewBox=\"0 0 24 24\"\n",
              "     width=\"24px\">\n",
              "    <g>\n",
              "        <path d=\"M19 3H5c-1.1 0-2 .9-2 2v14c0 1.1.9 2 2 2h14c1.1 0 2-.9 2-2V5c0-1.1-.9-2-2-2zM9 17H7v-7h2v7zm4 0h-2V7h2v10zm4 0h-2v-4h2v4z\"/>\n",
              "    </g>\n",
              "</svg>\n",
              "  </button>\n",
              "\n",
              "<style>\n",
              "  .colab-df-quickchart {\n",
              "      --bg-color: #E8F0FE;\n",
              "      --fill-color: #1967D2;\n",
              "      --hover-bg-color: #E2EBFA;\n",
              "      --hover-fill-color: #174EA6;\n",
              "      --disabled-fill-color: #AAA;\n",
              "      --disabled-bg-color: #DDD;\n",
              "  }\n",
              "\n",
              "  [theme=dark] .colab-df-quickchart {\n",
              "      --bg-color: #3B4455;\n",
              "      --fill-color: #D2E3FC;\n",
              "      --hover-bg-color: #434B5C;\n",
              "      --hover-fill-color: #FFFFFF;\n",
              "      --disabled-bg-color: #3B4455;\n",
              "      --disabled-fill-color: #666;\n",
              "  }\n",
              "\n",
              "  .colab-df-quickchart {\n",
              "    background-color: var(--bg-color);\n",
              "    border: none;\n",
              "    border-radius: 50%;\n",
              "    cursor: pointer;\n",
              "    display: none;\n",
              "    fill: var(--fill-color);\n",
              "    height: 32px;\n",
              "    padding: 0;\n",
              "    width: 32px;\n",
              "  }\n",
              "\n",
              "  .colab-df-quickchart:hover {\n",
              "    background-color: var(--hover-bg-color);\n",
              "    box-shadow: 0 1px 2px rgba(60, 64, 67, 0.3), 0 1px 3px 1px rgba(60, 64, 67, 0.15);\n",
              "    fill: var(--button-hover-fill-color);\n",
              "  }\n",
              "\n",
              "  .colab-df-quickchart-complete:disabled,\n",
              "  .colab-df-quickchart-complete:disabled:hover {\n",
              "    background-color: var(--disabled-bg-color);\n",
              "    fill: var(--disabled-fill-color);\n",
              "    box-shadow: none;\n",
              "  }\n",
              "\n",
              "  .colab-df-spinner {\n",
              "    border: 2px solid var(--fill-color);\n",
              "    border-color: transparent;\n",
              "    border-bottom-color: var(--fill-color);\n",
              "    animation:\n",
              "      spin 1s steps(1) infinite;\n",
              "  }\n",
              "\n",
              "  @keyframes spin {\n",
              "    0% {\n",
              "      border-color: transparent;\n",
              "      border-bottom-color: var(--fill-color);\n",
              "      border-left-color: var(--fill-color);\n",
              "    }\n",
              "    20% {\n",
              "      border-color: transparent;\n",
              "      border-left-color: var(--fill-color);\n",
              "      border-top-color: var(--fill-color);\n",
              "    }\n",
              "    30% {\n",
              "      border-color: transparent;\n",
              "      border-left-color: var(--fill-color);\n",
              "      border-top-color: var(--fill-color);\n",
              "      border-right-color: var(--fill-color);\n",
              "    }\n",
              "    40% {\n",
              "      border-color: transparent;\n",
              "      border-right-color: var(--fill-color);\n",
              "      border-top-color: var(--fill-color);\n",
              "    }\n",
              "    60% {\n",
              "      border-color: transparent;\n",
              "      border-right-color: var(--fill-color);\n",
              "    }\n",
              "    80% {\n",
              "      border-color: transparent;\n",
              "      border-right-color: var(--fill-color);\n",
              "      border-bottom-color: var(--fill-color);\n",
              "    }\n",
              "    90% {\n",
              "      border-color: transparent;\n",
              "      border-bottom-color: var(--fill-color);\n",
              "    }\n",
              "  }\n",
              "</style>\n",
              "\n",
              "  <script>\n",
              "    async function quickchart(key) {\n",
              "      const quickchartButtonEl =\n",
              "        document.querySelector('#' + key + ' button');\n",
              "      quickchartButtonEl.disabled = true;  // To prevent multiple clicks.\n",
              "      quickchartButtonEl.classList.add('colab-df-spinner');\n",
              "      try {\n",
              "        const charts = await google.colab.kernel.invokeFunction(\n",
              "            'suggestCharts', [key], {});\n",
              "      } catch (error) {\n",
              "        console.error('Error during call to suggestCharts:', error);\n",
              "      }\n",
              "      quickchartButtonEl.classList.remove('colab-df-spinner');\n",
              "      quickchartButtonEl.classList.add('colab-df-quickchart-complete');\n",
              "    }\n",
              "    (() => {\n",
              "      let quickchartButtonEl =\n",
              "        document.querySelector('#df-5d8a87ec-4fe6-4575-8ed0-f61417fe6e98 button');\n",
              "      quickchartButtonEl.style.display =\n",
              "        google.colab.kernel.accessAllowed ? 'block' : 'none';\n",
              "    })();\n",
              "  </script>\n",
              "</div>\n",
              "\n",
              "  <div id=\"id_b8e23a01-9270-4041-960e-d9fd8af6806e\">\n",
              "    <style>\n",
              "      .colab-df-generate {\n",
              "        background-color: #E8F0FE;\n",
              "        border: none;\n",
              "        border-radius: 50%;\n",
              "        cursor: pointer;\n",
              "        display: none;\n",
              "        fill: #1967D2;\n",
              "        height: 32px;\n",
              "        padding: 0 0 0 0;\n",
              "        width: 32px;\n",
              "      }\n",
              "\n",
              "      .colab-df-generate:hover {\n",
              "        background-color: #E2EBFA;\n",
              "        box-shadow: 0px 1px 2px rgba(60, 64, 67, 0.3), 0px 1px 3px 1px rgba(60, 64, 67, 0.15);\n",
              "        fill: #174EA6;\n",
              "      }\n",
              "\n",
              "      [theme=dark] .colab-df-generate {\n",
              "        background-color: #3B4455;\n",
              "        fill: #D2E3FC;\n",
              "      }\n",
              "\n",
              "      [theme=dark] .colab-df-generate:hover {\n",
              "        background-color: #434B5C;\n",
              "        box-shadow: 0px 1px 3px 1px rgba(0, 0, 0, 0.15);\n",
              "        filter: drop-shadow(0px 1px 2px rgba(0, 0, 0, 0.3));\n",
              "        fill: #FFFFFF;\n",
              "      }\n",
              "    </style>\n",
              "    <button class=\"colab-df-generate\" onclick=\"generateWithVariable('recommendations_result')\"\n",
              "            title=\"Generate code using this dataframe.\"\n",
              "            style=\"display:none;\">\n",
              "\n",
              "  <svg xmlns=\"http://www.w3.org/2000/svg\" height=\"24px\"viewBox=\"0 0 24 24\"\n",
              "       width=\"24px\">\n",
              "    <path d=\"M7,19H8.4L18.45,9,17,7.55,7,17.6ZM5,21V16.75L18.45,3.32a2,2,0,0,1,2.83,0l1.4,1.43a1.91,1.91,0,0,1,.58,1.4,1.91,1.91,0,0,1-.58,1.4L9.25,21ZM18.45,9,17,7.55Zm-12,3A5.31,5.31,0,0,0,4.9,8.1,5.31,5.31,0,0,0,1,6.5,5.31,5.31,0,0,0,4.9,4.9,5.31,5.31,0,0,0,6.5,1,5.31,5.31,0,0,0,8.1,4.9,5.31,5.31,0,0,0,12,6.5,5.46,5.46,0,0,0,6.5,12Z\"/>\n",
              "  </svg>\n",
              "    </button>\n",
              "    <script>\n",
              "      (() => {\n",
              "      const buttonEl =\n",
              "        document.querySelector('#id_b8e23a01-9270-4041-960e-d9fd8af6806e button.colab-df-generate');\n",
              "      buttonEl.style.display =\n",
              "        google.colab.kernel.accessAllowed ? 'block' : 'none';\n",
              "\n",
              "      buttonEl.onclick = () => {\n",
              "        google.colab.notebook.generateWithVariable('recommendations_result');\n",
              "      }\n",
              "      })();\n",
              "    </script>\n",
              "  </div>\n",
              "\n",
              "    </div>\n",
              "  </div>\n"
            ],
            "application/vnd.google.colaboratory.intrinsic+json": {
              "type": "dataframe",
              "variable_name": "recommendations_result",
              "summary": "{\n  \"name\": \"recommendations_result\",\n  \"rows\": 5,\n  \"fields\": [\n    {\n      \"column\": \"name\",\n      \"properties\": {\n        \"dtype\": \"string\",\n        \"num_unique_values\": 5,\n        \"samples\": [\n          \"Naruto Shippuuden: Sunny Side Battle\",\n          \"Naruto: Shippuuden\",\n          \"Boruto: Naruto the Movie - Naruto ga Hokage ni Natta Hi\"\n        ],\n        \"semantic_type\": \"\",\n        \"description\": \"\"\n      }\n    },\n    {\n      \"column\": \"genre\",\n      \"properties\": {\n        \"dtype\": \"category\",\n        \"num_unique_values\": 1,\n        \"samples\": [\n          \"Action, Comedy, Martial Arts, Shounen, Super Power\"\n        ],\n        \"semantic_type\": \"\",\n        \"description\": \"\"\n      }\n    }\n  ]\n}"
            }
          },
          "metadata": {},
          "execution_count": 168
        }
      ]
    },
    {
      "cell_type": "markdown",
      "source": [
        "\n",
        "Berikut ini adalah hasil dari Top-N Recommendation menggunakan Content-Based Filterting. Proses penggunaan model berhasil dilakukan dan model dapat memberikan hasil rekomendasi berdasarkan input yang diberikan.\n",
        "\n",
        "Pada contoh diatas, model berhasil memberikan rekomendasi anime yang juga ber-genre Action, comedy, martial berdasarkan input yang diberikan, yaitu Naruto yang juga bergenre Action, comedy, martial\n",
        "\n",
        "**Model telah dapat berfungsi dengan baik.**\n"
      ],
      "metadata": {
        "id": "bbv4XAYx6ENv"
      }
    },
    {
      "cell_type": "markdown",
      "source": [
        "\n",
        "## Collaborative Filtering\n",
        "\n",
        "Collaborative Filtering adalah teknik yang digunakan dalam sistem rekomendasi untuk memberikan saran kepada pengguna berdasarkan preferensi atau perilaku pengguna lain yang memiliki kesamaan. Teknik ini mengumpulkan dan menganalisis sejumlah besar informasi tentang perilaku pengguna, aktivitas, atau preferensi dan memprediksi apa yang pengguna akan suka berdasarkan kesamaan dengan pengguna lain.\n",
        "\n",
        "Kelebihan Collaborative Filtering:\n",
        "\n",
        "  * Diversifikasi Rekomendasi: Dapat memberikan rekomendasi yang beragam karena didasarkan pada preferensi dari banyak pengguna.\n",
        "  * Tidak Bergantung pada Konten: Tidak memerlukan pengetahuan tentang konten item, sehingga dapat bekerja dengan item yang memiliki sedikit atau tanpa data konten sama sekali.\n",
        "\n",
        "Kekurangan Collaborative Filtering:\n",
        "\n",
        "   \n",
        "  * Masalah Cold Start: Sulit untuk memberikan rekomendasi kepada pengguna baru atau untuk item baru yang belum memiliki data interaksi.\n",
        "  * Scalability: Dapat menjadi tantangan ketika jumlah pengguna dan item sangat besar karena membutuhkan komputasi yang intensif.\n",
        "  * Collaborative Filtering bekerja dengan baik ketika ada cukup data dari pengguna, tetapi bisa menjadi kurang efektif jika data tersebut jarang atau tidak lengkap. Oleh karena itu, sering kali digunakan dalam kombinasi dengan teknik lain untuk meningkatkan kinerja sistem rekomendasi.\n",
        "\n"
      ],
      "metadata": {
        "id": "NPCRQVuP6YFf"
      }
    },
    {
      "cell_type": "markdown",
      "source": [
        "### Modeling\n",
        "\n"
      ],
      "metadata": {
        "id": "VRXsG9DZ6b4F"
      }
    },
    {
      "cell_type": "code",
      "source": [
        "class RecommenderNet(Model):\n",
        "\n",
        "  def __init__(self, num_users, num_anime, embedding_size, **kwargs):\n",
        "    super(RecommenderNet, self).__init__(**kwargs)\n",
        "    self.num_users = num_users\n",
        "    self.num_anime = num_anime\n",
        "    self.embedding_size = embedding_size\n",
        "\n",
        "    self.user_embedding = layers.Embedding(\n",
        "        num_users,\n",
        "        embedding_size,\n",
        "        embeddings_initializer = 'he_normal',\n",
        "        embeddings_regularizer = keras.regularizers.l2(1e-6)\n",
        "    )\n",
        "    self.user_bias = layers.Embedding(num_users, 1)\n",
        "\n",
        "    self.anime_embedding = layers.Embedding(\n",
        "        num_anime,\n",
        "        embedding_size,\n",
        "        embeddings_initializer = 'he_normal',\n",
        "        embeddings_regularizer = keras.regularizers.l2(1e-6)\n",
        "    )\n",
        "\n",
        "    self.anime_bias = layers.Embedding(num_anime, 1)\n",
        "\n",
        "  def call(self, inputs):\n",
        "    user_vector = self.user_embedding(inputs[:,0])\n",
        "    user_bias = self.user_bias(inputs[:, 0])\n",
        "    anime_vector = self.anime_embedding(inputs[:, 1])\n",
        "    anime_bias = self.anime_bias(inputs[:, 1])\n",
        "\n",
        "    dot_user_anime = tensorflow.tensordot(user_vector, anime_vector, 2)\n",
        "\n",
        "    x = dot_user_anime + user_bias + anime_bias\n",
        "\n",
        "    return tensorflow.nn.sigmoid(x)"
      ],
      "metadata": {
        "id": "h7FsmnHi6nIY"
      },
      "execution_count": null,
      "outputs": []
    },
    {
      "cell_type": "markdown",
      "source": [
        "Function utama yang digunakan untuk pembuatan model Collaborative Filtering telah berhasil dibuat"
      ],
      "metadata": {
        "id": "0I2m3t0c7Ery"
      }
    },
    {
      "cell_type": "code",
      "source": [
        "model = RecommenderNet(num_users, num_anime, 50) # inisialisasi model\n",
        "model.compile(\n",
        "    loss = keras.losses.BinaryCrossentropy(),\n",
        "    optimizer = keras.optimizers.Adam(learning_rate=0.001),\n",
        "    metrics=[keras.metrics.RootMeanSquaredError()]\n",
        ")"
      ],
      "metadata": {
        "id": "DEAyiZom7Fc3"
      },
      "execution_count": null,
      "outputs": []
    },
    {
      "cell_type": "markdown",
      "source": [
        "Inisiasi model telah berhasil dilakukan"
      ],
      "metadata": {
        "id": "wR_7Y6Uz7PRZ"
      }
    },
    {
      "cell_type": "code",
      "source": [
        "early_stopper = EarlyStopping(monitor='val_root_mean_squared_error',\n",
        "                              patience=5,\n",
        "                              verbose=1,\n",
        "                              restore_best_weights=True)"
      ],
      "metadata": {
        "id": "k6I08bzV7Qs-"
      },
      "execution_count": null,
      "outputs": []
    },
    {
      "cell_type": "markdown",
      "source": [
        "nisiasi Callback Early Stopper yang akan memantau proses training model. Model akan berhenti jika val_root_mean_squared_error tidak mengalami penurunan lagi selama 5 epochs. Setelah berhenti, model pada epoch tertentu yang memiliki performa terbaik akan dipertahankan"
      ],
      "metadata": {
        "id": "R9hgueQk7UaV"
      }
    },
    {
      "cell_type": "code",
      "source": [
        "history = model.fit(\n",
        "          x = x_train,\n",
        "          y = y_train,\n",
        "          batch_size = 8,\n",
        "          epochs = 100,\n",
        "          callbacks = [early_stopper],\n",
        "          validation_data = (x_val, y_val)\n",
        ")"
      ],
      "metadata": {
        "colab": {
          "base_uri": "https://localhost:8080/"
        },
        "id": "N6yjO-bt7Ysh",
        "outputId": "96c8b014-2297-4104-ca90-a647a7566e76"
      },
      "execution_count": null,
      "outputs": [
        {
          "output_type": "stream",
          "name": "stdout",
          "text": [
            "Epoch 1/100\n",
            "\u001b[1m8413/8413\u001b[0m \u001b[32m━━━━━━━━━━━━━━━━━━━━\u001b[0m\u001b[37m\u001b[0m \u001b[1m33s\u001b[0m 4ms/step - loss: 0.6000 - root_mean_squared_error: 0.2275 - val_loss: 0.5299 - val_root_mean_squared_error: 0.1491\n",
            "Epoch 2/100\n",
            "\u001b[1m8413/8413\u001b[0m \u001b[32m━━━━━━━━━━━━━━━━━━━━\u001b[0m\u001b[37m\u001b[0m \u001b[1m41s\u001b[0m 4ms/step - loss: 0.5262 - root_mean_squared_error: 0.1434 - val_loss: 0.5236 - val_root_mean_squared_error: 0.1416\n",
            "Epoch 3/100\n",
            "\u001b[1m8413/8413\u001b[0m \u001b[32m━━━━━━━━━━━━━━━━━━━━\u001b[0m\u001b[37m\u001b[0m \u001b[1m40s\u001b[0m 4ms/step - loss: 0.5227 - root_mean_squared_error: 0.1374 - val_loss: 0.5227 - val_root_mean_squared_error: 0.1406\n",
            "Epoch 4/100\n",
            "\u001b[1m8413/8413\u001b[0m \u001b[32m━━━━━━━━━━━━━━━━━━━━\u001b[0m\u001b[37m\u001b[0m \u001b[1m42s\u001b[0m 4ms/step - loss: 0.5206 - root_mean_squared_error: 0.1349 - val_loss: 0.5214 - val_root_mean_squared_error: 0.1388\n",
            "Epoch 5/100\n",
            "\u001b[1m8413/8413\u001b[0m \u001b[32m━━━━━━━━━━━━━━━━━━━━\u001b[0m\u001b[37m\u001b[0m \u001b[1m42s\u001b[0m 4ms/step - loss: 0.5180 - root_mean_squared_error: 0.1330 - val_loss: 0.5214 - val_root_mean_squared_error: 0.1388\n",
            "Epoch 6/100\n",
            "\u001b[1m8413/8413\u001b[0m \u001b[32m━━━━━━━━━━━━━━━━━━━━\u001b[0m\u001b[37m\u001b[0m \u001b[1m39s\u001b[0m 4ms/step - loss: 0.5180 - root_mean_squared_error: 0.1332 - val_loss: 0.5214 - val_root_mean_squared_error: 0.1390\n",
            "Epoch 7/100\n",
            "\u001b[1m8413/8413\u001b[0m \u001b[32m━━━━━━━━━━━━━━━━━━━━\u001b[0m\u001b[37m\u001b[0m \u001b[1m41s\u001b[0m 4ms/step - loss: 0.5169 - root_mean_squared_error: 0.1320 - val_loss: 0.5217 - val_root_mean_squared_error: 0.1393\n",
            "Epoch 8/100\n",
            "\u001b[1m8413/8413\u001b[0m \u001b[32m━━━━━━━━━━━━━━━━━━━━\u001b[0m\u001b[37m\u001b[0m \u001b[1m31s\u001b[0m 4ms/step - loss: 0.5168 - root_mean_squared_error: 0.1304 - val_loss: 0.5217 - val_root_mean_squared_error: 0.1395\n",
            "Epoch 9/100\n",
            "\u001b[1m8413/8413\u001b[0m \u001b[32m━━━━━━━━━━━━━━━━━━━━\u001b[0m\u001b[37m\u001b[0m \u001b[1m31s\u001b[0m 4ms/step - loss: 0.5165 - root_mean_squared_error: 0.1311 - val_loss: 0.5206 - val_root_mean_squared_error: 0.1379\n",
            "Epoch 10/100\n",
            "\u001b[1m8413/8413\u001b[0m \u001b[32m━━━━━━━━━━━━━━━━━━━━\u001b[0m\u001b[37m\u001b[0m \u001b[1m41s\u001b[0m 4ms/step - loss: 0.5156 - root_mean_squared_error: 0.1301 - val_loss: 0.5212 - val_root_mean_squared_error: 0.1385\n",
            "Epoch 11/100\n",
            "\u001b[1m8413/8413\u001b[0m \u001b[32m━━━━━━━━━━━━━━━━━━━━\u001b[0m\u001b[37m\u001b[0m \u001b[1m41s\u001b[0m 4ms/step - loss: 0.5157 - root_mean_squared_error: 0.1300 - val_loss: 0.5209 - val_root_mean_squared_error: 0.1385\n",
            "Epoch 12/100\n",
            "\u001b[1m8413/8413\u001b[0m \u001b[32m━━━━━━━━━━━━━━━━━━━━\u001b[0m\u001b[37m\u001b[0m \u001b[1m43s\u001b[0m 4ms/step - loss: 0.5178 - root_mean_squared_error: 0.1301 - val_loss: 0.5210 - val_root_mean_squared_error: 0.1385\n",
            "Epoch 13/100\n",
            "\u001b[1m8413/8413\u001b[0m \u001b[32m━━━━━━━━━━━━━━━━━━━━\u001b[0m\u001b[37m\u001b[0m \u001b[1m38s\u001b[0m 4ms/step - loss: 0.5150 - root_mean_squared_error: 0.1296 - val_loss: 0.5213 - val_root_mean_squared_error: 0.1391\n",
            "Epoch 14/100\n",
            "\u001b[1m8413/8413\u001b[0m \u001b[32m━━━━━━━━━━━━━━━━━━━━\u001b[0m\u001b[37m\u001b[0m \u001b[1m31s\u001b[0m 4ms/step - loss: 0.5141 - root_mean_squared_error: 0.1280 - val_loss: 0.5211 - val_root_mean_squared_error: 0.1389\n",
            "Epoch 14: early stopping\n",
            "Restoring model weights from the end of the best epoch: 9.\n"
          ]
        }
      ]
    },
    {
      "cell_type": "markdown",
      "source": [
        "### Result"
      ],
      "metadata": {
        "id": "EyOyLuKQyjBM"
      }
    },
    {
      "cell_type": "code",
      "source": [
        "user_id = rating_df.user_id.sample(1).iloc[0]\n",
        "anime_reviewed_by_user = rating_df[rating_df.user_id == user_id]\n",
        "anime_not_reviewed = anime_df[~anime_df['anime_id'].isin(anime_reviewed_by_user.anime_id.values)]['anime_id']\n",
        "anime_not_reviewed = list(\n",
        "    set(anime_not_reviewed)\n",
        "    .intersection(set(anime_to_anime.keys()))\n",
        ")\n",
        "anime_not_reviewed = [[anime_to_anime.get(x)] for x in anime_not_reviewed]\n",
        "user_encoder = user_to_user.get(user_id)\n",
        "user_anime_array = np.hstack(\n",
        "    ([[user_encoder]] * len(anime_not_reviewed), anime_not_reviewed)\n",
        ")"
      ],
      "metadata": {
        "id": "3cQW382jydGx"
      },
      "execution_count": null,
      "outputs": []
    },
    {
      "cell_type": "code",
      "source": [
        "rating = model.predict(user_anime_array).flatten()\n",
        "\n",
        "top_rating_indices = rating.argsort()[-10:][::-1]\n",
        "recommended_anime_ids = [\n",
        "    anime_encode_to_anime.get(anime_not_reviewed[x][0]) for x in top_rating_indices\n",
        "]\n",
        "\n",
        "print('List recommendations anime untuk users : {}'.format(user_id))\n",
        "print('====' * 9)\n",
        "print('Anime dengan skor review tinggi dari user ')\n",
        "print('=====' * 8)\n",
        "\n",
        "top_anime_user = (\n",
        "    anime_reviewed_by_user.sort_values(\n",
        "        by = 'rating',\n",
        "        ascending=False\n",
        "    )\n",
        "    .head(5)\n",
        "    .anime_id.values\n",
        ")\n",
        "\n",
        "anime_df_rows = anime_df[anime_df['anime_id'].isin(top_anime_user)]\n",
        "for row in anime_df_rows.itertuples():\n",
        "    print(row.name, ':', row.genre)\n",
        "\n",
        "print('====' * 8)\n",
        "print('Top 10 anime recommendation')\n",
        "print('====' * 8)\n",
        "\n",
        "recommended_anime = anime_df[anime_df['anime_id'].isin(recommended_anime_ids)]\n",
        "for row in recommended_anime.itertuples():\n",
        "    print(row.name, ':', row.genre)"
      ],
      "metadata": {
        "colab": {
          "base_uri": "https://localhost:8080/"
        },
        "id": "4MQiM7w4yuNP",
        "outputId": "481b713b-4fa7-4564-99b6-181e3746ec01"
      },
      "execution_count": null,
      "outputs": [
        {
          "output_type": "stream",
          "name": "stdout",
          "text": [
            "\u001b[1m128/128\u001b[0m \u001b[32m━━━━━━━━━━━━━━━━━━━━\u001b[0m\u001b[37m\u001b[0m \u001b[1m1s\u001b[0m 2ms/step\n",
            "List recommendations anime untuk users : 492\n",
            "====================================\n",
            "Anime dengan skor review tinggi dari user \n",
            "========================================\n",
            "One Punch Man : Action, Comedy, Parody, Sci-Fi, Seinen, Super Power, Supernatural\n",
            "Ookami to Koushinryou II : Adventure, Fantasy, Historical, Romance\n",
            "Dragon Ball Z : Action, Adventure, Comedy, Fantasy, Martial Arts, Shounen, Super Power\n",
            "Darker than Black: Kuro no Keiyakusha : Action, Mystery, Sci-Fi, Super Power\n",
            "Sword Art Online : Action, Adventure, Fantasy, Game, Romance\n",
            "================================\n",
            "Top 10 anime recommendation\n",
            "================================\n",
            "Haibane Renmei : Drama, Fantasy, Mystery, Psychological, Slice of Life\n",
            "Gantz 2nd Stage : Action, Drama, Horror, Psychological, Sci-Fi, Supernatural\n",
            "Gantz : Action, Drama, Horror, Psychological, Sci-Fi, Supernatural\n",
            "Catand#039;s Eye : Action, Adventure, Comedy, Mystery, Romance\n",
            "Nissan Serena x One Piece 3D: Mugiwara Chase - Sennyuu!! Sauzando Sanii-gou : Comedy, Fantasy, Shounen\n",
            "Kuro no Sumika: Chronus : Psychological\n",
            "Mayoi Neko Overrun! Specials : Comedy, Ecchi\n",
            "Gilgamesh : Drama, Fantasy, Sci-Fi, Supernatural\n",
            "Rhea Gall Force : Action, Mecha, Military, Sci-Fi\n",
            "Shoujo Sect : Comedy, Hentai, Romance, Yuri\n"
          ]
        }
      ]
    },
    {
      "cell_type": "markdown",
      "source": [
        "\n",
        "Berikut ini adalah hasil dari Top-N Recommendation menggunakan Collaborative Filterting. Proses penggunaan model berhasil dilakukan dan model dapat memberikan hasil rekomendasi berdasarkan rating dari user tertentu dan memberikan rekomendasi anime lainnya yang cocok untuk user tersebut.\n",
        "\n",
        "Pada contoh diatas, model berhasil memberikan rekomendasi film untuk user nomor 18731 yang pernah memberikan skor rating tinggi ke film dan genre:\n",
        "\n",
        "  * One Punch Man : Action, Comedy, Parody, Sci-Fi, Seinen, Super Power, Supernatural\n",
        "  * Ookami to Koushinryou II : Adventure, Fantasy, Historical, Romance\n",
        "  * Dragon Ball Z : Action, Adventure, Comedy, Fantasy, Martial Arts, Shounen, Super Power\n",
        "  * Darker than Black: Kuro no Keiyakusha : Action, Mystery, Sci-Fi, Super Power\n",
        "  * Sword Art Online : Action, Adventure, Fantasy, Game, Romance\n",
        "\n",
        "Model memberikan 10 rekomendasi berupa film dengan genre:\n",
        "\n",
        "  * Haibane Renmei : Drama, Fantasy, Mystery, Psychological, Slice of Life\n",
        "  * Gantz 2nd Stage : Action, Drama, Horror, Psychological, Sci-Fi, Supernatural\n",
        "  * Gantz : Action, Drama, Horror, Psychological, Sci-Fi, Supernatural\n",
        "  * Catand#039;s Eye : Action, Adventure, Comedy, Mystery, Romance\n",
        "  * Nissan Serena x One Piece 3D: Mugiwara Chase - Sennyuu!! Sauzando Sanii-gou : Comedy, Fantasy, Shounen\n",
        "  * Kuro no Sumika: Chronus : Psychological\n",
        "  * Mayoi Neko Overrun! Specials : Comedy, Ecchi\n",
        "  * Gilgamesh : Drama, Fantasy, Sci-Fi, Supernatural\n",
        "  * Rhea Gall Force : Action, Mecha, Military, Sci-Fi\n",
        "  * Shoujo Sect : Comedy, Hentai, Romance, Yuri\n",
        "\n",
        "Model telah dapat berfungsi dengan cukup baik.\n"
      ],
      "metadata": {
        "id": "6QsKXI_x4tjl"
      }
    },
    {
      "cell_type": "markdown",
      "source": [
        "# Evaluation\n",
        "\n",
        "\n",
        "\n",
        "Untuk mengukur bagaimana performa dari model yang telah dibuat, diperlukannya metriks evaluasi untuk mengevaluasi model sistem rekomendasi film. Berikut adalah rincian metrik yang digunakan untuk tiap pendekatan:\n",
        "\n",
        "  * Content-Based Filtering : Precision\n",
        "  * Collaborative Filtering : Root Mean Squared Error\n",
        "\n",
        "Berikut ini adalah penjelasan mengenai setiap metrik beserta hasil perhitungan metrik dari model yang telah dibuat :\n",
        "\n",
        "   * Content-Based Filtering : Precision\n",
        "\n",
        "       * Precision\n",
        "\n",
        "        Presisi merupakan ukuran yang menilai efektivitas model klasifikasi dalam mengidentifikasi label positif. Ukuran ini merupakan perbandingan antara jumlah prediksi yang benar-benar positif dengan keseluruhan hasil yang diprediksi sebagai positif, termasuk yang sebenarnya negatif.\n",
        "\n",
        "        Berikut adalah formula dan cara kerja dari Precision :\n",
        "\n",
        "            * Formula\n",
        "\n",
        "            Precision = TP/(TP+FP)\n",
        "\n",
        "            Dalam Konteks sistem rekomendasi menjadi:\n",
        "\n",
        "            Precision\n",
        "\n",
        "            * Cara Kerja\n",
        "\n",
        "            Formula tersebut mengukur presisi dalam konteks sistem rekomendasi. Presisi dihitung dengan membagi jumlah rekomendasi yang relevan dengan jumlah total item yang direkomendasikan. Jadi, jika sebuah sistem merekomendasikan 10 film dan hanya 6 yang relevan atau disukai oleh pengguna, maka presisi sistem tersebut adalah 0.6 atau 60%. Ini menunjukkan seberapa akurat sistem dalam memberikan rekomendasi yang sesuai dengan kebutuhan atau selera pengguna.\n",
        "\n",
        "   * Colaborative Filtering : Root Mean Squared Error\n",
        "\n",
        "        * Root Mean Squared Error\n",
        "\n",
        "        Root Mean Square Error (RMSE) adalah metrik yang sering digunakan dalam machine learning untuk mengukur seberapa baik sebuah model prediktif dapat memperkirakan nilai yang sebenarnya. RMSE merupakan akar kuadrat dari rata-rata perbedaan kuadrat antara nilai yang diprediksi oleh model dan nilai yang sebenarnya (nilai aktual).\n",
        "\n",
        "        Berikut ini adalah formula dan cara kerja dari Root Mean Squared Error :\n",
        "\n",
        "           * Formula\n",
        "\n",
        "            RMSE = sqrt [(Σ(Pi – Oi)²) / n]\n",
        "\n",
        "            * Cara Kerja\n",
        "\n",
        "            RMSE menghitung akar kuadrat dari rata-rata perbedaan kuadrat antara nilai yang diprediksi oleh model dan nilai sebenarnya. Proses kerjanya melibatkan beberapa langkah. Pertama, untuk setiap titik data, kita menghitung selisih antara prediksi model dan nilai aktual. Selisih ini kemudian dikuadratkan untuk menghilangkan nilai negatif dan memberikan bobot lebih pada kesalahan yang lebih besar. Setelah itu, kita menghitung rata-rata dari nilai-nilai kuadrat tersebut. Terakhir, kita mengambil akar kuadrat dari rata-rata ini untuk mendapatkan RMSE.\n",
        "\n"
      ],
      "metadata": {
        "id": "iIiC4dAO-LbW"
      }
    },
    {
      "cell_type": "markdown",
      "source": [
        "## Content-Based Filtering"
      ],
      "metadata": {
        "id": "1UIIpTDg-yJv"
      }
    },
    {
      "cell_type": "code",
      "source": [
        "# Calculate precision based on title and genre\n",
        "def calculate_precision(name, genre):\n",
        "    name_genre_anime = anime_df[(anime_df['name'] ==name) & (anime_df['genre'] == genre)]\n",
        "    recommended_animes = animes_recommendations(name)\n",
        "    relevant_animes = recommended_animes[(recommended_animes['genre'] == genre)]\n",
        "    precision = len(relevant_animes['genre'] == genre) / len(recommended_animes['genre'] == genre)\n",
        "\n",
        "    return precision"
      ],
      "metadata": {
        "id": "I7SiHuZV-rbm"
      },
      "execution_count": null,
      "outputs": []
    },
    {
      "cell_type": "code",
      "source": [
        "def calculate_precision(name, genre):\n",
        "    if not name or not genre:\n",
        "        return 0.0  # Default precision for invalid/missing values\n",
        "\n",
        "    precision = len(relevant_animes['genre'] == genre) / len(recommended_animes['genre'] == genre)\n",
        "    return precision"
      ],
      "metadata": {
        "id": "XG0Rf3GkW0c3"
      },
      "execution_count": null,
      "outputs": []
    },
    {
      "cell_type": "markdown",
      "source": [
        "Function utama yang digunakan untuk menghitung skor Precision dari model Content-Based Filtering telah berhasil dibuat."
      ],
      "metadata": {
        "id": "KSxevAzH_Sxm"
      }
    },
    {
      "cell_type": "code",
      "source": [
        "genre_anime_df = anime_df.groupby('genre').first().reset_index()[['genre', 'name']]\n",
        "genre_anime_df"
      ],
      "metadata": {
        "colab": {
          "base_uri": "https://localhost:8080/",
          "height": 444
        },
        "id": "c7WI7yhL_UA2",
        "outputId": "59199c14-e325-493b-cf10-b2bee06d194a"
      },
      "execution_count": null,
      "outputs": [
        {
          "output_type": "execute_result",
          "data": {
            "text/plain": [
              "                                                  genre  \\\n",
              "0                                                Action   \n",
              "1                                     Action, Adventure   \n",
              "2      Action, Adventure, Cars, Comedy, Sci-Fi, Shounen   \n",
              "3     Action, Adventure, Cars, Mecha, Sci-Fi, Shoune...   \n",
              "4                       Action, Adventure, Cars, Sci-Fi   \n",
              "...                                                 ...   \n",
              "3224                 Super Power, Supernatural, Vampire   \n",
              "3225                                       Supernatural   \n",
              "3226                                           Thriller   \n",
              "3227                                            Vampire   \n",
              "3228                                               Yaoi   \n",
              "\n",
              "                                   name  \n",
              "0         Kingsglaive: Final Fantasy XV  \n",
              "1                    Michiko to Hatchin  \n",
              "2                             eX-Driver  \n",
              "3               F-Zero: Falcon Densetsu  \n",
              "4                            Tailenders  \n",
              "...                                 ...  \n",
              "3224                     Vampire Sensou  \n",
              "3225                          Jiu Se Lu  \n",
              "3226        Kyoto Animation: Megane-hen  \n",
              "3227  Yami no Teio: Kyuuketsuki Dracula  \n",
              "3228             Yebisu Celebrities 1st  \n",
              "\n",
              "[3229 rows x 2 columns]"
            ],
            "text/html": [
              "\n",
              "  <div id=\"df-5b62981f-827a-42ae-b4a7-a67efd05d222\" class=\"colab-df-container\">\n",
              "    <div>\n",
              "<style scoped>\n",
              "    .dataframe tbody tr th:only-of-type {\n",
              "        vertical-align: middle;\n",
              "    }\n",
              "\n",
              "    .dataframe tbody tr th {\n",
              "        vertical-align: top;\n",
              "    }\n",
              "\n",
              "    .dataframe thead th {\n",
              "        text-align: right;\n",
              "    }\n",
              "</style>\n",
              "<table border=\"1\" class=\"dataframe\">\n",
              "  <thead>\n",
              "    <tr style=\"text-align: right;\">\n",
              "      <th></th>\n",
              "      <th>genre</th>\n",
              "      <th>name</th>\n",
              "    </tr>\n",
              "  </thead>\n",
              "  <tbody>\n",
              "    <tr>\n",
              "      <th>0</th>\n",
              "      <td>Action</td>\n",
              "      <td>Kingsglaive: Final Fantasy XV</td>\n",
              "    </tr>\n",
              "    <tr>\n",
              "      <th>1</th>\n",
              "      <td>Action, Adventure</td>\n",
              "      <td>Michiko to Hatchin</td>\n",
              "    </tr>\n",
              "    <tr>\n",
              "      <th>2</th>\n",
              "      <td>Action, Adventure, Cars, Comedy, Sci-Fi, Shounen</td>\n",
              "      <td>eX-Driver</td>\n",
              "    </tr>\n",
              "    <tr>\n",
              "      <th>3</th>\n",
              "      <td>Action, Adventure, Cars, Mecha, Sci-Fi, Shoune...</td>\n",
              "      <td>F-Zero: Falcon Densetsu</td>\n",
              "    </tr>\n",
              "    <tr>\n",
              "      <th>4</th>\n",
              "      <td>Action, Adventure, Cars, Sci-Fi</td>\n",
              "      <td>Tailenders</td>\n",
              "    </tr>\n",
              "    <tr>\n",
              "      <th>...</th>\n",
              "      <td>...</td>\n",
              "      <td>...</td>\n",
              "    </tr>\n",
              "    <tr>\n",
              "      <th>3224</th>\n",
              "      <td>Super Power, Supernatural, Vampire</td>\n",
              "      <td>Vampire Sensou</td>\n",
              "    </tr>\n",
              "    <tr>\n",
              "      <th>3225</th>\n",
              "      <td>Supernatural</td>\n",
              "      <td>Jiu Se Lu</td>\n",
              "    </tr>\n",
              "    <tr>\n",
              "      <th>3226</th>\n",
              "      <td>Thriller</td>\n",
              "      <td>Kyoto Animation: Megane-hen</td>\n",
              "    </tr>\n",
              "    <tr>\n",
              "      <th>3227</th>\n",
              "      <td>Vampire</td>\n",
              "      <td>Yami no Teio: Kyuuketsuki Dracula</td>\n",
              "    </tr>\n",
              "    <tr>\n",
              "      <th>3228</th>\n",
              "      <td>Yaoi</td>\n",
              "      <td>Yebisu Celebrities 1st</td>\n",
              "    </tr>\n",
              "  </tbody>\n",
              "</table>\n",
              "<p>3229 rows × 2 columns</p>\n",
              "</div>\n",
              "    <div class=\"colab-df-buttons\">\n",
              "\n",
              "  <div class=\"colab-df-container\">\n",
              "    <button class=\"colab-df-convert\" onclick=\"convertToInteractive('df-5b62981f-827a-42ae-b4a7-a67efd05d222')\"\n",
              "            title=\"Convert this dataframe to an interactive table.\"\n",
              "            style=\"display:none;\">\n",
              "\n",
              "  <svg xmlns=\"http://www.w3.org/2000/svg\" height=\"24px\" viewBox=\"0 -960 960 960\">\n",
              "    <path d=\"M120-120v-720h720v720H120Zm60-500h600v-160H180v160Zm220 220h160v-160H400v160Zm0 220h160v-160H400v160ZM180-400h160v-160H180v160Zm440 0h160v-160H620v160ZM180-180h160v-160H180v160Zm440 0h160v-160H620v160Z\"/>\n",
              "  </svg>\n",
              "    </button>\n",
              "\n",
              "  <style>\n",
              "    .colab-df-container {\n",
              "      display:flex;\n",
              "      gap: 12px;\n",
              "    }\n",
              "\n",
              "    .colab-df-convert {\n",
              "      background-color: #E8F0FE;\n",
              "      border: none;\n",
              "      border-radius: 50%;\n",
              "      cursor: pointer;\n",
              "      display: none;\n",
              "      fill: #1967D2;\n",
              "      height: 32px;\n",
              "      padding: 0 0 0 0;\n",
              "      width: 32px;\n",
              "    }\n",
              "\n",
              "    .colab-df-convert:hover {\n",
              "      background-color: #E2EBFA;\n",
              "      box-shadow: 0px 1px 2px rgba(60, 64, 67, 0.3), 0px 1px 3px 1px rgba(60, 64, 67, 0.15);\n",
              "      fill: #174EA6;\n",
              "    }\n",
              "\n",
              "    .colab-df-buttons div {\n",
              "      margin-bottom: 4px;\n",
              "    }\n",
              "\n",
              "    [theme=dark] .colab-df-convert {\n",
              "      background-color: #3B4455;\n",
              "      fill: #D2E3FC;\n",
              "    }\n",
              "\n",
              "    [theme=dark] .colab-df-convert:hover {\n",
              "      background-color: #434B5C;\n",
              "      box-shadow: 0px 1px 3px 1px rgba(0, 0, 0, 0.15);\n",
              "      filter: drop-shadow(0px 1px 2px rgba(0, 0, 0, 0.3));\n",
              "      fill: #FFFFFF;\n",
              "    }\n",
              "  </style>\n",
              "\n",
              "    <script>\n",
              "      const buttonEl =\n",
              "        document.querySelector('#df-5b62981f-827a-42ae-b4a7-a67efd05d222 button.colab-df-convert');\n",
              "      buttonEl.style.display =\n",
              "        google.colab.kernel.accessAllowed ? 'block' : 'none';\n",
              "\n",
              "      async function convertToInteractive(key) {\n",
              "        const element = document.querySelector('#df-5b62981f-827a-42ae-b4a7-a67efd05d222');\n",
              "        const dataTable =\n",
              "          await google.colab.kernel.invokeFunction('convertToInteractive',\n",
              "                                                    [key], {});\n",
              "        if (!dataTable) return;\n",
              "\n",
              "        const docLinkHtml = 'Like what you see? Visit the ' +\n",
              "          '<a target=\"_blank\" href=https://colab.research.google.com/notebooks/data_table.ipynb>data table notebook</a>'\n",
              "          + ' to learn more about interactive tables.';\n",
              "        element.innerHTML = '';\n",
              "        dataTable['output_type'] = 'display_data';\n",
              "        await google.colab.output.renderOutput(dataTable, element);\n",
              "        const docLink = document.createElement('div');\n",
              "        docLink.innerHTML = docLinkHtml;\n",
              "        element.appendChild(docLink);\n",
              "      }\n",
              "    </script>\n",
              "  </div>\n",
              "\n",
              "\n",
              "<div id=\"df-25e95c3c-2276-4e30-85ee-3ba955084168\">\n",
              "  <button class=\"colab-df-quickchart\" onclick=\"quickchart('df-25e95c3c-2276-4e30-85ee-3ba955084168')\"\n",
              "            title=\"Suggest charts\"\n",
              "            style=\"display:none;\">\n",
              "\n",
              "<svg xmlns=\"http://www.w3.org/2000/svg\" height=\"24px\"viewBox=\"0 0 24 24\"\n",
              "     width=\"24px\">\n",
              "    <g>\n",
              "        <path d=\"M19 3H5c-1.1 0-2 .9-2 2v14c0 1.1.9 2 2 2h14c1.1 0 2-.9 2-2V5c0-1.1-.9-2-2-2zM9 17H7v-7h2v7zm4 0h-2V7h2v10zm4 0h-2v-4h2v4z\"/>\n",
              "    </g>\n",
              "</svg>\n",
              "  </button>\n",
              "\n",
              "<style>\n",
              "  .colab-df-quickchart {\n",
              "      --bg-color: #E8F0FE;\n",
              "      --fill-color: #1967D2;\n",
              "      --hover-bg-color: #E2EBFA;\n",
              "      --hover-fill-color: #174EA6;\n",
              "      --disabled-fill-color: #AAA;\n",
              "      --disabled-bg-color: #DDD;\n",
              "  }\n",
              "\n",
              "  [theme=dark] .colab-df-quickchart {\n",
              "      --bg-color: #3B4455;\n",
              "      --fill-color: #D2E3FC;\n",
              "      --hover-bg-color: #434B5C;\n",
              "      --hover-fill-color: #FFFFFF;\n",
              "      --disabled-bg-color: #3B4455;\n",
              "      --disabled-fill-color: #666;\n",
              "  }\n",
              "\n",
              "  .colab-df-quickchart {\n",
              "    background-color: var(--bg-color);\n",
              "    border: none;\n",
              "    border-radius: 50%;\n",
              "    cursor: pointer;\n",
              "    display: none;\n",
              "    fill: var(--fill-color);\n",
              "    height: 32px;\n",
              "    padding: 0;\n",
              "    width: 32px;\n",
              "  }\n",
              "\n",
              "  .colab-df-quickchart:hover {\n",
              "    background-color: var(--hover-bg-color);\n",
              "    box-shadow: 0 1px 2px rgba(60, 64, 67, 0.3), 0 1px 3px 1px rgba(60, 64, 67, 0.15);\n",
              "    fill: var(--button-hover-fill-color);\n",
              "  }\n",
              "\n",
              "  .colab-df-quickchart-complete:disabled,\n",
              "  .colab-df-quickchart-complete:disabled:hover {\n",
              "    background-color: var(--disabled-bg-color);\n",
              "    fill: var(--disabled-fill-color);\n",
              "    box-shadow: none;\n",
              "  }\n",
              "\n",
              "  .colab-df-spinner {\n",
              "    border: 2px solid var(--fill-color);\n",
              "    border-color: transparent;\n",
              "    border-bottom-color: var(--fill-color);\n",
              "    animation:\n",
              "      spin 1s steps(1) infinite;\n",
              "  }\n",
              "\n",
              "  @keyframes spin {\n",
              "    0% {\n",
              "      border-color: transparent;\n",
              "      border-bottom-color: var(--fill-color);\n",
              "      border-left-color: var(--fill-color);\n",
              "    }\n",
              "    20% {\n",
              "      border-color: transparent;\n",
              "      border-left-color: var(--fill-color);\n",
              "      border-top-color: var(--fill-color);\n",
              "    }\n",
              "    30% {\n",
              "      border-color: transparent;\n",
              "      border-left-color: var(--fill-color);\n",
              "      border-top-color: var(--fill-color);\n",
              "      border-right-color: var(--fill-color);\n",
              "    }\n",
              "    40% {\n",
              "      border-color: transparent;\n",
              "      border-right-color: var(--fill-color);\n",
              "      border-top-color: var(--fill-color);\n",
              "    }\n",
              "    60% {\n",
              "      border-color: transparent;\n",
              "      border-right-color: var(--fill-color);\n",
              "    }\n",
              "    80% {\n",
              "      border-color: transparent;\n",
              "      border-right-color: var(--fill-color);\n",
              "      border-bottom-color: var(--fill-color);\n",
              "    }\n",
              "    90% {\n",
              "      border-color: transparent;\n",
              "      border-bottom-color: var(--fill-color);\n",
              "    }\n",
              "  }\n",
              "</style>\n",
              "\n",
              "  <script>\n",
              "    async function quickchart(key) {\n",
              "      const quickchartButtonEl =\n",
              "        document.querySelector('#' + key + ' button');\n",
              "      quickchartButtonEl.disabled = true;  // To prevent multiple clicks.\n",
              "      quickchartButtonEl.classList.add('colab-df-spinner');\n",
              "      try {\n",
              "        const charts = await google.colab.kernel.invokeFunction(\n",
              "            'suggestCharts', [key], {});\n",
              "      } catch (error) {\n",
              "        console.error('Error during call to suggestCharts:', error);\n",
              "      }\n",
              "      quickchartButtonEl.classList.remove('colab-df-spinner');\n",
              "      quickchartButtonEl.classList.add('colab-df-quickchart-complete');\n",
              "    }\n",
              "    (() => {\n",
              "      let quickchartButtonEl =\n",
              "        document.querySelector('#df-25e95c3c-2276-4e30-85ee-3ba955084168 button');\n",
              "      quickchartButtonEl.style.display =\n",
              "        google.colab.kernel.accessAllowed ? 'block' : 'none';\n",
              "    })();\n",
              "  </script>\n",
              "</div>\n",
              "\n",
              "  <div id=\"id_d647aa85-3747-4668-9112-e8bdb7ed95f7\">\n",
              "    <style>\n",
              "      .colab-df-generate {\n",
              "        background-color: #E8F0FE;\n",
              "        border: none;\n",
              "        border-radius: 50%;\n",
              "        cursor: pointer;\n",
              "        display: none;\n",
              "        fill: #1967D2;\n",
              "        height: 32px;\n",
              "        padding: 0 0 0 0;\n",
              "        width: 32px;\n",
              "      }\n",
              "\n",
              "      .colab-df-generate:hover {\n",
              "        background-color: #E2EBFA;\n",
              "        box-shadow: 0px 1px 2px rgba(60, 64, 67, 0.3), 0px 1px 3px 1px rgba(60, 64, 67, 0.15);\n",
              "        fill: #174EA6;\n",
              "      }\n",
              "\n",
              "      [theme=dark] .colab-df-generate {\n",
              "        background-color: #3B4455;\n",
              "        fill: #D2E3FC;\n",
              "      }\n",
              "\n",
              "      [theme=dark] .colab-df-generate:hover {\n",
              "        background-color: #434B5C;\n",
              "        box-shadow: 0px 1px 3px 1px rgba(0, 0, 0, 0.15);\n",
              "        filter: drop-shadow(0px 1px 2px rgba(0, 0, 0, 0.3));\n",
              "        fill: #FFFFFF;\n",
              "      }\n",
              "    </style>\n",
              "    <button class=\"colab-df-generate\" onclick=\"generateWithVariable('genre_anime_df')\"\n",
              "            title=\"Generate code using this dataframe.\"\n",
              "            style=\"display:none;\">\n",
              "\n",
              "  <svg xmlns=\"http://www.w3.org/2000/svg\" height=\"24px\"viewBox=\"0 0 24 24\"\n",
              "       width=\"24px\">\n",
              "    <path d=\"M7,19H8.4L18.45,9,17,7.55,7,17.6ZM5,21V16.75L18.45,3.32a2,2,0,0,1,2.83,0l1.4,1.43a1.91,1.91,0,0,1,.58,1.4,1.91,1.91,0,0,1-.58,1.4L9.25,21ZM18.45,9,17,7.55Zm-12,3A5.31,5.31,0,0,0,4.9,8.1,5.31,5.31,0,0,0,1,6.5,5.31,5.31,0,0,0,4.9,4.9,5.31,5.31,0,0,0,6.5,1,5.31,5.31,0,0,0,8.1,4.9,5.31,5.31,0,0,0,12,6.5,5.46,5.46,0,0,0,6.5,12Z\"/>\n",
              "  </svg>\n",
              "    </button>\n",
              "    <script>\n",
              "      (() => {\n",
              "      const buttonEl =\n",
              "        document.querySelector('#id_d647aa85-3747-4668-9112-e8bdb7ed95f7 button.colab-df-generate');\n",
              "      buttonEl.style.display =\n",
              "        google.colab.kernel.accessAllowed ? 'block' : 'none';\n",
              "\n",
              "      buttonEl.onclick = () => {\n",
              "        google.colab.notebook.generateWithVariable('genre_anime_df');\n",
              "      }\n",
              "      })();\n",
              "    </script>\n",
              "  </div>\n",
              "\n",
              "    </div>\n",
              "  </div>\n"
            ],
            "application/vnd.google.colaboratory.intrinsic+json": {
              "type": "dataframe",
              "variable_name": "genre_anime_df",
              "summary": "{\n  \"name\": \"genre_anime_df\",\n  \"rows\": 3229,\n  \"fields\": [\n    {\n      \"column\": \"genre\",\n      \"properties\": {\n        \"dtype\": \"string\",\n        \"num_unique_values\": 3229,\n        \"samples\": [\n          \"Action, Comedy, Ecchi, Martial Arts, School, Shounen, Super Power\",\n          \"Comedy, Kids, School, Sci-Fi, Slice of Life\",\n          \"Action, Adventure, Martial Arts, Mystery, Shounen, Super Power\"\n        ],\n        \"semantic_type\": \"\",\n        \"description\": \"\"\n      }\n    },\n    {\n      \"column\": \"name\",\n      \"properties\": {\n        \"dtype\": \"string\",\n        \"num_unique_values\": 3229,\n        \"samples\": [\n          \"Medaka Box Abnormal\",\n          \"Washimo\",\n          \"Naruto: Shippuuden Movie 5 - Blood Prison\"\n        ],\n        \"semantic_type\": \"\",\n        \"description\": \"\"\n      }\n    }\n  ]\n}"
            }
          },
          "metadata": {},
          "execution_count": 206
        }
      ]
    },
    {
      "cell_type": "markdown",
      "source": [
        "Dataframe diatas adalah dataframe yang digunakan untuk mengecek skor Presisi untuk setiap rekomendasi dari tiap genre. Dataframe tersebut berisi pasangan name dan genre dari tiap genre."
      ],
      "metadata": {
        "id": "ckkrhs_D_iLA"
      }
    },
    {
      "cell_type": "code",
      "source": [
        "unique_genres = anime_df['genre'].unique()\n",
        "unique_genres"
      ],
      "metadata": {
        "colab": {
          "base_uri": "https://localhost:8080/"
        },
        "id": "sEBPGaJV_mYV",
        "outputId": "9896fb8b-0bab-445e-f445-f6feb12dd06f"
      },
      "execution_count": null,
      "outputs": [
        {
          "output_type": "execute_result",
          "data": {
            "text/plain": [
              "array(['Drama, Romance, School, Supernatural',\n",
              "       'Action, Adventure, Drama, Fantasy, Magic, Military, Shounen',\n",
              "       'Action, Comedy, Historical, Parody, Samurai, Sci-Fi, Shounen',\n",
              "       ..., 'Action, Comedy, Hentai, Romance, Supernatural',\n",
              "       'Hentai, Sports', 'Hentai, Slice of Life'], dtype=object)"
            ]
          },
          "metadata": {},
          "execution_count": 207
        }
      ]
    },
    {
      "cell_type": "markdown",
      "source": [
        "Berdasarkan hasil diatas, unique_genre menampung array yang berisi setiap genre yang ada."
      ],
      "metadata": {
        "id": "3gzrbrPy_0QX"
      }
    },
    {
      "cell_type": "markdown",
      "source": [
        "## Collaborative Filtering"
      ],
      "metadata": {
        "id": "3LtZfSrOAoUa"
      }
    },
    {
      "cell_type": "code",
      "source": [
        "plt.plot(history.history['root_mean_squared_error'])\n",
        "plt.plot(history.history['val_root_mean_squared_error'])\n",
        "plt.title('model_metrics')\n",
        "plt.ylabel('root_mean_squared_error')\n",
        "plt.xlabel('epoch')\n",
        "plt.legend(['train', 'val'], loc='upper left')\n",
        "plt.show()"
      ],
      "metadata": {
        "colab": {
          "base_uri": "https://localhost:8080/",
          "height": 492
        },
        "id": "6aaa6D50C8-t",
        "outputId": "fa07e4f7-0e5b-4b2d-ed19-fecbfe92392a"
      },
      "execution_count": null,
      "outputs": [
        {
          "output_type": "display_data",
          "data": {
            "text/plain": [
              "<Figure size 640x480 with 1 Axes>"
            ],
            "image/png": "[encoded data removed]"
          },
          "metadata": {}
        }
      ]
    },
    {
      "cell_type": "markdown",
      "source": [
        "\n",
        "\n",
        "Berdasarkan plot tersebut, proses training model berhenti pada epoch ke 14 (epochs 1 dimulai dari nomor 0 pada plot) karena callbacks yang berisi early stopper. early stopper menghentikan proses training karena model tidak menunjukkan penurunan yang lebih keci dari val_root_mean_squared_error pada epochs ke-14 selama 5 epochs berturut-turut.\n",
        "\n",
        "Kemudian, model pada epochs ke 14 yang dipertahankan karena pada epochs tersebut model memiliki performa yang terbaik. Berikut adalah hasil dari metriks pada epocs tersebut:\n",
        "\n",
        "  * loss: 0.5141\n",
        "  * root_mean_squared_error: 0.1280\n",
        "  * val_loss: 0.5211\n",
        "  * val_root_mean_squared_error: 0.1389\n"
      ],
      "metadata": {
        "id": "nl5Tvh9FJdZE"
      }
    }
  ],
  "metadata": {
    "colab": {
      "toc_visible": true,
      "provenance": []
    },
    "kernelspec": {
      "display_name": "Python 3",
      "name": "python3"
    },
    "language_info": {
      "name": "python"
    }
  },
  "nbformat": 4,
  "nbformat_minor": 0
}